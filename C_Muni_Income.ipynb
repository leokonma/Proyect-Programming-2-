{
 "cells": [
  {
   "cell_type": "code",
   "execution_count": 1,
   "metadata": {},
   "outputs": [],
   "source": [
    "import pandas as pd\n",
    "import plotly.express as px\n",
    "from plotly.subplots import make_subplots\n",
    "\n",
    "url3 = r\"Main_Dataset.csv\"\n",
    "md = pd.read_csv(url3)\n",
    "url1 = r\"Municipality Pollution Data.csv\"\n",
    "mu = pd.read_csv(url1)\n"
   ]
  },
  {
   "cell_type": "code",
   "execution_count": null,
   "metadata": {},
   "outputs": [],
   "source": [
    "\n",
    "\n",
    "\n",
    "md_mu_merged = pd.merge(md, mu, on=\"Municipality\")\n",
    "\n",
    "\n",
    "income_medians = md_mu_merged.groupby(\"Municipality\")[\"Income\"].median()\n",
    "\n",
    "\n",
    "top_10_max = income_medians.nlargest(10)\n",
    "top_10_min = income_medians.nsmallest(10)\n",
    "\n",
    "\n",
    "top_max_df = md_mu_merged.loc[md_mu_merged[\"Municipality\"].isin(top_10_max.index)]\n",
    "top_min_df = md_mu_merged.loc[md_mu_merged[\"Municipality\"].isin(top_10_min.index)]\n",
    "\n",
    "fig_max = px.box(top_max_df, x=\"Municipality\", y=\"Income\",\n",
    "                 title=\"Top 10 Municipalities with Highest Income\",\n",
    "                 category_orders={\"Municipality\": top_10_max.index})\n",
    "\n",
    "fig_min = px.box(top_min_df, x=\"Municipality\", y=\"Income\",\n",
    "                 title=\"Top 10 Municipalities with Lowest Income\",\n",
    "                 category_orders={\"Municipality\": top_10_min.index})\n",
    "\n",
    "\n",
    "fig_max.update_traces(marker=dict(color=\"#52d053\")) \n",
    "fig_min.update_traces(marker=dict(color=\"#d3290f\"))  \n",
    "\n",
    "\n",
    "fig = make_subplots(rows=1, cols=2, subplot_titles=[\n",
    "    \"Top 10 Municipalities with Highest Income\",\n",
    "    \"Top 10 Municipalities with Lowest Income\"\n",
    "])\n",
    "\n",
    "\n",
    "for trace in fig_max.data:\n",
    "    fig.add_trace(trace, row=1, col=1)\n",
    "for trace in fig_min.data:\n",
    "    fig.add_trace(trace, row=1, col=2)\n",
    "\n",
    "\n",
    "fig.update_layout(\n",
    "    width=1200, height=500,\n",
    "    showlegend=False,\n",
    "    font=dict(size=12),\n",
    "    xaxis_tickangle=-45  \n",
    ")\n",
    "\n",
    "fig.show()\n"
   ]
  }
 ],
 "metadata": {
  "kernelspec": {
   "display_name": "Python 3",
   "language": "python",
   "name": "python3"
  },
  "language_info": {
   "codemirror_mode": {
    "name": "ipython",
    "version": 3
   },
   "file_extension": ".py",
   "mimetype": "text/x-python",
   "name": "python",
   "nbconvert_exporter": "python",
   "pygments_lexer": "ipython3",
   "version": "3.12.1"
  }
 },
 "nbformat": 4,
 "nbformat_minor": 2
}
