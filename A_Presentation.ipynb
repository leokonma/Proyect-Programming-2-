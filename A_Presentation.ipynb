{
 "cells": [
  {
   "cell_type": "markdown",
   "metadata": {},
   "source": [
    "# welcome \n"
   ]
  },
  {
   "cell_type": "markdown",
   "metadata": {},
   "source": [
    "### Data description \n",
    "### Main dataset: \n",
    "### This dataset informs the medical situation of individuals segregation the observations by municipality, serializing them and providing income data of each one of them. Also, it provides an specific score about overall health & the case of an specific condition."
   ]
  },
  {
   "cell_type": "code",
   "execution_count": null,
   "metadata": {},
   "outputs": [],
   "source": [
    "import pandas as pd \n",
    "import plotly.express as px\n",
    "import plotly.graph_objects as go\n",
    "from plotly.subplots import make_subplots\n",
    "\n",
    "url3 = r\"Main_Dataset.csv\"\n",
    "md = pd.read_csv(url3)\n",
    "url2 = r\"Sociodemographics Data.csv\"\n",
    "sd = pd.read_csv(url2)\n",
    "url1 = r\"Municipality Pollution Data.csv\"\n",
    "mu = pd.read_csv(url1)\n"
   ]
  },
  {
   "cell_type": "code",
   "execution_count": null,
   "metadata": {},
   "outputs": [],
   "source": [
    "# in case u want to always get the same sample use after the (n) after a coma random_state=: \n",
    "# This ensures that every time you run the code, you will get the same 500 rows sampled from your dataset (given the same input data).\n",
    "\n",
    "md_AND_mu_merged = pd.merge(md, mu, on='Municipality')\n",
    "md_r_sample = md_AND_mu_merged.sample(n=100,random_state=1)\n",
    "\n",
    "\n",
    "fig = px.scatter_3d(md_r_sample, \n",
    "                     z='Overall_Health_Score', \n",
    "                     y='Traffic_Pollution', \n",
    "                     x='Air_Quality_Index',\n",
    "                     color='Overall_Health_Score', \n",
    "                     opacity=0.65, \n",
    "                     size_max=20,\n",
    "                     #hover_data=['Alcohol_Consumer','Smoker',\"Physical_Activity\",'Diet_Quality'],\n",
    "                     #  color_discrete_sequence=px.colors.qualitative.Dark24\n",
    ")\n",
    "\n",
    "fig.update_layout(\n",
    "    title=\"3D Scatter Plot of Health Score in relation with Traffic Pollution and AirQuality Index (Sampled Data)\",\n",
    "    scene=dict(\n",
    "        yaxis_title=\"Pollution T.\",\n",
    "        zaxis_title=\"Health Score\",\n",
    "        xaxis_title=\" AirQuality Index\",\n",
    "        bgcolor=\"black\"  \n",
    "    ),\n",
    "    paper_bgcolor=\"black\",  \n",
    "    font=dict(color=\"white\"),  \n",
    "    scene_camera=dict(eye=dict(x=1.8, y=-1.8, z= 0.8))\n",
    ")\n",
    "fig.show()"
   ]
  },
  {
   "cell_type": "markdown",
   "metadata": {},
   "source": [
    "\n",
    "\n",
    "### 1. **IMC > 30, Dieta poco saludable, No realiza actividad física**  \n",
    "- Podría revelar una conexión clara con **diabetes tipo 2**, **síndrome metabólico** y **enfermedades articulares**.  \n",
    "- **Idea:** Analizar si el sedentarismo y la dieta son los principales factores desencadenantes o si el IMC alto es el factor dominante.  \n",
    "\n"
   ]
  },
  {
   "cell_type": "code",
   "execution_count": null,
   "metadata": {},
   "outputs": [],
   "source": [
    "\n",
    "md_r_sample = md.sample(n=10000,random_state=1).dropna(subset=[\"Income\",\"Physical_Activity\",\"BMI\",\"Diet_Quality\",\"Overall_Health_Score\"])\n",
    "fig = px.scatter(\n",
    "    md_r_sample.query(\"(Physical_Activity == 'Low' | BMI > 30 | Diet_Quality == 'Poor')& Medical_Condition != 'Healthy'\"), \n",
    "    y=\"BMI\", \n",
    "    x=\"Overall_Health_Score\", \n",
    "    color=\"Medical_Condition\",\n",
    "    hover_name=\"Medical_Condition\",  \n",
    "    color_discrete_sequence=px.colors.diverging.Spectral\n",
    ")\n",
    "\n",
    "fig.show()\n"
   ]
  },
  {
   "cell_type": "code",
   "execution_count": null,
   "metadata": {},
   "outputs": [],
   "source": [
    "\n",
    "random_states = [10, 20, 30, 40, 50 ]  \n",
    "fig = make_subplots(rows=1, cols=5, subplot_titles=[f\"Random Set number: {rs}\" for rs in random_states])\n",
    "\n",
    "for i, rs in enumerate(random_states):\n",
    "    md_r_sample = md.sample(n=10000, random_state=rs).dropna(subset=[\"Income\", \"Physical_Activity\", \"BMI\", \"Diet_Quality\", \"Overall_Health_Score\"])\n",
    "    filtered_data = md_r_sample.query(\"(Physical_Activity == 'Low' | BMI > 30 | Diet_Quality == 'Poor') & (Medical_Condition == 'Diabetes' |  Medical_Condition == 'Hypertension')\")\n",
    "\n",
    "    scatter = px.scatter(\n",
    "    filtered_data, y=\"BMI\", x=\"Overall_Health_Score\",\n",
    "    color=\"Medical_Condition\",\n",
    "    hover_name=\"Medical_Condition\",\n",
    "    size_max=10,  \n",
    "    color_discrete_sequence=px.colors.diverging.Spectral\n",
    "    )\n",
    "\n",
    "    for trace in scatter.data:\n",
    "        fig.add_trace(trace, row=1, col=i + 1)\n",
    "fig.update_layout(title=\"Posible risk agents that present diabetes and Hypertension over different Random observations\", \n",
    "    showlegend=False)\n",
    "\n",
    "\n",
    "fig.show()\n"
   ]
  },
  {
   "cell_type": "markdown",
   "metadata": {},
   "source": [
    "\n",
    "### 2. **Consumo excesivo de alcohol, Fumador, IMC > 25**  \n",
    "- La combinación de tabaquismo y alcohol podría aumentar el riesgo de **enfermedades hepáticas** y **cáncer**.  \n",
    "- **Idea:** Examinar si el consumo excesivo de alcohol o el tabaquismo tiene un impacto mayor en el desarrollo de cáncer.  "
   ]
  },
  {
   "cell_type": "code",
   "execution_count": null,
   "metadata": {},
   "outputs": [],
   "source": [
    "fig = go.Figure()\n",
    "fig.add_trace(go.Histogram(\n",
    "    x=md[(md[\"Smoker\"] == 1)][\"BMI\"],  \n",
    "    histnorm='',\n",
    "    name='Smoker',  \n",
    "    marker_color='#440154',\n",
    "    opacity=1,\n",
    "    xbins=dict(\n",
    "        start=25,  \n",
    "        end=36,  \n",
    "        size=1.5 \n",
    "    )\n",
    "))\n",
    "fig.add_trace(go.Histogram(\n",
    "    x=md[(md[\"Alcohol_Consumer\"] == 1)][\"BMI\"],  \n",
    "    histnorm='',\n",
    "    name='Alcohol Consumer',\n",
    "    marker_color='#22A884',\n",
    "    opacity=1,\n",
    "    xbins=dict(\n",
    "        start=25,  \n",
    "        end=35.5,  \n",
    "        size=1.5  \n",
    "    )\n",
    "))\n",
    "\n",
    "fig.update_layout(\n",
    "    title_text='BMI Distribution of Cancer Risk Agents: Smokers vs Alcohol  ',\n",
    "    xaxis_title_text='BMI',\n",
    "    yaxis_title_text='Count',\n",
    "    bargap=0.2,  \n",
    "    bargroupgap=0.1,  \n",
    "    barmode='group'  \n",
    ")\n",
    "\n",
    "fig.update_xaxes(range=[25, 35.5])\n",
    "fig.show()\n"
   ]
  }
 ],
 "metadata": {
  "kernelspec": {
   "display_name": "Python 3",
   "language": "python",
   "name": "python3"
  },
  "language_info": {
   "codemirror_mode": {
    "name": "ipython",
    "version": 3
   },
   "file_extension": ".py",
   "mimetype": "text/x-python",
   "name": "python",
   "nbconvert_exporter": "python",
   "pygments_lexer": "ipython3",
   "version": "3.12.1"
  }
 },
 "nbformat": 4,
 "nbformat_minor": 2
}
