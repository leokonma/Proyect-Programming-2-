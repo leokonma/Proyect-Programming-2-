{
 "cells": [
  {
   "cell_type": "markdown",
   "metadata": {},
   "source": [
    "# welcome \n"
   ]
  },
  {
   "cell_type": "markdown",
   "metadata": {},
   "source": [
    "### Data description \n",
    "### Main dataset: \n",
    "### This dataset informs the medical situation of individuals segregation the observations by municipality, serializing them and providing income data of each one of them. Also, it provides an specific score about overall health & the case of an specific condition."
   ]
  },
  {
   "cell_type": "code",
   "execution_count": null,
   "metadata": {},
   "outputs": [],
   "source": [
    "import pandas as pd \n",
    "import matplotlib.pyplot as plt\n",
    "import seaborn as sns\n",
    "import plotly.express as px\n",
    "import plotly.graph_objects as go\n",
    "from plotly.subplots import make_subplots\n",
    "\n",
    "url3 = r\"Main_Dataset.csv\"\n",
    "md = pd.read_csv(url3)\n",
    "url2 = r\"Sociodemographics Data.csv\"\n",
    "sd = pd.read_csv(url2)\n",
    "url1 = r\"Municipality Pollution Data.csv\"\n",
    "mu = pd.read_csv(url1)\n"
   ]
  },
  {
   "cell_type": "code",
   "execution_count": null,
   "metadata": {},
   "outputs": [],
   "source": [
    "# in case u want to always get the same sample use after the (n) after a coma random_state=: \n",
    "# This ensures that every time you run the code, you will get the same 500 rows sampled from your dataset (given the same input data).\n",
    "\n",
    "md_AND_mu_merged = pd.merge(md, mu, on='Municipality')\n",
    "md_r_sample = md_AND_mu_merged.sample(n=100,random_state=1)\n",
    "\n",
    "\n",
    "fig = px.scatter_3d(md_r_sample, \n",
    "                     z='Overall_Health_Score', \n",
    "                     y='Traffic_Pollution', \n",
    "                     x='Air_Quality_Index',\n",
    "                     color='Overall_Health_Score', \n",
    "                     opacity=0.65, \n",
    "                     size_max=20,\n",
    "                     #hover_data=['Alcohol_Consumer','Smoker',\"Physical_Activity\",'Diet_Quality'],\n",
    "                     #  color_discrete_sequence=px.colors.qualitative.Dark24\n",
    ")\n",
    "\n",
    "fig.update_layout(\n",
    "    title=\"3D Scatter Plot of Health Score in relation with Traffic Pollution and AirQuality Index (Sampled Data)\",\n",
    "    scene=dict(\n",
    "        yaxis_title=\"Traffic Pollution\",\n",
    "        zaxis_title=\"Health Score\",\n",
    "        xaxis_title=\" AirQuality Index\",\n",
    "        bgcolor=\"black\"  \n",
    "    ),\n",
    "    paper_bgcolor=\"black\",  \n",
    "    font=dict(color=\"white\"),  \n",
    "    scene_camera=dict(eye=dict(x=1.8, y=1.8, z=0.8))\n",
    ")\n",
    "fig.show()"
   ]
  },
  {
   "cell_type": "markdown",
   "metadata": {},
   "source": [
    "\n",
    "\n",
    "### 1. **IMC > 30, Dieta poco saludable, No realiza actividad física**  \n",
    "- Podría revelar una conexión clara con **diabetes tipo 2**, **síndrome metabólico** y **enfermedades articulares**.  \n",
    "- **Idea:** Analizar si el sedentarismo y la dieta son los principales factores desencadenantes o si el IMC alto es el factor dominante.  \n",
    "\n"
   ]
  },
  {
   "cell_type": "code",
   "execution_count": null,
   "metadata": {},
   "outputs": [],
   "source": [
    "\n",
    "md_r_sample = md.sample(n=8000,random_state=1).dropna(subset=[\"Income\",\"Physical_Activity\",\"BMI\",\"Diet_Quality\",\"Overall_Health_Score\"])\n",
    "fig = px.scatter(\n",
    "    md_r_sample.query(\"(Physical_Activity == 'Low' | BMI > 30 | Diet_Quality == 'Poor')& Medical_Condition != 'Healthy'\"), \n",
    "    y=\"BMI\", \n",
    "    x=\"Overall_Health_Score\", \n",
    "    color=\"Medical_Condition\",\n",
    "    hover_name=\"Medical_Condition\",  \n",
    "    color_discrete_sequence=px.colors.diverging.Spectral\n",
    ")\n",
    "\n",
    "fig.show()\n"
   ]
  },
  {
   "cell_type": "code",
   "execution_count": null,
   "metadata": {},
   "outputs": [],
   "source": [
    "\n",
    "\n",
    "\n",
    "random_states = [10, 20, 30, 40, 50 ]  \n",
    "fig = make_subplots(rows=1, cols=5, subplot_titles=[f\"random sample = {rs}\" for rs in random_states])\n",
    "\n",
    "for i, rs in enumerate(random_states):\n",
    "    md_r_sample = md.sample(n=1000, random_state=rs).dropna(subset=[\"Income\", \"Physical_Activity\", \"BMI\", \"Diet_Quality\", \"Overall_Health_Score\"])\n",
    "    filtered_data = md_r_sample.query(\"(Physical_Activity == 'Low' | BMI > 30 | Diet_Quality == 'Poor')& Medical_Condition != 'Healthy'\")\n",
    "\n",
    "\n",
    "    scatter = px.scatter(\n",
    "    filtered_data, y=\"BMI\", x=\"Overall_Health_Score\",\n",
    "    color=\"Medical_Condition\",\n",
    "    hover_name=\"Medical_Condition\",\n",
    "    size_max=10,  \n",
    "    color_discrete_sequence=px.colors.diverging.Spectral\n",
    "    )\n",
    "\n",
    "    for trace in scatter.data:\n",
    "        fig.add_trace(trace, row=1, col=i + 1)\n",
    "fig.update_layout(title=\"Scatter Plots with Different Random States\", \n",
    "    showlegend=False)\n",
    "\n",
    "\n",
    "fig.show()\n"
   ]
  },
  {
   "cell_type": "markdown",
   "metadata": {},
   "source": [
    "\n",
    "### 2. **Consumo excesivo de alcohol, Fumador, IMC > 25**  \n",
    "- La combinación de tabaquismo y alcohol podría aumentar el riesgo de **enfermedades hepáticas** y **cáncer**.  \n",
    "- **Idea:** Examinar si el consumo excesivo de alcohol o el tabaquismo tiene un impacto mayor en el desarrollo de cáncer.  "
   ]
  },
  {
   "cell_type": "code",
   "execution_count": null,
   "metadata": {},
   "outputs": [],
   "source": [
    "Alcohol_Smoker_BMI_25 = md[(md[\"BMI\"] > 25) & (md[\"Alcohol_Consumer\"] == 1) & (md[\"Smoker\"] == 1)]\n",
    "Cancer = md[md[\"Medical_Condition\"] == \"Cancer\"]"
   ]
  },
  {
   "cell_type": "markdown",
   "metadata": {},
   "source": [
    "#### medias a traves de diferentes municipalidades "
   ]
  },
  {
   "cell_type": "code",
   "execution_count": 28,
   "metadata": {},
   "outputs": [
    {
     "data": {
      "application/vnd.plotly.v1+json": {
       "config": {
        "plotlyServerURL": "https://plot.ly"
       },
       "data": [
        {
         "alignmentgroup": "True",
         "hovertemplate": "Municipality=%{x}<br>Traffic_Pollution=%{y}<extra></extra>",
         "legendgroup": "Municipality_1",
         "marker": {
          "color": "#636efa"
         },
         "name": "Municipality_1",
         "notched": false,
         "offsetgroup": "Municipality_1",
         "orientation": "v",
         "showlegend": true,
         "type": "box",
         "x": [
          "Municipality_1",
          "Municipality_1",
          "Municipality_1",
          "Municipality_1",
          "Municipality_1",
          "Municipality_1",
          "Municipality_1",
          "Municipality_1",
          "Municipality_1",
          "Municipality_1"
         ],
         "x0": " ",
         "xaxis": "x",
         "y": [
          46.28226111698324,
          47.1369457341354,
          47.86679386298539,
          47.82748374968436,
          48.375869163746046,
          48.673919031291945,
          49.74118520839899,
          49.59282868995404,
          50.57891958988932,
          50.70638233327928
         ],
         "y0": " ",
         "yaxis": "y"
        },
        {
         "alignmentgroup": "True",
         "hovertemplate": "Municipality=%{x}<br>Traffic_Pollution=%{y}<extra></extra>",
         "legendgroup": "Municipality_10",
         "marker": {
          "color": "#EF553B"
         },
         "name": "Municipality_10",
         "notched": false,
         "offsetgroup": "Municipality_10",
         "orientation": "v",
         "showlegend": true,
         "type": "box",
         "x": [
          "Municipality_10",
          "Municipality_10",
          "Municipality_10",
          "Municipality_10",
          "Municipality_10",
          "Municipality_10",
          "Municipality_10",
          "Municipality_10",
          "Municipality_10",
          "Municipality_10"
         ],
         "x0": " ",
         "xaxis": "x",
         "y": [
          50.64601830758336,
          51.25371463463617,
          52.11925033662897,
          52.73081305749116,
          52.666744278165886,
          53.733973299085264,
          53.62372019006678,
          54.15033868094313,
          54.638244861418336,
          55.130430534219336
         ],
         "y0": " ",
         "yaxis": "y"
        },
        {
         "alignmentgroup": "True",
         "hovertemplate": "Municipality=%{x}<br>Traffic_Pollution=%{y}<extra></extra>",
         "legendgroup": "Municipality_11",
         "marker": {
          "color": "#00cc96"
         },
         "name": "Municipality_11",
         "notched": false,
         "offsetgroup": "Municipality_11",
         "orientation": "v",
         "showlegend": true,
         "type": "box",
         "x": [
          "Municipality_11",
          "Municipality_11",
          "Municipality_11",
          "Municipality_11",
          "Municipality_11",
          "Municipality_11",
          "Municipality_11",
          "Municipality_11",
          "Municipality_11",
          "Municipality_11"
         ],
         "x0": " ",
         "xaxis": "x",
         "y": [
          38.09035335089333,
          38.480723832851176,
          39.11161721704166,
          39.863294972277785,
          40.64782780126907,
          41.19291013793072,
          41.47421603694234,
          42.51516949421613,
          42.25607216811304,
          42.76215164396719
         ],
         "y0": " ",
         "yaxis": "y"
        },
        {
         "alignmentgroup": "True",
         "hovertemplate": "Municipality=%{x}<br>Traffic_Pollution=%{y}<extra></extra>",
         "legendgroup": "Municipality_12",
         "marker": {
          "color": "#ab63fa"
         },
         "name": "Municipality_12",
         "notched": false,
         "offsetgroup": "Municipality_12",
         "orientation": "v",
         "showlegend": true,
         "type": "box",
         "x": [
          "Municipality_12",
          "Municipality_12",
          "Municipality_12",
          "Municipality_12",
          "Municipality_12",
          "Municipality_12",
          "Municipality_12",
          "Municipality_12",
          "Municipality_12",
          "Municipality_12"
         ],
         "x0": " ",
         "xaxis": "x",
         "y": [
          44.781473259465535,
          45.31494717430122,
          45.73538352685677,
          45.80774452841199,
          46.76861275382241,
          46.9994869513505,
          47.18617193143488,
          48.14037187285468,
          48.69010573278553,
          49.0813145788128
         ],
         "y0": " ",
         "yaxis": "y"
        },
        {
         "alignmentgroup": "True",
         "hovertemplate": "Municipality=%{x}<br>Traffic_Pollution=%{y}<extra></extra>",
         "legendgroup": "Municipality_13",
         "marker": {
          "color": "#FFA15A"
         },
         "name": "Municipality_13",
         "notched": false,
         "offsetgroup": "Municipality_13",
         "orientation": "v",
         "showlegend": true,
         "type": "box",
         "x": [
          "Municipality_13",
          "Municipality_13",
          "Municipality_13",
          "Municipality_13",
          "Municipality_13",
          "Municipality_13",
          "Municipality_13",
          "Municipality_13",
          "Municipality_13",
          "Municipality_13"
         ],
         "x0": " ",
         "xaxis": "x",
         "y": [
          48.04760447851604,
          47.90933592290845,
          47.91641082395613,
          47.95816584800464,
          47.86097860064725,
          47.98077084721095,
          48.00174573835977,
          48.0199457184462,
          47.88043541539264,
          47.89983202395663
         ],
         "y0": " ",
         "yaxis": "y"
        },
        {
         "alignmentgroup": "True",
         "hovertemplate": "Municipality=%{x}<br>Traffic_Pollution=%{y}<extra></extra>",
         "legendgroup": "Municipality_14",
         "marker": {
          "color": "#19d3f3"
         },
         "name": "Municipality_14",
         "notched": false,
         "offsetgroup": "Municipality_14",
         "orientation": "v",
         "showlegend": true,
         "type": "box",
         "x": [
          "Municipality_14",
          "Municipality_14",
          "Municipality_14",
          "Municipality_14",
          "Municipality_14",
          "Municipality_14",
          "Municipality_14",
          "Municipality_14",
          "Municipality_14",
          "Municipality_14"
         ],
         "x0": " ",
         "xaxis": "x",
         "y": [
          27.884918139819582,
          28.23831787107505,
          28.91588940809919,
          29.241616549757907,
          29.42084014852273,
          30.511264650918548,
          31.23088156445733,
          31.18782110595035,
          31.567520961254733,
          32.18228017381832
         ],
         "y0": " ",
         "yaxis": "y"
        },
        {
         "alignmentgroup": "True",
         "hovertemplate": "Municipality=%{x}<br>Traffic_Pollution=%{y}<extra></extra>",
         "legendgroup": "Municipality_15",
         "marker": {
          "color": "#FF6692"
         },
         "name": "Municipality_15",
         "notched": false,
         "offsetgroup": "Municipality_15",
         "orientation": "v",
         "showlegend": true,
         "type": "box",
         "x": [
          "Municipality_15",
          "Municipality_15",
          "Municipality_15",
          "Municipality_15",
          "Municipality_15",
          "Municipality_15",
          "Municipality_15",
          "Municipality_15",
          "Municipality_15",
          "Municipality_15"
         ],
         "x0": " ",
         "xaxis": "x",
         "y": [
          55.69705851911894,
          56.5622586300583,
          56.66041473269305,
          57.05740837787511,
          57.48889938712897,
          58.07440370973702,
          59.22749690758248,
          58.89199890678977,
          59.807040055255946,
          60.626573612479625
         ],
         "y0": " ",
         "yaxis": "y"
        },
        {
         "alignmentgroup": "True",
         "hovertemplate": "Municipality=%{x}<br>Traffic_Pollution=%{y}<extra></extra>",
         "legendgroup": "Municipality_16",
         "marker": {
          "color": "#B6E880"
         },
         "name": "Municipality_16",
         "notched": false,
         "offsetgroup": "Municipality_16",
         "orientation": "v",
         "showlegend": true,
         "type": "box",
         "x": [
          "Municipality_16",
          "Municipality_16",
          "Municipality_16",
          "Municipality_16",
          "Municipality_16",
          "Municipality_16",
          "Municipality_16",
          "Municipality_16",
          "Municipality_16",
          "Municipality_16"
         ],
         "x0": " ",
         "xaxis": "x",
         "y": [
          56.36675229153328,
          56.18719303418065,
          56.22422361794263,
          null,
          56.21882006971955,
          56.40068681002589,
          56.16181107791796,
          56.29368493568872,
          56.1512040304905,
          56.30015454390502
         ],
         "y0": " ",
         "yaxis": "y"
        },
        {
         "alignmentgroup": "True",
         "hovertemplate": "Municipality=%{x}<br>Traffic_Pollution=%{y}<extra></extra>",
         "legendgroup": "Municipality_17",
         "marker": {
          "color": "#FF97FF"
         },
         "name": "Municipality_17",
         "notched": false,
         "offsetgroup": "Municipality_17",
         "orientation": "v",
         "showlegend": true,
         "type": "box",
         "x": [
          "Municipality_17",
          "Municipality_17",
          "Municipality_17",
          "Municipality_17",
          "Municipality_17",
          "Municipality_17",
          "Municipality_17",
          "Municipality_17",
          "Municipality_17",
          "Municipality_17"
         ],
         "x0": " ",
         "xaxis": "x",
         "y": [
          53.7970545760529,
          54.134529606622166,
          54.765365320924985,
          55.34859361246391,
          55.29716899577531,
          56.67541887857335,
          56.63634701348805,
          57.68878850661126,
          57.74955247406808,
          58.311253811533085
         ],
         "y0": " ",
         "yaxis": "y"
        },
        {
         "alignmentgroup": "True",
         "hovertemplate": "Municipality=%{x}<br>Traffic_Pollution=%{y}<extra></extra>",
         "legendgroup": "Municipality_18",
         "marker": {
          "color": "#FECB52"
         },
         "name": "Municipality_18",
         "notched": false,
         "offsetgroup": "Municipality_18",
         "orientation": "v",
         "showlegend": true,
         "type": "box",
         "x": [
          "Municipality_18",
          "Municipality_18",
          "Municipality_18",
          "Municipality_18",
          "Municipality_18",
          "Municipality_18",
          "Municipality_18",
          "Municipality_18",
          "Municipality_18",
          "Municipality_18"
         ],
         "x0": " ",
         "xaxis": "x",
         "y": [
          58.4448796164117,
          58.88162410422383,
          59.47957562409469,
          59.81383610253857,
          60.26229432837464,
          60.833679558141725,
          61.1998177125994,
          61.57243897054818,
          62.36652196066873,
          63.34370711350776
         ],
         "y0": " ",
         "yaxis": "y"
        },
        {
         "alignmentgroup": "True",
         "hovertemplate": "Municipality=%{x}<br>Traffic_Pollution=%{y}<extra></extra>",
         "legendgroup": "Municipality_19",
         "marker": {
          "color": "#636efa"
         },
         "name": "Municipality_19",
         "notched": false,
         "offsetgroup": "Municipality_19",
         "orientation": "v",
         "showlegend": true,
         "type": "box",
         "x": [
          "Municipality_19",
          "Municipality_19",
          "Municipality_19",
          "Municipality_19",
          "Municipality_19",
          "Municipality_19",
          "Municipality_19",
          "Municipality_19",
          "Municipality_19",
          "Municipality_19"
         ],
         "x0": " ",
         "xaxis": "x",
         "y": [
          67.15114412781637,
          67.19053782256714,
          67.26067407720817,
          67.32360732179994,
          null,
          66.99718727875673,
          67.13956064579422,
          67.21196104308797,
          67.28921384045972,
          67.19880428784028
         ],
         "y0": " ",
         "yaxis": "y"
        },
        {
         "alignmentgroup": "True",
         "hovertemplate": "Municipality=%{x}<br>Traffic_Pollution=%{y}<extra></extra>",
         "legendgroup": "Municipality_2",
         "marker": {
          "color": "#EF553B"
         },
         "name": "Municipality_2",
         "notched": false,
         "offsetgroup": "Municipality_2",
         "orientation": "v",
         "showlegend": true,
         "type": "box",
         "x": [
          "Municipality_2",
          "Municipality_2",
          "Municipality_2",
          "Municipality_2",
          "Municipality_2",
          "Municipality_2",
          "Municipality_2",
          "Municipality_2",
          "Municipality_2",
          "Municipality_2"
         ],
         "x0": " ",
         "xaxis": "x",
         "y": [
          49.96303297631226,
          50.82438762206993,
          51.2483418625006,
          51.791398641840445,
          52.36441387559532,
          52.719774392158456,
          53.22343927927927,
          53.99126468839052,
          54.12131750528861,
          54.53245791306534
         ],
         "y0": " ",
         "yaxis": "y"
        },
        {
         "alignmentgroup": "True",
         "hovertemplate": "Municipality=%{x}<br>Traffic_Pollution=%{y}<extra></extra>",
         "legendgroup": "Municipality_20",
         "marker": {
          "color": "#00cc96"
         },
         "name": "Municipality_20",
         "notched": false,
         "offsetgroup": "Municipality_20",
         "orientation": "v",
         "showlegend": true,
         "type": "box",
         "x": [
          "Municipality_20",
          "Municipality_20",
          "Municipality_20",
          "Municipality_20",
          "Municipality_20",
          "Municipality_20",
          "Municipality_20",
          "Municipality_20",
          "Municipality_20",
          "Municipality_20"
         ],
         "x0": " ",
         "xaxis": "x",
         "y": [
          43.20360238567026,
          44.1620531335534,
          44.75112900072612,
          44.66644034933823,
          45.34797034676743,
          45.83009369446263,
          46.46021549797653,
          47.28666670442464,
          47.2757027978711,
          48.00884234085368
         ],
         "y0": " ",
         "yaxis": "y"
        },
        {
         "alignmentgroup": "True",
         "hovertemplate": "Municipality=%{x}<br>Traffic_Pollution=%{y}<extra></extra>",
         "legendgroup": "Municipality_21",
         "marker": {
          "color": "#ab63fa"
         },
         "name": "Municipality_21",
         "notched": false,
         "offsetgroup": "Municipality_21",
         "orientation": "v",
         "showlegend": true,
         "type": "box",
         "x": [
          "Municipality_21",
          "Municipality_21",
          "Municipality_21",
          "Municipality_21",
          "Municipality_21",
          "Municipality_21",
          "Municipality_21",
          "Municipality_21",
          "Municipality_21",
          "Municipality_21"
         ],
         "x0": " ",
         "xaxis": "x",
         "y": [
          55.55472113164631,
          55.53831931995661,
          56.310828494866136,
          57.39886869337171,
          57.41035942415803,
          57.87590133480136,
          58.29276525711597,
          58.59038611099233,
          59.29915064976414,
          59.91498613683197
         ],
         "y0": " ",
         "yaxis": "y"
        },
        {
         "alignmentgroup": "True",
         "hovertemplate": "Municipality=%{x}<br>Traffic_Pollution=%{y}<extra></extra>",
         "legendgroup": "Municipality_22",
         "marker": {
          "color": "#FFA15A"
         },
         "name": "Municipality_22",
         "notched": false,
         "offsetgroup": "Municipality_22",
         "orientation": "v",
         "showlegend": true,
         "type": "box",
         "x": [
          "Municipality_22",
          "Municipality_22",
          "Municipality_22",
          "Municipality_22",
          "Municipality_22",
          "Municipality_22",
          "Municipality_22",
          "Municipality_22",
          "Municipality_22",
          "Municipality_22"
         ],
         "x0": " ",
         "xaxis": "x",
         "y": [
          46.80060511645625,
          46.741717181944,
          46.90878488417369,
          46.7772094163985,
          46.81387946456929,
          46.88988646555013,
          46.82024955883495,
          46.9630605310311,
          46.8161071058237,
          46.71971994337572
         ],
         "y0": " ",
         "yaxis": "y"
        },
        {
         "alignmentgroup": "True",
         "hovertemplate": "Municipality=%{x}<br>Traffic_Pollution=%{y}<extra></extra>",
         "legendgroup": "Municipality_23",
         "marker": {
          "color": "#19d3f3"
         },
         "name": "Municipality_23",
         "notched": false,
         "offsetgroup": "Municipality_23",
         "orientation": "v",
         "showlegend": true,
         "type": "box",
         "x": [
          "Municipality_23",
          "Municipality_23",
          "Municipality_23",
          "Municipality_23",
          "Municipality_23",
          "Municipality_23",
          "Municipality_23",
          "Municipality_23",
          "Municipality_23",
          "Municipality_23"
         ],
         "x0": " ",
         "xaxis": "x",
         "y": [
          32.72593148534675,
          32.88120329028339,
          32.84397440239548,
          32.727244330268945,
          32.73258462865895,
          null,
          32.84513510792899,
          32.896964420538524,
          32.70945149208632,
          32.76540540428425
         ],
         "y0": " ",
         "yaxis": "y"
        },
        {
         "alignmentgroup": "True",
         "hovertemplate": "Municipality=%{x}<br>Traffic_Pollution=%{y}<extra></extra>",
         "legendgroup": "Municipality_24",
         "marker": {
          "color": "#FF6692"
         },
         "name": "Municipality_24",
         "notched": false,
         "offsetgroup": "Municipality_24",
         "orientation": "v",
         "showlegend": true,
         "type": "box",
         "x": [
          "Municipality_24",
          "Municipality_24",
          "Municipality_24",
          "Municipality_24",
          "Municipality_24",
          "Municipality_24",
          "Municipality_24",
          "Municipality_24",
          "Municipality_24",
          "Municipality_24"
         ],
         "x0": " ",
         "xaxis": "x",
         "y": [
          60.75947061249799,
          60.96796824324045,
          61.69054308927609,
          61.86837627429198,
          62.67239822003045,
          63.23800992742866,
          63.58957315642541,
          64.66771694550881,
          64.91185669524732,
          65.45133741263896
         ],
         "y0": " ",
         "yaxis": "y"
        },
        {
         "alignmentgroup": "True",
         "hovertemplate": "Municipality=%{x}<br>Traffic_Pollution=%{y}<extra></extra>",
         "legendgroup": "Municipality_25",
         "marker": {
          "color": "#B6E880"
         },
         "name": "Municipality_25",
         "notched": false,
         "offsetgroup": "Municipality_25",
         "orientation": "v",
         "showlegend": true,
         "type": "box",
         "x": [
          "Municipality_25",
          "Municipality_25",
          "Municipality_25",
          "Municipality_25",
          "Municipality_25",
          "Municipality_25",
          "Municipality_25",
          "Municipality_25",
          "Municipality_25",
          "Municipality_25"
         ],
         "x0": " ",
         "xaxis": "x",
         "y": [
          54.370172137024,
          54.3550071466771,
          54.266635922881655,
          54.4340926318519,
          54.39448544160181,
          54.39695037939642,
          54.52464578853192,
          54.32246127113417,
          54.34086156872787,
          54.29273343447622
         ],
         "y0": " ",
         "yaxis": "y"
        },
        {
         "alignmentgroup": "True",
         "hovertemplate": "Municipality=%{x}<br>Traffic_Pollution=%{y}<extra></extra>",
         "legendgroup": "Municipality_26",
         "marker": {
          "color": "#FF97FF"
         },
         "name": "Municipality_26",
         "notched": false,
         "offsetgroup": "Municipality_26",
         "orientation": "v",
         "showlegend": true,
         "type": "box",
         "x": [
          "Municipality_26",
          "Municipality_26",
          "Municipality_26",
          "Municipality_26",
          "Municipality_26",
          "Municipality_26",
          "Municipality_26",
          "Municipality_26",
          "Municipality_26",
          "Municipality_26"
         ],
         "x0": " ",
         "xaxis": "x",
         "y": [
          38.50088530014951,
          38.46477551757721,
          38.5303153737353,
          38.54724200544805,
          38.51576314171674,
          38.55675564361198,
          38.39263484990392,
          38.52739568671058,
          38.44843348731409,
          38.57335494100726
         ],
         "y0": " ",
         "yaxis": "y"
        },
        {
         "alignmentgroup": "True",
         "hovertemplate": "Municipality=%{x}<br>Traffic_Pollution=%{y}<extra></extra>",
         "legendgroup": "Municipality_27",
         "marker": {
          "color": "#FECB52"
         },
         "name": "Municipality_27",
         "notched": false,
         "offsetgroup": "Municipality_27",
         "orientation": "v",
         "showlegend": true,
         "type": "box",
         "x": [
          "Municipality_27",
          "Municipality_27",
          "Municipality_27",
          "Municipality_27",
          "Municipality_27",
          "Municipality_27",
          "Municipality_27",
          "Municipality_27",
          "Municipality_27",
          "Municipality_27"
         ],
         "x0": " ",
         "xaxis": "x",
         "y": [
          46.689784338099045,
          46.7249082923958,
          46.7548480138585,
          46.74363486204131,
          46.74607549320549,
          46.68009057892594,
          46.63631756596372,
          46.699396611997415,
          46.80285974785104,
          46.6464739780152
         ],
         "y0": " ",
         "yaxis": "y"
        },
        {
         "alignmentgroup": "True",
         "hovertemplate": "Municipality=%{x}<br>Traffic_Pollution=%{y}<extra></extra>",
         "legendgroup": "Municipality_28",
         "marker": {
          "color": "#636efa"
         },
         "name": "Municipality_28",
         "notched": false,
         "offsetgroup": "Municipality_28",
         "orientation": "v",
         "showlegend": true,
         "type": "box",
         "x": [
          "Municipality_28",
          "Municipality_28",
          "Municipality_28",
          "Municipality_28",
          "Municipality_28",
          "Municipality_28",
          "Municipality_28",
          "Municipality_28",
          "Municipality_28",
          "Municipality_28"
         ],
         "x0": " ",
         "xaxis": "x",
         "y": [
          54.34091547776227,
          54.33839530208184,
          54.13115298822166,
          54.26098933332849,
          54.12409997244904,
          54.34376399057731,
          54.2248126278238,
          54.2827990106664,
          54.31530200808465,
          54.38462057521655
         ],
         "y0": " ",
         "yaxis": "y"
        },
        {
         "alignmentgroup": "True",
         "hovertemplate": "Municipality=%{x}<br>Traffic_Pollution=%{y}<extra></extra>",
         "legendgroup": "Municipality_29",
         "marker": {
          "color": "#EF553B"
         },
         "name": "Municipality_29",
         "notched": false,
         "offsetgroup": "Municipality_29",
         "orientation": "v",
         "showlegend": true,
         "type": "box",
         "x": [
          "Municipality_29",
          "Municipality_29",
          "Municipality_29",
          "Municipality_29",
          "Municipality_29",
          "Municipality_29",
          "Municipality_29",
          "Municipality_29",
          "Municipality_29",
          "Municipality_29"
         ],
         "x0": " ",
         "xaxis": "x",
         "y": [
          45.613803233088845,
          45.66111238056825,
          46.62762377838595,
          47.22260141090893,
          47.43647254305592,
          47.99296080882023,
          48.56121785885453,
          48.82094360183923,
          49.50636054669808,
          49.87093039032188
         ],
         "y0": " ",
         "yaxis": "y"
        },
        {
         "alignmentgroup": "True",
         "hovertemplate": "Municipality=%{x}<br>Traffic_Pollution=%{y}<extra></extra>",
         "legendgroup": "Municipality_3",
         "marker": {
          "color": "#00cc96"
         },
         "name": "Municipality_3",
         "notched": false,
         "offsetgroup": "Municipality_3",
         "orientation": "v",
         "showlegend": true,
         "type": "box",
         "x": [
          "Municipality_3",
          "Municipality_3",
          "Municipality_3",
          "Municipality_3",
          "Municipality_3",
          "Municipality_3",
          "Municipality_3",
          "Municipality_3",
          "Municipality_3",
          "Municipality_3"
         ],
         "x0": " ",
         "xaxis": "x",
         "y": [
          50.87631578952697,
          51.57574190808351,
          51.78596914095465,
          52.29664785825269,
          52.65876943712792,
          53.118574873752216,
          53.66005076679464,
          54.39442811993999,
          55.23724833318191,
          55.29113128237525
         ],
         "y0": " ",
         "yaxis": "y"
        },
        {
         "alignmentgroup": "True",
         "hovertemplate": "Municipality=%{x}<br>Traffic_Pollution=%{y}<extra></extra>",
         "legendgroup": "Municipality_30",
         "marker": {
          "color": "#ab63fa"
         },
         "name": "Municipality_30",
         "notched": false,
         "offsetgroup": "Municipality_30",
         "orientation": "v",
         "showlegend": true,
         "type": "box",
         "x": [
          "Municipality_30",
          "Municipality_30",
          "Municipality_30",
          "Municipality_30",
          "Municipality_30",
          "Municipality_30",
          "Municipality_30",
          "Municipality_30",
          "Municipality_30",
          "Municipality_30"
         ],
         "x0": " ",
         "xaxis": "x",
         "y": [
          57.223402848805726,
          57.6208431475424,
          58.37344270967657,
          58.762682339243234,
          59.40423133860735,
          59.85586989229654,
          60.5640500662002,
          60.86242715633532,
          61.549749196052105,
          62.038175877209
         ],
         "y0": " ",
         "yaxis": "y"
        },
        {
         "alignmentgroup": "True",
         "hovertemplate": "Municipality=%{x}<br>Traffic_Pollution=%{y}<extra></extra>",
         "legendgroup": "Municipality_31",
         "marker": {
          "color": "#FFA15A"
         },
         "name": "Municipality_31",
         "notched": false,
         "offsetgroup": "Municipality_31",
         "orientation": "v",
         "showlegend": true,
         "type": "box",
         "x": [
          "Municipality_31",
          "Municipality_31",
          "Municipality_31",
          "Municipality_31",
          "Municipality_31",
          "Municipality_31",
          "Municipality_31",
          "Municipality_31",
          "Municipality_31",
          "Municipality_31"
         ],
         "x0": " ",
         "xaxis": "x",
         "y": [
          50.862866360739375,
          51.48818165578711,
          52.27849762622234,
          52.163313103713854,
          52.94477957151242,
          53.23021722813177,
          53.43763621895132,
          54.7622794047123,
          55.12485440053639,
          55.34629968888338
         ],
         "y0": " ",
         "yaxis": "y"
        },
        {
         "alignmentgroup": "True",
         "hovertemplate": "Municipality=%{x}<br>Traffic_Pollution=%{y}<extra></extra>",
         "legendgroup": "Municipality_32",
         "marker": {
          "color": "#19d3f3"
         },
         "name": "Municipality_32",
         "notched": false,
         "offsetgroup": "Municipality_32",
         "orientation": "v",
         "showlegend": true,
         "type": "box",
         "x": [
          "Municipality_32",
          "Municipality_32",
          "Municipality_32",
          "Municipality_32",
          "Municipality_32",
          "Municipality_32",
          "Municipality_32",
          "Municipality_32",
          "Municipality_32",
          "Municipality_32"
         ],
         "x0": " ",
         "xaxis": "x",
         "y": [
          56.75603017560907,
          57.30951415175423,
          57.68443364401012,
          58.32889260375575,
          58.842214276597,
          59.42219134982325,
          59.57357203976758,
          60.47175153166224,
          60.460847013792296,
          60.80561559106169
         ],
         "y0": " ",
         "yaxis": "y"
        },
        {
         "alignmentgroup": "True",
         "hovertemplate": "Municipality=%{x}<br>Traffic_Pollution=%{y}<extra></extra>",
         "legendgroup": "Municipality_33",
         "marker": {
          "color": "#FF6692"
         },
         "name": "Municipality_33",
         "notched": false,
         "offsetgroup": "Municipality_33",
         "orientation": "v",
         "showlegend": true,
         "type": "box",
         "x": [
          "Municipality_33",
          "Municipality_33",
          "Municipality_33",
          "Municipality_33",
          "Municipality_33",
          "Municipality_33",
          "Municipality_33",
          "Municipality_33",
          "Municipality_33",
          "Municipality_33"
         ],
         "x0": " ",
         "xaxis": "x",
         "y": [
          48.0976597210235,
          48.09212770094343,
          48.0916918301124,
          48.100544621227,
          48.017640573879085,
          47.92766310225653,
          48.11460552615757,
          48.07077636757534,
          47.87097225383507,
          48.05627191529438
         ],
         "y0": " ",
         "yaxis": "y"
        },
        {
         "alignmentgroup": "True",
         "hovertemplate": "Municipality=%{x}<br>Traffic_Pollution=%{y}<extra></extra>",
         "legendgroup": "Municipality_34",
         "marker": {
          "color": "#B6E880"
         },
         "name": "Municipality_34",
         "notched": false,
         "offsetgroup": "Municipality_34",
         "orientation": "v",
         "showlegend": true,
         "type": "box",
         "x": [
          "Municipality_34",
          "Municipality_34",
          "Municipality_34",
          "Municipality_34",
          "Municipality_34",
          "Municipality_34",
          "Municipality_34",
          "Municipality_34",
          "Municipality_34",
          "Municipality_34"
         ],
         "x0": " ",
         "xaxis": "x",
         "y": [
          54.89061412977352,
          55.60721605530596,
          56.08587108355599,
          56.36498124057652,
          57.34434071321556,
          57.89463193782727,
          57.90325190302719,
          58.8993585037686,
          58.869542197089,
          59.38031400108904
         ],
         "y0": " ",
         "yaxis": "y"
        },
        {
         "alignmentgroup": "True",
         "hovertemplate": "Municipality=%{x}<br>Traffic_Pollution=%{y}<extra></extra>",
         "legendgroup": "Municipality_35",
         "marker": {
          "color": "#FF97FF"
         },
         "name": "Municipality_35",
         "notched": false,
         "offsetgroup": "Municipality_35",
         "orientation": "v",
         "showlegend": true,
         "type": "box",
         "x": [
          "Municipality_35",
          "Municipality_35",
          "Municipality_35",
          "Municipality_35",
          "Municipality_35",
          "Municipality_35",
          "Municipality_35",
          "Municipality_35",
          "Municipality_35",
          "Municipality_35"
         ],
         "x0": " ",
         "xaxis": "x",
         "y": [
          68.26366001068489,
          68.66810767983617,
          69.21723619688515,
          70.01045824893016,
          70.33281609067484,
          70.4303399999334,
          71.07318763027995,
          71.70765627169318,
          72.51474546216234,
          72.69825112113506
         ],
         "y0": " ",
         "yaxis": "y"
        },
        {
         "alignmentgroup": "True",
         "hovertemplate": "Municipality=%{x}<br>Traffic_Pollution=%{y}<extra></extra>",
         "legendgroup": "Municipality_36",
         "marker": {
          "color": "#FECB52"
         },
         "name": "Municipality_36",
         "notched": false,
         "offsetgroup": "Municipality_36",
         "orientation": "v",
         "showlegend": true,
         "type": "box",
         "x": [
          "Municipality_36",
          "Municipality_36",
          "Municipality_36",
          "Municipality_36",
          "Municipality_36",
          "Municipality_36",
          "Municipality_36",
          "Municipality_36",
          "Municipality_36",
          "Municipality_36"
         ],
         "x0": " ",
         "xaxis": "x",
         "y": [
          69.33200817706941,
          69.94832055652131,
          70.42478150879779,
          70.80421217486685,
          71.27577485437669,
          71.91018889562928,
          72.31744615119194,
          73.12160774370105,
          73.22553277309605,
          73.90178861306963
         ],
         "y0": " ",
         "yaxis": "y"
        },
        {
         "alignmentgroup": "True",
         "hovertemplate": "Municipality=%{x}<br>Traffic_Pollution=%{y}<extra></extra>",
         "legendgroup": "Municipality_37",
         "marker": {
          "color": "#636efa"
         },
         "name": "Municipality_37",
         "notched": false,
         "offsetgroup": "Municipality_37",
         "orientation": "v",
         "showlegend": true,
         "type": "box",
         "x": [
          "Municipality_37",
          "Municipality_37",
          "Municipality_37",
          "Municipality_37",
          "Municipality_37",
          "Municipality_37",
          "Municipality_37",
          "Municipality_37",
          "Municipality_37",
          "Municipality_37"
         ],
         "x0": " ",
         "xaxis": "x",
         "y": [
          47.99647723394977,
          47.873686339519445,
          48.58556093908511,
          49.46062806913864,
          49.74773473943547,
          50.58427554975543,
          50.98878199990117,
          51.66102519412964,
          51.731879859630666,
          52.15414669223539
         ],
         "y0": " ",
         "yaxis": "y"
        },
        {
         "alignmentgroup": "True",
         "hovertemplate": "Municipality=%{x}<br>Traffic_Pollution=%{y}<extra></extra>",
         "legendgroup": "Municipality_38",
         "marker": {
          "color": "#EF553B"
         },
         "name": "Municipality_38",
         "notched": false,
         "offsetgroup": "Municipality_38",
         "orientation": "v",
         "showlegend": true,
         "type": "box",
         "x": [
          "Municipality_38",
          "Municipality_38",
          "Municipality_38",
          "Municipality_38",
          "Municipality_38",
          "Municipality_38",
          "Municipality_38",
          "Municipality_38",
          "Municipality_38",
          "Municipality_38"
         ],
         "x0": " ",
         "xaxis": "x",
         "y": [
          35.78544153515708,
          36.18118542607088,
          37.05071557638521,
          37.32534446823238,
          37.58610961138021,
          38.36478278698847,
          39.08379071296345,
          39.36408368298157,
          39.98067794956111,
          40.19895291677472
         ],
         "y0": " ",
         "yaxis": "y"
        },
        {
         "alignmentgroup": "True",
         "hovertemplate": "Municipality=%{x}<br>Traffic_Pollution=%{y}<extra></extra>",
         "legendgroup": "Municipality_39",
         "marker": {
          "color": "#00cc96"
         },
         "name": "Municipality_39",
         "notched": false,
         "offsetgroup": "Municipality_39",
         "orientation": "v",
         "showlegend": true,
         "type": "box",
         "x": [
          "Municipality_39",
          "Municipality_39",
          "Municipality_39",
          "Municipality_39",
          "Municipality_39",
          "Municipality_39",
          "Municipality_39",
          "Municipality_39",
          "Municipality_39",
          "Municipality_39"
         ],
         "x0": " ",
         "xaxis": "x",
         "y": [
          64.41352239733925,
          64.29463891866872,
          64.56388511886966,
          64.32609659773267,
          64.32921274250799,
          64.34742677569145,
          64.36072228583764,
          64.38287550038106,
          64.49590608486477,
          64.2917509784531
         ],
         "y0": " ",
         "yaxis": "y"
        },
        {
         "alignmentgroup": "True",
         "hovertemplate": "Municipality=%{x}<br>Traffic_Pollution=%{y}<extra></extra>",
         "legendgroup": "Municipality_4",
         "marker": {
          "color": "#ab63fa"
         },
         "name": "Municipality_4",
         "notched": false,
         "offsetgroup": "Municipality_4",
         "orientation": "v",
         "showlegend": true,
         "type": "box",
         "x": [
          "Municipality_4",
          "Municipality_4",
          "Municipality_4",
          "Municipality_4",
          "Municipality_4",
          "Municipality_4",
          "Municipality_4",
          "Municipality_4",
          "Municipality_4",
          "Municipality_4"
         ],
         "x0": " ",
         "xaxis": "x",
         "y": [
          36.91203361414902,
          36.64280576492156,
          36.896344480096815,
          37.626601689479976,
          38.62172906447841,
          38.94133200142804,
          39.43737820786347,
          40.225502828501725,
          40.239882725656926,
          41.08992927116444
         ],
         "y0": " ",
         "yaxis": "y"
        },
        {
         "alignmentgroup": "True",
         "hovertemplate": "Municipality=%{x}<br>Traffic_Pollution=%{y}<extra></extra>",
         "legendgroup": "Municipality_40",
         "marker": {
          "color": "#FFA15A"
         },
         "name": "Municipality_40",
         "notched": false,
         "offsetgroup": "Municipality_40",
         "orientation": "v",
         "showlegend": true,
         "type": "box",
         "x": [
          "Municipality_40",
          "Municipality_40",
          "Municipality_40",
          "Municipality_40",
          "Municipality_40",
          "Municipality_40",
          "Municipality_40",
          "Municipality_40",
          "Municipality_40",
          "Municipality_40"
         ],
         "x0": " ",
         "xaxis": "x",
         "y": [
          25.399010312173974,
          25.445940365181865,
          25.494462992370128,
          25.56473476325662,
          25.50486759432434,
          25.386896608615995,
          25.318294986132702,
          25.563368120588915,
          25.45769033469037,
          25.54297098506208
         ],
         "y0": " ",
         "yaxis": "y"
        },
        {
         "alignmentgroup": "True",
         "hovertemplate": "Municipality=%{x}<br>Traffic_Pollution=%{y}<extra></extra>",
         "legendgroup": "Municipality_41",
         "marker": {
          "color": "#19d3f3"
         },
         "name": "Municipality_41",
         "notched": false,
         "offsetgroup": "Municipality_41",
         "orientation": "v",
         "showlegend": true,
         "type": "box",
         "x": [
          "Municipality_41",
          "Municipality_41",
          "Municipality_41",
          "Municipality_41",
          "Municipality_41",
          "Municipality_41",
          "Municipality_41",
          "Municipality_41",
          "Municipality_41",
          "Municipality_41"
         ],
         "x0": " ",
         "xaxis": "x",
         "y": [
          47.82827613307377,
          48.61981664622677,
          48.55329651704378,
          49.40802989207506,
          50.13436374322762,
          50.209167665212505,
          51.00572515227399,
          51.48197971444922,
          52.274843260465154,
          52.30034460299167
         ],
         "y0": " ",
         "yaxis": "y"
        },
        {
         "alignmentgroup": "True",
         "hovertemplate": "Municipality=%{x}<br>Traffic_Pollution=%{y}<extra></extra>",
         "legendgroup": "Municipality_42",
         "marker": {
          "color": "#FF6692"
         },
         "name": "Municipality_42",
         "notched": false,
         "offsetgroup": "Municipality_42",
         "orientation": "v",
         "showlegend": true,
         "type": "box",
         "x": [
          "Municipality_42",
          "Municipality_42",
          "Municipality_42",
          "Municipality_42",
          "Municipality_42",
          "Municipality_42",
          "Municipality_42",
          "Municipality_42",
          "Municipality_42",
          "Municipality_42"
         ],
         "x0": " ",
         "xaxis": "x",
         "y": [
          44.740416805876336,
          null,
          45.89630939806853,
          46.64096642517735,
          47.09479246141315,
          47.59648583044722,
          48.00844818502159,
          49.00554210344273,
          48.91305650633669,
          49.209642138584336
         ],
         "y0": " ",
         "yaxis": "y"
        },
        {
         "alignmentgroup": "True",
         "hovertemplate": "Municipality=%{x}<br>Traffic_Pollution=%{y}<extra></extra>",
         "legendgroup": "Municipality_43",
         "marker": {
          "color": "#B6E880"
         },
         "name": "Municipality_43",
         "notched": false,
         "offsetgroup": "Municipality_43",
         "orientation": "v",
         "showlegend": true,
         "type": "box",
         "x": [
          "Municipality_43",
          "Municipality_43",
          "Municipality_43",
          "Municipality_43",
          "Municipality_43",
          "Municipality_43",
          "Municipality_43",
          "Municipality_43",
          "Municipality_43",
          "Municipality_43"
         ],
         "x0": " ",
         "xaxis": "x",
         "y": [
          49.08391000603122,
          49.30726249847347,
          49.89935247648048,
          50.34338267226631,
          null,
          51.65897510428552,
          51.74137082417729,
          52.427463269781526,
          52.95459532657376,
          53.40235601929531
         ],
         "y0": " ",
         "yaxis": "y"
        },
        {
         "alignmentgroup": "True",
         "hovertemplate": "Municipality=%{x}<br>Traffic_Pollution=%{y}<extra></extra>",
         "legendgroup": "Municipality_44",
         "marker": {
          "color": "#FF97FF"
         },
         "name": "Municipality_44",
         "notched": false,
         "offsetgroup": "Municipality_44",
         "orientation": "v",
         "showlegend": true,
         "type": "box",
         "x": [
          "Municipality_44",
          "Municipality_44",
          "Municipality_44",
          "Municipality_44",
          "Municipality_44",
          "Municipality_44",
          "Municipality_44",
          "Municipality_44",
          "Municipality_44",
          "Municipality_44"
         ],
         "x0": " ",
         "xaxis": "x",
         "y": [
          55.27075683331894,
          55.21887381579752,
          55.171124575020976,
          55.256070321202216,
          55.3428449264056,
          55.18490819049591,
          55.169623748495866,
          55.37742102850032,
          55.222273310901926,
          55.31829969231356
         ],
         "y0": " ",
         "yaxis": "y"
        },
        {
         "alignmentgroup": "True",
         "hovertemplate": "Municipality=%{x}<br>Traffic_Pollution=%{y}<extra></extra>",
         "legendgroup": "Municipality_45",
         "marker": {
          "color": "#FECB52"
         },
         "name": "Municipality_45",
         "notched": false,
         "offsetgroup": "Municipality_45",
         "orientation": "v",
         "showlegend": true,
         "type": "box",
         "x": [
          "Municipality_45",
          "Municipality_45",
          "Municipality_45",
          "Municipality_45",
          "Municipality_45",
          "Municipality_45",
          "Municipality_45",
          "Municipality_45",
          "Municipality_45",
          "Municipality_45"
         ],
         "x0": " ",
         "xaxis": "x",
         "y": [
          67.69144684682777,
          67.79533010166652,
          67.7239036170168,
          67.74215572666478,
          67.6437947086131,
          67.78257224429989,
          67.83786032894002,
          67.75852389050067,
          67.73463115497027,
          67.75440126049952
         ],
         "y0": " ",
         "yaxis": "y"
        },
        {
         "alignmentgroup": "True",
         "hovertemplate": "Municipality=%{x}<br>Traffic_Pollution=%{y}<extra></extra>",
         "legendgroup": "Municipality_46",
         "marker": {
          "color": "#636efa"
         },
         "name": "Municipality_46",
         "notched": false,
         "offsetgroup": "Municipality_46",
         "orientation": "v",
         "showlegend": true,
         "type": "box",
         "x": [
          "Municipality_46",
          "Municipality_46",
          "Municipality_46",
          "Municipality_46",
          "Municipality_46",
          "Municipality_46",
          "Municipality_46",
          "Municipality_46",
          "Municipality_46",
          "Municipality_46"
         ],
         "x0": " ",
         "xaxis": "x",
         "y": [
          55.07963317216899,
          55.38325519048261,
          55.72216095173209,
          56.81742283466993,
          57.24994140409334,
          57.8726867018352,
          58.36879046294784,
          58.86104965539671,
          58.99869852469245,
          59.58261841711046
         ],
         "y0": " ",
         "yaxis": "y"
        },
        {
         "alignmentgroup": "True",
         "hovertemplate": "Municipality=%{x}<br>Traffic_Pollution=%{y}<extra></extra>",
         "legendgroup": "Municipality_47",
         "marker": {
          "color": "#EF553B"
         },
         "name": "Municipality_47",
         "notched": false,
         "offsetgroup": "Municipality_47",
         "orientation": "v",
         "showlegend": true,
         "type": "box",
         "x": [
          "Municipality_47",
          "Municipality_47",
          "Municipality_47",
          "Municipality_47",
          "Municipality_47",
          "Municipality_47",
          "Municipality_47",
          "Municipality_47",
          "Municipality_47",
          "Municipality_47"
         ],
         "x0": " ",
         "xaxis": "x",
         "y": [
          45.297039895281294,
          46.19926994114336,
          46.33341314735606,
          46.80950558819388,
          47.01689041163916,
          47.81533363152472,
          48.44627747417226,
          49.00505373568381,
          49.84291162976039,
          49.75259523233342
         ],
         "y0": " ",
         "yaxis": "y"
        },
        {
         "alignmentgroup": "True",
         "hovertemplate": "Municipality=%{x}<br>Traffic_Pollution=%{y}<extra></extra>",
         "legendgroup": "Municipality_48",
         "marker": {
          "color": "#00cc96"
         },
         "name": "Municipality_48",
         "notched": false,
         "offsetgroup": "Municipality_48",
         "orientation": "v",
         "showlegend": true,
         "type": "box",
         "x": [
          "Municipality_48",
          "Municipality_48",
          "Municipality_48",
          "Municipality_48",
          "Municipality_48",
          "Municipality_48",
          "Municipality_48",
          "Municipality_48",
          "Municipality_48",
          "Municipality_48"
         ],
         "x0": " ",
         "xaxis": "x",
         "y": [
          53.091021051867685,
          53.21698045233317,
          53.314623385637645,
          53.10198172742223,
          53.09610243828336,
          53.29989306162412,
          53.260971130975626,
          53.09579131436831,
          53.25583429558941,
          53.29148438690881
         ],
         "y0": " ",
         "yaxis": "y"
        },
        {
         "alignmentgroup": "True",
         "hovertemplate": "Municipality=%{x}<br>Traffic_Pollution=%{y}<extra></extra>",
         "legendgroup": "Municipality_49",
         "marker": {
          "color": "#ab63fa"
         },
         "name": "Municipality_49",
         "notched": false,
         "offsetgroup": "Municipality_49",
         "orientation": "v",
         "showlegend": true,
         "type": "box",
         "x": [
          "Municipality_49",
          "Municipality_49",
          "Municipality_49",
          "Municipality_49",
          "Municipality_49",
          "Municipality_49",
          "Municipality_49",
          "Municipality_49",
          "Municipality_49",
          "Municipality_49"
         ],
         "x0": " ",
         "xaxis": "x",
         "y": [
          60.11342768646513,
          61.014855514585314,
          61.28932430215734,
          61.59732466547248,
          61.66183420975043,
          62.538489122774834,
          63.21386873844805,
          63.42079017157817,
          63.82393694674504,
          64.5744869981895
         ],
         "y0": " ",
         "yaxis": "y"
        },
        {
         "alignmentgroup": "True",
         "hovertemplate": "Municipality=%{x}<br>Traffic_Pollution=%{y}<extra></extra>",
         "legendgroup": "Municipality_5",
         "marker": {
          "color": "#FFA15A"
         },
         "name": "Municipality_5",
         "notched": false,
         "offsetgroup": "Municipality_5",
         "orientation": "v",
         "showlegend": true,
         "type": "box",
         "x": [
          "Municipality_5",
          "Municipality_5",
          "Municipality_5",
          "Municipality_5",
          "Municipality_5",
          "Municipality_5",
          "Municipality_5",
          "Municipality_5",
          "Municipality_5",
          "Municipality_5"
         ],
         "x0": " ",
         "xaxis": "x",
         "y": [
          67.99991770825076,
          68.45442951838746,
          68.62715537823843,
          69.0396225301274,
          69.41789991217671,
          70.42500400562373,
          71.0317949086242,
          71.35662729608609,
          72.13375997412058,
          72.58117132731495
         ],
         "y0": " ",
         "yaxis": "y"
        },
        {
         "alignmentgroup": "True",
         "hovertemplate": "Municipality=%{x}<br>Traffic_Pollution=%{y}<extra></extra>",
         "legendgroup": "Municipality_50",
         "marker": {
          "color": "#19d3f3"
         },
         "name": "Municipality_50",
         "notched": false,
         "offsetgroup": "Municipality_50",
         "orientation": "v",
         "showlegend": true,
         "type": "box",
         "x": [
          "Municipality_50",
          "Municipality_50",
          "Municipality_50",
          "Municipality_50",
          "Municipality_50",
          "Municipality_50",
          "Municipality_50",
          "Municipality_50",
          "Municipality_50",
          "Municipality_50"
         ],
         "x0": " ",
         "xaxis": "x",
         "y": [
          51.081002913391856,
          51.16366833886222,
          51.14928566142506,
          51.17935248946888,
          51.155702874937234,
          51.04615773724968,
          51.0369286457574,
          51.18338306193563,
          51.18458895604351,
          51.10839523296584
         ],
         "y0": " ",
         "yaxis": "y"
        },
        {
         "alignmentgroup": "True",
         "hovertemplate": "Municipality=%{x}<br>Traffic_Pollution=%{y}<extra></extra>",
         "legendgroup": "Municipality_6",
         "marker": {
          "color": "#FF6692"
         },
         "name": "Municipality_6",
         "notched": false,
         "offsetgroup": "Municipality_6",
         "orientation": "v",
         "showlegend": true,
         "type": "box",
         "x": [
          "Municipality_6",
          "Municipality_6",
          "Municipality_6",
          "Municipality_6",
          "Municipality_6",
          "Municipality_6",
          "Municipality_6",
          "Municipality_6",
          "Municipality_6",
          "Municipality_6"
         ],
         "x0": " ",
         "xaxis": "x",
         "y": [
          44.44678173635359,
          44.56210832518384,
          45.05610149186638,
          45.80228130217616,
          46.28917368586212,
          46.49839693014664,
          47.6450872185041,
          47.72296987939319,
          48.04153910981682,
          48.64517571977251
         ],
         "y0": " ",
         "yaxis": "y"
        },
        {
         "alignmentgroup": "True",
         "hovertemplate": "Municipality=%{x}<br>Traffic_Pollution=%{y}<extra></extra>",
         "legendgroup": "Municipality_7",
         "marker": {
          "color": "#B6E880"
         },
         "name": "Municipality_7",
         "notched": false,
         "offsetgroup": "Municipality_7",
         "orientation": "v",
         "showlegend": true,
         "type": "box",
         "x": [
          "Municipality_7",
          "Municipality_7",
          "Municipality_7",
          "Municipality_7",
          "Municipality_7",
          "Municipality_7",
          "Municipality_7",
          "Municipality_7",
          "Municipality_7",
          "Municipality_7"
         ],
         "x0": " ",
         "xaxis": "x",
         "y": [
          44.89926914134013,
          45.8665692686534,
          45.800524113114605,
          46.53383232114917,
          47.19045038852457,
          47.390158438811206,
          48.0115162228191,
          48.584122422187335,
          48.92002219157558,
          49.52735123216881
         ],
         "y0": " ",
         "yaxis": "y"
        },
        {
         "alignmentgroup": "True",
         "hovertemplate": "Municipality=%{x}<br>Traffic_Pollution=%{y}<extra></extra>",
         "legendgroup": "Municipality_8",
         "marker": {
          "color": "#FF97FF"
         },
         "name": "Municipality_8",
         "notched": false,
         "offsetgroup": "Municipality_8",
         "orientation": "v",
         "showlegend": true,
         "type": "box",
         "x": [
          "Municipality_8",
          "Municipality_8",
          "Municipality_8",
          "Municipality_8",
          "Municipality_8",
          "Municipality_8",
          "Municipality_8",
          "Municipality_8",
          "Municipality_8",
          "Municipality_8"
         ],
         "x0": " ",
         "xaxis": "x",
         "y": [
          67.57525790658877,
          67.56697243281639,
          67.46881435749204,
          67.45998636107306,
          67.4699158911211,
          67.50743708706366,
          67.709963585307,
          67.53283634228262,
          67.49174713860589,
          67.60791449537035
         ],
         "y0": " ",
         "yaxis": "y"
        },
        {
         "alignmentgroup": "True",
         "hovertemplate": "Municipality=%{x}<br>Traffic_Pollution=%{y}<extra></extra>",
         "legendgroup": "Municipality_9",
         "marker": {
          "color": "#FECB52"
         },
         "name": "Municipality_9",
         "notched": false,
         "offsetgroup": "Municipality_9",
         "orientation": "v",
         "showlegend": true,
         "type": "box",
         "x": [
          "Municipality_9",
          "Municipality_9",
          "Municipality_9",
          "Municipality_9",
          "Municipality_9",
          "Municipality_9",
          "Municipality_9",
          "Municipality_9",
          "Municipality_9",
          "Municipality_9"
         ],
         "x0": " ",
         "xaxis": "x",
         "y": [
          36.116531589243216,
          36.70516742480292,
          37.37053585986334,
          37.76266419362809,
          38.66942423158289,
          38.526621221667,
          39.67261033394564,
          39.76464781709532,
          40.142385652768894,
          40.84852707938534
         ],
         "y0": " ",
         "yaxis": "y"
        }
       ],
       "layout": {
        "boxmode": "overlay",
        "legend": {
         "title": {
          "text": "Municipality"
         },
         "tracegroupgap": 0
        },
        "margin": {
         "t": 60
        },
        "template": {
         "data": {
          "bar": [
           {
            "error_x": {
             "color": "#2a3f5f"
            },
            "error_y": {
             "color": "#2a3f5f"
            },
            "marker": {
             "line": {
              "color": "#E5ECF6",
              "width": 0.5
             },
             "pattern": {
              "fillmode": "overlay",
              "size": 10,
              "solidity": 0.2
             }
            },
            "type": "bar"
           }
          ],
          "barpolar": [
           {
            "marker": {
             "line": {
              "color": "#E5ECF6",
              "width": 0.5
             },
             "pattern": {
              "fillmode": "overlay",
              "size": 10,
              "solidity": 0.2
             }
            },
            "type": "barpolar"
           }
          ],
          "carpet": [
           {
            "aaxis": {
             "endlinecolor": "#2a3f5f",
             "gridcolor": "white",
             "linecolor": "white",
             "minorgridcolor": "white",
             "startlinecolor": "#2a3f5f"
            },
            "baxis": {
             "endlinecolor": "#2a3f5f",
             "gridcolor": "white",
             "linecolor": "white",
             "minorgridcolor": "white",
             "startlinecolor": "#2a3f5f"
            },
            "type": "carpet"
           }
          ],
          "choropleth": [
           {
            "colorbar": {
             "outlinewidth": 0,
             "ticks": ""
            },
            "type": "choropleth"
           }
          ],
          "contour": [
           {
            "colorbar": {
             "outlinewidth": 0,
             "ticks": ""
            },
            "colorscale": [
             [
              0,
              "#0d0887"
             ],
             [
              0.1111111111111111,
              "#46039f"
             ],
             [
              0.2222222222222222,
              "#7201a8"
             ],
             [
              0.3333333333333333,
              "#9c179e"
             ],
             [
              0.4444444444444444,
              "#bd3786"
             ],
             [
              0.5555555555555556,
              "#d8576b"
             ],
             [
              0.6666666666666666,
              "#ed7953"
             ],
             [
              0.7777777777777778,
              "#fb9f3a"
             ],
             [
              0.8888888888888888,
              "#fdca26"
             ],
             [
              1,
              "#f0f921"
             ]
            ],
            "type": "contour"
           }
          ],
          "contourcarpet": [
           {
            "colorbar": {
             "outlinewidth": 0,
             "ticks": ""
            },
            "type": "contourcarpet"
           }
          ],
          "heatmap": [
           {
            "colorbar": {
             "outlinewidth": 0,
             "ticks": ""
            },
            "colorscale": [
             [
              0,
              "#0d0887"
             ],
             [
              0.1111111111111111,
              "#46039f"
             ],
             [
              0.2222222222222222,
              "#7201a8"
             ],
             [
              0.3333333333333333,
              "#9c179e"
             ],
             [
              0.4444444444444444,
              "#bd3786"
             ],
             [
              0.5555555555555556,
              "#d8576b"
             ],
             [
              0.6666666666666666,
              "#ed7953"
             ],
             [
              0.7777777777777778,
              "#fb9f3a"
             ],
             [
              0.8888888888888888,
              "#fdca26"
             ],
             [
              1,
              "#f0f921"
             ]
            ],
            "type": "heatmap"
           }
          ],
          "heatmapgl": [
           {
            "colorbar": {
             "outlinewidth": 0,
             "ticks": ""
            },
            "colorscale": [
             [
              0,
              "#0d0887"
             ],
             [
              0.1111111111111111,
              "#46039f"
             ],
             [
              0.2222222222222222,
              "#7201a8"
             ],
             [
              0.3333333333333333,
              "#9c179e"
             ],
             [
              0.4444444444444444,
              "#bd3786"
             ],
             [
              0.5555555555555556,
              "#d8576b"
             ],
             [
              0.6666666666666666,
              "#ed7953"
             ],
             [
              0.7777777777777778,
              "#fb9f3a"
             ],
             [
              0.8888888888888888,
              "#fdca26"
             ],
             [
              1,
              "#f0f921"
             ]
            ],
            "type": "heatmapgl"
           }
          ],
          "histogram": [
           {
            "marker": {
             "pattern": {
              "fillmode": "overlay",
              "size": 10,
              "solidity": 0.2
             }
            },
            "type": "histogram"
           }
          ],
          "histogram2d": [
           {
            "colorbar": {
             "outlinewidth": 0,
             "ticks": ""
            },
            "colorscale": [
             [
              0,
              "#0d0887"
             ],
             [
              0.1111111111111111,
              "#46039f"
             ],
             [
              0.2222222222222222,
              "#7201a8"
             ],
             [
              0.3333333333333333,
              "#9c179e"
             ],
             [
              0.4444444444444444,
              "#bd3786"
             ],
             [
              0.5555555555555556,
              "#d8576b"
             ],
             [
              0.6666666666666666,
              "#ed7953"
             ],
             [
              0.7777777777777778,
              "#fb9f3a"
             ],
             [
              0.8888888888888888,
              "#fdca26"
             ],
             [
              1,
              "#f0f921"
             ]
            ],
            "type": "histogram2d"
           }
          ],
          "histogram2dcontour": [
           {
            "colorbar": {
             "outlinewidth": 0,
             "ticks": ""
            },
            "colorscale": [
             [
              0,
              "#0d0887"
             ],
             [
              0.1111111111111111,
              "#46039f"
             ],
             [
              0.2222222222222222,
              "#7201a8"
             ],
             [
              0.3333333333333333,
              "#9c179e"
             ],
             [
              0.4444444444444444,
              "#bd3786"
             ],
             [
              0.5555555555555556,
              "#d8576b"
             ],
             [
              0.6666666666666666,
              "#ed7953"
             ],
             [
              0.7777777777777778,
              "#fb9f3a"
             ],
             [
              0.8888888888888888,
              "#fdca26"
             ],
             [
              1,
              "#f0f921"
             ]
            ],
            "type": "histogram2dcontour"
           }
          ],
          "mesh3d": [
           {
            "colorbar": {
             "outlinewidth": 0,
             "ticks": ""
            },
            "type": "mesh3d"
           }
          ],
          "parcoords": [
           {
            "line": {
             "colorbar": {
              "outlinewidth": 0,
              "ticks": ""
             }
            },
            "type": "parcoords"
           }
          ],
          "pie": [
           {
            "automargin": true,
            "type": "pie"
           }
          ],
          "scatter": [
           {
            "fillpattern": {
             "fillmode": "overlay",
             "size": 10,
             "solidity": 0.2
            },
            "type": "scatter"
           }
          ],
          "scatter3d": [
           {
            "line": {
             "colorbar": {
              "outlinewidth": 0,
              "ticks": ""
             }
            },
            "marker": {
             "colorbar": {
              "outlinewidth": 0,
              "ticks": ""
             }
            },
            "type": "scatter3d"
           }
          ],
          "scattercarpet": [
           {
            "marker": {
             "colorbar": {
              "outlinewidth": 0,
              "ticks": ""
             }
            },
            "type": "scattercarpet"
           }
          ],
          "scattergeo": [
           {
            "marker": {
             "colorbar": {
              "outlinewidth": 0,
              "ticks": ""
             }
            },
            "type": "scattergeo"
           }
          ],
          "scattergl": [
           {
            "marker": {
             "colorbar": {
              "outlinewidth": 0,
              "ticks": ""
             }
            },
            "type": "scattergl"
           }
          ],
          "scattermapbox": [
           {
            "marker": {
             "colorbar": {
              "outlinewidth": 0,
              "ticks": ""
             }
            },
            "type": "scattermapbox"
           }
          ],
          "scatterpolar": [
           {
            "marker": {
             "colorbar": {
              "outlinewidth": 0,
              "ticks": ""
             }
            },
            "type": "scatterpolar"
           }
          ],
          "scatterpolargl": [
           {
            "marker": {
             "colorbar": {
              "outlinewidth": 0,
              "ticks": ""
             }
            },
            "type": "scatterpolargl"
           }
          ],
          "scatterternary": [
           {
            "marker": {
             "colorbar": {
              "outlinewidth": 0,
              "ticks": ""
             }
            },
            "type": "scatterternary"
           }
          ],
          "surface": [
           {
            "colorbar": {
             "outlinewidth": 0,
             "ticks": ""
            },
            "colorscale": [
             [
              0,
              "#0d0887"
             ],
             [
              0.1111111111111111,
              "#46039f"
             ],
             [
              0.2222222222222222,
              "#7201a8"
             ],
             [
              0.3333333333333333,
              "#9c179e"
             ],
             [
              0.4444444444444444,
              "#bd3786"
             ],
             [
              0.5555555555555556,
              "#d8576b"
             ],
             [
              0.6666666666666666,
              "#ed7953"
             ],
             [
              0.7777777777777778,
              "#fb9f3a"
             ],
             [
              0.8888888888888888,
              "#fdca26"
             ],
             [
              1,
              "#f0f921"
             ]
            ],
            "type": "surface"
           }
          ],
          "table": [
           {
            "cells": {
             "fill": {
              "color": "#EBF0F8"
             },
             "line": {
              "color": "white"
             }
            },
            "header": {
             "fill": {
              "color": "#C8D4E3"
             },
             "line": {
              "color": "white"
             }
            },
            "type": "table"
           }
          ]
         },
         "layout": {
          "annotationdefaults": {
           "arrowcolor": "#2a3f5f",
           "arrowhead": 0,
           "arrowwidth": 1
          },
          "autotypenumbers": "strict",
          "coloraxis": {
           "colorbar": {
            "outlinewidth": 0,
            "ticks": ""
           }
          },
          "colorscale": {
           "diverging": [
            [
             0,
             "#8e0152"
            ],
            [
             0.1,
             "#c51b7d"
            ],
            [
             0.2,
             "#de77ae"
            ],
            [
             0.3,
             "#f1b6da"
            ],
            [
             0.4,
             "#fde0ef"
            ],
            [
             0.5,
             "#f7f7f7"
            ],
            [
             0.6,
             "#e6f5d0"
            ],
            [
             0.7,
             "#b8e186"
            ],
            [
             0.8,
             "#7fbc41"
            ],
            [
             0.9,
             "#4d9221"
            ],
            [
             1,
             "#276419"
            ]
           ],
           "sequential": [
            [
             0,
             "#0d0887"
            ],
            [
             0.1111111111111111,
             "#46039f"
            ],
            [
             0.2222222222222222,
             "#7201a8"
            ],
            [
             0.3333333333333333,
             "#9c179e"
            ],
            [
             0.4444444444444444,
             "#bd3786"
            ],
            [
             0.5555555555555556,
             "#d8576b"
            ],
            [
             0.6666666666666666,
             "#ed7953"
            ],
            [
             0.7777777777777778,
             "#fb9f3a"
            ],
            [
             0.8888888888888888,
             "#fdca26"
            ],
            [
             1,
             "#f0f921"
            ]
           ],
           "sequentialminus": [
            [
             0,
             "#0d0887"
            ],
            [
             0.1111111111111111,
             "#46039f"
            ],
            [
             0.2222222222222222,
             "#7201a8"
            ],
            [
             0.3333333333333333,
             "#9c179e"
            ],
            [
             0.4444444444444444,
             "#bd3786"
            ],
            [
             0.5555555555555556,
             "#d8576b"
            ],
            [
             0.6666666666666666,
             "#ed7953"
            ],
            [
             0.7777777777777778,
             "#fb9f3a"
            ],
            [
             0.8888888888888888,
             "#fdca26"
            ],
            [
             1,
             "#f0f921"
            ]
           ]
          },
          "colorway": [
           "#636efa",
           "#EF553B",
           "#00cc96",
           "#ab63fa",
           "#FFA15A",
           "#19d3f3",
           "#FF6692",
           "#B6E880",
           "#FF97FF",
           "#FECB52"
          ],
          "font": {
           "color": "#2a3f5f"
          },
          "geo": {
           "bgcolor": "white",
           "lakecolor": "white",
           "landcolor": "#E5ECF6",
           "showlakes": true,
           "showland": true,
           "subunitcolor": "white"
          },
          "hoverlabel": {
           "align": "left"
          },
          "hovermode": "closest",
          "mapbox": {
           "style": "light"
          },
          "paper_bgcolor": "white",
          "plot_bgcolor": "#E5ECF6",
          "polar": {
           "angularaxis": {
            "gridcolor": "white",
            "linecolor": "white",
            "ticks": ""
           },
           "bgcolor": "#E5ECF6",
           "radialaxis": {
            "gridcolor": "white",
            "linecolor": "white",
            "ticks": ""
           }
          },
          "scene": {
           "xaxis": {
            "backgroundcolor": "#E5ECF6",
            "gridcolor": "white",
            "gridwidth": 2,
            "linecolor": "white",
            "showbackground": true,
            "ticks": "",
            "zerolinecolor": "white"
           },
           "yaxis": {
            "backgroundcolor": "#E5ECF6",
            "gridcolor": "white",
            "gridwidth": 2,
            "linecolor": "white",
            "showbackground": true,
            "ticks": "",
            "zerolinecolor": "white"
           },
           "zaxis": {
            "backgroundcolor": "#E5ECF6",
            "gridcolor": "white",
            "gridwidth": 2,
            "linecolor": "white",
            "showbackground": true,
            "ticks": "",
            "zerolinecolor": "white"
           }
          },
          "shapedefaults": {
           "line": {
            "color": "#2a3f5f"
           }
          },
          "ternary": {
           "aaxis": {
            "gridcolor": "white",
            "linecolor": "white",
            "ticks": ""
           },
           "baxis": {
            "gridcolor": "white",
            "linecolor": "white",
            "ticks": ""
           },
           "bgcolor": "#E5ECF6",
           "caxis": {
            "gridcolor": "white",
            "linecolor": "white",
            "ticks": ""
           }
          },
          "title": {
           "x": 0.05
          },
          "xaxis": {
           "automargin": true,
           "gridcolor": "white",
           "linecolor": "white",
           "ticks": "",
           "title": {
            "standoff": 15
           },
           "zerolinecolor": "white",
           "zerolinewidth": 2
          },
          "yaxis": {
           "automargin": true,
           "gridcolor": "white",
           "linecolor": "white",
           "ticks": "",
           "title": {
            "standoff": 15
           },
           "zerolinecolor": "white",
           "zerolinewidth": 2
          }
         }
        },
        "xaxis": {
         "anchor": "y",
         "categoryarray": [
          "Municipality_1",
          "Municipality_10",
          "Municipality_11",
          "Municipality_12",
          "Municipality_13",
          "Municipality_14",
          "Municipality_15",
          "Municipality_16",
          "Municipality_17",
          "Municipality_18",
          "Municipality_19",
          "Municipality_2",
          "Municipality_20",
          "Municipality_21",
          "Municipality_22",
          "Municipality_23",
          "Municipality_24",
          "Municipality_25",
          "Municipality_26",
          "Municipality_27",
          "Municipality_28",
          "Municipality_29",
          "Municipality_3",
          "Municipality_30",
          "Municipality_31",
          "Municipality_32",
          "Municipality_33",
          "Municipality_34",
          "Municipality_35",
          "Municipality_36",
          "Municipality_37",
          "Municipality_38",
          "Municipality_39",
          "Municipality_4",
          "Municipality_40",
          "Municipality_41",
          "Municipality_42",
          "Municipality_43",
          "Municipality_44",
          "Municipality_45",
          "Municipality_46",
          "Municipality_47",
          "Municipality_48",
          "Municipality_49",
          "Municipality_5",
          "Municipality_50",
          "Municipality_6",
          "Municipality_7",
          "Municipality_8",
          "Municipality_9"
         ],
         "categoryorder": "array",
         "domain": [
          0,
          1
         ],
         "title": {
          "text": "Municipality"
         }
        },
        "yaxis": {
         "anchor": "x",
         "domain": [
          0,
          1
         ],
         "title": {
          "text": "Traffic_Pollution"
         }
        }
       }
      },
      "text/html": [
       "<div>                            <div id=\"dc394acc-1a33-4f1b-a24b-79fbf8fa044a\" class=\"plotly-graph-div\" style=\"height:525px; width:100%;\"></div>            <script type=\"text/javascript\">                require([\"plotly\"], function(Plotly) {                    window.PLOTLYENV=window.PLOTLYENV || {};                                    if (document.getElementById(\"dc394acc-1a33-4f1b-a24b-79fbf8fa044a\")) {                    Plotly.newPlot(                        \"dc394acc-1a33-4f1b-a24b-79fbf8fa044a\",                        [{\"alignmentgroup\":\"True\",\"hovertemplate\":\"Municipality=%{x}\\u003cbr\\u003eTraffic_Pollution=%{y}\\u003cextra\\u003e\\u003c\\u002fextra\\u003e\",\"legendgroup\":\"Municipality_1\",\"marker\":{\"color\":\"#636efa\"},\"name\":\"Municipality_1\",\"notched\":false,\"offsetgroup\":\"Municipality_1\",\"orientation\":\"v\",\"showlegend\":true,\"x\":[\"Municipality_1\",\"Municipality_1\",\"Municipality_1\",\"Municipality_1\",\"Municipality_1\",\"Municipality_1\",\"Municipality_1\",\"Municipality_1\",\"Municipality_1\",\"Municipality_1\"],\"x0\":\" \",\"xaxis\":\"x\",\"y\":[46.28226111698324,47.1369457341354,47.86679386298539,47.82748374968436,48.375869163746046,48.673919031291945,49.74118520839899,49.59282868995404,50.57891958988932,50.70638233327928],\"y0\":\" \",\"yaxis\":\"y\",\"type\":\"box\"},{\"alignmentgroup\":\"True\",\"hovertemplate\":\"Municipality=%{x}\\u003cbr\\u003eTraffic_Pollution=%{y}\\u003cextra\\u003e\\u003c\\u002fextra\\u003e\",\"legendgroup\":\"Municipality_10\",\"marker\":{\"color\":\"#EF553B\"},\"name\":\"Municipality_10\",\"notched\":false,\"offsetgroup\":\"Municipality_10\",\"orientation\":\"v\",\"showlegend\":true,\"x\":[\"Municipality_10\",\"Municipality_10\",\"Municipality_10\",\"Municipality_10\",\"Municipality_10\",\"Municipality_10\",\"Municipality_10\",\"Municipality_10\",\"Municipality_10\",\"Municipality_10\"],\"x0\":\" \",\"xaxis\":\"x\",\"y\":[50.64601830758336,51.25371463463617,52.11925033662897,52.73081305749116,52.666744278165886,53.733973299085264,53.62372019006678,54.15033868094313,54.638244861418336,55.130430534219336],\"y0\":\" \",\"yaxis\":\"y\",\"type\":\"box\"},{\"alignmentgroup\":\"True\",\"hovertemplate\":\"Municipality=%{x}\\u003cbr\\u003eTraffic_Pollution=%{y}\\u003cextra\\u003e\\u003c\\u002fextra\\u003e\",\"legendgroup\":\"Municipality_11\",\"marker\":{\"color\":\"#00cc96\"},\"name\":\"Municipality_11\",\"notched\":false,\"offsetgroup\":\"Municipality_11\",\"orientation\":\"v\",\"showlegend\":true,\"x\":[\"Municipality_11\",\"Municipality_11\",\"Municipality_11\",\"Municipality_11\",\"Municipality_11\",\"Municipality_11\",\"Municipality_11\",\"Municipality_11\",\"Municipality_11\",\"Municipality_11\"],\"x0\":\" \",\"xaxis\":\"x\",\"y\":[38.09035335089333,38.480723832851176,39.11161721704166,39.863294972277785,40.64782780126907,41.19291013793072,41.47421603694234,42.51516949421613,42.25607216811304,42.76215164396719],\"y0\":\" \",\"yaxis\":\"y\",\"type\":\"box\"},{\"alignmentgroup\":\"True\",\"hovertemplate\":\"Municipality=%{x}\\u003cbr\\u003eTraffic_Pollution=%{y}\\u003cextra\\u003e\\u003c\\u002fextra\\u003e\",\"legendgroup\":\"Municipality_12\",\"marker\":{\"color\":\"#ab63fa\"},\"name\":\"Municipality_12\",\"notched\":false,\"offsetgroup\":\"Municipality_12\",\"orientation\":\"v\",\"showlegend\":true,\"x\":[\"Municipality_12\",\"Municipality_12\",\"Municipality_12\",\"Municipality_12\",\"Municipality_12\",\"Municipality_12\",\"Municipality_12\",\"Municipality_12\",\"Municipality_12\",\"Municipality_12\"],\"x0\":\" \",\"xaxis\":\"x\",\"y\":[44.781473259465535,45.31494717430122,45.73538352685677,45.80774452841199,46.76861275382241,46.9994869513505,47.18617193143488,48.14037187285468,48.69010573278553,49.0813145788128],\"y0\":\" \",\"yaxis\":\"y\",\"type\":\"box\"},{\"alignmentgroup\":\"True\",\"hovertemplate\":\"Municipality=%{x}\\u003cbr\\u003eTraffic_Pollution=%{y}\\u003cextra\\u003e\\u003c\\u002fextra\\u003e\",\"legendgroup\":\"Municipality_13\",\"marker\":{\"color\":\"#FFA15A\"},\"name\":\"Municipality_13\",\"notched\":false,\"offsetgroup\":\"Municipality_13\",\"orientation\":\"v\",\"showlegend\":true,\"x\":[\"Municipality_13\",\"Municipality_13\",\"Municipality_13\",\"Municipality_13\",\"Municipality_13\",\"Municipality_13\",\"Municipality_13\",\"Municipality_13\",\"Municipality_13\",\"Municipality_13\"],\"x0\":\" \",\"xaxis\":\"x\",\"y\":[48.04760447851604,47.90933592290845,47.91641082395613,47.95816584800464,47.86097860064725,47.98077084721095,48.00174573835977,48.0199457184462,47.88043541539264,47.89983202395663],\"y0\":\" \",\"yaxis\":\"y\",\"type\":\"box\"},{\"alignmentgroup\":\"True\",\"hovertemplate\":\"Municipality=%{x}\\u003cbr\\u003eTraffic_Pollution=%{y}\\u003cextra\\u003e\\u003c\\u002fextra\\u003e\",\"legendgroup\":\"Municipality_14\",\"marker\":{\"color\":\"#19d3f3\"},\"name\":\"Municipality_14\",\"notched\":false,\"offsetgroup\":\"Municipality_14\",\"orientation\":\"v\",\"showlegend\":true,\"x\":[\"Municipality_14\",\"Municipality_14\",\"Municipality_14\",\"Municipality_14\",\"Municipality_14\",\"Municipality_14\",\"Municipality_14\",\"Municipality_14\",\"Municipality_14\",\"Municipality_14\"],\"x0\":\" \",\"xaxis\":\"x\",\"y\":[27.884918139819582,28.23831787107505,28.91588940809919,29.241616549757907,29.42084014852273,30.511264650918548,31.23088156445733,31.18782110595035,31.567520961254733,32.18228017381832],\"y0\":\" \",\"yaxis\":\"y\",\"type\":\"box\"},{\"alignmentgroup\":\"True\",\"hovertemplate\":\"Municipality=%{x}\\u003cbr\\u003eTraffic_Pollution=%{y}\\u003cextra\\u003e\\u003c\\u002fextra\\u003e\",\"legendgroup\":\"Municipality_15\",\"marker\":{\"color\":\"#FF6692\"},\"name\":\"Municipality_15\",\"notched\":false,\"offsetgroup\":\"Municipality_15\",\"orientation\":\"v\",\"showlegend\":true,\"x\":[\"Municipality_15\",\"Municipality_15\",\"Municipality_15\",\"Municipality_15\",\"Municipality_15\",\"Municipality_15\",\"Municipality_15\",\"Municipality_15\",\"Municipality_15\",\"Municipality_15\"],\"x0\":\" \",\"xaxis\":\"x\",\"y\":[55.69705851911894,56.5622586300583,56.66041473269305,57.05740837787511,57.48889938712897,58.07440370973702,59.22749690758248,58.89199890678977,59.807040055255946,60.626573612479625],\"y0\":\" \",\"yaxis\":\"y\",\"type\":\"box\"},{\"alignmentgroup\":\"True\",\"hovertemplate\":\"Municipality=%{x}\\u003cbr\\u003eTraffic_Pollution=%{y}\\u003cextra\\u003e\\u003c\\u002fextra\\u003e\",\"legendgroup\":\"Municipality_16\",\"marker\":{\"color\":\"#B6E880\"},\"name\":\"Municipality_16\",\"notched\":false,\"offsetgroup\":\"Municipality_16\",\"orientation\":\"v\",\"showlegend\":true,\"x\":[\"Municipality_16\",\"Municipality_16\",\"Municipality_16\",\"Municipality_16\",\"Municipality_16\",\"Municipality_16\",\"Municipality_16\",\"Municipality_16\",\"Municipality_16\",\"Municipality_16\"],\"x0\":\" \",\"xaxis\":\"x\",\"y\":[56.36675229153328,56.18719303418065,56.22422361794263,null,56.21882006971955,56.40068681002589,56.16181107791796,56.29368493568872,56.1512040304905,56.30015454390502],\"y0\":\" \",\"yaxis\":\"y\",\"type\":\"box\"},{\"alignmentgroup\":\"True\",\"hovertemplate\":\"Municipality=%{x}\\u003cbr\\u003eTraffic_Pollution=%{y}\\u003cextra\\u003e\\u003c\\u002fextra\\u003e\",\"legendgroup\":\"Municipality_17\",\"marker\":{\"color\":\"#FF97FF\"},\"name\":\"Municipality_17\",\"notched\":false,\"offsetgroup\":\"Municipality_17\",\"orientation\":\"v\",\"showlegend\":true,\"x\":[\"Municipality_17\",\"Municipality_17\",\"Municipality_17\",\"Municipality_17\",\"Municipality_17\",\"Municipality_17\",\"Municipality_17\",\"Municipality_17\",\"Municipality_17\",\"Municipality_17\"],\"x0\":\" \",\"xaxis\":\"x\",\"y\":[53.7970545760529,54.134529606622166,54.765365320924985,55.34859361246391,55.29716899577531,56.67541887857335,56.63634701348805,57.68878850661126,57.74955247406808,58.311253811533085],\"y0\":\" \",\"yaxis\":\"y\",\"type\":\"box\"},{\"alignmentgroup\":\"True\",\"hovertemplate\":\"Municipality=%{x}\\u003cbr\\u003eTraffic_Pollution=%{y}\\u003cextra\\u003e\\u003c\\u002fextra\\u003e\",\"legendgroup\":\"Municipality_18\",\"marker\":{\"color\":\"#FECB52\"},\"name\":\"Municipality_18\",\"notched\":false,\"offsetgroup\":\"Municipality_18\",\"orientation\":\"v\",\"showlegend\":true,\"x\":[\"Municipality_18\",\"Municipality_18\",\"Municipality_18\",\"Municipality_18\",\"Municipality_18\",\"Municipality_18\",\"Municipality_18\",\"Municipality_18\",\"Municipality_18\",\"Municipality_18\"],\"x0\":\" \",\"xaxis\":\"x\",\"y\":[58.4448796164117,58.88162410422383,59.47957562409469,59.81383610253857,60.26229432837464,60.833679558141725,61.1998177125994,61.57243897054818,62.36652196066873,63.34370711350776],\"y0\":\" \",\"yaxis\":\"y\",\"type\":\"box\"},{\"alignmentgroup\":\"True\",\"hovertemplate\":\"Municipality=%{x}\\u003cbr\\u003eTraffic_Pollution=%{y}\\u003cextra\\u003e\\u003c\\u002fextra\\u003e\",\"legendgroup\":\"Municipality_19\",\"marker\":{\"color\":\"#636efa\"},\"name\":\"Municipality_19\",\"notched\":false,\"offsetgroup\":\"Municipality_19\",\"orientation\":\"v\",\"showlegend\":true,\"x\":[\"Municipality_19\",\"Municipality_19\",\"Municipality_19\",\"Municipality_19\",\"Municipality_19\",\"Municipality_19\",\"Municipality_19\",\"Municipality_19\",\"Municipality_19\",\"Municipality_19\"],\"x0\":\" \",\"xaxis\":\"x\",\"y\":[67.15114412781637,67.19053782256714,67.26067407720817,67.32360732179994,null,66.99718727875673,67.13956064579422,67.21196104308797,67.28921384045972,67.19880428784028],\"y0\":\" \",\"yaxis\":\"y\",\"type\":\"box\"},{\"alignmentgroup\":\"True\",\"hovertemplate\":\"Municipality=%{x}\\u003cbr\\u003eTraffic_Pollution=%{y}\\u003cextra\\u003e\\u003c\\u002fextra\\u003e\",\"legendgroup\":\"Municipality_2\",\"marker\":{\"color\":\"#EF553B\"},\"name\":\"Municipality_2\",\"notched\":false,\"offsetgroup\":\"Municipality_2\",\"orientation\":\"v\",\"showlegend\":true,\"x\":[\"Municipality_2\",\"Municipality_2\",\"Municipality_2\",\"Municipality_2\",\"Municipality_2\",\"Municipality_2\",\"Municipality_2\",\"Municipality_2\",\"Municipality_2\",\"Municipality_2\"],\"x0\":\" \",\"xaxis\":\"x\",\"y\":[49.96303297631226,50.82438762206993,51.2483418625006,51.791398641840445,52.36441387559532,52.719774392158456,53.22343927927927,53.99126468839052,54.12131750528861,54.53245791306534],\"y0\":\" \",\"yaxis\":\"y\",\"type\":\"box\"},{\"alignmentgroup\":\"True\",\"hovertemplate\":\"Municipality=%{x}\\u003cbr\\u003eTraffic_Pollution=%{y}\\u003cextra\\u003e\\u003c\\u002fextra\\u003e\",\"legendgroup\":\"Municipality_20\",\"marker\":{\"color\":\"#00cc96\"},\"name\":\"Municipality_20\",\"notched\":false,\"offsetgroup\":\"Municipality_20\",\"orientation\":\"v\",\"showlegend\":true,\"x\":[\"Municipality_20\",\"Municipality_20\",\"Municipality_20\",\"Municipality_20\",\"Municipality_20\",\"Municipality_20\",\"Municipality_20\",\"Municipality_20\",\"Municipality_20\",\"Municipality_20\"],\"x0\":\" \",\"xaxis\":\"x\",\"y\":[43.20360238567026,44.1620531335534,44.75112900072612,44.66644034933823,45.34797034676743,45.83009369446263,46.46021549797653,47.28666670442464,47.2757027978711,48.00884234085368],\"y0\":\" \",\"yaxis\":\"y\",\"type\":\"box\"},{\"alignmentgroup\":\"True\",\"hovertemplate\":\"Municipality=%{x}\\u003cbr\\u003eTraffic_Pollution=%{y}\\u003cextra\\u003e\\u003c\\u002fextra\\u003e\",\"legendgroup\":\"Municipality_21\",\"marker\":{\"color\":\"#ab63fa\"},\"name\":\"Municipality_21\",\"notched\":false,\"offsetgroup\":\"Municipality_21\",\"orientation\":\"v\",\"showlegend\":true,\"x\":[\"Municipality_21\",\"Municipality_21\",\"Municipality_21\",\"Municipality_21\",\"Municipality_21\",\"Municipality_21\",\"Municipality_21\",\"Municipality_21\",\"Municipality_21\",\"Municipality_21\"],\"x0\":\" \",\"xaxis\":\"x\",\"y\":[55.55472113164631,55.53831931995661,56.310828494866136,57.39886869337171,57.41035942415803,57.87590133480136,58.29276525711597,58.59038611099233,59.29915064976414,59.91498613683197],\"y0\":\" \",\"yaxis\":\"y\",\"type\":\"box\"},{\"alignmentgroup\":\"True\",\"hovertemplate\":\"Municipality=%{x}\\u003cbr\\u003eTraffic_Pollution=%{y}\\u003cextra\\u003e\\u003c\\u002fextra\\u003e\",\"legendgroup\":\"Municipality_22\",\"marker\":{\"color\":\"#FFA15A\"},\"name\":\"Municipality_22\",\"notched\":false,\"offsetgroup\":\"Municipality_22\",\"orientation\":\"v\",\"showlegend\":true,\"x\":[\"Municipality_22\",\"Municipality_22\",\"Municipality_22\",\"Municipality_22\",\"Municipality_22\",\"Municipality_22\",\"Municipality_22\",\"Municipality_22\",\"Municipality_22\",\"Municipality_22\"],\"x0\":\" \",\"xaxis\":\"x\",\"y\":[46.80060511645625,46.741717181944,46.90878488417369,46.7772094163985,46.81387946456929,46.88988646555013,46.82024955883495,46.9630605310311,46.8161071058237,46.71971994337572],\"y0\":\" \",\"yaxis\":\"y\",\"type\":\"box\"},{\"alignmentgroup\":\"True\",\"hovertemplate\":\"Municipality=%{x}\\u003cbr\\u003eTraffic_Pollution=%{y}\\u003cextra\\u003e\\u003c\\u002fextra\\u003e\",\"legendgroup\":\"Municipality_23\",\"marker\":{\"color\":\"#19d3f3\"},\"name\":\"Municipality_23\",\"notched\":false,\"offsetgroup\":\"Municipality_23\",\"orientation\":\"v\",\"showlegend\":true,\"x\":[\"Municipality_23\",\"Municipality_23\",\"Municipality_23\",\"Municipality_23\",\"Municipality_23\",\"Municipality_23\",\"Municipality_23\",\"Municipality_23\",\"Municipality_23\",\"Municipality_23\"],\"x0\":\" \",\"xaxis\":\"x\",\"y\":[32.72593148534675,32.88120329028339,32.84397440239548,32.727244330268945,32.73258462865895,null,32.84513510792899,32.896964420538524,32.70945149208632,32.76540540428425],\"y0\":\" \",\"yaxis\":\"y\",\"type\":\"box\"},{\"alignmentgroup\":\"True\",\"hovertemplate\":\"Municipality=%{x}\\u003cbr\\u003eTraffic_Pollution=%{y}\\u003cextra\\u003e\\u003c\\u002fextra\\u003e\",\"legendgroup\":\"Municipality_24\",\"marker\":{\"color\":\"#FF6692\"},\"name\":\"Municipality_24\",\"notched\":false,\"offsetgroup\":\"Municipality_24\",\"orientation\":\"v\",\"showlegend\":true,\"x\":[\"Municipality_24\",\"Municipality_24\",\"Municipality_24\",\"Municipality_24\",\"Municipality_24\",\"Municipality_24\",\"Municipality_24\",\"Municipality_24\",\"Municipality_24\",\"Municipality_24\"],\"x0\":\" \",\"xaxis\":\"x\",\"y\":[60.75947061249799,60.96796824324045,61.69054308927609,61.86837627429198,62.67239822003045,63.23800992742866,63.58957315642541,64.66771694550881,64.91185669524732,65.45133741263896],\"y0\":\" \",\"yaxis\":\"y\",\"type\":\"box\"},{\"alignmentgroup\":\"True\",\"hovertemplate\":\"Municipality=%{x}\\u003cbr\\u003eTraffic_Pollution=%{y}\\u003cextra\\u003e\\u003c\\u002fextra\\u003e\",\"legendgroup\":\"Municipality_25\",\"marker\":{\"color\":\"#B6E880\"},\"name\":\"Municipality_25\",\"notched\":false,\"offsetgroup\":\"Municipality_25\",\"orientation\":\"v\",\"showlegend\":true,\"x\":[\"Municipality_25\",\"Municipality_25\",\"Municipality_25\",\"Municipality_25\",\"Municipality_25\",\"Municipality_25\",\"Municipality_25\",\"Municipality_25\",\"Municipality_25\",\"Municipality_25\"],\"x0\":\" \",\"xaxis\":\"x\",\"y\":[54.370172137024,54.3550071466771,54.266635922881655,54.4340926318519,54.39448544160181,54.39695037939642,54.52464578853192,54.32246127113417,54.34086156872787,54.29273343447622],\"y0\":\" \",\"yaxis\":\"y\",\"type\":\"box\"},{\"alignmentgroup\":\"True\",\"hovertemplate\":\"Municipality=%{x}\\u003cbr\\u003eTraffic_Pollution=%{y}\\u003cextra\\u003e\\u003c\\u002fextra\\u003e\",\"legendgroup\":\"Municipality_26\",\"marker\":{\"color\":\"#FF97FF\"},\"name\":\"Municipality_26\",\"notched\":false,\"offsetgroup\":\"Municipality_26\",\"orientation\":\"v\",\"showlegend\":true,\"x\":[\"Municipality_26\",\"Municipality_26\",\"Municipality_26\",\"Municipality_26\",\"Municipality_26\",\"Municipality_26\",\"Municipality_26\",\"Municipality_26\",\"Municipality_26\",\"Municipality_26\"],\"x0\":\" \",\"xaxis\":\"x\",\"y\":[38.50088530014951,38.46477551757721,38.5303153737353,38.54724200544805,38.51576314171674,38.55675564361198,38.39263484990392,38.52739568671058,38.44843348731409,38.57335494100726],\"y0\":\" \",\"yaxis\":\"y\",\"type\":\"box\"},{\"alignmentgroup\":\"True\",\"hovertemplate\":\"Municipality=%{x}\\u003cbr\\u003eTraffic_Pollution=%{y}\\u003cextra\\u003e\\u003c\\u002fextra\\u003e\",\"legendgroup\":\"Municipality_27\",\"marker\":{\"color\":\"#FECB52\"},\"name\":\"Municipality_27\",\"notched\":false,\"offsetgroup\":\"Municipality_27\",\"orientation\":\"v\",\"showlegend\":true,\"x\":[\"Municipality_27\",\"Municipality_27\",\"Municipality_27\",\"Municipality_27\",\"Municipality_27\",\"Municipality_27\",\"Municipality_27\",\"Municipality_27\",\"Municipality_27\",\"Municipality_27\"],\"x0\":\" \",\"xaxis\":\"x\",\"y\":[46.689784338099045,46.7249082923958,46.7548480138585,46.74363486204131,46.74607549320549,46.68009057892594,46.63631756596372,46.699396611997415,46.80285974785104,46.6464739780152],\"y0\":\" \",\"yaxis\":\"y\",\"type\":\"box\"},{\"alignmentgroup\":\"True\",\"hovertemplate\":\"Municipality=%{x}\\u003cbr\\u003eTraffic_Pollution=%{y}\\u003cextra\\u003e\\u003c\\u002fextra\\u003e\",\"legendgroup\":\"Municipality_28\",\"marker\":{\"color\":\"#636efa\"},\"name\":\"Municipality_28\",\"notched\":false,\"offsetgroup\":\"Municipality_28\",\"orientation\":\"v\",\"showlegend\":true,\"x\":[\"Municipality_28\",\"Municipality_28\",\"Municipality_28\",\"Municipality_28\",\"Municipality_28\",\"Municipality_28\",\"Municipality_28\",\"Municipality_28\",\"Municipality_28\",\"Municipality_28\"],\"x0\":\" \",\"xaxis\":\"x\",\"y\":[54.34091547776227,54.33839530208184,54.13115298822166,54.26098933332849,54.12409997244904,54.34376399057731,54.2248126278238,54.2827990106664,54.31530200808465,54.38462057521655],\"y0\":\" \",\"yaxis\":\"y\",\"type\":\"box\"},{\"alignmentgroup\":\"True\",\"hovertemplate\":\"Municipality=%{x}\\u003cbr\\u003eTraffic_Pollution=%{y}\\u003cextra\\u003e\\u003c\\u002fextra\\u003e\",\"legendgroup\":\"Municipality_29\",\"marker\":{\"color\":\"#EF553B\"},\"name\":\"Municipality_29\",\"notched\":false,\"offsetgroup\":\"Municipality_29\",\"orientation\":\"v\",\"showlegend\":true,\"x\":[\"Municipality_29\",\"Municipality_29\",\"Municipality_29\",\"Municipality_29\",\"Municipality_29\",\"Municipality_29\",\"Municipality_29\",\"Municipality_29\",\"Municipality_29\",\"Municipality_29\"],\"x0\":\" \",\"xaxis\":\"x\",\"y\":[45.613803233088845,45.66111238056825,46.62762377838595,47.22260141090893,47.43647254305592,47.99296080882023,48.56121785885453,48.82094360183923,49.50636054669808,49.87093039032188],\"y0\":\" \",\"yaxis\":\"y\",\"type\":\"box\"},{\"alignmentgroup\":\"True\",\"hovertemplate\":\"Municipality=%{x}\\u003cbr\\u003eTraffic_Pollution=%{y}\\u003cextra\\u003e\\u003c\\u002fextra\\u003e\",\"legendgroup\":\"Municipality_3\",\"marker\":{\"color\":\"#00cc96\"},\"name\":\"Municipality_3\",\"notched\":false,\"offsetgroup\":\"Municipality_3\",\"orientation\":\"v\",\"showlegend\":true,\"x\":[\"Municipality_3\",\"Municipality_3\",\"Municipality_3\",\"Municipality_3\",\"Municipality_3\",\"Municipality_3\",\"Municipality_3\",\"Municipality_3\",\"Municipality_3\",\"Municipality_3\"],\"x0\":\" \",\"xaxis\":\"x\",\"y\":[50.87631578952697,51.57574190808351,51.78596914095465,52.29664785825269,52.65876943712792,53.118574873752216,53.66005076679464,54.39442811993999,55.23724833318191,55.29113128237525],\"y0\":\" \",\"yaxis\":\"y\",\"type\":\"box\"},{\"alignmentgroup\":\"True\",\"hovertemplate\":\"Municipality=%{x}\\u003cbr\\u003eTraffic_Pollution=%{y}\\u003cextra\\u003e\\u003c\\u002fextra\\u003e\",\"legendgroup\":\"Municipality_30\",\"marker\":{\"color\":\"#ab63fa\"},\"name\":\"Municipality_30\",\"notched\":false,\"offsetgroup\":\"Municipality_30\",\"orientation\":\"v\",\"showlegend\":true,\"x\":[\"Municipality_30\",\"Municipality_30\",\"Municipality_30\",\"Municipality_30\",\"Municipality_30\",\"Municipality_30\",\"Municipality_30\",\"Municipality_30\",\"Municipality_30\",\"Municipality_30\"],\"x0\":\" \",\"xaxis\":\"x\",\"y\":[57.223402848805726,57.6208431475424,58.37344270967657,58.762682339243234,59.40423133860735,59.85586989229654,60.5640500662002,60.86242715633532,61.549749196052105,62.038175877209],\"y0\":\" \",\"yaxis\":\"y\",\"type\":\"box\"},{\"alignmentgroup\":\"True\",\"hovertemplate\":\"Municipality=%{x}\\u003cbr\\u003eTraffic_Pollution=%{y}\\u003cextra\\u003e\\u003c\\u002fextra\\u003e\",\"legendgroup\":\"Municipality_31\",\"marker\":{\"color\":\"#FFA15A\"},\"name\":\"Municipality_31\",\"notched\":false,\"offsetgroup\":\"Municipality_31\",\"orientation\":\"v\",\"showlegend\":true,\"x\":[\"Municipality_31\",\"Municipality_31\",\"Municipality_31\",\"Municipality_31\",\"Municipality_31\",\"Municipality_31\",\"Municipality_31\",\"Municipality_31\",\"Municipality_31\",\"Municipality_31\"],\"x0\":\" \",\"xaxis\":\"x\",\"y\":[50.862866360739375,51.48818165578711,52.27849762622234,52.163313103713854,52.94477957151242,53.23021722813177,53.43763621895132,54.7622794047123,55.12485440053639,55.34629968888338],\"y0\":\" \",\"yaxis\":\"y\",\"type\":\"box\"},{\"alignmentgroup\":\"True\",\"hovertemplate\":\"Municipality=%{x}\\u003cbr\\u003eTraffic_Pollution=%{y}\\u003cextra\\u003e\\u003c\\u002fextra\\u003e\",\"legendgroup\":\"Municipality_32\",\"marker\":{\"color\":\"#19d3f3\"},\"name\":\"Municipality_32\",\"notched\":false,\"offsetgroup\":\"Municipality_32\",\"orientation\":\"v\",\"showlegend\":true,\"x\":[\"Municipality_32\",\"Municipality_32\",\"Municipality_32\",\"Municipality_32\",\"Municipality_32\",\"Municipality_32\",\"Municipality_32\",\"Municipality_32\",\"Municipality_32\",\"Municipality_32\"],\"x0\":\" \",\"xaxis\":\"x\",\"y\":[56.75603017560907,57.30951415175423,57.68443364401012,58.32889260375575,58.842214276597,59.42219134982325,59.57357203976758,60.47175153166224,60.460847013792296,60.80561559106169],\"y0\":\" \",\"yaxis\":\"y\",\"type\":\"box\"},{\"alignmentgroup\":\"True\",\"hovertemplate\":\"Municipality=%{x}\\u003cbr\\u003eTraffic_Pollution=%{y}\\u003cextra\\u003e\\u003c\\u002fextra\\u003e\",\"legendgroup\":\"Municipality_33\",\"marker\":{\"color\":\"#FF6692\"},\"name\":\"Municipality_33\",\"notched\":false,\"offsetgroup\":\"Municipality_33\",\"orientation\":\"v\",\"showlegend\":true,\"x\":[\"Municipality_33\",\"Municipality_33\",\"Municipality_33\",\"Municipality_33\",\"Municipality_33\",\"Municipality_33\",\"Municipality_33\",\"Municipality_33\",\"Municipality_33\",\"Municipality_33\"],\"x0\":\" \",\"xaxis\":\"x\",\"y\":[48.0976597210235,48.09212770094343,48.0916918301124,48.100544621227,48.017640573879085,47.92766310225653,48.11460552615757,48.07077636757534,47.87097225383507,48.05627191529438],\"y0\":\" \",\"yaxis\":\"y\",\"type\":\"box\"},{\"alignmentgroup\":\"True\",\"hovertemplate\":\"Municipality=%{x}\\u003cbr\\u003eTraffic_Pollution=%{y}\\u003cextra\\u003e\\u003c\\u002fextra\\u003e\",\"legendgroup\":\"Municipality_34\",\"marker\":{\"color\":\"#B6E880\"},\"name\":\"Municipality_34\",\"notched\":false,\"offsetgroup\":\"Municipality_34\",\"orientation\":\"v\",\"showlegend\":true,\"x\":[\"Municipality_34\",\"Municipality_34\",\"Municipality_34\",\"Municipality_34\",\"Municipality_34\",\"Municipality_34\",\"Municipality_34\",\"Municipality_34\",\"Municipality_34\",\"Municipality_34\"],\"x0\":\" \",\"xaxis\":\"x\",\"y\":[54.89061412977352,55.60721605530596,56.08587108355599,56.36498124057652,57.34434071321556,57.89463193782727,57.90325190302719,58.8993585037686,58.869542197089,59.38031400108904],\"y0\":\" \",\"yaxis\":\"y\",\"type\":\"box\"},{\"alignmentgroup\":\"True\",\"hovertemplate\":\"Municipality=%{x}\\u003cbr\\u003eTraffic_Pollution=%{y}\\u003cextra\\u003e\\u003c\\u002fextra\\u003e\",\"legendgroup\":\"Municipality_35\",\"marker\":{\"color\":\"#FF97FF\"},\"name\":\"Municipality_35\",\"notched\":false,\"offsetgroup\":\"Municipality_35\",\"orientation\":\"v\",\"showlegend\":true,\"x\":[\"Municipality_35\",\"Municipality_35\",\"Municipality_35\",\"Municipality_35\",\"Municipality_35\",\"Municipality_35\",\"Municipality_35\",\"Municipality_35\",\"Municipality_35\",\"Municipality_35\"],\"x0\":\" \",\"xaxis\":\"x\",\"y\":[68.26366001068489,68.66810767983617,69.21723619688515,70.01045824893016,70.33281609067484,70.4303399999334,71.07318763027995,71.70765627169318,72.51474546216234,72.69825112113506],\"y0\":\" \",\"yaxis\":\"y\",\"type\":\"box\"},{\"alignmentgroup\":\"True\",\"hovertemplate\":\"Municipality=%{x}\\u003cbr\\u003eTraffic_Pollution=%{y}\\u003cextra\\u003e\\u003c\\u002fextra\\u003e\",\"legendgroup\":\"Municipality_36\",\"marker\":{\"color\":\"#FECB52\"},\"name\":\"Municipality_36\",\"notched\":false,\"offsetgroup\":\"Municipality_36\",\"orientation\":\"v\",\"showlegend\":true,\"x\":[\"Municipality_36\",\"Municipality_36\",\"Municipality_36\",\"Municipality_36\",\"Municipality_36\",\"Municipality_36\",\"Municipality_36\",\"Municipality_36\",\"Municipality_36\",\"Municipality_36\"],\"x0\":\" \",\"xaxis\":\"x\",\"y\":[69.33200817706941,69.94832055652131,70.42478150879779,70.80421217486685,71.27577485437669,71.91018889562928,72.31744615119194,73.12160774370105,73.22553277309605,73.90178861306963],\"y0\":\" \",\"yaxis\":\"y\",\"type\":\"box\"},{\"alignmentgroup\":\"True\",\"hovertemplate\":\"Municipality=%{x}\\u003cbr\\u003eTraffic_Pollution=%{y}\\u003cextra\\u003e\\u003c\\u002fextra\\u003e\",\"legendgroup\":\"Municipality_37\",\"marker\":{\"color\":\"#636efa\"},\"name\":\"Municipality_37\",\"notched\":false,\"offsetgroup\":\"Municipality_37\",\"orientation\":\"v\",\"showlegend\":true,\"x\":[\"Municipality_37\",\"Municipality_37\",\"Municipality_37\",\"Municipality_37\",\"Municipality_37\",\"Municipality_37\",\"Municipality_37\",\"Municipality_37\",\"Municipality_37\",\"Municipality_37\"],\"x0\":\" \",\"xaxis\":\"x\",\"y\":[47.99647723394977,47.873686339519445,48.58556093908511,49.46062806913864,49.74773473943547,50.58427554975543,50.98878199990117,51.66102519412964,51.731879859630666,52.15414669223539],\"y0\":\" \",\"yaxis\":\"y\",\"type\":\"box\"},{\"alignmentgroup\":\"True\",\"hovertemplate\":\"Municipality=%{x}\\u003cbr\\u003eTraffic_Pollution=%{y}\\u003cextra\\u003e\\u003c\\u002fextra\\u003e\",\"legendgroup\":\"Municipality_38\",\"marker\":{\"color\":\"#EF553B\"},\"name\":\"Municipality_38\",\"notched\":false,\"offsetgroup\":\"Municipality_38\",\"orientation\":\"v\",\"showlegend\":true,\"x\":[\"Municipality_38\",\"Municipality_38\",\"Municipality_38\",\"Municipality_38\",\"Municipality_38\",\"Municipality_38\",\"Municipality_38\",\"Municipality_38\",\"Municipality_38\",\"Municipality_38\"],\"x0\":\" \",\"xaxis\":\"x\",\"y\":[35.78544153515708,36.18118542607088,37.05071557638521,37.32534446823238,37.58610961138021,38.36478278698847,39.08379071296345,39.36408368298157,39.98067794956111,40.19895291677472],\"y0\":\" \",\"yaxis\":\"y\",\"type\":\"box\"},{\"alignmentgroup\":\"True\",\"hovertemplate\":\"Municipality=%{x}\\u003cbr\\u003eTraffic_Pollution=%{y}\\u003cextra\\u003e\\u003c\\u002fextra\\u003e\",\"legendgroup\":\"Municipality_39\",\"marker\":{\"color\":\"#00cc96\"},\"name\":\"Municipality_39\",\"notched\":false,\"offsetgroup\":\"Municipality_39\",\"orientation\":\"v\",\"showlegend\":true,\"x\":[\"Municipality_39\",\"Municipality_39\",\"Municipality_39\",\"Municipality_39\",\"Municipality_39\",\"Municipality_39\",\"Municipality_39\",\"Municipality_39\",\"Municipality_39\",\"Municipality_39\"],\"x0\":\" \",\"xaxis\":\"x\",\"y\":[64.41352239733925,64.29463891866872,64.56388511886966,64.32609659773267,64.32921274250799,64.34742677569145,64.36072228583764,64.38287550038106,64.49590608486477,64.2917509784531],\"y0\":\" \",\"yaxis\":\"y\",\"type\":\"box\"},{\"alignmentgroup\":\"True\",\"hovertemplate\":\"Municipality=%{x}\\u003cbr\\u003eTraffic_Pollution=%{y}\\u003cextra\\u003e\\u003c\\u002fextra\\u003e\",\"legendgroup\":\"Municipality_4\",\"marker\":{\"color\":\"#ab63fa\"},\"name\":\"Municipality_4\",\"notched\":false,\"offsetgroup\":\"Municipality_4\",\"orientation\":\"v\",\"showlegend\":true,\"x\":[\"Municipality_4\",\"Municipality_4\",\"Municipality_4\",\"Municipality_4\",\"Municipality_4\",\"Municipality_4\",\"Municipality_4\",\"Municipality_4\",\"Municipality_4\",\"Municipality_4\"],\"x0\":\" \",\"xaxis\":\"x\",\"y\":[36.91203361414902,36.64280576492156,36.896344480096815,37.626601689479976,38.62172906447841,38.94133200142804,39.43737820786347,40.225502828501725,40.239882725656926,41.08992927116444],\"y0\":\" \",\"yaxis\":\"y\",\"type\":\"box\"},{\"alignmentgroup\":\"True\",\"hovertemplate\":\"Municipality=%{x}\\u003cbr\\u003eTraffic_Pollution=%{y}\\u003cextra\\u003e\\u003c\\u002fextra\\u003e\",\"legendgroup\":\"Municipality_40\",\"marker\":{\"color\":\"#FFA15A\"},\"name\":\"Municipality_40\",\"notched\":false,\"offsetgroup\":\"Municipality_40\",\"orientation\":\"v\",\"showlegend\":true,\"x\":[\"Municipality_40\",\"Municipality_40\",\"Municipality_40\",\"Municipality_40\",\"Municipality_40\",\"Municipality_40\",\"Municipality_40\",\"Municipality_40\",\"Municipality_40\",\"Municipality_40\"],\"x0\":\" \",\"xaxis\":\"x\",\"y\":[25.399010312173974,25.445940365181865,25.494462992370128,25.56473476325662,25.50486759432434,25.386896608615995,25.318294986132702,25.563368120588915,25.45769033469037,25.54297098506208],\"y0\":\" \",\"yaxis\":\"y\",\"type\":\"box\"},{\"alignmentgroup\":\"True\",\"hovertemplate\":\"Municipality=%{x}\\u003cbr\\u003eTraffic_Pollution=%{y}\\u003cextra\\u003e\\u003c\\u002fextra\\u003e\",\"legendgroup\":\"Municipality_41\",\"marker\":{\"color\":\"#19d3f3\"},\"name\":\"Municipality_41\",\"notched\":false,\"offsetgroup\":\"Municipality_41\",\"orientation\":\"v\",\"showlegend\":true,\"x\":[\"Municipality_41\",\"Municipality_41\",\"Municipality_41\",\"Municipality_41\",\"Municipality_41\",\"Municipality_41\",\"Municipality_41\",\"Municipality_41\",\"Municipality_41\",\"Municipality_41\"],\"x0\":\" \",\"xaxis\":\"x\",\"y\":[47.82827613307377,48.61981664622677,48.55329651704378,49.40802989207506,50.13436374322762,50.209167665212505,51.00572515227399,51.48197971444922,52.274843260465154,52.30034460299167],\"y0\":\" \",\"yaxis\":\"y\",\"type\":\"box\"},{\"alignmentgroup\":\"True\",\"hovertemplate\":\"Municipality=%{x}\\u003cbr\\u003eTraffic_Pollution=%{y}\\u003cextra\\u003e\\u003c\\u002fextra\\u003e\",\"legendgroup\":\"Municipality_42\",\"marker\":{\"color\":\"#FF6692\"},\"name\":\"Municipality_42\",\"notched\":false,\"offsetgroup\":\"Municipality_42\",\"orientation\":\"v\",\"showlegend\":true,\"x\":[\"Municipality_42\",\"Municipality_42\",\"Municipality_42\",\"Municipality_42\",\"Municipality_42\",\"Municipality_42\",\"Municipality_42\",\"Municipality_42\",\"Municipality_42\",\"Municipality_42\"],\"x0\":\" \",\"xaxis\":\"x\",\"y\":[44.740416805876336,null,45.89630939806853,46.64096642517735,47.09479246141315,47.59648583044722,48.00844818502159,49.00554210344273,48.91305650633669,49.209642138584336],\"y0\":\" \",\"yaxis\":\"y\",\"type\":\"box\"},{\"alignmentgroup\":\"True\",\"hovertemplate\":\"Municipality=%{x}\\u003cbr\\u003eTraffic_Pollution=%{y}\\u003cextra\\u003e\\u003c\\u002fextra\\u003e\",\"legendgroup\":\"Municipality_43\",\"marker\":{\"color\":\"#B6E880\"},\"name\":\"Municipality_43\",\"notched\":false,\"offsetgroup\":\"Municipality_43\",\"orientation\":\"v\",\"showlegend\":true,\"x\":[\"Municipality_43\",\"Municipality_43\",\"Municipality_43\",\"Municipality_43\",\"Municipality_43\",\"Municipality_43\",\"Municipality_43\",\"Municipality_43\",\"Municipality_43\",\"Municipality_43\"],\"x0\":\" \",\"xaxis\":\"x\",\"y\":[49.08391000603122,49.30726249847347,49.89935247648048,50.34338267226631,null,51.65897510428552,51.74137082417729,52.427463269781526,52.95459532657376,53.40235601929531],\"y0\":\" \",\"yaxis\":\"y\",\"type\":\"box\"},{\"alignmentgroup\":\"True\",\"hovertemplate\":\"Municipality=%{x}\\u003cbr\\u003eTraffic_Pollution=%{y}\\u003cextra\\u003e\\u003c\\u002fextra\\u003e\",\"legendgroup\":\"Municipality_44\",\"marker\":{\"color\":\"#FF97FF\"},\"name\":\"Municipality_44\",\"notched\":false,\"offsetgroup\":\"Municipality_44\",\"orientation\":\"v\",\"showlegend\":true,\"x\":[\"Municipality_44\",\"Municipality_44\",\"Municipality_44\",\"Municipality_44\",\"Municipality_44\",\"Municipality_44\",\"Municipality_44\",\"Municipality_44\",\"Municipality_44\",\"Municipality_44\"],\"x0\":\" \",\"xaxis\":\"x\",\"y\":[55.27075683331894,55.21887381579752,55.171124575020976,55.256070321202216,55.3428449264056,55.18490819049591,55.169623748495866,55.37742102850032,55.222273310901926,55.31829969231356],\"y0\":\" \",\"yaxis\":\"y\",\"type\":\"box\"},{\"alignmentgroup\":\"True\",\"hovertemplate\":\"Municipality=%{x}\\u003cbr\\u003eTraffic_Pollution=%{y}\\u003cextra\\u003e\\u003c\\u002fextra\\u003e\",\"legendgroup\":\"Municipality_45\",\"marker\":{\"color\":\"#FECB52\"},\"name\":\"Municipality_45\",\"notched\":false,\"offsetgroup\":\"Municipality_45\",\"orientation\":\"v\",\"showlegend\":true,\"x\":[\"Municipality_45\",\"Municipality_45\",\"Municipality_45\",\"Municipality_45\",\"Municipality_45\",\"Municipality_45\",\"Municipality_45\",\"Municipality_45\",\"Municipality_45\",\"Municipality_45\"],\"x0\":\" \",\"xaxis\":\"x\",\"y\":[67.69144684682777,67.79533010166652,67.7239036170168,67.74215572666478,67.6437947086131,67.78257224429989,67.83786032894002,67.75852389050067,67.73463115497027,67.75440126049952],\"y0\":\" \",\"yaxis\":\"y\",\"type\":\"box\"},{\"alignmentgroup\":\"True\",\"hovertemplate\":\"Municipality=%{x}\\u003cbr\\u003eTraffic_Pollution=%{y}\\u003cextra\\u003e\\u003c\\u002fextra\\u003e\",\"legendgroup\":\"Municipality_46\",\"marker\":{\"color\":\"#636efa\"},\"name\":\"Municipality_46\",\"notched\":false,\"offsetgroup\":\"Municipality_46\",\"orientation\":\"v\",\"showlegend\":true,\"x\":[\"Municipality_46\",\"Municipality_46\",\"Municipality_46\",\"Municipality_46\",\"Municipality_46\",\"Municipality_46\",\"Municipality_46\",\"Municipality_46\",\"Municipality_46\",\"Municipality_46\"],\"x0\":\" \",\"xaxis\":\"x\",\"y\":[55.07963317216899,55.38325519048261,55.72216095173209,56.81742283466993,57.24994140409334,57.8726867018352,58.36879046294784,58.86104965539671,58.99869852469245,59.58261841711046],\"y0\":\" \",\"yaxis\":\"y\",\"type\":\"box\"},{\"alignmentgroup\":\"True\",\"hovertemplate\":\"Municipality=%{x}\\u003cbr\\u003eTraffic_Pollution=%{y}\\u003cextra\\u003e\\u003c\\u002fextra\\u003e\",\"legendgroup\":\"Municipality_47\",\"marker\":{\"color\":\"#EF553B\"},\"name\":\"Municipality_47\",\"notched\":false,\"offsetgroup\":\"Municipality_47\",\"orientation\":\"v\",\"showlegend\":true,\"x\":[\"Municipality_47\",\"Municipality_47\",\"Municipality_47\",\"Municipality_47\",\"Municipality_47\",\"Municipality_47\",\"Municipality_47\",\"Municipality_47\",\"Municipality_47\",\"Municipality_47\"],\"x0\":\" \",\"xaxis\":\"x\",\"y\":[45.297039895281294,46.19926994114336,46.33341314735606,46.80950558819388,47.01689041163916,47.81533363152472,48.44627747417226,49.00505373568381,49.84291162976039,49.75259523233342],\"y0\":\" \",\"yaxis\":\"y\",\"type\":\"box\"},{\"alignmentgroup\":\"True\",\"hovertemplate\":\"Municipality=%{x}\\u003cbr\\u003eTraffic_Pollution=%{y}\\u003cextra\\u003e\\u003c\\u002fextra\\u003e\",\"legendgroup\":\"Municipality_48\",\"marker\":{\"color\":\"#00cc96\"},\"name\":\"Municipality_48\",\"notched\":false,\"offsetgroup\":\"Municipality_48\",\"orientation\":\"v\",\"showlegend\":true,\"x\":[\"Municipality_48\",\"Municipality_48\",\"Municipality_48\",\"Municipality_48\",\"Municipality_48\",\"Municipality_48\",\"Municipality_48\",\"Municipality_48\",\"Municipality_48\",\"Municipality_48\"],\"x0\":\" \",\"xaxis\":\"x\",\"y\":[53.091021051867685,53.21698045233317,53.314623385637645,53.10198172742223,53.09610243828336,53.29989306162412,53.260971130975626,53.09579131436831,53.25583429558941,53.29148438690881],\"y0\":\" \",\"yaxis\":\"y\",\"type\":\"box\"},{\"alignmentgroup\":\"True\",\"hovertemplate\":\"Municipality=%{x}\\u003cbr\\u003eTraffic_Pollution=%{y}\\u003cextra\\u003e\\u003c\\u002fextra\\u003e\",\"legendgroup\":\"Municipality_49\",\"marker\":{\"color\":\"#ab63fa\"},\"name\":\"Municipality_49\",\"notched\":false,\"offsetgroup\":\"Municipality_49\",\"orientation\":\"v\",\"showlegend\":true,\"x\":[\"Municipality_49\",\"Municipality_49\",\"Municipality_49\",\"Municipality_49\",\"Municipality_49\",\"Municipality_49\",\"Municipality_49\",\"Municipality_49\",\"Municipality_49\",\"Municipality_49\"],\"x0\":\" \",\"xaxis\":\"x\",\"y\":[60.11342768646513,61.014855514585314,61.28932430215734,61.59732466547248,61.66183420975043,62.538489122774834,63.21386873844805,63.42079017157817,63.82393694674504,64.5744869981895],\"y0\":\" \",\"yaxis\":\"y\",\"type\":\"box\"},{\"alignmentgroup\":\"True\",\"hovertemplate\":\"Municipality=%{x}\\u003cbr\\u003eTraffic_Pollution=%{y}\\u003cextra\\u003e\\u003c\\u002fextra\\u003e\",\"legendgroup\":\"Municipality_5\",\"marker\":{\"color\":\"#FFA15A\"},\"name\":\"Municipality_5\",\"notched\":false,\"offsetgroup\":\"Municipality_5\",\"orientation\":\"v\",\"showlegend\":true,\"x\":[\"Municipality_5\",\"Municipality_5\",\"Municipality_5\",\"Municipality_5\",\"Municipality_5\",\"Municipality_5\",\"Municipality_5\",\"Municipality_5\",\"Municipality_5\",\"Municipality_5\"],\"x0\":\" \",\"xaxis\":\"x\",\"y\":[67.99991770825076,68.45442951838746,68.62715537823843,69.0396225301274,69.41789991217671,70.42500400562373,71.0317949086242,71.35662729608609,72.13375997412058,72.58117132731495],\"y0\":\" \",\"yaxis\":\"y\",\"type\":\"box\"},{\"alignmentgroup\":\"True\",\"hovertemplate\":\"Municipality=%{x}\\u003cbr\\u003eTraffic_Pollution=%{y}\\u003cextra\\u003e\\u003c\\u002fextra\\u003e\",\"legendgroup\":\"Municipality_50\",\"marker\":{\"color\":\"#19d3f3\"},\"name\":\"Municipality_50\",\"notched\":false,\"offsetgroup\":\"Municipality_50\",\"orientation\":\"v\",\"showlegend\":true,\"x\":[\"Municipality_50\",\"Municipality_50\",\"Municipality_50\",\"Municipality_50\",\"Municipality_50\",\"Municipality_50\",\"Municipality_50\",\"Municipality_50\",\"Municipality_50\",\"Municipality_50\"],\"x0\":\" \",\"xaxis\":\"x\",\"y\":[51.081002913391856,51.16366833886222,51.14928566142506,51.17935248946888,51.155702874937234,51.04615773724968,51.0369286457574,51.18338306193563,51.18458895604351,51.10839523296584],\"y0\":\" \",\"yaxis\":\"y\",\"type\":\"box\"},{\"alignmentgroup\":\"True\",\"hovertemplate\":\"Municipality=%{x}\\u003cbr\\u003eTraffic_Pollution=%{y}\\u003cextra\\u003e\\u003c\\u002fextra\\u003e\",\"legendgroup\":\"Municipality_6\",\"marker\":{\"color\":\"#FF6692\"},\"name\":\"Municipality_6\",\"notched\":false,\"offsetgroup\":\"Municipality_6\",\"orientation\":\"v\",\"showlegend\":true,\"x\":[\"Municipality_6\",\"Municipality_6\",\"Municipality_6\",\"Municipality_6\",\"Municipality_6\",\"Municipality_6\",\"Municipality_6\",\"Municipality_6\",\"Municipality_6\",\"Municipality_6\"],\"x0\":\" \",\"xaxis\":\"x\",\"y\":[44.44678173635359,44.56210832518384,45.05610149186638,45.80228130217616,46.28917368586212,46.49839693014664,47.6450872185041,47.72296987939319,48.04153910981682,48.64517571977251],\"y0\":\" \",\"yaxis\":\"y\",\"type\":\"box\"},{\"alignmentgroup\":\"True\",\"hovertemplate\":\"Municipality=%{x}\\u003cbr\\u003eTraffic_Pollution=%{y}\\u003cextra\\u003e\\u003c\\u002fextra\\u003e\",\"legendgroup\":\"Municipality_7\",\"marker\":{\"color\":\"#B6E880\"},\"name\":\"Municipality_7\",\"notched\":false,\"offsetgroup\":\"Municipality_7\",\"orientation\":\"v\",\"showlegend\":true,\"x\":[\"Municipality_7\",\"Municipality_7\",\"Municipality_7\",\"Municipality_7\",\"Municipality_7\",\"Municipality_7\",\"Municipality_7\",\"Municipality_7\",\"Municipality_7\",\"Municipality_7\"],\"x0\":\" \",\"xaxis\":\"x\",\"y\":[44.89926914134013,45.8665692686534,45.800524113114605,46.53383232114917,47.19045038852457,47.390158438811206,48.0115162228191,48.584122422187335,48.92002219157558,49.52735123216881],\"y0\":\" \",\"yaxis\":\"y\",\"type\":\"box\"},{\"alignmentgroup\":\"True\",\"hovertemplate\":\"Municipality=%{x}\\u003cbr\\u003eTraffic_Pollution=%{y}\\u003cextra\\u003e\\u003c\\u002fextra\\u003e\",\"legendgroup\":\"Municipality_8\",\"marker\":{\"color\":\"#FF97FF\"},\"name\":\"Municipality_8\",\"notched\":false,\"offsetgroup\":\"Municipality_8\",\"orientation\":\"v\",\"showlegend\":true,\"x\":[\"Municipality_8\",\"Municipality_8\",\"Municipality_8\",\"Municipality_8\",\"Municipality_8\",\"Municipality_8\",\"Municipality_8\",\"Municipality_8\",\"Municipality_8\",\"Municipality_8\"],\"x0\":\" \",\"xaxis\":\"x\",\"y\":[67.57525790658877,67.56697243281639,67.46881435749204,67.45998636107306,67.4699158911211,67.50743708706366,67.709963585307,67.53283634228262,67.49174713860589,67.60791449537035],\"y0\":\" \",\"yaxis\":\"y\",\"type\":\"box\"},{\"alignmentgroup\":\"True\",\"hovertemplate\":\"Municipality=%{x}\\u003cbr\\u003eTraffic_Pollution=%{y}\\u003cextra\\u003e\\u003c\\u002fextra\\u003e\",\"legendgroup\":\"Municipality_9\",\"marker\":{\"color\":\"#FECB52\"},\"name\":\"Municipality_9\",\"notched\":false,\"offsetgroup\":\"Municipality_9\",\"orientation\":\"v\",\"showlegend\":true,\"x\":[\"Municipality_9\",\"Municipality_9\",\"Municipality_9\",\"Municipality_9\",\"Municipality_9\",\"Municipality_9\",\"Municipality_9\",\"Municipality_9\",\"Municipality_9\",\"Municipality_9\"],\"x0\":\" \",\"xaxis\":\"x\",\"y\":[36.116531589243216,36.70516742480292,37.37053585986334,37.76266419362809,38.66942423158289,38.526621221667,39.67261033394564,39.76464781709532,40.142385652768894,40.84852707938534],\"y0\":\" \",\"yaxis\":\"y\",\"type\":\"box\"}],                        {\"template\":{\"data\":{\"histogram2dcontour\":[{\"type\":\"histogram2dcontour\",\"colorbar\":{\"outlinewidth\":0,\"ticks\":\"\"},\"colorscale\":[[0.0,\"#0d0887\"],[0.1111111111111111,\"#46039f\"],[0.2222222222222222,\"#7201a8\"],[0.3333333333333333,\"#9c179e\"],[0.4444444444444444,\"#bd3786\"],[0.5555555555555556,\"#d8576b\"],[0.6666666666666666,\"#ed7953\"],[0.7777777777777778,\"#fb9f3a\"],[0.8888888888888888,\"#fdca26\"],[1.0,\"#f0f921\"]]}],\"choropleth\":[{\"type\":\"choropleth\",\"colorbar\":{\"outlinewidth\":0,\"ticks\":\"\"}}],\"histogram2d\":[{\"type\":\"histogram2d\",\"colorbar\":{\"outlinewidth\":0,\"ticks\":\"\"},\"colorscale\":[[0.0,\"#0d0887\"],[0.1111111111111111,\"#46039f\"],[0.2222222222222222,\"#7201a8\"],[0.3333333333333333,\"#9c179e\"],[0.4444444444444444,\"#bd3786\"],[0.5555555555555556,\"#d8576b\"],[0.6666666666666666,\"#ed7953\"],[0.7777777777777778,\"#fb9f3a\"],[0.8888888888888888,\"#fdca26\"],[1.0,\"#f0f921\"]]}],\"heatmap\":[{\"type\":\"heatmap\",\"colorbar\":{\"outlinewidth\":0,\"ticks\":\"\"},\"colorscale\":[[0.0,\"#0d0887\"],[0.1111111111111111,\"#46039f\"],[0.2222222222222222,\"#7201a8\"],[0.3333333333333333,\"#9c179e\"],[0.4444444444444444,\"#bd3786\"],[0.5555555555555556,\"#d8576b\"],[0.6666666666666666,\"#ed7953\"],[0.7777777777777778,\"#fb9f3a\"],[0.8888888888888888,\"#fdca26\"],[1.0,\"#f0f921\"]]}],\"heatmapgl\":[{\"type\":\"heatmapgl\",\"colorbar\":{\"outlinewidth\":0,\"ticks\":\"\"},\"colorscale\":[[0.0,\"#0d0887\"],[0.1111111111111111,\"#46039f\"],[0.2222222222222222,\"#7201a8\"],[0.3333333333333333,\"#9c179e\"],[0.4444444444444444,\"#bd3786\"],[0.5555555555555556,\"#d8576b\"],[0.6666666666666666,\"#ed7953\"],[0.7777777777777778,\"#fb9f3a\"],[0.8888888888888888,\"#fdca26\"],[1.0,\"#f0f921\"]]}],\"contourcarpet\":[{\"type\":\"contourcarpet\",\"colorbar\":{\"outlinewidth\":0,\"ticks\":\"\"}}],\"contour\":[{\"type\":\"contour\",\"colorbar\":{\"outlinewidth\":0,\"ticks\":\"\"},\"colorscale\":[[0.0,\"#0d0887\"],[0.1111111111111111,\"#46039f\"],[0.2222222222222222,\"#7201a8\"],[0.3333333333333333,\"#9c179e\"],[0.4444444444444444,\"#bd3786\"],[0.5555555555555556,\"#d8576b\"],[0.6666666666666666,\"#ed7953\"],[0.7777777777777778,\"#fb9f3a\"],[0.8888888888888888,\"#fdca26\"],[1.0,\"#f0f921\"]]}],\"surface\":[{\"type\":\"surface\",\"colorbar\":{\"outlinewidth\":0,\"ticks\":\"\"},\"colorscale\":[[0.0,\"#0d0887\"],[0.1111111111111111,\"#46039f\"],[0.2222222222222222,\"#7201a8\"],[0.3333333333333333,\"#9c179e\"],[0.4444444444444444,\"#bd3786\"],[0.5555555555555556,\"#d8576b\"],[0.6666666666666666,\"#ed7953\"],[0.7777777777777778,\"#fb9f3a\"],[0.8888888888888888,\"#fdca26\"],[1.0,\"#f0f921\"]]}],\"mesh3d\":[{\"type\":\"mesh3d\",\"colorbar\":{\"outlinewidth\":0,\"ticks\":\"\"}}],\"scatter\":[{\"fillpattern\":{\"fillmode\":\"overlay\",\"size\":10,\"solidity\":0.2},\"type\":\"scatter\"}],\"parcoords\":[{\"type\":\"parcoords\",\"line\":{\"colorbar\":{\"outlinewidth\":0,\"ticks\":\"\"}}}],\"scatterpolargl\":[{\"type\":\"scatterpolargl\",\"marker\":{\"colorbar\":{\"outlinewidth\":0,\"ticks\":\"\"}}}],\"bar\":[{\"error_x\":{\"color\":\"#2a3f5f\"},\"error_y\":{\"color\":\"#2a3f5f\"},\"marker\":{\"line\":{\"color\":\"#E5ECF6\",\"width\":0.5},\"pattern\":{\"fillmode\":\"overlay\",\"size\":10,\"solidity\":0.2}},\"type\":\"bar\"}],\"scattergeo\":[{\"type\":\"scattergeo\",\"marker\":{\"colorbar\":{\"outlinewidth\":0,\"ticks\":\"\"}}}],\"scatterpolar\":[{\"type\":\"scatterpolar\",\"marker\":{\"colorbar\":{\"outlinewidth\":0,\"ticks\":\"\"}}}],\"histogram\":[{\"marker\":{\"pattern\":{\"fillmode\":\"overlay\",\"size\":10,\"solidity\":0.2}},\"type\":\"histogram\"}],\"scattergl\":[{\"type\":\"scattergl\",\"marker\":{\"colorbar\":{\"outlinewidth\":0,\"ticks\":\"\"}}}],\"scatter3d\":[{\"type\":\"scatter3d\",\"line\":{\"colorbar\":{\"outlinewidth\":0,\"ticks\":\"\"}},\"marker\":{\"colorbar\":{\"outlinewidth\":0,\"ticks\":\"\"}}}],\"scattermapbox\":[{\"type\":\"scattermapbox\",\"marker\":{\"colorbar\":{\"outlinewidth\":0,\"ticks\":\"\"}}}],\"scatterternary\":[{\"type\":\"scatterternary\",\"marker\":{\"colorbar\":{\"outlinewidth\":0,\"ticks\":\"\"}}}],\"scattercarpet\":[{\"type\":\"scattercarpet\",\"marker\":{\"colorbar\":{\"outlinewidth\":0,\"ticks\":\"\"}}}],\"carpet\":[{\"aaxis\":{\"endlinecolor\":\"#2a3f5f\",\"gridcolor\":\"white\",\"linecolor\":\"white\",\"minorgridcolor\":\"white\",\"startlinecolor\":\"#2a3f5f\"},\"baxis\":{\"endlinecolor\":\"#2a3f5f\",\"gridcolor\":\"white\",\"linecolor\":\"white\",\"minorgridcolor\":\"white\",\"startlinecolor\":\"#2a3f5f\"},\"type\":\"carpet\"}],\"table\":[{\"cells\":{\"fill\":{\"color\":\"#EBF0F8\"},\"line\":{\"color\":\"white\"}},\"header\":{\"fill\":{\"color\":\"#C8D4E3\"},\"line\":{\"color\":\"white\"}},\"type\":\"table\"}],\"barpolar\":[{\"marker\":{\"line\":{\"color\":\"#E5ECF6\",\"width\":0.5},\"pattern\":{\"fillmode\":\"overlay\",\"size\":10,\"solidity\":0.2}},\"type\":\"barpolar\"}],\"pie\":[{\"automargin\":true,\"type\":\"pie\"}]},\"layout\":{\"autotypenumbers\":\"strict\",\"colorway\":[\"#636efa\",\"#EF553B\",\"#00cc96\",\"#ab63fa\",\"#FFA15A\",\"#19d3f3\",\"#FF6692\",\"#B6E880\",\"#FF97FF\",\"#FECB52\"],\"font\":{\"color\":\"#2a3f5f\"},\"hovermode\":\"closest\",\"hoverlabel\":{\"align\":\"left\"},\"paper_bgcolor\":\"white\",\"plot_bgcolor\":\"#E5ECF6\",\"polar\":{\"bgcolor\":\"#E5ECF6\",\"angularaxis\":{\"gridcolor\":\"white\",\"linecolor\":\"white\",\"ticks\":\"\"},\"radialaxis\":{\"gridcolor\":\"white\",\"linecolor\":\"white\",\"ticks\":\"\"}},\"ternary\":{\"bgcolor\":\"#E5ECF6\",\"aaxis\":{\"gridcolor\":\"white\",\"linecolor\":\"white\",\"ticks\":\"\"},\"baxis\":{\"gridcolor\":\"white\",\"linecolor\":\"white\",\"ticks\":\"\"},\"caxis\":{\"gridcolor\":\"white\",\"linecolor\":\"white\",\"ticks\":\"\"}},\"coloraxis\":{\"colorbar\":{\"outlinewidth\":0,\"ticks\":\"\"}},\"colorscale\":{\"sequential\":[[0.0,\"#0d0887\"],[0.1111111111111111,\"#46039f\"],[0.2222222222222222,\"#7201a8\"],[0.3333333333333333,\"#9c179e\"],[0.4444444444444444,\"#bd3786\"],[0.5555555555555556,\"#d8576b\"],[0.6666666666666666,\"#ed7953\"],[0.7777777777777778,\"#fb9f3a\"],[0.8888888888888888,\"#fdca26\"],[1.0,\"#f0f921\"]],\"sequentialminus\":[[0.0,\"#0d0887\"],[0.1111111111111111,\"#46039f\"],[0.2222222222222222,\"#7201a8\"],[0.3333333333333333,\"#9c179e\"],[0.4444444444444444,\"#bd3786\"],[0.5555555555555556,\"#d8576b\"],[0.6666666666666666,\"#ed7953\"],[0.7777777777777778,\"#fb9f3a\"],[0.8888888888888888,\"#fdca26\"],[1.0,\"#f0f921\"]],\"diverging\":[[0,\"#8e0152\"],[0.1,\"#c51b7d\"],[0.2,\"#de77ae\"],[0.3,\"#f1b6da\"],[0.4,\"#fde0ef\"],[0.5,\"#f7f7f7\"],[0.6,\"#e6f5d0\"],[0.7,\"#b8e186\"],[0.8,\"#7fbc41\"],[0.9,\"#4d9221\"],[1,\"#276419\"]]},\"xaxis\":{\"gridcolor\":\"white\",\"linecolor\":\"white\",\"ticks\":\"\",\"title\":{\"standoff\":15},\"zerolinecolor\":\"white\",\"automargin\":true,\"zerolinewidth\":2},\"yaxis\":{\"gridcolor\":\"white\",\"linecolor\":\"white\",\"ticks\":\"\",\"title\":{\"standoff\":15},\"zerolinecolor\":\"white\",\"automargin\":true,\"zerolinewidth\":2},\"scene\":{\"xaxis\":{\"backgroundcolor\":\"#E5ECF6\",\"gridcolor\":\"white\",\"linecolor\":\"white\",\"showbackground\":true,\"ticks\":\"\",\"zerolinecolor\":\"white\",\"gridwidth\":2},\"yaxis\":{\"backgroundcolor\":\"#E5ECF6\",\"gridcolor\":\"white\",\"linecolor\":\"white\",\"showbackground\":true,\"ticks\":\"\",\"zerolinecolor\":\"white\",\"gridwidth\":2},\"zaxis\":{\"backgroundcolor\":\"#E5ECF6\",\"gridcolor\":\"white\",\"linecolor\":\"white\",\"showbackground\":true,\"ticks\":\"\",\"zerolinecolor\":\"white\",\"gridwidth\":2}},\"shapedefaults\":{\"line\":{\"color\":\"#2a3f5f\"}},\"annotationdefaults\":{\"arrowcolor\":\"#2a3f5f\",\"arrowhead\":0,\"arrowwidth\":1},\"geo\":{\"bgcolor\":\"white\",\"landcolor\":\"#E5ECF6\",\"subunitcolor\":\"white\",\"showland\":true,\"showlakes\":true,\"lakecolor\":\"white\"},\"title\":{\"x\":0.05},\"mapbox\":{\"style\":\"light\"}}},\"xaxis\":{\"anchor\":\"y\",\"domain\":[0.0,1.0],\"title\":{\"text\":\"Municipality\"},\"categoryorder\":\"array\",\"categoryarray\":[\"Municipality_1\",\"Municipality_10\",\"Municipality_11\",\"Municipality_12\",\"Municipality_13\",\"Municipality_14\",\"Municipality_15\",\"Municipality_16\",\"Municipality_17\",\"Municipality_18\",\"Municipality_19\",\"Municipality_2\",\"Municipality_20\",\"Municipality_21\",\"Municipality_22\",\"Municipality_23\",\"Municipality_24\",\"Municipality_25\",\"Municipality_26\",\"Municipality_27\",\"Municipality_28\",\"Municipality_29\",\"Municipality_3\",\"Municipality_30\",\"Municipality_31\",\"Municipality_32\",\"Municipality_33\",\"Municipality_34\",\"Municipality_35\",\"Municipality_36\",\"Municipality_37\",\"Municipality_38\",\"Municipality_39\",\"Municipality_4\",\"Municipality_40\",\"Municipality_41\",\"Municipality_42\",\"Municipality_43\",\"Municipality_44\",\"Municipality_45\",\"Municipality_46\",\"Municipality_47\",\"Municipality_48\",\"Municipality_49\",\"Municipality_5\",\"Municipality_50\",\"Municipality_6\",\"Municipality_7\",\"Municipality_8\",\"Municipality_9\"]},\"yaxis\":{\"anchor\":\"x\",\"domain\":[0.0,1.0],\"title\":{\"text\":\"Traffic_Pollution\"}},\"legend\":{\"title\":{\"text\":\"Municipality\"},\"tracegroupgap\":0},\"margin\":{\"t\":60},\"boxmode\":\"overlay\"},                        {\"responsive\": true}                    ).then(function(){\n",
       "                            \n",
       "var gd = document.getElementById('dc394acc-1a33-4f1b-a24b-79fbf8fa044a');\n",
       "var x = new MutationObserver(function (mutations, observer) {{\n",
       "        var display = window.getComputedStyle(gd).display;\n",
       "        if (!display || display === 'none') {{\n",
       "            console.log([gd, 'removed!']);\n",
       "            Plotly.purge(gd);\n",
       "            observer.disconnect();\n",
       "        }}\n",
       "}});\n",
       "\n",
       "// Listen for the removal of the full notebook cells\n",
       "var notebookContainer = gd.closest('#notebook-container');\n",
       "if (notebookContainer) {{\n",
       "    x.observe(notebookContainer, {childList: true});\n",
       "}}\n",
       "\n",
       "// Listen for the clearing of the current output cell\n",
       "var outputEl = gd.closest('.output');\n",
       "if (outputEl) {{\n",
       "    x.observe(outputEl, {childList: true});\n",
       "}}\n",
       "\n",
       "                        })                };                });            </script>        </div>"
      ]
     },
     "metadata": {},
     "output_type": "display_data"
    }
   ],
   "source": [
    "\n",
    "fig = px.box(mu, x=\"Municipality\", y=\"Traffic_Pollution\",  color=\"Municipality\")\n",
    "fig.show()"
   ]
  },
  {
   "cell_type": "code",
   "execution_count": 29,
   "metadata": {},
   "outputs": [
    {
     "data": {
      "application/vnd.plotly.v1+json": {
       "config": {
        "plotlyServerURL": "https://plot.ly"
       },
       "data": [
        {
         "alignmentgroup": "True",
         "hovertemplate": "Municipality=%{x}<br>Traffic_Pollution=%{y}<extra></extra>",
         "legendgroup": "Municipality_1",
         "marker": {
          "color": "#636efa",
          "opacity": 0.8
         },
         "name": "Municipality_1",
         "notched": false,
         "offsetgroup": "Municipality_1",
         "orientation": "v",
         "showlegend": true,
         "type": "box",
         "x": [
          "Municipality_1",
          "Municipality_1",
          "Municipality_1",
          "Municipality_1",
          "Municipality_1",
          "Municipality_1",
          "Municipality_1",
          "Municipality_1",
          "Municipality_1",
          "Municipality_1"
         ],
         "x0": " ",
         "xaxis": "x",
         "y": [
          46.28226111698324,
          47.1369457341354,
          47.86679386298539,
          47.82748374968436,
          48.375869163746046,
          48.673919031291945,
          49.74118520839899,
          49.59282868995404,
          50.57891958988932,
          50.70638233327928
         ],
         "y0": " ",
         "yaxis": "y"
        },
        {
         "alignmentgroup": "True",
         "hovertemplate": "Municipality=%{x}<br>Traffic_Pollution=%{y}<extra></extra>",
         "legendgroup": "Municipality_10",
         "marker": {
          "color": "#EF553B",
          "opacity": 0.8
         },
         "name": "Municipality_10",
         "notched": false,
         "offsetgroup": "Municipality_10",
         "orientation": "v",
         "showlegend": true,
         "type": "box",
         "x": [
          "Municipality_10",
          "Municipality_10",
          "Municipality_10",
          "Municipality_10",
          "Municipality_10",
          "Municipality_10",
          "Municipality_10",
          "Municipality_10",
          "Municipality_10",
          "Municipality_10"
         ],
         "x0": " ",
         "xaxis": "x",
         "y": [
          50.64601830758336,
          51.25371463463617,
          52.11925033662897,
          52.73081305749116,
          52.666744278165886,
          53.733973299085264,
          53.62372019006678,
          54.15033868094313,
          54.638244861418336,
          55.130430534219336
         ],
         "y0": " ",
         "yaxis": "y"
        },
        {
         "alignmentgroup": "True",
         "hovertemplate": "Municipality=%{x}<br>Traffic_Pollution=%{y}<extra></extra>",
         "legendgroup": "Municipality_11",
         "marker": {
          "color": "#00cc96",
          "opacity": 0.8
         },
         "name": "Municipality_11",
         "notched": false,
         "offsetgroup": "Municipality_11",
         "orientation": "v",
         "showlegend": true,
         "type": "box",
         "x": [
          "Municipality_11",
          "Municipality_11",
          "Municipality_11",
          "Municipality_11",
          "Municipality_11",
          "Municipality_11",
          "Municipality_11",
          "Municipality_11",
          "Municipality_11",
          "Municipality_11"
         ],
         "x0": " ",
         "xaxis": "x",
         "y": [
          38.09035335089333,
          38.480723832851176,
          39.11161721704166,
          39.863294972277785,
          40.64782780126907,
          41.19291013793072,
          41.47421603694234,
          42.51516949421613,
          42.25607216811304,
          42.76215164396719
         ],
         "y0": " ",
         "yaxis": "y"
        },
        {
         "alignmentgroup": "True",
         "hovertemplate": "Municipality=%{x}<br>Traffic_Pollution=%{y}<extra></extra>",
         "legendgroup": "Municipality_12",
         "marker": {
          "color": "#ab63fa",
          "opacity": 0.8
         },
         "name": "Municipality_12",
         "notched": false,
         "offsetgroup": "Municipality_12",
         "orientation": "v",
         "showlegend": true,
         "type": "box",
         "x": [
          "Municipality_12",
          "Municipality_12",
          "Municipality_12",
          "Municipality_12",
          "Municipality_12",
          "Municipality_12",
          "Municipality_12",
          "Municipality_12",
          "Municipality_12",
          "Municipality_12"
         ],
         "x0": " ",
         "xaxis": "x",
         "y": [
          44.781473259465535,
          45.31494717430122,
          45.73538352685677,
          45.80774452841199,
          46.76861275382241,
          46.9994869513505,
          47.18617193143488,
          48.14037187285468,
          48.69010573278553,
          49.0813145788128
         ],
         "y0": " ",
         "yaxis": "y"
        },
        {
         "alignmentgroup": "True",
         "hovertemplate": "Municipality=%{x}<br>Traffic_Pollution=%{y}<extra></extra>",
         "legendgroup": "Municipality_13",
         "marker": {
          "color": "#FFA15A",
          "opacity": 0.8
         },
         "name": "Municipality_13",
         "notched": false,
         "offsetgroup": "Municipality_13",
         "orientation": "v",
         "showlegend": true,
         "type": "box",
         "x": [
          "Municipality_13",
          "Municipality_13",
          "Municipality_13",
          "Municipality_13",
          "Municipality_13",
          "Municipality_13",
          "Municipality_13",
          "Municipality_13",
          "Municipality_13",
          "Municipality_13"
         ],
         "x0": " ",
         "xaxis": "x",
         "y": [
          48.04760447851604,
          47.90933592290845,
          47.91641082395613,
          47.95816584800464,
          47.86097860064725,
          47.98077084721095,
          48.00174573835977,
          48.0199457184462,
          47.88043541539264,
          47.89983202395663
         ],
         "y0": " ",
         "yaxis": "y"
        },
        {
         "alignmentgroup": "True",
         "hovertemplate": "Municipality=%{x}<br>Traffic_Pollution=%{y}<extra></extra>",
         "legendgroup": "Municipality_14",
         "marker": {
          "color": "#19d3f3",
          "opacity": 0.8
         },
         "name": "Municipality_14",
         "notched": false,
         "offsetgroup": "Municipality_14",
         "orientation": "v",
         "showlegend": true,
         "type": "box",
         "x": [
          "Municipality_14",
          "Municipality_14",
          "Municipality_14",
          "Municipality_14",
          "Municipality_14",
          "Municipality_14",
          "Municipality_14",
          "Municipality_14",
          "Municipality_14",
          "Municipality_14"
         ],
         "x0": " ",
         "xaxis": "x",
         "y": [
          27.884918139819582,
          28.23831787107505,
          28.91588940809919,
          29.241616549757907,
          29.42084014852273,
          30.511264650918548,
          31.23088156445733,
          31.18782110595035,
          31.567520961254733,
          32.18228017381832
         ],
         "y0": " ",
         "yaxis": "y"
        },
        {
         "alignmentgroup": "True",
         "hovertemplate": "Municipality=%{x}<br>Traffic_Pollution=%{y}<extra></extra>",
         "legendgroup": "Municipality_15",
         "marker": {
          "color": "#FF6692",
          "opacity": 0.8
         },
         "name": "Municipality_15",
         "notched": false,
         "offsetgroup": "Municipality_15",
         "orientation": "v",
         "showlegend": true,
         "type": "box",
         "x": [
          "Municipality_15",
          "Municipality_15",
          "Municipality_15",
          "Municipality_15",
          "Municipality_15",
          "Municipality_15",
          "Municipality_15",
          "Municipality_15",
          "Municipality_15",
          "Municipality_15"
         ],
         "x0": " ",
         "xaxis": "x",
         "y": [
          55.69705851911894,
          56.5622586300583,
          56.66041473269305,
          57.05740837787511,
          57.48889938712897,
          58.07440370973702,
          59.22749690758248,
          58.89199890678977,
          59.807040055255946,
          60.626573612479625
         ],
         "y0": " ",
         "yaxis": "y"
        },
        {
         "alignmentgroup": "True",
         "hovertemplate": "Municipality=%{x}<br>Traffic_Pollution=%{y}<extra></extra>",
         "legendgroup": "Municipality_16",
         "marker": {
          "color": "#B6E880",
          "opacity": 0.8
         },
         "name": "Municipality_16",
         "notched": false,
         "offsetgroup": "Municipality_16",
         "orientation": "v",
         "showlegend": true,
         "type": "box",
         "x": [
          "Municipality_16",
          "Municipality_16",
          "Municipality_16",
          "Municipality_16",
          "Municipality_16",
          "Municipality_16",
          "Municipality_16",
          "Municipality_16",
          "Municipality_16",
          "Municipality_16"
         ],
         "x0": " ",
         "xaxis": "x",
         "y": [
          56.36675229153328,
          56.18719303418065,
          56.22422361794263,
          null,
          56.21882006971955,
          56.40068681002589,
          56.16181107791796,
          56.29368493568872,
          56.1512040304905,
          56.30015454390502
         ],
         "y0": " ",
         "yaxis": "y"
        },
        {
         "alignmentgroup": "True",
         "hovertemplate": "Municipality=%{x}<br>Traffic_Pollution=%{y}<extra></extra>",
         "legendgroup": "Municipality_17",
         "marker": {
          "color": "#FF97FF",
          "opacity": 0.8
         },
         "name": "Municipality_17",
         "notched": false,
         "offsetgroup": "Municipality_17",
         "orientation": "v",
         "showlegend": true,
         "type": "box",
         "x": [
          "Municipality_17",
          "Municipality_17",
          "Municipality_17",
          "Municipality_17",
          "Municipality_17",
          "Municipality_17",
          "Municipality_17",
          "Municipality_17",
          "Municipality_17",
          "Municipality_17"
         ],
         "x0": " ",
         "xaxis": "x",
         "y": [
          53.7970545760529,
          54.134529606622166,
          54.765365320924985,
          55.34859361246391,
          55.29716899577531,
          56.67541887857335,
          56.63634701348805,
          57.68878850661126,
          57.74955247406808,
          58.311253811533085
         ],
         "y0": " ",
         "yaxis": "y"
        },
        {
         "alignmentgroup": "True",
         "hovertemplate": "Municipality=%{x}<br>Traffic_Pollution=%{y}<extra></extra>",
         "legendgroup": "Municipality_18",
         "marker": {
          "color": "#FECB52",
          "opacity": 0.8
         },
         "name": "Municipality_18",
         "notched": false,
         "offsetgroup": "Municipality_18",
         "orientation": "v",
         "showlegend": true,
         "type": "box",
         "x": [
          "Municipality_18",
          "Municipality_18",
          "Municipality_18",
          "Municipality_18",
          "Municipality_18",
          "Municipality_18",
          "Municipality_18",
          "Municipality_18",
          "Municipality_18",
          "Municipality_18"
         ],
         "x0": " ",
         "xaxis": "x",
         "y": [
          58.4448796164117,
          58.88162410422383,
          59.47957562409469,
          59.81383610253857,
          60.26229432837464,
          60.833679558141725,
          61.1998177125994,
          61.57243897054818,
          62.36652196066873,
          63.34370711350776
         ],
         "y0": " ",
         "yaxis": "y"
        },
        {
         "alignmentgroup": "True",
         "hovertemplate": "Municipality=%{x}<br>Traffic_Pollution=%{y}<extra></extra>",
         "legendgroup": "Municipality_19",
         "marker": {
          "color": "#636efa",
          "opacity": 0.8
         },
         "name": "Municipality_19",
         "notched": false,
         "offsetgroup": "Municipality_19",
         "orientation": "v",
         "showlegend": true,
         "type": "box",
         "x": [
          "Municipality_19",
          "Municipality_19",
          "Municipality_19",
          "Municipality_19",
          "Municipality_19",
          "Municipality_19",
          "Municipality_19",
          "Municipality_19",
          "Municipality_19",
          "Municipality_19"
         ],
         "x0": " ",
         "xaxis": "x",
         "y": [
          67.15114412781637,
          67.19053782256714,
          67.26067407720817,
          67.32360732179994,
          null,
          66.99718727875673,
          67.13956064579422,
          67.21196104308797,
          67.28921384045972,
          67.19880428784028
         ],
         "y0": " ",
         "yaxis": "y"
        },
        {
         "alignmentgroup": "True",
         "hovertemplate": "Municipality=%{x}<br>Traffic_Pollution=%{y}<extra></extra>",
         "legendgroup": "Municipality_2",
         "marker": {
          "color": "#EF553B",
          "opacity": 0.8
         },
         "name": "Municipality_2",
         "notched": false,
         "offsetgroup": "Municipality_2",
         "orientation": "v",
         "showlegend": true,
         "type": "box",
         "x": [
          "Municipality_2",
          "Municipality_2",
          "Municipality_2",
          "Municipality_2",
          "Municipality_2",
          "Municipality_2",
          "Municipality_2",
          "Municipality_2",
          "Municipality_2",
          "Municipality_2"
         ],
         "x0": " ",
         "xaxis": "x",
         "y": [
          49.96303297631226,
          50.82438762206993,
          51.2483418625006,
          51.791398641840445,
          52.36441387559532,
          52.719774392158456,
          53.22343927927927,
          53.99126468839052,
          54.12131750528861,
          54.53245791306534
         ],
         "y0": " ",
         "yaxis": "y"
        },
        {
         "alignmentgroup": "True",
         "hovertemplate": "Municipality=%{x}<br>Traffic_Pollution=%{y}<extra></extra>",
         "legendgroup": "Municipality_20",
         "marker": {
          "color": "#00cc96",
          "opacity": 0.8
         },
         "name": "Municipality_20",
         "notched": false,
         "offsetgroup": "Municipality_20",
         "orientation": "v",
         "showlegend": true,
         "type": "box",
         "x": [
          "Municipality_20",
          "Municipality_20",
          "Municipality_20",
          "Municipality_20",
          "Municipality_20",
          "Municipality_20",
          "Municipality_20",
          "Municipality_20",
          "Municipality_20",
          "Municipality_20"
         ],
         "x0": " ",
         "xaxis": "x",
         "y": [
          43.20360238567026,
          44.1620531335534,
          44.75112900072612,
          44.66644034933823,
          45.34797034676743,
          45.83009369446263,
          46.46021549797653,
          47.28666670442464,
          47.2757027978711,
          48.00884234085368
         ],
         "y0": " ",
         "yaxis": "y"
        },
        {
         "alignmentgroup": "True",
         "hovertemplate": "Municipality=%{x}<br>Traffic_Pollution=%{y}<extra></extra>",
         "legendgroup": "Municipality_21",
         "marker": {
          "color": "#ab63fa",
          "opacity": 0.8
         },
         "name": "Municipality_21",
         "notched": false,
         "offsetgroup": "Municipality_21",
         "orientation": "v",
         "showlegend": true,
         "type": "box",
         "x": [
          "Municipality_21",
          "Municipality_21",
          "Municipality_21",
          "Municipality_21",
          "Municipality_21",
          "Municipality_21",
          "Municipality_21",
          "Municipality_21",
          "Municipality_21",
          "Municipality_21"
         ],
         "x0": " ",
         "xaxis": "x",
         "y": [
          55.55472113164631,
          55.53831931995661,
          56.310828494866136,
          57.39886869337171,
          57.41035942415803,
          57.87590133480136,
          58.29276525711597,
          58.59038611099233,
          59.29915064976414,
          59.91498613683197
         ],
         "y0": " ",
         "yaxis": "y"
        },
        {
         "alignmentgroup": "True",
         "hovertemplate": "Municipality=%{x}<br>Traffic_Pollution=%{y}<extra></extra>",
         "legendgroup": "Municipality_22",
         "marker": {
          "color": "#FFA15A",
          "opacity": 0.8
         },
         "name": "Municipality_22",
         "notched": false,
         "offsetgroup": "Municipality_22",
         "orientation": "v",
         "showlegend": true,
         "type": "box",
         "x": [
          "Municipality_22",
          "Municipality_22",
          "Municipality_22",
          "Municipality_22",
          "Municipality_22",
          "Municipality_22",
          "Municipality_22",
          "Municipality_22",
          "Municipality_22",
          "Municipality_22"
         ],
         "x0": " ",
         "xaxis": "x",
         "y": [
          46.80060511645625,
          46.741717181944,
          46.90878488417369,
          46.7772094163985,
          46.81387946456929,
          46.88988646555013,
          46.82024955883495,
          46.9630605310311,
          46.8161071058237,
          46.71971994337572
         ],
         "y0": " ",
         "yaxis": "y"
        },
        {
         "alignmentgroup": "True",
         "hovertemplate": "Municipality=%{x}<br>Traffic_Pollution=%{y}<extra></extra>",
         "legendgroup": "Municipality_23",
         "marker": {
          "color": "#19d3f3",
          "opacity": 0.8
         },
         "name": "Municipality_23",
         "notched": false,
         "offsetgroup": "Municipality_23",
         "orientation": "v",
         "showlegend": true,
         "type": "box",
         "x": [
          "Municipality_23",
          "Municipality_23",
          "Municipality_23",
          "Municipality_23",
          "Municipality_23",
          "Municipality_23",
          "Municipality_23",
          "Municipality_23",
          "Municipality_23",
          "Municipality_23"
         ],
         "x0": " ",
         "xaxis": "x",
         "y": [
          32.72593148534675,
          32.88120329028339,
          32.84397440239548,
          32.727244330268945,
          32.73258462865895,
          null,
          32.84513510792899,
          32.896964420538524,
          32.70945149208632,
          32.76540540428425
         ],
         "y0": " ",
         "yaxis": "y"
        },
        {
         "alignmentgroup": "True",
         "hovertemplate": "Municipality=%{x}<br>Traffic_Pollution=%{y}<extra></extra>",
         "legendgroup": "Municipality_24",
         "marker": {
          "color": "#FF6692",
          "opacity": 0.8
         },
         "name": "Municipality_24",
         "notched": false,
         "offsetgroup": "Municipality_24",
         "orientation": "v",
         "showlegend": true,
         "type": "box",
         "x": [
          "Municipality_24",
          "Municipality_24",
          "Municipality_24",
          "Municipality_24",
          "Municipality_24",
          "Municipality_24",
          "Municipality_24",
          "Municipality_24",
          "Municipality_24",
          "Municipality_24"
         ],
         "x0": " ",
         "xaxis": "x",
         "y": [
          60.75947061249799,
          60.96796824324045,
          61.69054308927609,
          61.86837627429198,
          62.67239822003045,
          63.23800992742866,
          63.58957315642541,
          64.66771694550881,
          64.91185669524732,
          65.45133741263896
         ],
         "y0": " ",
         "yaxis": "y"
        },
        {
         "alignmentgroup": "True",
         "hovertemplate": "Municipality=%{x}<br>Traffic_Pollution=%{y}<extra></extra>",
         "legendgroup": "Municipality_25",
         "marker": {
          "color": "#B6E880",
          "opacity": 0.8
         },
         "name": "Municipality_25",
         "notched": false,
         "offsetgroup": "Municipality_25",
         "orientation": "v",
         "showlegend": true,
         "type": "box",
         "x": [
          "Municipality_25",
          "Municipality_25",
          "Municipality_25",
          "Municipality_25",
          "Municipality_25",
          "Municipality_25",
          "Municipality_25",
          "Municipality_25",
          "Municipality_25",
          "Municipality_25"
         ],
         "x0": " ",
         "xaxis": "x",
         "y": [
          54.370172137024,
          54.3550071466771,
          54.266635922881655,
          54.4340926318519,
          54.39448544160181,
          54.39695037939642,
          54.52464578853192,
          54.32246127113417,
          54.34086156872787,
          54.29273343447622
         ],
         "y0": " ",
         "yaxis": "y"
        },
        {
         "alignmentgroup": "True",
         "hovertemplate": "Municipality=%{x}<br>Traffic_Pollution=%{y}<extra></extra>",
         "legendgroup": "Municipality_26",
         "marker": {
          "color": "#FF97FF",
          "opacity": 0.8
         },
         "name": "Municipality_26",
         "notched": false,
         "offsetgroup": "Municipality_26",
         "orientation": "v",
         "showlegend": true,
         "type": "box",
         "x": [
          "Municipality_26",
          "Municipality_26",
          "Municipality_26",
          "Municipality_26",
          "Municipality_26",
          "Municipality_26",
          "Municipality_26",
          "Municipality_26",
          "Municipality_26",
          "Municipality_26"
         ],
         "x0": " ",
         "xaxis": "x",
         "y": [
          38.50088530014951,
          38.46477551757721,
          38.5303153737353,
          38.54724200544805,
          38.51576314171674,
          38.55675564361198,
          38.39263484990392,
          38.52739568671058,
          38.44843348731409,
          38.57335494100726
         ],
         "y0": " ",
         "yaxis": "y"
        },
        {
         "alignmentgroup": "True",
         "hovertemplate": "Municipality=%{x}<br>Traffic_Pollution=%{y}<extra></extra>",
         "legendgroup": "Municipality_27",
         "marker": {
          "color": "#FECB52",
          "opacity": 0.8
         },
         "name": "Municipality_27",
         "notched": false,
         "offsetgroup": "Municipality_27",
         "orientation": "v",
         "showlegend": true,
         "type": "box",
         "x": [
          "Municipality_27",
          "Municipality_27",
          "Municipality_27",
          "Municipality_27",
          "Municipality_27",
          "Municipality_27",
          "Municipality_27",
          "Municipality_27",
          "Municipality_27",
          "Municipality_27"
         ],
         "x0": " ",
         "xaxis": "x",
         "y": [
          46.689784338099045,
          46.7249082923958,
          46.7548480138585,
          46.74363486204131,
          46.74607549320549,
          46.68009057892594,
          46.63631756596372,
          46.699396611997415,
          46.80285974785104,
          46.6464739780152
         ],
         "y0": " ",
         "yaxis": "y"
        },
        {
         "alignmentgroup": "True",
         "hovertemplate": "Municipality=%{x}<br>Traffic_Pollution=%{y}<extra></extra>",
         "legendgroup": "Municipality_28",
         "marker": {
          "color": "#636efa",
          "opacity": 0.8
         },
         "name": "Municipality_28",
         "notched": false,
         "offsetgroup": "Municipality_28",
         "orientation": "v",
         "showlegend": true,
         "type": "box",
         "x": [
          "Municipality_28",
          "Municipality_28",
          "Municipality_28",
          "Municipality_28",
          "Municipality_28",
          "Municipality_28",
          "Municipality_28",
          "Municipality_28",
          "Municipality_28",
          "Municipality_28"
         ],
         "x0": " ",
         "xaxis": "x",
         "y": [
          54.34091547776227,
          54.33839530208184,
          54.13115298822166,
          54.26098933332849,
          54.12409997244904,
          54.34376399057731,
          54.2248126278238,
          54.2827990106664,
          54.31530200808465,
          54.38462057521655
         ],
         "y0": " ",
         "yaxis": "y"
        },
        {
         "alignmentgroup": "True",
         "hovertemplate": "Municipality=%{x}<br>Traffic_Pollution=%{y}<extra></extra>",
         "legendgroup": "Municipality_29",
         "marker": {
          "color": "#EF553B",
          "opacity": 0.8
         },
         "name": "Municipality_29",
         "notched": false,
         "offsetgroup": "Municipality_29",
         "orientation": "v",
         "showlegend": true,
         "type": "box",
         "x": [
          "Municipality_29",
          "Municipality_29",
          "Municipality_29",
          "Municipality_29",
          "Municipality_29",
          "Municipality_29",
          "Municipality_29",
          "Municipality_29",
          "Municipality_29",
          "Municipality_29"
         ],
         "x0": " ",
         "xaxis": "x",
         "y": [
          45.613803233088845,
          45.66111238056825,
          46.62762377838595,
          47.22260141090893,
          47.43647254305592,
          47.99296080882023,
          48.56121785885453,
          48.82094360183923,
          49.50636054669808,
          49.87093039032188
         ],
         "y0": " ",
         "yaxis": "y"
        },
        {
         "alignmentgroup": "True",
         "hovertemplate": "Municipality=%{x}<br>Traffic_Pollution=%{y}<extra></extra>",
         "legendgroup": "Municipality_3",
         "marker": {
          "color": "#00cc96",
          "opacity": 0.8
         },
         "name": "Municipality_3",
         "notched": false,
         "offsetgroup": "Municipality_3",
         "orientation": "v",
         "showlegend": true,
         "type": "box",
         "x": [
          "Municipality_3",
          "Municipality_3",
          "Municipality_3",
          "Municipality_3",
          "Municipality_3",
          "Municipality_3",
          "Municipality_3",
          "Municipality_3",
          "Municipality_3",
          "Municipality_3"
         ],
         "x0": " ",
         "xaxis": "x",
         "y": [
          50.87631578952697,
          51.57574190808351,
          51.78596914095465,
          52.29664785825269,
          52.65876943712792,
          53.118574873752216,
          53.66005076679464,
          54.39442811993999,
          55.23724833318191,
          55.29113128237525
         ],
         "y0": " ",
         "yaxis": "y"
        },
        {
         "alignmentgroup": "True",
         "hovertemplate": "Municipality=%{x}<br>Traffic_Pollution=%{y}<extra></extra>",
         "legendgroup": "Municipality_30",
         "marker": {
          "color": "#ab63fa",
          "opacity": 0.8
         },
         "name": "Municipality_30",
         "notched": false,
         "offsetgroup": "Municipality_30",
         "orientation": "v",
         "showlegend": true,
         "type": "box",
         "x": [
          "Municipality_30",
          "Municipality_30",
          "Municipality_30",
          "Municipality_30",
          "Municipality_30",
          "Municipality_30",
          "Municipality_30",
          "Municipality_30",
          "Municipality_30",
          "Municipality_30"
         ],
         "x0": " ",
         "xaxis": "x",
         "y": [
          57.223402848805726,
          57.6208431475424,
          58.37344270967657,
          58.762682339243234,
          59.40423133860735,
          59.85586989229654,
          60.5640500662002,
          60.86242715633532,
          61.549749196052105,
          62.038175877209
         ],
         "y0": " ",
         "yaxis": "y"
        },
        {
         "alignmentgroup": "True",
         "hovertemplate": "Municipality=%{x}<br>Traffic_Pollution=%{y}<extra></extra>",
         "legendgroup": "Municipality_31",
         "marker": {
          "color": "#FFA15A",
          "opacity": 0.8
         },
         "name": "Municipality_31",
         "notched": false,
         "offsetgroup": "Municipality_31",
         "orientation": "v",
         "showlegend": true,
         "type": "box",
         "x": [
          "Municipality_31",
          "Municipality_31",
          "Municipality_31",
          "Municipality_31",
          "Municipality_31",
          "Municipality_31",
          "Municipality_31",
          "Municipality_31",
          "Municipality_31",
          "Municipality_31"
         ],
         "x0": " ",
         "xaxis": "x",
         "y": [
          50.862866360739375,
          51.48818165578711,
          52.27849762622234,
          52.163313103713854,
          52.94477957151242,
          53.23021722813177,
          53.43763621895132,
          54.7622794047123,
          55.12485440053639,
          55.34629968888338
         ],
         "y0": " ",
         "yaxis": "y"
        },
        {
         "alignmentgroup": "True",
         "hovertemplate": "Municipality=%{x}<br>Traffic_Pollution=%{y}<extra></extra>",
         "legendgroup": "Municipality_32",
         "marker": {
          "color": "#19d3f3",
          "opacity": 0.8
         },
         "name": "Municipality_32",
         "notched": false,
         "offsetgroup": "Municipality_32",
         "orientation": "v",
         "showlegend": true,
         "type": "box",
         "x": [
          "Municipality_32",
          "Municipality_32",
          "Municipality_32",
          "Municipality_32",
          "Municipality_32",
          "Municipality_32",
          "Municipality_32",
          "Municipality_32",
          "Municipality_32",
          "Municipality_32"
         ],
         "x0": " ",
         "xaxis": "x",
         "y": [
          56.75603017560907,
          57.30951415175423,
          57.68443364401012,
          58.32889260375575,
          58.842214276597,
          59.42219134982325,
          59.57357203976758,
          60.47175153166224,
          60.460847013792296,
          60.80561559106169
         ],
         "y0": " ",
         "yaxis": "y"
        },
        {
         "alignmentgroup": "True",
         "hovertemplate": "Municipality=%{x}<br>Traffic_Pollution=%{y}<extra></extra>",
         "legendgroup": "Municipality_33",
         "marker": {
          "color": "#FF6692",
          "opacity": 0.8
         },
         "name": "Municipality_33",
         "notched": false,
         "offsetgroup": "Municipality_33",
         "orientation": "v",
         "showlegend": true,
         "type": "box",
         "x": [
          "Municipality_33",
          "Municipality_33",
          "Municipality_33",
          "Municipality_33",
          "Municipality_33",
          "Municipality_33",
          "Municipality_33",
          "Municipality_33",
          "Municipality_33",
          "Municipality_33"
         ],
         "x0": " ",
         "xaxis": "x",
         "y": [
          48.0976597210235,
          48.09212770094343,
          48.0916918301124,
          48.100544621227,
          48.017640573879085,
          47.92766310225653,
          48.11460552615757,
          48.07077636757534,
          47.87097225383507,
          48.05627191529438
         ],
         "y0": " ",
         "yaxis": "y"
        },
        {
         "alignmentgroup": "True",
         "hovertemplate": "Municipality=%{x}<br>Traffic_Pollution=%{y}<extra></extra>",
         "legendgroup": "Municipality_34",
         "marker": {
          "color": "#B6E880",
          "opacity": 0.8
         },
         "name": "Municipality_34",
         "notched": false,
         "offsetgroup": "Municipality_34",
         "orientation": "v",
         "showlegend": true,
         "type": "box",
         "x": [
          "Municipality_34",
          "Municipality_34",
          "Municipality_34",
          "Municipality_34",
          "Municipality_34",
          "Municipality_34",
          "Municipality_34",
          "Municipality_34",
          "Municipality_34",
          "Municipality_34"
         ],
         "x0": " ",
         "xaxis": "x",
         "y": [
          54.89061412977352,
          55.60721605530596,
          56.08587108355599,
          56.36498124057652,
          57.34434071321556,
          57.89463193782727,
          57.90325190302719,
          58.8993585037686,
          58.869542197089,
          59.38031400108904
         ],
         "y0": " ",
         "yaxis": "y"
        },
        {
         "alignmentgroup": "True",
         "hovertemplate": "Municipality=%{x}<br>Traffic_Pollution=%{y}<extra></extra>",
         "legendgroup": "Municipality_35",
         "marker": {
          "color": "#FF97FF",
          "opacity": 0.8
         },
         "name": "Municipality_35",
         "notched": false,
         "offsetgroup": "Municipality_35",
         "orientation": "v",
         "showlegend": true,
         "type": "box",
         "x": [
          "Municipality_35",
          "Municipality_35",
          "Municipality_35",
          "Municipality_35",
          "Municipality_35",
          "Municipality_35",
          "Municipality_35",
          "Municipality_35",
          "Municipality_35",
          "Municipality_35"
         ],
         "x0": " ",
         "xaxis": "x",
         "y": [
          68.26366001068489,
          68.66810767983617,
          69.21723619688515,
          70.01045824893016,
          70.33281609067484,
          70.4303399999334,
          71.07318763027995,
          71.70765627169318,
          72.51474546216234,
          72.69825112113506
         ],
         "y0": " ",
         "yaxis": "y"
        },
        {
         "alignmentgroup": "True",
         "hovertemplate": "Municipality=%{x}<br>Traffic_Pollution=%{y}<extra></extra>",
         "legendgroup": "Municipality_36",
         "marker": {
          "color": "#FECB52",
          "opacity": 0.8
         },
         "name": "Municipality_36",
         "notched": false,
         "offsetgroup": "Municipality_36",
         "orientation": "v",
         "showlegend": true,
         "type": "box",
         "x": [
          "Municipality_36",
          "Municipality_36",
          "Municipality_36",
          "Municipality_36",
          "Municipality_36",
          "Municipality_36",
          "Municipality_36",
          "Municipality_36",
          "Municipality_36",
          "Municipality_36"
         ],
         "x0": " ",
         "xaxis": "x",
         "y": [
          69.33200817706941,
          69.94832055652131,
          70.42478150879779,
          70.80421217486685,
          71.27577485437669,
          71.91018889562928,
          72.31744615119194,
          73.12160774370105,
          73.22553277309605,
          73.90178861306963
         ],
         "y0": " ",
         "yaxis": "y"
        },
        {
         "alignmentgroup": "True",
         "hovertemplate": "Municipality=%{x}<br>Traffic_Pollution=%{y}<extra></extra>",
         "legendgroup": "Municipality_37",
         "marker": {
          "color": "#636efa",
          "opacity": 0.8
         },
         "name": "Municipality_37",
         "notched": false,
         "offsetgroup": "Municipality_37",
         "orientation": "v",
         "showlegend": true,
         "type": "box",
         "x": [
          "Municipality_37",
          "Municipality_37",
          "Municipality_37",
          "Municipality_37",
          "Municipality_37",
          "Municipality_37",
          "Municipality_37",
          "Municipality_37",
          "Municipality_37",
          "Municipality_37"
         ],
         "x0": " ",
         "xaxis": "x",
         "y": [
          47.99647723394977,
          47.873686339519445,
          48.58556093908511,
          49.46062806913864,
          49.74773473943547,
          50.58427554975543,
          50.98878199990117,
          51.66102519412964,
          51.731879859630666,
          52.15414669223539
         ],
         "y0": " ",
         "yaxis": "y"
        },
        {
         "alignmentgroup": "True",
         "hovertemplate": "Municipality=%{x}<br>Traffic_Pollution=%{y}<extra></extra>",
         "legendgroup": "Municipality_38",
         "marker": {
          "color": "#EF553B",
          "opacity": 0.8
         },
         "name": "Municipality_38",
         "notched": false,
         "offsetgroup": "Municipality_38",
         "orientation": "v",
         "showlegend": true,
         "type": "box",
         "x": [
          "Municipality_38",
          "Municipality_38",
          "Municipality_38",
          "Municipality_38",
          "Municipality_38",
          "Municipality_38",
          "Municipality_38",
          "Municipality_38",
          "Municipality_38",
          "Municipality_38"
         ],
         "x0": " ",
         "xaxis": "x",
         "y": [
          35.78544153515708,
          36.18118542607088,
          37.05071557638521,
          37.32534446823238,
          37.58610961138021,
          38.36478278698847,
          39.08379071296345,
          39.36408368298157,
          39.98067794956111,
          40.19895291677472
         ],
         "y0": " ",
         "yaxis": "y"
        },
        {
         "alignmentgroup": "True",
         "hovertemplate": "Municipality=%{x}<br>Traffic_Pollution=%{y}<extra></extra>",
         "legendgroup": "Municipality_39",
         "marker": {
          "color": "#00cc96",
          "opacity": 0.8
         },
         "name": "Municipality_39",
         "notched": false,
         "offsetgroup": "Municipality_39",
         "orientation": "v",
         "showlegend": true,
         "type": "box",
         "x": [
          "Municipality_39",
          "Municipality_39",
          "Municipality_39",
          "Municipality_39",
          "Municipality_39",
          "Municipality_39",
          "Municipality_39",
          "Municipality_39",
          "Municipality_39",
          "Municipality_39"
         ],
         "x0": " ",
         "xaxis": "x",
         "y": [
          64.41352239733925,
          64.29463891866872,
          64.56388511886966,
          64.32609659773267,
          64.32921274250799,
          64.34742677569145,
          64.36072228583764,
          64.38287550038106,
          64.49590608486477,
          64.2917509784531
         ],
         "y0": " ",
         "yaxis": "y"
        },
        {
         "alignmentgroup": "True",
         "hovertemplate": "Municipality=%{x}<br>Traffic_Pollution=%{y}<extra></extra>",
         "legendgroup": "Municipality_4",
         "marker": {
          "color": "#ab63fa",
          "opacity": 0.8
         },
         "name": "Municipality_4",
         "notched": false,
         "offsetgroup": "Municipality_4",
         "orientation": "v",
         "showlegend": true,
         "type": "box",
         "x": [
          "Municipality_4",
          "Municipality_4",
          "Municipality_4",
          "Municipality_4",
          "Municipality_4",
          "Municipality_4",
          "Municipality_4",
          "Municipality_4",
          "Municipality_4",
          "Municipality_4"
         ],
         "x0": " ",
         "xaxis": "x",
         "y": [
          36.91203361414902,
          36.64280576492156,
          36.896344480096815,
          37.626601689479976,
          38.62172906447841,
          38.94133200142804,
          39.43737820786347,
          40.225502828501725,
          40.239882725656926,
          41.08992927116444
         ],
         "y0": " ",
         "yaxis": "y"
        },
        {
         "alignmentgroup": "True",
         "hovertemplate": "Municipality=%{x}<br>Traffic_Pollution=%{y}<extra></extra>",
         "legendgroup": "Municipality_40",
         "marker": {
          "color": "#FFA15A",
          "opacity": 0.8
         },
         "name": "Municipality_40",
         "notched": false,
         "offsetgroup": "Municipality_40",
         "orientation": "v",
         "showlegend": true,
         "type": "box",
         "x": [
          "Municipality_40",
          "Municipality_40",
          "Municipality_40",
          "Municipality_40",
          "Municipality_40",
          "Municipality_40",
          "Municipality_40",
          "Municipality_40",
          "Municipality_40",
          "Municipality_40"
         ],
         "x0": " ",
         "xaxis": "x",
         "y": [
          25.399010312173974,
          25.445940365181865,
          25.494462992370128,
          25.56473476325662,
          25.50486759432434,
          25.386896608615995,
          25.318294986132702,
          25.563368120588915,
          25.45769033469037,
          25.54297098506208
         ],
         "y0": " ",
         "yaxis": "y"
        },
        {
         "alignmentgroup": "True",
         "hovertemplate": "Municipality=%{x}<br>Traffic_Pollution=%{y}<extra></extra>",
         "legendgroup": "Municipality_41",
         "marker": {
          "color": "#19d3f3",
          "opacity": 0.8
         },
         "name": "Municipality_41",
         "notched": false,
         "offsetgroup": "Municipality_41",
         "orientation": "v",
         "showlegend": true,
         "type": "box",
         "x": [
          "Municipality_41",
          "Municipality_41",
          "Municipality_41",
          "Municipality_41",
          "Municipality_41",
          "Municipality_41",
          "Municipality_41",
          "Municipality_41",
          "Municipality_41",
          "Municipality_41"
         ],
         "x0": " ",
         "xaxis": "x",
         "y": [
          47.82827613307377,
          48.61981664622677,
          48.55329651704378,
          49.40802989207506,
          50.13436374322762,
          50.209167665212505,
          51.00572515227399,
          51.48197971444922,
          52.274843260465154,
          52.30034460299167
         ],
         "y0": " ",
         "yaxis": "y"
        },
        {
         "alignmentgroup": "True",
         "hovertemplate": "Municipality=%{x}<br>Traffic_Pollution=%{y}<extra></extra>",
         "legendgroup": "Municipality_42",
         "marker": {
          "color": "#FF6692",
          "opacity": 0.8
         },
         "name": "Municipality_42",
         "notched": false,
         "offsetgroup": "Municipality_42",
         "orientation": "v",
         "showlegend": true,
         "type": "box",
         "x": [
          "Municipality_42",
          "Municipality_42",
          "Municipality_42",
          "Municipality_42",
          "Municipality_42",
          "Municipality_42",
          "Municipality_42",
          "Municipality_42",
          "Municipality_42",
          "Municipality_42"
         ],
         "x0": " ",
         "xaxis": "x",
         "y": [
          44.740416805876336,
          null,
          45.89630939806853,
          46.64096642517735,
          47.09479246141315,
          47.59648583044722,
          48.00844818502159,
          49.00554210344273,
          48.91305650633669,
          49.209642138584336
         ],
         "y0": " ",
         "yaxis": "y"
        },
        {
         "alignmentgroup": "True",
         "hovertemplate": "Municipality=%{x}<br>Traffic_Pollution=%{y}<extra></extra>",
         "legendgroup": "Municipality_43",
         "marker": {
          "color": "#B6E880",
          "opacity": 0.8
         },
         "name": "Municipality_43",
         "notched": false,
         "offsetgroup": "Municipality_43",
         "orientation": "v",
         "showlegend": true,
         "type": "box",
         "x": [
          "Municipality_43",
          "Municipality_43",
          "Municipality_43",
          "Municipality_43",
          "Municipality_43",
          "Municipality_43",
          "Municipality_43",
          "Municipality_43",
          "Municipality_43",
          "Municipality_43"
         ],
         "x0": " ",
         "xaxis": "x",
         "y": [
          49.08391000603122,
          49.30726249847347,
          49.89935247648048,
          50.34338267226631,
          null,
          51.65897510428552,
          51.74137082417729,
          52.427463269781526,
          52.95459532657376,
          53.40235601929531
         ],
         "y0": " ",
         "yaxis": "y"
        },
        {
         "alignmentgroup": "True",
         "hovertemplate": "Municipality=%{x}<br>Traffic_Pollution=%{y}<extra></extra>",
         "legendgroup": "Municipality_44",
         "marker": {
          "color": "#FF97FF",
          "opacity": 0.8
         },
         "name": "Municipality_44",
         "notched": false,
         "offsetgroup": "Municipality_44",
         "orientation": "v",
         "showlegend": true,
         "type": "box",
         "x": [
          "Municipality_44",
          "Municipality_44",
          "Municipality_44",
          "Municipality_44",
          "Municipality_44",
          "Municipality_44",
          "Municipality_44",
          "Municipality_44",
          "Municipality_44",
          "Municipality_44"
         ],
         "x0": " ",
         "xaxis": "x",
         "y": [
          55.27075683331894,
          55.21887381579752,
          55.171124575020976,
          55.256070321202216,
          55.3428449264056,
          55.18490819049591,
          55.169623748495866,
          55.37742102850032,
          55.222273310901926,
          55.31829969231356
         ],
         "y0": " ",
         "yaxis": "y"
        },
        {
         "alignmentgroup": "True",
         "hovertemplate": "Municipality=%{x}<br>Traffic_Pollution=%{y}<extra></extra>",
         "legendgroup": "Municipality_45",
         "marker": {
          "color": "#FECB52",
          "opacity": 0.8
         },
         "name": "Municipality_45",
         "notched": false,
         "offsetgroup": "Municipality_45",
         "orientation": "v",
         "showlegend": true,
         "type": "box",
         "x": [
          "Municipality_45",
          "Municipality_45",
          "Municipality_45",
          "Municipality_45",
          "Municipality_45",
          "Municipality_45",
          "Municipality_45",
          "Municipality_45",
          "Municipality_45",
          "Municipality_45"
         ],
         "x0": " ",
         "xaxis": "x",
         "y": [
          67.69144684682777,
          67.79533010166652,
          67.7239036170168,
          67.74215572666478,
          67.6437947086131,
          67.78257224429989,
          67.83786032894002,
          67.75852389050067,
          67.73463115497027,
          67.75440126049952
         ],
         "y0": " ",
         "yaxis": "y"
        },
        {
         "alignmentgroup": "True",
         "hovertemplate": "Municipality=%{x}<br>Traffic_Pollution=%{y}<extra></extra>",
         "legendgroup": "Municipality_46",
         "marker": {
          "color": "#636efa",
          "opacity": 0.8
         },
         "name": "Municipality_46",
         "notched": false,
         "offsetgroup": "Municipality_46",
         "orientation": "v",
         "showlegend": true,
         "type": "box",
         "x": [
          "Municipality_46",
          "Municipality_46",
          "Municipality_46",
          "Municipality_46",
          "Municipality_46",
          "Municipality_46",
          "Municipality_46",
          "Municipality_46",
          "Municipality_46",
          "Municipality_46"
         ],
         "x0": " ",
         "xaxis": "x",
         "y": [
          55.07963317216899,
          55.38325519048261,
          55.72216095173209,
          56.81742283466993,
          57.24994140409334,
          57.8726867018352,
          58.36879046294784,
          58.86104965539671,
          58.99869852469245,
          59.58261841711046
         ],
         "y0": " ",
         "yaxis": "y"
        },
        {
         "alignmentgroup": "True",
         "hovertemplate": "Municipality=%{x}<br>Traffic_Pollution=%{y}<extra></extra>",
         "legendgroup": "Municipality_47",
         "marker": {
          "color": "#EF553B",
          "opacity": 0.8
         },
         "name": "Municipality_47",
         "notched": false,
         "offsetgroup": "Municipality_47",
         "orientation": "v",
         "showlegend": true,
         "type": "box",
         "x": [
          "Municipality_47",
          "Municipality_47",
          "Municipality_47",
          "Municipality_47",
          "Municipality_47",
          "Municipality_47",
          "Municipality_47",
          "Municipality_47",
          "Municipality_47",
          "Municipality_47"
         ],
         "x0": " ",
         "xaxis": "x",
         "y": [
          45.297039895281294,
          46.19926994114336,
          46.33341314735606,
          46.80950558819388,
          47.01689041163916,
          47.81533363152472,
          48.44627747417226,
          49.00505373568381,
          49.84291162976039,
          49.75259523233342
         ],
         "y0": " ",
         "yaxis": "y"
        },
        {
         "alignmentgroup": "True",
         "hovertemplate": "Municipality=%{x}<br>Traffic_Pollution=%{y}<extra></extra>",
         "legendgroup": "Municipality_48",
         "marker": {
          "color": "#00cc96",
          "opacity": 0.8
         },
         "name": "Municipality_48",
         "notched": false,
         "offsetgroup": "Municipality_48",
         "orientation": "v",
         "showlegend": true,
         "type": "box",
         "x": [
          "Municipality_48",
          "Municipality_48",
          "Municipality_48",
          "Municipality_48",
          "Municipality_48",
          "Municipality_48",
          "Municipality_48",
          "Municipality_48",
          "Municipality_48",
          "Municipality_48"
         ],
         "x0": " ",
         "xaxis": "x",
         "y": [
          53.091021051867685,
          53.21698045233317,
          53.314623385637645,
          53.10198172742223,
          53.09610243828336,
          53.29989306162412,
          53.260971130975626,
          53.09579131436831,
          53.25583429558941,
          53.29148438690881
         ],
         "y0": " ",
         "yaxis": "y"
        },
        {
         "alignmentgroup": "True",
         "hovertemplate": "Municipality=%{x}<br>Traffic_Pollution=%{y}<extra></extra>",
         "legendgroup": "Municipality_49",
         "marker": {
          "color": "#ab63fa",
          "opacity": 0.8
         },
         "name": "Municipality_49",
         "notched": false,
         "offsetgroup": "Municipality_49",
         "orientation": "v",
         "showlegend": true,
         "type": "box",
         "x": [
          "Municipality_49",
          "Municipality_49",
          "Municipality_49",
          "Municipality_49",
          "Municipality_49",
          "Municipality_49",
          "Municipality_49",
          "Municipality_49",
          "Municipality_49",
          "Municipality_49"
         ],
         "x0": " ",
         "xaxis": "x",
         "y": [
          60.11342768646513,
          61.014855514585314,
          61.28932430215734,
          61.59732466547248,
          61.66183420975043,
          62.538489122774834,
          63.21386873844805,
          63.42079017157817,
          63.82393694674504,
          64.5744869981895
         ],
         "y0": " ",
         "yaxis": "y"
        },
        {
         "alignmentgroup": "True",
         "hovertemplate": "Municipality=%{x}<br>Traffic_Pollution=%{y}<extra></extra>",
         "legendgroup": "Municipality_5",
         "marker": {
          "color": "#FFA15A",
          "opacity": 0.8
         },
         "name": "Municipality_5",
         "notched": false,
         "offsetgroup": "Municipality_5",
         "orientation": "v",
         "showlegend": true,
         "type": "box",
         "x": [
          "Municipality_5",
          "Municipality_5",
          "Municipality_5",
          "Municipality_5",
          "Municipality_5",
          "Municipality_5",
          "Municipality_5",
          "Municipality_5",
          "Municipality_5",
          "Municipality_5"
         ],
         "x0": " ",
         "xaxis": "x",
         "y": [
          67.99991770825076,
          68.45442951838746,
          68.62715537823843,
          69.0396225301274,
          69.41789991217671,
          70.42500400562373,
          71.0317949086242,
          71.35662729608609,
          72.13375997412058,
          72.58117132731495
         ],
         "y0": " ",
         "yaxis": "y"
        },
        {
         "alignmentgroup": "True",
         "hovertemplate": "Municipality=%{x}<br>Traffic_Pollution=%{y}<extra></extra>",
         "legendgroup": "Municipality_50",
         "marker": {
          "color": "#19d3f3",
          "opacity": 0.8
         },
         "name": "Municipality_50",
         "notched": false,
         "offsetgroup": "Municipality_50",
         "orientation": "v",
         "showlegend": true,
         "type": "box",
         "x": [
          "Municipality_50",
          "Municipality_50",
          "Municipality_50",
          "Municipality_50",
          "Municipality_50",
          "Municipality_50",
          "Municipality_50",
          "Municipality_50",
          "Municipality_50",
          "Municipality_50"
         ],
         "x0": " ",
         "xaxis": "x",
         "y": [
          51.081002913391856,
          51.16366833886222,
          51.14928566142506,
          51.17935248946888,
          51.155702874937234,
          51.04615773724968,
          51.0369286457574,
          51.18338306193563,
          51.18458895604351,
          51.10839523296584
         ],
         "y0": " ",
         "yaxis": "y"
        },
        {
         "alignmentgroup": "True",
         "hovertemplate": "Municipality=%{x}<br>Traffic_Pollution=%{y}<extra></extra>",
         "legendgroup": "Municipality_6",
         "marker": {
          "color": "#FF6692",
          "opacity": 0.8
         },
         "name": "Municipality_6",
         "notched": false,
         "offsetgroup": "Municipality_6",
         "orientation": "v",
         "showlegend": true,
         "type": "box",
         "x": [
          "Municipality_6",
          "Municipality_6",
          "Municipality_6",
          "Municipality_6",
          "Municipality_6",
          "Municipality_6",
          "Municipality_6",
          "Municipality_6",
          "Municipality_6",
          "Municipality_6"
         ],
         "x0": " ",
         "xaxis": "x",
         "y": [
          44.44678173635359,
          44.56210832518384,
          45.05610149186638,
          45.80228130217616,
          46.28917368586212,
          46.49839693014664,
          47.6450872185041,
          47.72296987939319,
          48.04153910981682,
          48.64517571977251
         ],
         "y0": " ",
         "yaxis": "y"
        },
        {
         "alignmentgroup": "True",
         "hovertemplate": "Municipality=%{x}<br>Traffic_Pollution=%{y}<extra></extra>",
         "legendgroup": "Municipality_7",
         "marker": {
          "color": "#B6E880",
          "opacity": 0.8
         },
         "name": "Municipality_7",
         "notched": false,
         "offsetgroup": "Municipality_7",
         "orientation": "v",
         "showlegend": true,
         "type": "box",
         "x": [
          "Municipality_7",
          "Municipality_7",
          "Municipality_7",
          "Municipality_7",
          "Municipality_7",
          "Municipality_7",
          "Municipality_7",
          "Municipality_7",
          "Municipality_7",
          "Municipality_7"
         ],
         "x0": " ",
         "xaxis": "x",
         "y": [
          44.89926914134013,
          45.8665692686534,
          45.800524113114605,
          46.53383232114917,
          47.19045038852457,
          47.390158438811206,
          48.0115162228191,
          48.584122422187335,
          48.92002219157558,
          49.52735123216881
         ],
         "y0": " ",
         "yaxis": "y"
        },
        {
         "alignmentgroup": "True",
         "hovertemplate": "Municipality=%{x}<br>Traffic_Pollution=%{y}<extra></extra>",
         "legendgroup": "Municipality_8",
         "marker": {
          "color": "#FF97FF",
          "opacity": 0.8
         },
         "name": "Municipality_8",
         "notched": false,
         "offsetgroup": "Municipality_8",
         "orientation": "v",
         "showlegend": true,
         "type": "box",
         "x": [
          "Municipality_8",
          "Municipality_8",
          "Municipality_8",
          "Municipality_8",
          "Municipality_8",
          "Municipality_8",
          "Municipality_8",
          "Municipality_8",
          "Municipality_8",
          "Municipality_8"
         ],
         "x0": " ",
         "xaxis": "x",
         "y": [
          67.57525790658877,
          67.56697243281639,
          67.46881435749204,
          67.45998636107306,
          67.4699158911211,
          67.50743708706366,
          67.709963585307,
          67.53283634228262,
          67.49174713860589,
          67.60791449537035
         ],
         "y0": " ",
         "yaxis": "y"
        },
        {
         "alignmentgroup": "True",
         "hovertemplate": "Municipality=%{x}<br>Traffic_Pollution=%{y}<extra></extra>",
         "legendgroup": "Municipality_9",
         "marker": {
          "color": "#FECB52",
          "opacity": 0.8
         },
         "name": "Municipality_9",
         "notched": false,
         "offsetgroup": "Municipality_9",
         "orientation": "v",
         "showlegend": true,
         "type": "box",
         "x": [
          "Municipality_9",
          "Municipality_9",
          "Municipality_9",
          "Municipality_9",
          "Municipality_9",
          "Municipality_9",
          "Municipality_9",
          "Municipality_9",
          "Municipality_9",
          "Municipality_9"
         ],
         "x0": " ",
         "xaxis": "x",
         "y": [
          36.116531589243216,
          36.70516742480292,
          37.37053585986334,
          37.76266419362809,
          38.66942423158289,
          38.526621221667,
          39.67261033394564,
          39.76464781709532,
          40.142385652768894,
          40.84852707938534
         ],
         "y0": " ",
         "yaxis": "y"
        }
       ],
       "layout": {
        "boxmode": "overlay",
        "font": {
         "size": 14
        },
        "height": 600,
        "legend": {
         "title": {
          "text": "Municipality"
         },
         "tracegroupgap": 0
        },
        "margin": {
         "t": 60
        },
        "template": {
         "data": {
          "bar": [
           {
            "error_x": {
             "color": "#2a3f5f"
            },
            "error_y": {
             "color": "#2a3f5f"
            },
            "marker": {
             "line": {
              "color": "#E5ECF6",
              "width": 0.5
             },
             "pattern": {
              "fillmode": "overlay",
              "size": 10,
              "solidity": 0.2
             }
            },
            "type": "bar"
           }
          ],
          "barpolar": [
           {
            "marker": {
             "line": {
              "color": "#E5ECF6",
              "width": 0.5
             },
             "pattern": {
              "fillmode": "overlay",
              "size": 10,
              "solidity": 0.2
             }
            },
            "type": "barpolar"
           }
          ],
          "carpet": [
           {
            "aaxis": {
             "endlinecolor": "#2a3f5f",
             "gridcolor": "white",
             "linecolor": "white",
             "minorgridcolor": "white",
             "startlinecolor": "#2a3f5f"
            },
            "baxis": {
             "endlinecolor": "#2a3f5f",
             "gridcolor": "white",
             "linecolor": "white",
             "minorgridcolor": "white",
             "startlinecolor": "#2a3f5f"
            },
            "type": "carpet"
           }
          ],
          "choropleth": [
           {
            "colorbar": {
             "outlinewidth": 0,
             "ticks": ""
            },
            "type": "choropleth"
           }
          ],
          "contour": [
           {
            "colorbar": {
             "outlinewidth": 0,
             "ticks": ""
            },
            "colorscale": [
             [
              0,
              "#0d0887"
             ],
             [
              0.1111111111111111,
              "#46039f"
             ],
             [
              0.2222222222222222,
              "#7201a8"
             ],
             [
              0.3333333333333333,
              "#9c179e"
             ],
             [
              0.4444444444444444,
              "#bd3786"
             ],
             [
              0.5555555555555556,
              "#d8576b"
             ],
             [
              0.6666666666666666,
              "#ed7953"
             ],
             [
              0.7777777777777778,
              "#fb9f3a"
             ],
             [
              0.8888888888888888,
              "#fdca26"
             ],
             [
              1,
              "#f0f921"
             ]
            ],
            "type": "contour"
           }
          ],
          "contourcarpet": [
           {
            "colorbar": {
             "outlinewidth": 0,
             "ticks": ""
            },
            "type": "contourcarpet"
           }
          ],
          "heatmap": [
           {
            "colorbar": {
             "outlinewidth": 0,
             "ticks": ""
            },
            "colorscale": [
             [
              0,
              "#0d0887"
             ],
             [
              0.1111111111111111,
              "#46039f"
             ],
             [
              0.2222222222222222,
              "#7201a8"
             ],
             [
              0.3333333333333333,
              "#9c179e"
             ],
             [
              0.4444444444444444,
              "#bd3786"
             ],
             [
              0.5555555555555556,
              "#d8576b"
             ],
             [
              0.6666666666666666,
              "#ed7953"
             ],
             [
              0.7777777777777778,
              "#fb9f3a"
             ],
             [
              0.8888888888888888,
              "#fdca26"
             ],
             [
              1,
              "#f0f921"
             ]
            ],
            "type": "heatmap"
           }
          ],
          "heatmapgl": [
           {
            "colorbar": {
             "outlinewidth": 0,
             "ticks": ""
            },
            "colorscale": [
             [
              0,
              "#0d0887"
             ],
             [
              0.1111111111111111,
              "#46039f"
             ],
             [
              0.2222222222222222,
              "#7201a8"
             ],
             [
              0.3333333333333333,
              "#9c179e"
             ],
             [
              0.4444444444444444,
              "#bd3786"
             ],
             [
              0.5555555555555556,
              "#d8576b"
             ],
             [
              0.6666666666666666,
              "#ed7953"
             ],
             [
              0.7777777777777778,
              "#fb9f3a"
             ],
             [
              0.8888888888888888,
              "#fdca26"
             ],
             [
              1,
              "#f0f921"
             ]
            ],
            "type": "heatmapgl"
           }
          ],
          "histogram": [
           {
            "marker": {
             "pattern": {
              "fillmode": "overlay",
              "size": 10,
              "solidity": 0.2
             }
            },
            "type": "histogram"
           }
          ],
          "histogram2d": [
           {
            "colorbar": {
             "outlinewidth": 0,
             "ticks": ""
            },
            "colorscale": [
             [
              0,
              "#0d0887"
             ],
             [
              0.1111111111111111,
              "#46039f"
             ],
             [
              0.2222222222222222,
              "#7201a8"
             ],
             [
              0.3333333333333333,
              "#9c179e"
             ],
             [
              0.4444444444444444,
              "#bd3786"
             ],
             [
              0.5555555555555556,
              "#d8576b"
             ],
             [
              0.6666666666666666,
              "#ed7953"
             ],
             [
              0.7777777777777778,
              "#fb9f3a"
             ],
             [
              0.8888888888888888,
              "#fdca26"
             ],
             [
              1,
              "#f0f921"
             ]
            ],
            "type": "histogram2d"
           }
          ],
          "histogram2dcontour": [
           {
            "colorbar": {
             "outlinewidth": 0,
             "ticks": ""
            },
            "colorscale": [
             [
              0,
              "#0d0887"
             ],
             [
              0.1111111111111111,
              "#46039f"
             ],
             [
              0.2222222222222222,
              "#7201a8"
             ],
             [
              0.3333333333333333,
              "#9c179e"
             ],
             [
              0.4444444444444444,
              "#bd3786"
             ],
             [
              0.5555555555555556,
              "#d8576b"
             ],
             [
              0.6666666666666666,
              "#ed7953"
             ],
             [
              0.7777777777777778,
              "#fb9f3a"
             ],
             [
              0.8888888888888888,
              "#fdca26"
             ],
             [
              1,
              "#f0f921"
             ]
            ],
            "type": "histogram2dcontour"
           }
          ],
          "mesh3d": [
           {
            "colorbar": {
             "outlinewidth": 0,
             "ticks": ""
            },
            "type": "mesh3d"
           }
          ],
          "parcoords": [
           {
            "line": {
             "colorbar": {
              "outlinewidth": 0,
              "ticks": ""
             }
            },
            "type": "parcoords"
           }
          ],
          "pie": [
           {
            "automargin": true,
            "type": "pie"
           }
          ],
          "scatter": [
           {
            "fillpattern": {
             "fillmode": "overlay",
             "size": 10,
             "solidity": 0.2
            },
            "type": "scatter"
           }
          ],
          "scatter3d": [
           {
            "line": {
             "colorbar": {
              "outlinewidth": 0,
              "ticks": ""
             }
            },
            "marker": {
             "colorbar": {
              "outlinewidth": 0,
              "ticks": ""
             }
            },
            "type": "scatter3d"
           }
          ],
          "scattercarpet": [
           {
            "marker": {
             "colorbar": {
              "outlinewidth": 0,
              "ticks": ""
             }
            },
            "type": "scattercarpet"
           }
          ],
          "scattergeo": [
           {
            "marker": {
             "colorbar": {
              "outlinewidth": 0,
              "ticks": ""
             }
            },
            "type": "scattergeo"
           }
          ],
          "scattergl": [
           {
            "marker": {
             "colorbar": {
              "outlinewidth": 0,
              "ticks": ""
             }
            },
            "type": "scattergl"
           }
          ],
          "scattermapbox": [
           {
            "marker": {
             "colorbar": {
              "outlinewidth": 0,
              "ticks": ""
             }
            },
            "type": "scattermapbox"
           }
          ],
          "scatterpolar": [
           {
            "marker": {
             "colorbar": {
              "outlinewidth": 0,
              "ticks": ""
             }
            },
            "type": "scatterpolar"
           }
          ],
          "scatterpolargl": [
           {
            "marker": {
             "colorbar": {
              "outlinewidth": 0,
              "ticks": ""
             }
            },
            "type": "scatterpolargl"
           }
          ],
          "scatterternary": [
           {
            "marker": {
             "colorbar": {
              "outlinewidth": 0,
              "ticks": ""
             }
            },
            "type": "scatterternary"
           }
          ],
          "surface": [
           {
            "colorbar": {
             "outlinewidth": 0,
             "ticks": ""
            },
            "colorscale": [
             [
              0,
              "#0d0887"
             ],
             [
              0.1111111111111111,
              "#46039f"
             ],
             [
              0.2222222222222222,
              "#7201a8"
             ],
             [
              0.3333333333333333,
              "#9c179e"
             ],
             [
              0.4444444444444444,
              "#bd3786"
             ],
             [
              0.5555555555555556,
              "#d8576b"
             ],
             [
              0.6666666666666666,
              "#ed7953"
             ],
             [
              0.7777777777777778,
              "#fb9f3a"
             ],
             [
              0.8888888888888888,
              "#fdca26"
             ],
             [
              1,
              "#f0f921"
             ]
            ],
            "type": "surface"
           }
          ],
          "table": [
           {
            "cells": {
             "fill": {
              "color": "#EBF0F8"
             },
             "line": {
              "color": "white"
             }
            },
            "header": {
             "fill": {
              "color": "#C8D4E3"
             },
             "line": {
              "color": "white"
             }
            },
            "type": "table"
           }
          ]
         },
         "layout": {
          "annotationdefaults": {
           "arrowcolor": "#2a3f5f",
           "arrowhead": 0,
           "arrowwidth": 1
          },
          "autotypenumbers": "strict",
          "coloraxis": {
           "colorbar": {
            "outlinewidth": 0,
            "ticks": ""
           }
          },
          "colorscale": {
           "diverging": [
            [
             0,
             "#8e0152"
            ],
            [
             0.1,
             "#c51b7d"
            ],
            [
             0.2,
             "#de77ae"
            ],
            [
             0.3,
             "#f1b6da"
            ],
            [
             0.4,
             "#fde0ef"
            ],
            [
             0.5,
             "#f7f7f7"
            ],
            [
             0.6,
             "#e6f5d0"
            ],
            [
             0.7,
             "#b8e186"
            ],
            [
             0.8,
             "#7fbc41"
            ],
            [
             0.9,
             "#4d9221"
            ],
            [
             1,
             "#276419"
            ]
           ],
           "sequential": [
            [
             0,
             "#0d0887"
            ],
            [
             0.1111111111111111,
             "#46039f"
            ],
            [
             0.2222222222222222,
             "#7201a8"
            ],
            [
             0.3333333333333333,
             "#9c179e"
            ],
            [
             0.4444444444444444,
             "#bd3786"
            ],
            [
             0.5555555555555556,
             "#d8576b"
            ],
            [
             0.6666666666666666,
             "#ed7953"
            ],
            [
             0.7777777777777778,
             "#fb9f3a"
            ],
            [
             0.8888888888888888,
             "#fdca26"
            ],
            [
             1,
             "#f0f921"
            ]
           ],
           "sequentialminus": [
            [
             0,
             "#0d0887"
            ],
            [
             0.1111111111111111,
             "#46039f"
            ],
            [
             0.2222222222222222,
             "#7201a8"
            ],
            [
             0.3333333333333333,
             "#9c179e"
            ],
            [
             0.4444444444444444,
             "#bd3786"
            ],
            [
             0.5555555555555556,
             "#d8576b"
            ],
            [
             0.6666666666666666,
             "#ed7953"
            ],
            [
             0.7777777777777778,
             "#fb9f3a"
            ],
            [
             0.8888888888888888,
             "#fdca26"
            ],
            [
             1,
             "#f0f921"
            ]
           ]
          },
          "colorway": [
           "#636efa",
           "#EF553B",
           "#00cc96",
           "#ab63fa",
           "#FFA15A",
           "#19d3f3",
           "#FF6692",
           "#B6E880",
           "#FF97FF",
           "#FECB52"
          ],
          "font": {
           "color": "#2a3f5f"
          },
          "geo": {
           "bgcolor": "white",
           "lakecolor": "white",
           "landcolor": "#E5ECF6",
           "showlakes": true,
           "showland": true,
           "subunitcolor": "white"
          },
          "hoverlabel": {
           "align": "left"
          },
          "hovermode": "closest",
          "mapbox": {
           "style": "light"
          },
          "paper_bgcolor": "white",
          "plot_bgcolor": "#E5ECF6",
          "polar": {
           "angularaxis": {
            "gridcolor": "white",
            "linecolor": "white",
            "ticks": ""
           },
           "bgcolor": "#E5ECF6",
           "radialaxis": {
            "gridcolor": "white",
            "linecolor": "white",
            "ticks": ""
           }
          },
          "scene": {
           "xaxis": {
            "backgroundcolor": "#E5ECF6",
            "gridcolor": "white",
            "gridwidth": 2,
            "linecolor": "white",
            "showbackground": true,
            "ticks": "",
            "zerolinecolor": "white"
           },
           "yaxis": {
            "backgroundcolor": "#E5ECF6",
            "gridcolor": "white",
            "gridwidth": 2,
            "linecolor": "white",
            "showbackground": true,
            "ticks": "",
            "zerolinecolor": "white"
           },
           "zaxis": {
            "backgroundcolor": "#E5ECF6",
            "gridcolor": "white",
            "gridwidth": 2,
            "linecolor": "white",
            "showbackground": true,
            "ticks": "",
            "zerolinecolor": "white"
           }
          },
          "shapedefaults": {
           "line": {
            "color": "#2a3f5f"
           }
          },
          "ternary": {
           "aaxis": {
            "gridcolor": "white",
            "linecolor": "white",
            "ticks": ""
           },
           "baxis": {
            "gridcolor": "white",
            "linecolor": "white",
            "ticks": ""
           },
           "bgcolor": "#E5ECF6",
           "caxis": {
            "gridcolor": "white",
            "linecolor": "white",
            "ticks": ""
           }
          },
          "title": {
           "x": 0.05
          },
          "xaxis": {
           "automargin": true,
           "gridcolor": "white",
           "linecolor": "white",
           "ticks": "",
           "title": {
            "standoff": 15
           },
           "zerolinecolor": "white",
           "zerolinewidth": 2
          },
          "yaxis": {
           "automargin": true,
           "gridcolor": "white",
           "linecolor": "white",
           "ticks": "",
           "title": {
            "standoff": 15
           },
           "zerolinecolor": "white",
           "zerolinewidth": 2
          }
         }
        },
        "title": {
         "text": "Traffic Pollution Levels by Municipality"
        },
        "width": 1200,
        "xaxis": {
         "anchor": "y",
         "categoryarray": [
          "Municipality_40",
          "Municipality_14",
          "Municipality_23",
          "Municipality_38",
          "Municipality_26",
          "Municipality_9",
          "Municipality_4",
          "Municipality_11",
          "Municipality_20",
          "Municipality_6",
          "Municipality_27",
          "Municipality_22",
          "Municipality_12",
          "Municipality_7",
          "Municipality_47",
          "Municipality_42",
          "Municipality_29",
          "Municipality_13",
          "Municipality_33",
          "Municipality_1",
          "Municipality_37",
          "Municipality_41",
          "Municipality_50",
          "Municipality_43",
          "Municipality_2",
          "Municipality_3",
          "Municipality_31",
          "Municipality_10",
          "Municipality_48",
          "Municipality_28",
          "Municipality_25",
          "Municipality_44",
          "Municipality_17",
          "Municipality_16",
          "Municipality_46",
          "Municipality_34",
          "Municipality_21",
          "Municipality_15",
          "Municipality_32",
          "Municipality_30",
          "Municipality_18",
          "Municipality_49",
          "Municipality_24",
          "Municipality_39",
          "Municipality_19",
          "Municipality_8",
          "Municipality_45",
          "Municipality_5",
          "Municipality_35",
          "Municipality_36"
         ],
         "categoryorder": "array",
         "domain": [
          0,
          1
         ],
         "tickangle": -75,
         "title": {
          "text": "Municipality"
         }
        },
        "yaxis": {
         "anchor": "x",
         "domain": [
          0,
          1
         ],
         "title": {
          "text": "Traffic Pollution Index"
         }
        }
       }
      },
      "text/html": [
       "<div>                            <div id=\"9a6b9993-0bfa-40fd-9eed-f8f898b5efae\" class=\"plotly-graph-div\" style=\"height:600px; width:1200px;\"></div>            <script type=\"text/javascript\">                require([\"plotly\"], function(Plotly) {                    window.PLOTLYENV=window.PLOTLYENV || {};                                    if (document.getElementById(\"9a6b9993-0bfa-40fd-9eed-f8f898b5efae\")) {                    Plotly.newPlot(                        \"9a6b9993-0bfa-40fd-9eed-f8f898b5efae\",                        [{\"alignmentgroup\":\"True\",\"hovertemplate\":\"Municipality=%{x}\\u003cbr\\u003eTraffic_Pollution=%{y}\\u003cextra\\u003e\\u003c\\u002fextra\\u003e\",\"legendgroup\":\"Municipality_1\",\"marker\":{\"color\":\"#636efa\",\"opacity\":0.8},\"name\":\"Municipality_1\",\"notched\":false,\"offsetgroup\":\"Municipality_1\",\"orientation\":\"v\",\"showlegend\":true,\"x\":[\"Municipality_1\",\"Municipality_1\",\"Municipality_1\",\"Municipality_1\",\"Municipality_1\",\"Municipality_1\",\"Municipality_1\",\"Municipality_1\",\"Municipality_1\",\"Municipality_1\"],\"x0\":\" \",\"xaxis\":\"x\",\"y\":[46.28226111698324,47.1369457341354,47.86679386298539,47.82748374968436,48.375869163746046,48.673919031291945,49.74118520839899,49.59282868995404,50.57891958988932,50.70638233327928],\"y0\":\" \",\"yaxis\":\"y\",\"type\":\"box\"},{\"alignmentgroup\":\"True\",\"hovertemplate\":\"Municipality=%{x}\\u003cbr\\u003eTraffic_Pollution=%{y}\\u003cextra\\u003e\\u003c\\u002fextra\\u003e\",\"legendgroup\":\"Municipality_10\",\"marker\":{\"color\":\"#EF553B\",\"opacity\":0.8},\"name\":\"Municipality_10\",\"notched\":false,\"offsetgroup\":\"Municipality_10\",\"orientation\":\"v\",\"showlegend\":true,\"x\":[\"Municipality_10\",\"Municipality_10\",\"Municipality_10\",\"Municipality_10\",\"Municipality_10\",\"Municipality_10\",\"Municipality_10\",\"Municipality_10\",\"Municipality_10\",\"Municipality_10\"],\"x0\":\" \",\"xaxis\":\"x\",\"y\":[50.64601830758336,51.25371463463617,52.11925033662897,52.73081305749116,52.666744278165886,53.733973299085264,53.62372019006678,54.15033868094313,54.638244861418336,55.130430534219336],\"y0\":\" \",\"yaxis\":\"y\",\"type\":\"box\"},{\"alignmentgroup\":\"True\",\"hovertemplate\":\"Municipality=%{x}\\u003cbr\\u003eTraffic_Pollution=%{y}\\u003cextra\\u003e\\u003c\\u002fextra\\u003e\",\"legendgroup\":\"Municipality_11\",\"marker\":{\"color\":\"#00cc96\",\"opacity\":0.8},\"name\":\"Municipality_11\",\"notched\":false,\"offsetgroup\":\"Municipality_11\",\"orientation\":\"v\",\"showlegend\":true,\"x\":[\"Municipality_11\",\"Municipality_11\",\"Municipality_11\",\"Municipality_11\",\"Municipality_11\",\"Municipality_11\",\"Municipality_11\",\"Municipality_11\",\"Municipality_11\",\"Municipality_11\"],\"x0\":\" \",\"xaxis\":\"x\",\"y\":[38.09035335089333,38.480723832851176,39.11161721704166,39.863294972277785,40.64782780126907,41.19291013793072,41.47421603694234,42.51516949421613,42.25607216811304,42.76215164396719],\"y0\":\" \",\"yaxis\":\"y\",\"type\":\"box\"},{\"alignmentgroup\":\"True\",\"hovertemplate\":\"Municipality=%{x}\\u003cbr\\u003eTraffic_Pollution=%{y}\\u003cextra\\u003e\\u003c\\u002fextra\\u003e\",\"legendgroup\":\"Municipality_12\",\"marker\":{\"color\":\"#ab63fa\",\"opacity\":0.8},\"name\":\"Municipality_12\",\"notched\":false,\"offsetgroup\":\"Municipality_12\",\"orientation\":\"v\",\"showlegend\":true,\"x\":[\"Municipality_12\",\"Municipality_12\",\"Municipality_12\",\"Municipality_12\",\"Municipality_12\",\"Municipality_12\",\"Municipality_12\",\"Municipality_12\",\"Municipality_12\",\"Municipality_12\"],\"x0\":\" \",\"xaxis\":\"x\",\"y\":[44.781473259465535,45.31494717430122,45.73538352685677,45.80774452841199,46.76861275382241,46.9994869513505,47.18617193143488,48.14037187285468,48.69010573278553,49.0813145788128],\"y0\":\" \",\"yaxis\":\"y\",\"type\":\"box\"},{\"alignmentgroup\":\"True\",\"hovertemplate\":\"Municipality=%{x}\\u003cbr\\u003eTraffic_Pollution=%{y}\\u003cextra\\u003e\\u003c\\u002fextra\\u003e\",\"legendgroup\":\"Municipality_13\",\"marker\":{\"color\":\"#FFA15A\",\"opacity\":0.8},\"name\":\"Municipality_13\",\"notched\":false,\"offsetgroup\":\"Municipality_13\",\"orientation\":\"v\",\"showlegend\":true,\"x\":[\"Municipality_13\",\"Municipality_13\",\"Municipality_13\",\"Municipality_13\",\"Municipality_13\",\"Municipality_13\",\"Municipality_13\",\"Municipality_13\",\"Municipality_13\",\"Municipality_13\"],\"x0\":\" \",\"xaxis\":\"x\",\"y\":[48.04760447851604,47.90933592290845,47.91641082395613,47.95816584800464,47.86097860064725,47.98077084721095,48.00174573835977,48.0199457184462,47.88043541539264,47.89983202395663],\"y0\":\" \",\"yaxis\":\"y\",\"type\":\"box\"},{\"alignmentgroup\":\"True\",\"hovertemplate\":\"Municipality=%{x}\\u003cbr\\u003eTraffic_Pollution=%{y}\\u003cextra\\u003e\\u003c\\u002fextra\\u003e\",\"legendgroup\":\"Municipality_14\",\"marker\":{\"color\":\"#19d3f3\",\"opacity\":0.8},\"name\":\"Municipality_14\",\"notched\":false,\"offsetgroup\":\"Municipality_14\",\"orientation\":\"v\",\"showlegend\":true,\"x\":[\"Municipality_14\",\"Municipality_14\",\"Municipality_14\",\"Municipality_14\",\"Municipality_14\",\"Municipality_14\",\"Municipality_14\",\"Municipality_14\",\"Municipality_14\",\"Municipality_14\"],\"x0\":\" \",\"xaxis\":\"x\",\"y\":[27.884918139819582,28.23831787107505,28.91588940809919,29.241616549757907,29.42084014852273,30.511264650918548,31.23088156445733,31.18782110595035,31.567520961254733,32.18228017381832],\"y0\":\" \",\"yaxis\":\"y\",\"type\":\"box\"},{\"alignmentgroup\":\"True\",\"hovertemplate\":\"Municipality=%{x}\\u003cbr\\u003eTraffic_Pollution=%{y}\\u003cextra\\u003e\\u003c\\u002fextra\\u003e\",\"legendgroup\":\"Municipality_15\",\"marker\":{\"color\":\"#FF6692\",\"opacity\":0.8},\"name\":\"Municipality_15\",\"notched\":false,\"offsetgroup\":\"Municipality_15\",\"orientation\":\"v\",\"showlegend\":true,\"x\":[\"Municipality_15\",\"Municipality_15\",\"Municipality_15\",\"Municipality_15\",\"Municipality_15\",\"Municipality_15\",\"Municipality_15\",\"Municipality_15\",\"Municipality_15\",\"Municipality_15\"],\"x0\":\" \",\"xaxis\":\"x\",\"y\":[55.69705851911894,56.5622586300583,56.66041473269305,57.05740837787511,57.48889938712897,58.07440370973702,59.22749690758248,58.89199890678977,59.807040055255946,60.626573612479625],\"y0\":\" \",\"yaxis\":\"y\",\"type\":\"box\"},{\"alignmentgroup\":\"True\",\"hovertemplate\":\"Municipality=%{x}\\u003cbr\\u003eTraffic_Pollution=%{y}\\u003cextra\\u003e\\u003c\\u002fextra\\u003e\",\"legendgroup\":\"Municipality_16\",\"marker\":{\"color\":\"#B6E880\",\"opacity\":0.8},\"name\":\"Municipality_16\",\"notched\":false,\"offsetgroup\":\"Municipality_16\",\"orientation\":\"v\",\"showlegend\":true,\"x\":[\"Municipality_16\",\"Municipality_16\",\"Municipality_16\",\"Municipality_16\",\"Municipality_16\",\"Municipality_16\",\"Municipality_16\",\"Municipality_16\",\"Municipality_16\",\"Municipality_16\"],\"x0\":\" \",\"xaxis\":\"x\",\"y\":[56.36675229153328,56.18719303418065,56.22422361794263,null,56.21882006971955,56.40068681002589,56.16181107791796,56.29368493568872,56.1512040304905,56.30015454390502],\"y0\":\" \",\"yaxis\":\"y\",\"type\":\"box\"},{\"alignmentgroup\":\"True\",\"hovertemplate\":\"Municipality=%{x}\\u003cbr\\u003eTraffic_Pollution=%{y}\\u003cextra\\u003e\\u003c\\u002fextra\\u003e\",\"legendgroup\":\"Municipality_17\",\"marker\":{\"color\":\"#FF97FF\",\"opacity\":0.8},\"name\":\"Municipality_17\",\"notched\":false,\"offsetgroup\":\"Municipality_17\",\"orientation\":\"v\",\"showlegend\":true,\"x\":[\"Municipality_17\",\"Municipality_17\",\"Municipality_17\",\"Municipality_17\",\"Municipality_17\",\"Municipality_17\",\"Municipality_17\",\"Municipality_17\",\"Municipality_17\",\"Municipality_17\"],\"x0\":\" \",\"xaxis\":\"x\",\"y\":[53.7970545760529,54.134529606622166,54.765365320924985,55.34859361246391,55.29716899577531,56.67541887857335,56.63634701348805,57.68878850661126,57.74955247406808,58.311253811533085],\"y0\":\" \",\"yaxis\":\"y\",\"type\":\"box\"},{\"alignmentgroup\":\"True\",\"hovertemplate\":\"Municipality=%{x}\\u003cbr\\u003eTraffic_Pollution=%{y}\\u003cextra\\u003e\\u003c\\u002fextra\\u003e\",\"legendgroup\":\"Municipality_18\",\"marker\":{\"color\":\"#FECB52\",\"opacity\":0.8},\"name\":\"Municipality_18\",\"notched\":false,\"offsetgroup\":\"Municipality_18\",\"orientation\":\"v\",\"showlegend\":true,\"x\":[\"Municipality_18\",\"Municipality_18\",\"Municipality_18\",\"Municipality_18\",\"Municipality_18\",\"Municipality_18\",\"Municipality_18\",\"Municipality_18\",\"Municipality_18\",\"Municipality_18\"],\"x0\":\" \",\"xaxis\":\"x\",\"y\":[58.4448796164117,58.88162410422383,59.47957562409469,59.81383610253857,60.26229432837464,60.833679558141725,61.1998177125994,61.57243897054818,62.36652196066873,63.34370711350776],\"y0\":\" \",\"yaxis\":\"y\",\"type\":\"box\"},{\"alignmentgroup\":\"True\",\"hovertemplate\":\"Municipality=%{x}\\u003cbr\\u003eTraffic_Pollution=%{y}\\u003cextra\\u003e\\u003c\\u002fextra\\u003e\",\"legendgroup\":\"Municipality_19\",\"marker\":{\"color\":\"#636efa\",\"opacity\":0.8},\"name\":\"Municipality_19\",\"notched\":false,\"offsetgroup\":\"Municipality_19\",\"orientation\":\"v\",\"showlegend\":true,\"x\":[\"Municipality_19\",\"Municipality_19\",\"Municipality_19\",\"Municipality_19\",\"Municipality_19\",\"Municipality_19\",\"Municipality_19\",\"Municipality_19\",\"Municipality_19\",\"Municipality_19\"],\"x0\":\" \",\"xaxis\":\"x\",\"y\":[67.15114412781637,67.19053782256714,67.26067407720817,67.32360732179994,null,66.99718727875673,67.13956064579422,67.21196104308797,67.28921384045972,67.19880428784028],\"y0\":\" \",\"yaxis\":\"y\",\"type\":\"box\"},{\"alignmentgroup\":\"True\",\"hovertemplate\":\"Municipality=%{x}\\u003cbr\\u003eTraffic_Pollution=%{y}\\u003cextra\\u003e\\u003c\\u002fextra\\u003e\",\"legendgroup\":\"Municipality_2\",\"marker\":{\"color\":\"#EF553B\",\"opacity\":0.8},\"name\":\"Municipality_2\",\"notched\":false,\"offsetgroup\":\"Municipality_2\",\"orientation\":\"v\",\"showlegend\":true,\"x\":[\"Municipality_2\",\"Municipality_2\",\"Municipality_2\",\"Municipality_2\",\"Municipality_2\",\"Municipality_2\",\"Municipality_2\",\"Municipality_2\",\"Municipality_2\",\"Municipality_2\"],\"x0\":\" \",\"xaxis\":\"x\",\"y\":[49.96303297631226,50.82438762206993,51.2483418625006,51.791398641840445,52.36441387559532,52.719774392158456,53.22343927927927,53.99126468839052,54.12131750528861,54.53245791306534],\"y0\":\" \",\"yaxis\":\"y\",\"type\":\"box\"},{\"alignmentgroup\":\"True\",\"hovertemplate\":\"Municipality=%{x}\\u003cbr\\u003eTraffic_Pollution=%{y}\\u003cextra\\u003e\\u003c\\u002fextra\\u003e\",\"legendgroup\":\"Municipality_20\",\"marker\":{\"color\":\"#00cc96\",\"opacity\":0.8},\"name\":\"Municipality_20\",\"notched\":false,\"offsetgroup\":\"Municipality_20\",\"orientation\":\"v\",\"showlegend\":true,\"x\":[\"Municipality_20\",\"Municipality_20\",\"Municipality_20\",\"Municipality_20\",\"Municipality_20\",\"Municipality_20\",\"Municipality_20\",\"Municipality_20\",\"Municipality_20\",\"Municipality_20\"],\"x0\":\" \",\"xaxis\":\"x\",\"y\":[43.20360238567026,44.1620531335534,44.75112900072612,44.66644034933823,45.34797034676743,45.83009369446263,46.46021549797653,47.28666670442464,47.2757027978711,48.00884234085368],\"y0\":\" \",\"yaxis\":\"y\",\"type\":\"box\"},{\"alignmentgroup\":\"True\",\"hovertemplate\":\"Municipality=%{x}\\u003cbr\\u003eTraffic_Pollution=%{y}\\u003cextra\\u003e\\u003c\\u002fextra\\u003e\",\"legendgroup\":\"Municipality_21\",\"marker\":{\"color\":\"#ab63fa\",\"opacity\":0.8},\"name\":\"Municipality_21\",\"notched\":false,\"offsetgroup\":\"Municipality_21\",\"orientation\":\"v\",\"showlegend\":true,\"x\":[\"Municipality_21\",\"Municipality_21\",\"Municipality_21\",\"Municipality_21\",\"Municipality_21\",\"Municipality_21\",\"Municipality_21\",\"Municipality_21\",\"Municipality_21\",\"Municipality_21\"],\"x0\":\" \",\"xaxis\":\"x\",\"y\":[55.55472113164631,55.53831931995661,56.310828494866136,57.39886869337171,57.41035942415803,57.87590133480136,58.29276525711597,58.59038611099233,59.29915064976414,59.91498613683197],\"y0\":\" \",\"yaxis\":\"y\",\"type\":\"box\"},{\"alignmentgroup\":\"True\",\"hovertemplate\":\"Municipality=%{x}\\u003cbr\\u003eTraffic_Pollution=%{y}\\u003cextra\\u003e\\u003c\\u002fextra\\u003e\",\"legendgroup\":\"Municipality_22\",\"marker\":{\"color\":\"#FFA15A\",\"opacity\":0.8},\"name\":\"Municipality_22\",\"notched\":false,\"offsetgroup\":\"Municipality_22\",\"orientation\":\"v\",\"showlegend\":true,\"x\":[\"Municipality_22\",\"Municipality_22\",\"Municipality_22\",\"Municipality_22\",\"Municipality_22\",\"Municipality_22\",\"Municipality_22\",\"Municipality_22\",\"Municipality_22\",\"Municipality_22\"],\"x0\":\" \",\"xaxis\":\"x\",\"y\":[46.80060511645625,46.741717181944,46.90878488417369,46.7772094163985,46.81387946456929,46.88988646555013,46.82024955883495,46.9630605310311,46.8161071058237,46.71971994337572],\"y0\":\" \",\"yaxis\":\"y\",\"type\":\"box\"},{\"alignmentgroup\":\"True\",\"hovertemplate\":\"Municipality=%{x}\\u003cbr\\u003eTraffic_Pollution=%{y}\\u003cextra\\u003e\\u003c\\u002fextra\\u003e\",\"legendgroup\":\"Municipality_23\",\"marker\":{\"color\":\"#19d3f3\",\"opacity\":0.8},\"name\":\"Municipality_23\",\"notched\":false,\"offsetgroup\":\"Municipality_23\",\"orientation\":\"v\",\"showlegend\":true,\"x\":[\"Municipality_23\",\"Municipality_23\",\"Municipality_23\",\"Municipality_23\",\"Municipality_23\",\"Municipality_23\",\"Municipality_23\",\"Municipality_23\",\"Municipality_23\",\"Municipality_23\"],\"x0\":\" \",\"xaxis\":\"x\",\"y\":[32.72593148534675,32.88120329028339,32.84397440239548,32.727244330268945,32.73258462865895,null,32.84513510792899,32.896964420538524,32.70945149208632,32.76540540428425],\"y0\":\" \",\"yaxis\":\"y\",\"type\":\"box\"},{\"alignmentgroup\":\"True\",\"hovertemplate\":\"Municipality=%{x}\\u003cbr\\u003eTraffic_Pollution=%{y}\\u003cextra\\u003e\\u003c\\u002fextra\\u003e\",\"legendgroup\":\"Municipality_24\",\"marker\":{\"color\":\"#FF6692\",\"opacity\":0.8},\"name\":\"Municipality_24\",\"notched\":false,\"offsetgroup\":\"Municipality_24\",\"orientation\":\"v\",\"showlegend\":true,\"x\":[\"Municipality_24\",\"Municipality_24\",\"Municipality_24\",\"Municipality_24\",\"Municipality_24\",\"Municipality_24\",\"Municipality_24\",\"Municipality_24\",\"Municipality_24\",\"Municipality_24\"],\"x0\":\" \",\"xaxis\":\"x\",\"y\":[60.75947061249799,60.96796824324045,61.69054308927609,61.86837627429198,62.67239822003045,63.23800992742866,63.58957315642541,64.66771694550881,64.91185669524732,65.45133741263896],\"y0\":\" \",\"yaxis\":\"y\",\"type\":\"box\"},{\"alignmentgroup\":\"True\",\"hovertemplate\":\"Municipality=%{x}\\u003cbr\\u003eTraffic_Pollution=%{y}\\u003cextra\\u003e\\u003c\\u002fextra\\u003e\",\"legendgroup\":\"Municipality_25\",\"marker\":{\"color\":\"#B6E880\",\"opacity\":0.8},\"name\":\"Municipality_25\",\"notched\":false,\"offsetgroup\":\"Municipality_25\",\"orientation\":\"v\",\"showlegend\":true,\"x\":[\"Municipality_25\",\"Municipality_25\",\"Municipality_25\",\"Municipality_25\",\"Municipality_25\",\"Municipality_25\",\"Municipality_25\",\"Municipality_25\",\"Municipality_25\",\"Municipality_25\"],\"x0\":\" \",\"xaxis\":\"x\",\"y\":[54.370172137024,54.3550071466771,54.266635922881655,54.4340926318519,54.39448544160181,54.39695037939642,54.52464578853192,54.32246127113417,54.34086156872787,54.29273343447622],\"y0\":\" \",\"yaxis\":\"y\",\"type\":\"box\"},{\"alignmentgroup\":\"True\",\"hovertemplate\":\"Municipality=%{x}\\u003cbr\\u003eTraffic_Pollution=%{y}\\u003cextra\\u003e\\u003c\\u002fextra\\u003e\",\"legendgroup\":\"Municipality_26\",\"marker\":{\"color\":\"#FF97FF\",\"opacity\":0.8},\"name\":\"Municipality_26\",\"notched\":false,\"offsetgroup\":\"Municipality_26\",\"orientation\":\"v\",\"showlegend\":true,\"x\":[\"Municipality_26\",\"Municipality_26\",\"Municipality_26\",\"Municipality_26\",\"Municipality_26\",\"Municipality_26\",\"Municipality_26\",\"Municipality_26\",\"Municipality_26\",\"Municipality_26\"],\"x0\":\" \",\"xaxis\":\"x\",\"y\":[38.50088530014951,38.46477551757721,38.5303153737353,38.54724200544805,38.51576314171674,38.55675564361198,38.39263484990392,38.52739568671058,38.44843348731409,38.57335494100726],\"y0\":\" \",\"yaxis\":\"y\",\"type\":\"box\"},{\"alignmentgroup\":\"True\",\"hovertemplate\":\"Municipality=%{x}\\u003cbr\\u003eTraffic_Pollution=%{y}\\u003cextra\\u003e\\u003c\\u002fextra\\u003e\",\"legendgroup\":\"Municipality_27\",\"marker\":{\"color\":\"#FECB52\",\"opacity\":0.8},\"name\":\"Municipality_27\",\"notched\":false,\"offsetgroup\":\"Municipality_27\",\"orientation\":\"v\",\"showlegend\":true,\"x\":[\"Municipality_27\",\"Municipality_27\",\"Municipality_27\",\"Municipality_27\",\"Municipality_27\",\"Municipality_27\",\"Municipality_27\",\"Municipality_27\",\"Municipality_27\",\"Municipality_27\"],\"x0\":\" \",\"xaxis\":\"x\",\"y\":[46.689784338099045,46.7249082923958,46.7548480138585,46.74363486204131,46.74607549320549,46.68009057892594,46.63631756596372,46.699396611997415,46.80285974785104,46.6464739780152],\"y0\":\" \",\"yaxis\":\"y\",\"type\":\"box\"},{\"alignmentgroup\":\"True\",\"hovertemplate\":\"Municipality=%{x}\\u003cbr\\u003eTraffic_Pollution=%{y}\\u003cextra\\u003e\\u003c\\u002fextra\\u003e\",\"legendgroup\":\"Municipality_28\",\"marker\":{\"color\":\"#636efa\",\"opacity\":0.8},\"name\":\"Municipality_28\",\"notched\":false,\"offsetgroup\":\"Municipality_28\",\"orientation\":\"v\",\"showlegend\":true,\"x\":[\"Municipality_28\",\"Municipality_28\",\"Municipality_28\",\"Municipality_28\",\"Municipality_28\",\"Municipality_28\",\"Municipality_28\",\"Municipality_28\",\"Municipality_28\",\"Municipality_28\"],\"x0\":\" \",\"xaxis\":\"x\",\"y\":[54.34091547776227,54.33839530208184,54.13115298822166,54.26098933332849,54.12409997244904,54.34376399057731,54.2248126278238,54.2827990106664,54.31530200808465,54.38462057521655],\"y0\":\" \",\"yaxis\":\"y\",\"type\":\"box\"},{\"alignmentgroup\":\"True\",\"hovertemplate\":\"Municipality=%{x}\\u003cbr\\u003eTraffic_Pollution=%{y}\\u003cextra\\u003e\\u003c\\u002fextra\\u003e\",\"legendgroup\":\"Municipality_29\",\"marker\":{\"color\":\"#EF553B\",\"opacity\":0.8},\"name\":\"Municipality_29\",\"notched\":false,\"offsetgroup\":\"Municipality_29\",\"orientation\":\"v\",\"showlegend\":true,\"x\":[\"Municipality_29\",\"Municipality_29\",\"Municipality_29\",\"Municipality_29\",\"Municipality_29\",\"Municipality_29\",\"Municipality_29\",\"Municipality_29\",\"Municipality_29\",\"Municipality_29\"],\"x0\":\" \",\"xaxis\":\"x\",\"y\":[45.613803233088845,45.66111238056825,46.62762377838595,47.22260141090893,47.43647254305592,47.99296080882023,48.56121785885453,48.82094360183923,49.50636054669808,49.87093039032188],\"y0\":\" \",\"yaxis\":\"y\",\"type\":\"box\"},{\"alignmentgroup\":\"True\",\"hovertemplate\":\"Municipality=%{x}\\u003cbr\\u003eTraffic_Pollution=%{y}\\u003cextra\\u003e\\u003c\\u002fextra\\u003e\",\"legendgroup\":\"Municipality_3\",\"marker\":{\"color\":\"#00cc96\",\"opacity\":0.8},\"name\":\"Municipality_3\",\"notched\":false,\"offsetgroup\":\"Municipality_3\",\"orientation\":\"v\",\"showlegend\":true,\"x\":[\"Municipality_3\",\"Municipality_3\",\"Municipality_3\",\"Municipality_3\",\"Municipality_3\",\"Municipality_3\",\"Municipality_3\",\"Municipality_3\",\"Municipality_3\",\"Municipality_3\"],\"x0\":\" \",\"xaxis\":\"x\",\"y\":[50.87631578952697,51.57574190808351,51.78596914095465,52.29664785825269,52.65876943712792,53.118574873752216,53.66005076679464,54.39442811993999,55.23724833318191,55.29113128237525],\"y0\":\" \",\"yaxis\":\"y\",\"type\":\"box\"},{\"alignmentgroup\":\"True\",\"hovertemplate\":\"Municipality=%{x}\\u003cbr\\u003eTraffic_Pollution=%{y}\\u003cextra\\u003e\\u003c\\u002fextra\\u003e\",\"legendgroup\":\"Municipality_30\",\"marker\":{\"color\":\"#ab63fa\",\"opacity\":0.8},\"name\":\"Municipality_30\",\"notched\":false,\"offsetgroup\":\"Municipality_30\",\"orientation\":\"v\",\"showlegend\":true,\"x\":[\"Municipality_30\",\"Municipality_30\",\"Municipality_30\",\"Municipality_30\",\"Municipality_30\",\"Municipality_30\",\"Municipality_30\",\"Municipality_30\",\"Municipality_30\",\"Municipality_30\"],\"x0\":\" \",\"xaxis\":\"x\",\"y\":[57.223402848805726,57.6208431475424,58.37344270967657,58.762682339243234,59.40423133860735,59.85586989229654,60.5640500662002,60.86242715633532,61.549749196052105,62.038175877209],\"y0\":\" \",\"yaxis\":\"y\",\"type\":\"box\"},{\"alignmentgroup\":\"True\",\"hovertemplate\":\"Municipality=%{x}\\u003cbr\\u003eTraffic_Pollution=%{y}\\u003cextra\\u003e\\u003c\\u002fextra\\u003e\",\"legendgroup\":\"Municipality_31\",\"marker\":{\"color\":\"#FFA15A\",\"opacity\":0.8},\"name\":\"Municipality_31\",\"notched\":false,\"offsetgroup\":\"Municipality_31\",\"orientation\":\"v\",\"showlegend\":true,\"x\":[\"Municipality_31\",\"Municipality_31\",\"Municipality_31\",\"Municipality_31\",\"Municipality_31\",\"Municipality_31\",\"Municipality_31\",\"Municipality_31\",\"Municipality_31\",\"Municipality_31\"],\"x0\":\" \",\"xaxis\":\"x\",\"y\":[50.862866360739375,51.48818165578711,52.27849762622234,52.163313103713854,52.94477957151242,53.23021722813177,53.43763621895132,54.7622794047123,55.12485440053639,55.34629968888338],\"y0\":\" \",\"yaxis\":\"y\",\"type\":\"box\"},{\"alignmentgroup\":\"True\",\"hovertemplate\":\"Municipality=%{x}\\u003cbr\\u003eTraffic_Pollution=%{y}\\u003cextra\\u003e\\u003c\\u002fextra\\u003e\",\"legendgroup\":\"Municipality_32\",\"marker\":{\"color\":\"#19d3f3\",\"opacity\":0.8},\"name\":\"Municipality_32\",\"notched\":false,\"offsetgroup\":\"Municipality_32\",\"orientation\":\"v\",\"showlegend\":true,\"x\":[\"Municipality_32\",\"Municipality_32\",\"Municipality_32\",\"Municipality_32\",\"Municipality_32\",\"Municipality_32\",\"Municipality_32\",\"Municipality_32\",\"Municipality_32\",\"Municipality_32\"],\"x0\":\" \",\"xaxis\":\"x\",\"y\":[56.75603017560907,57.30951415175423,57.68443364401012,58.32889260375575,58.842214276597,59.42219134982325,59.57357203976758,60.47175153166224,60.460847013792296,60.80561559106169],\"y0\":\" \",\"yaxis\":\"y\",\"type\":\"box\"},{\"alignmentgroup\":\"True\",\"hovertemplate\":\"Municipality=%{x}\\u003cbr\\u003eTraffic_Pollution=%{y}\\u003cextra\\u003e\\u003c\\u002fextra\\u003e\",\"legendgroup\":\"Municipality_33\",\"marker\":{\"color\":\"#FF6692\",\"opacity\":0.8},\"name\":\"Municipality_33\",\"notched\":false,\"offsetgroup\":\"Municipality_33\",\"orientation\":\"v\",\"showlegend\":true,\"x\":[\"Municipality_33\",\"Municipality_33\",\"Municipality_33\",\"Municipality_33\",\"Municipality_33\",\"Municipality_33\",\"Municipality_33\",\"Municipality_33\",\"Municipality_33\",\"Municipality_33\"],\"x0\":\" \",\"xaxis\":\"x\",\"y\":[48.0976597210235,48.09212770094343,48.0916918301124,48.100544621227,48.017640573879085,47.92766310225653,48.11460552615757,48.07077636757534,47.87097225383507,48.05627191529438],\"y0\":\" \",\"yaxis\":\"y\",\"type\":\"box\"},{\"alignmentgroup\":\"True\",\"hovertemplate\":\"Municipality=%{x}\\u003cbr\\u003eTraffic_Pollution=%{y}\\u003cextra\\u003e\\u003c\\u002fextra\\u003e\",\"legendgroup\":\"Municipality_34\",\"marker\":{\"color\":\"#B6E880\",\"opacity\":0.8},\"name\":\"Municipality_34\",\"notched\":false,\"offsetgroup\":\"Municipality_34\",\"orientation\":\"v\",\"showlegend\":true,\"x\":[\"Municipality_34\",\"Municipality_34\",\"Municipality_34\",\"Municipality_34\",\"Municipality_34\",\"Municipality_34\",\"Municipality_34\",\"Municipality_34\",\"Municipality_34\",\"Municipality_34\"],\"x0\":\" \",\"xaxis\":\"x\",\"y\":[54.89061412977352,55.60721605530596,56.08587108355599,56.36498124057652,57.34434071321556,57.89463193782727,57.90325190302719,58.8993585037686,58.869542197089,59.38031400108904],\"y0\":\" \",\"yaxis\":\"y\",\"type\":\"box\"},{\"alignmentgroup\":\"True\",\"hovertemplate\":\"Municipality=%{x}\\u003cbr\\u003eTraffic_Pollution=%{y}\\u003cextra\\u003e\\u003c\\u002fextra\\u003e\",\"legendgroup\":\"Municipality_35\",\"marker\":{\"color\":\"#FF97FF\",\"opacity\":0.8},\"name\":\"Municipality_35\",\"notched\":false,\"offsetgroup\":\"Municipality_35\",\"orientation\":\"v\",\"showlegend\":true,\"x\":[\"Municipality_35\",\"Municipality_35\",\"Municipality_35\",\"Municipality_35\",\"Municipality_35\",\"Municipality_35\",\"Municipality_35\",\"Municipality_35\",\"Municipality_35\",\"Municipality_35\"],\"x0\":\" \",\"xaxis\":\"x\",\"y\":[68.26366001068489,68.66810767983617,69.21723619688515,70.01045824893016,70.33281609067484,70.4303399999334,71.07318763027995,71.70765627169318,72.51474546216234,72.69825112113506],\"y0\":\" \",\"yaxis\":\"y\",\"type\":\"box\"},{\"alignmentgroup\":\"True\",\"hovertemplate\":\"Municipality=%{x}\\u003cbr\\u003eTraffic_Pollution=%{y}\\u003cextra\\u003e\\u003c\\u002fextra\\u003e\",\"legendgroup\":\"Municipality_36\",\"marker\":{\"color\":\"#FECB52\",\"opacity\":0.8},\"name\":\"Municipality_36\",\"notched\":false,\"offsetgroup\":\"Municipality_36\",\"orientation\":\"v\",\"showlegend\":true,\"x\":[\"Municipality_36\",\"Municipality_36\",\"Municipality_36\",\"Municipality_36\",\"Municipality_36\",\"Municipality_36\",\"Municipality_36\",\"Municipality_36\",\"Municipality_36\",\"Municipality_36\"],\"x0\":\" \",\"xaxis\":\"x\",\"y\":[69.33200817706941,69.94832055652131,70.42478150879779,70.80421217486685,71.27577485437669,71.91018889562928,72.31744615119194,73.12160774370105,73.22553277309605,73.90178861306963],\"y0\":\" \",\"yaxis\":\"y\",\"type\":\"box\"},{\"alignmentgroup\":\"True\",\"hovertemplate\":\"Municipality=%{x}\\u003cbr\\u003eTraffic_Pollution=%{y}\\u003cextra\\u003e\\u003c\\u002fextra\\u003e\",\"legendgroup\":\"Municipality_37\",\"marker\":{\"color\":\"#636efa\",\"opacity\":0.8},\"name\":\"Municipality_37\",\"notched\":false,\"offsetgroup\":\"Municipality_37\",\"orientation\":\"v\",\"showlegend\":true,\"x\":[\"Municipality_37\",\"Municipality_37\",\"Municipality_37\",\"Municipality_37\",\"Municipality_37\",\"Municipality_37\",\"Municipality_37\",\"Municipality_37\",\"Municipality_37\",\"Municipality_37\"],\"x0\":\" \",\"xaxis\":\"x\",\"y\":[47.99647723394977,47.873686339519445,48.58556093908511,49.46062806913864,49.74773473943547,50.58427554975543,50.98878199990117,51.66102519412964,51.731879859630666,52.15414669223539],\"y0\":\" \",\"yaxis\":\"y\",\"type\":\"box\"},{\"alignmentgroup\":\"True\",\"hovertemplate\":\"Municipality=%{x}\\u003cbr\\u003eTraffic_Pollution=%{y}\\u003cextra\\u003e\\u003c\\u002fextra\\u003e\",\"legendgroup\":\"Municipality_38\",\"marker\":{\"color\":\"#EF553B\",\"opacity\":0.8},\"name\":\"Municipality_38\",\"notched\":false,\"offsetgroup\":\"Municipality_38\",\"orientation\":\"v\",\"showlegend\":true,\"x\":[\"Municipality_38\",\"Municipality_38\",\"Municipality_38\",\"Municipality_38\",\"Municipality_38\",\"Municipality_38\",\"Municipality_38\",\"Municipality_38\",\"Municipality_38\",\"Municipality_38\"],\"x0\":\" \",\"xaxis\":\"x\",\"y\":[35.78544153515708,36.18118542607088,37.05071557638521,37.32534446823238,37.58610961138021,38.36478278698847,39.08379071296345,39.36408368298157,39.98067794956111,40.19895291677472],\"y0\":\" \",\"yaxis\":\"y\",\"type\":\"box\"},{\"alignmentgroup\":\"True\",\"hovertemplate\":\"Municipality=%{x}\\u003cbr\\u003eTraffic_Pollution=%{y}\\u003cextra\\u003e\\u003c\\u002fextra\\u003e\",\"legendgroup\":\"Municipality_39\",\"marker\":{\"color\":\"#00cc96\",\"opacity\":0.8},\"name\":\"Municipality_39\",\"notched\":false,\"offsetgroup\":\"Municipality_39\",\"orientation\":\"v\",\"showlegend\":true,\"x\":[\"Municipality_39\",\"Municipality_39\",\"Municipality_39\",\"Municipality_39\",\"Municipality_39\",\"Municipality_39\",\"Municipality_39\",\"Municipality_39\",\"Municipality_39\",\"Municipality_39\"],\"x0\":\" \",\"xaxis\":\"x\",\"y\":[64.41352239733925,64.29463891866872,64.56388511886966,64.32609659773267,64.32921274250799,64.34742677569145,64.36072228583764,64.38287550038106,64.49590608486477,64.2917509784531],\"y0\":\" \",\"yaxis\":\"y\",\"type\":\"box\"},{\"alignmentgroup\":\"True\",\"hovertemplate\":\"Municipality=%{x}\\u003cbr\\u003eTraffic_Pollution=%{y}\\u003cextra\\u003e\\u003c\\u002fextra\\u003e\",\"legendgroup\":\"Municipality_4\",\"marker\":{\"color\":\"#ab63fa\",\"opacity\":0.8},\"name\":\"Municipality_4\",\"notched\":false,\"offsetgroup\":\"Municipality_4\",\"orientation\":\"v\",\"showlegend\":true,\"x\":[\"Municipality_4\",\"Municipality_4\",\"Municipality_4\",\"Municipality_4\",\"Municipality_4\",\"Municipality_4\",\"Municipality_4\",\"Municipality_4\",\"Municipality_4\",\"Municipality_4\"],\"x0\":\" \",\"xaxis\":\"x\",\"y\":[36.91203361414902,36.64280576492156,36.896344480096815,37.626601689479976,38.62172906447841,38.94133200142804,39.43737820786347,40.225502828501725,40.239882725656926,41.08992927116444],\"y0\":\" \",\"yaxis\":\"y\",\"type\":\"box\"},{\"alignmentgroup\":\"True\",\"hovertemplate\":\"Municipality=%{x}\\u003cbr\\u003eTraffic_Pollution=%{y}\\u003cextra\\u003e\\u003c\\u002fextra\\u003e\",\"legendgroup\":\"Municipality_40\",\"marker\":{\"color\":\"#FFA15A\",\"opacity\":0.8},\"name\":\"Municipality_40\",\"notched\":false,\"offsetgroup\":\"Municipality_40\",\"orientation\":\"v\",\"showlegend\":true,\"x\":[\"Municipality_40\",\"Municipality_40\",\"Municipality_40\",\"Municipality_40\",\"Municipality_40\",\"Municipality_40\",\"Municipality_40\",\"Municipality_40\",\"Municipality_40\",\"Municipality_40\"],\"x0\":\" \",\"xaxis\":\"x\",\"y\":[25.399010312173974,25.445940365181865,25.494462992370128,25.56473476325662,25.50486759432434,25.386896608615995,25.318294986132702,25.563368120588915,25.45769033469037,25.54297098506208],\"y0\":\" \",\"yaxis\":\"y\",\"type\":\"box\"},{\"alignmentgroup\":\"True\",\"hovertemplate\":\"Municipality=%{x}\\u003cbr\\u003eTraffic_Pollution=%{y}\\u003cextra\\u003e\\u003c\\u002fextra\\u003e\",\"legendgroup\":\"Municipality_41\",\"marker\":{\"color\":\"#19d3f3\",\"opacity\":0.8},\"name\":\"Municipality_41\",\"notched\":false,\"offsetgroup\":\"Municipality_41\",\"orientation\":\"v\",\"showlegend\":true,\"x\":[\"Municipality_41\",\"Municipality_41\",\"Municipality_41\",\"Municipality_41\",\"Municipality_41\",\"Municipality_41\",\"Municipality_41\",\"Municipality_41\",\"Municipality_41\",\"Municipality_41\"],\"x0\":\" \",\"xaxis\":\"x\",\"y\":[47.82827613307377,48.61981664622677,48.55329651704378,49.40802989207506,50.13436374322762,50.209167665212505,51.00572515227399,51.48197971444922,52.274843260465154,52.30034460299167],\"y0\":\" \",\"yaxis\":\"y\",\"type\":\"box\"},{\"alignmentgroup\":\"True\",\"hovertemplate\":\"Municipality=%{x}\\u003cbr\\u003eTraffic_Pollution=%{y}\\u003cextra\\u003e\\u003c\\u002fextra\\u003e\",\"legendgroup\":\"Municipality_42\",\"marker\":{\"color\":\"#FF6692\",\"opacity\":0.8},\"name\":\"Municipality_42\",\"notched\":false,\"offsetgroup\":\"Municipality_42\",\"orientation\":\"v\",\"showlegend\":true,\"x\":[\"Municipality_42\",\"Municipality_42\",\"Municipality_42\",\"Municipality_42\",\"Municipality_42\",\"Municipality_42\",\"Municipality_42\",\"Municipality_42\",\"Municipality_42\",\"Municipality_42\"],\"x0\":\" \",\"xaxis\":\"x\",\"y\":[44.740416805876336,null,45.89630939806853,46.64096642517735,47.09479246141315,47.59648583044722,48.00844818502159,49.00554210344273,48.91305650633669,49.209642138584336],\"y0\":\" \",\"yaxis\":\"y\",\"type\":\"box\"},{\"alignmentgroup\":\"True\",\"hovertemplate\":\"Municipality=%{x}\\u003cbr\\u003eTraffic_Pollution=%{y}\\u003cextra\\u003e\\u003c\\u002fextra\\u003e\",\"legendgroup\":\"Municipality_43\",\"marker\":{\"color\":\"#B6E880\",\"opacity\":0.8},\"name\":\"Municipality_43\",\"notched\":false,\"offsetgroup\":\"Municipality_43\",\"orientation\":\"v\",\"showlegend\":true,\"x\":[\"Municipality_43\",\"Municipality_43\",\"Municipality_43\",\"Municipality_43\",\"Municipality_43\",\"Municipality_43\",\"Municipality_43\",\"Municipality_43\",\"Municipality_43\",\"Municipality_43\"],\"x0\":\" \",\"xaxis\":\"x\",\"y\":[49.08391000603122,49.30726249847347,49.89935247648048,50.34338267226631,null,51.65897510428552,51.74137082417729,52.427463269781526,52.95459532657376,53.40235601929531],\"y0\":\" \",\"yaxis\":\"y\",\"type\":\"box\"},{\"alignmentgroup\":\"True\",\"hovertemplate\":\"Municipality=%{x}\\u003cbr\\u003eTraffic_Pollution=%{y}\\u003cextra\\u003e\\u003c\\u002fextra\\u003e\",\"legendgroup\":\"Municipality_44\",\"marker\":{\"color\":\"#FF97FF\",\"opacity\":0.8},\"name\":\"Municipality_44\",\"notched\":false,\"offsetgroup\":\"Municipality_44\",\"orientation\":\"v\",\"showlegend\":true,\"x\":[\"Municipality_44\",\"Municipality_44\",\"Municipality_44\",\"Municipality_44\",\"Municipality_44\",\"Municipality_44\",\"Municipality_44\",\"Municipality_44\",\"Municipality_44\",\"Municipality_44\"],\"x0\":\" \",\"xaxis\":\"x\",\"y\":[55.27075683331894,55.21887381579752,55.171124575020976,55.256070321202216,55.3428449264056,55.18490819049591,55.169623748495866,55.37742102850032,55.222273310901926,55.31829969231356],\"y0\":\" \",\"yaxis\":\"y\",\"type\":\"box\"},{\"alignmentgroup\":\"True\",\"hovertemplate\":\"Municipality=%{x}\\u003cbr\\u003eTraffic_Pollution=%{y}\\u003cextra\\u003e\\u003c\\u002fextra\\u003e\",\"legendgroup\":\"Municipality_45\",\"marker\":{\"color\":\"#FECB52\",\"opacity\":0.8},\"name\":\"Municipality_45\",\"notched\":false,\"offsetgroup\":\"Municipality_45\",\"orientation\":\"v\",\"showlegend\":true,\"x\":[\"Municipality_45\",\"Municipality_45\",\"Municipality_45\",\"Municipality_45\",\"Municipality_45\",\"Municipality_45\",\"Municipality_45\",\"Municipality_45\",\"Municipality_45\",\"Municipality_45\"],\"x0\":\" \",\"xaxis\":\"x\",\"y\":[67.69144684682777,67.79533010166652,67.7239036170168,67.74215572666478,67.6437947086131,67.78257224429989,67.83786032894002,67.75852389050067,67.73463115497027,67.75440126049952],\"y0\":\" \",\"yaxis\":\"y\",\"type\":\"box\"},{\"alignmentgroup\":\"True\",\"hovertemplate\":\"Municipality=%{x}\\u003cbr\\u003eTraffic_Pollution=%{y}\\u003cextra\\u003e\\u003c\\u002fextra\\u003e\",\"legendgroup\":\"Municipality_46\",\"marker\":{\"color\":\"#636efa\",\"opacity\":0.8},\"name\":\"Municipality_46\",\"notched\":false,\"offsetgroup\":\"Municipality_46\",\"orientation\":\"v\",\"showlegend\":true,\"x\":[\"Municipality_46\",\"Municipality_46\",\"Municipality_46\",\"Municipality_46\",\"Municipality_46\",\"Municipality_46\",\"Municipality_46\",\"Municipality_46\",\"Municipality_46\",\"Municipality_46\"],\"x0\":\" \",\"xaxis\":\"x\",\"y\":[55.07963317216899,55.38325519048261,55.72216095173209,56.81742283466993,57.24994140409334,57.8726867018352,58.36879046294784,58.86104965539671,58.99869852469245,59.58261841711046],\"y0\":\" \",\"yaxis\":\"y\",\"type\":\"box\"},{\"alignmentgroup\":\"True\",\"hovertemplate\":\"Municipality=%{x}\\u003cbr\\u003eTraffic_Pollution=%{y}\\u003cextra\\u003e\\u003c\\u002fextra\\u003e\",\"legendgroup\":\"Municipality_47\",\"marker\":{\"color\":\"#EF553B\",\"opacity\":0.8},\"name\":\"Municipality_47\",\"notched\":false,\"offsetgroup\":\"Municipality_47\",\"orientation\":\"v\",\"showlegend\":true,\"x\":[\"Municipality_47\",\"Municipality_47\",\"Municipality_47\",\"Municipality_47\",\"Municipality_47\",\"Municipality_47\",\"Municipality_47\",\"Municipality_47\",\"Municipality_47\",\"Municipality_47\"],\"x0\":\" \",\"xaxis\":\"x\",\"y\":[45.297039895281294,46.19926994114336,46.33341314735606,46.80950558819388,47.01689041163916,47.81533363152472,48.44627747417226,49.00505373568381,49.84291162976039,49.75259523233342],\"y0\":\" \",\"yaxis\":\"y\",\"type\":\"box\"},{\"alignmentgroup\":\"True\",\"hovertemplate\":\"Municipality=%{x}\\u003cbr\\u003eTraffic_Pollution=%{y}\\u003cextra\\u003e\\u003c\\u002fextra\\u003e\",\"legendgroup\":\"Municipality_48\",\"marker\":{\"color\":\"#00cc96\",\"opacity\":0.8},\"name\":\"Municipality_48\",\"notched\":false,\"offsetgroup\":\"Municipality_48\",\"orientation\":\"v\",\"showlegend\":true,\"x\":[\"Municipality_48\",\"Municipality_48\",\"Municipality_48\",\"Municipality_48\",\"Municipality_48\",\"Municipality_48\",\"Municipality_48\",\"Municipality_48\",\"Municipality_48\",\"Municipality_48\"],\"x0\":\" \",\"xaxis\":\"x\",\"y\":[53.091021051867685,53.21698045233317,53.314623385637645,53.10198172742223,53.09610243828336,53.29989306162412,53.260971130975626,53.09579131436831,53.25583429558941,53.29148438690881],\"y0\":\" \",\"yaxis\":\"y\",\"type\":\"box\"},{\"alignmentgroup\":\"True\",\"hovertemplate\":\"Municipality=%{x}\\u003cbr\\u003eTraffic_Pollution=%{y}\\u003cextra\\u003e\\u003c\\u002fextra\\u003e\",\"legendgroup\":\"Municipality_49\",\"marker\":{\"color\":\"#ab63fa\",\"opacity\":0.8},\"name\":\"Municipality_49\",\"notched\":false,\"offsetgroup\":\"Municipality_49\",\"orientation\":\"v\",\"showlegend\":true,\"x\":[\"Municipality_49\",\"Municipality_49\",\"Municipality_49\",\"Municipality_49\",\"Municipality_49\",\"Municipality_49\",\"Municipality_49\",\"Municipality_49\",\"Municipality_49\",\"Municipality_49\"],\"x0\":\" \",\"xaxis\":\"x\",\"y\":[60.11342768646513,61.014855514585314,61.28932430215734,61.59732466547248,61.66183420975043,62.538489122774834,63.21386873844805,63.42079017157817,63.82393694674504,64.5744869981895],\"y0\":\" \",\"yaxis\":\"y\",\"type\":\"box\"},{\"alignmentgroup\":\"True\",\"hovertemplate\":\"Municipality=%{x}\\u003cbr\\u003eTraffic_Pollution=%{y}\\u003cextra\\u003e\\u003c\\u002fextra\\u003e\",\"legendgroup\":\"Municipality_5\",\"marker\":{\"color\":\"#FFA15A\",\"opacity\":0.8},\"name\":\"Municipality_5\",\"notched\":false,\"offsetgroup\":\"Municipality_5\",\"orientation\":\"v\",\"showlegend\":true,\"x\":[\"Municipality_5\",\"Municipality_5\",\"Municipality_5\",\"Municipality_5\",\"Municipality_5\",\"Municipality_5\",\"Municipality_5\",\"Municipality_5\",\"Municipality_5\",\"Municipality_5\"],\"x0\":\" \",\"xaxis\":\"x\",\"y\":[67.99991770825076,68.45442951838746,68.62715537823843,69.0396225301274,69.41789991217671,70.42500400562373,71.0317949086242,71.35662729608609,72.13375997412058,72.58117132731495],\"y0\":\" \",\"yaxis\":\"y\",\"type\":\"box\"},{\"alignmentgroup\":\"True\",\"hovertemplate\":\"Municipality=%{x}\\u003cbr\\u003eTraffic_Pollution=%{y}\\u003cextra\\u003e\\u003c\\u002fextra\\u003e\",\"legendgroup\":\"Municipality_50\",\"marker\":{\"color\":\"#19d3f3\",\"opacity\":0.8},\"name\":\"Municipality_50\",\"notched\":false,\"offsetgroup\":\"Municipality_50\",\"orientation\":\"v\",\"showlegend\":true,\"x\":[\"Municipality_50\",\"Municipality_50\",\"Municipality_50\",\"Municipality_50\",\"Municipality_50\",\"Municipality_50\",\"Municipality_50\",\"Municipality_50\",\"Municipality_50\",\"Municipality_50\"],\"x0\":\" \",\"xaxis\":\"x\",\"y\":[51.081002913391856,51.16366833886222,51.14928566142506,51.17935248946888,51.155702874937234,51.04615773724968,51.0369286457574,51.18338306193563,51.18458895604351,51.10839523296584],\"y0\":\" \",\"yaxis\":\"y\",\"type\":\"box\"},{\"alignmentgroup\":\"True\",\"hovertemplate\":\"Municipality=%{x}\\u003cbr\\u003eTraffic_Pollution=%{y}\\u003cextra\\u003e\\u003c\\u002fextra\\u003e\",\"legendgroup\":\"Municipality_6\",\"marker\":{\"color\":\"#FF6692\",\"opacity\":0.8},\"name\":\"Municipality_6\",\"notched\":false,\"offsetgroup\":\"Municipality_6\",\"orientation\":\"v\",\"showlegend\":true,\"x\":[\"Municipality_6\",\"Municipality_6\",\"Municipality_6\",\"Municipality_6\",\"Municipality_6\",\"Municipality_6\",\"Municipality_6\",\"Municipality_6\",\"Municipality_6\",\"Municipality_6\"],\"x0\":\" \",\"xaxis\":\"x\",\"y\":[44.44678173635359,44.56210832518384,45.05610149186638,45.80228130217616,46.28917368586212,46.49839693014664,47.6450872185041,47.72296987939319,48.04153910981682,48.64517571977251],\"y0\":\" \",\"yaxis\":\"y\",\"type\":\"box\"},{\"alignmentgroup\":\"True\",\"hovertemplate\":\"Municipality=%{x}\\u003cbr\\u003eTraffic_Pollution=%{y}\\u003cextra\\u003e\\u003c\\u002fextra\\u003e\",\"legendgroup\":\"Municipality_7\",\"marker\":{\"color\":\"#B6E880\",\"opacity\":0.8},\"name\":\"Municipality_7\",\"notched\":false,\"offsetgroup\":\"Municipality_7\",\"orientation\":\"v\",\"showlegend\":true,\"x\":[\"Municipality_7\",\"Municipality_7\",\"Municipality_7\",\"Municipality_7\",\"Municipality_7\",\"Municipality_7\",\"Municipality_7\",\"Municipality_7\",\"Municipality_7\",\"Municipality_7\"],\"x0\":\" \",\"xaxis\":\"x\",\"y\":[44.89926914134013,45.8665692686534,45.800524113114605,46.53383232114917,47.19045038852457,47.390158438811206,48.0115162228191,48.584122422187335,48.92002219157558,49.52735123216881],\"y0\":\" \",\"yaxis\":\"y\",\"type\":\"box\"},{\"alignmentgroup\":\"True\",\"hovertemplate\":\"Municipality=%{x}\\u003cbr\\u003eTraffic_Pollution=%{y}\\u003cextra\\u003e\\u003c\\u002fextra\\u003e\",\"legendgroup\":\"Municipality_8\",\"marker\":{\"color\":\"#FF97FF\",\"opacity\":0.8},\"name\":\"Municipality_8\",\"notched\":false,\"offsetgroup\":\"Municipality_8\",\"orientation\":\"v\",\"showlegend\":true,\"x\":[\"Municipality_8\",\"Municipality_8\",\"Municipality_8\",\"Municipality_8\",\"Municipality_8\",\"Municipality_8\",\"Municipality_8\",\"Municipality_8\",\"Municipality_8\",\"Municipality_8\"],\"x0\":\" \",\"xaxis\":\"x\",\"y\":[67.57525790658877,67.56697243281639,67.46881435749204,67.45998636107306,67.4699158911211,67.50743708706366,67.709963585307,67.53283634228262,67.49174713860589,67.60791449537035],\"y0\":\" \",\"yaxis\":\"y\",\"type\":\"box\"},{\"alignmentgroup\":\"True\",\"hovertemplate\":\"Municipality=%{x}\\u003cbr\\u003eTraffic_Pollution=%{y}\\u003cextra\\u003e\\u003c\\u002fextra\\u003e\",\"legendgroup\":\"Municipality_9\",\"marker\":{\"color\":\"#FECB52\",\"opacity\":0.8},\"name\":\"Municipality_9\",\"notched\":false,\"offsetgroup\":\"Municipality_9\",\"orientation\":\"v\",\"showlegend\":true,\"x\":[\"Municipality_9\",\"Municipality_9\",\"Municipality_9\",\"Municipality_9\",\"Municipality_9\",\"Municipality_9\",\"Municipality_9\",\"Municipality_9\",\"Municipality_9\",\"Municipality_9\"],\"x0\":\" \",\"xaxis\":\"x\",\"y\":[36.116531589243216,36.70516742480292,37.37053585986334,37.76266419362809,38.66942423158289,38.526621221667,39.67261033394564,39.76464781709532,40.142385652768894,40.84852707938534],\"y0\":\" \",\"yaxis\":\"y\",\"type\":\"box\"}],                        {\"template\":{\"data\":{\"histogram2dcontour\":[{\"type\":\"histogram2dcontour\",\"colorbar\":{\"outlinewidth\":0,\"ticks\":\"\"},\"colorscale\":[[0.0,\"#0d0887\"],[0.1111111111111111,\"#46039f\"],[0.2222222222222222,\"#7201a8\"],[0.3333333333333333,\"#9c179e\"],[0.4444444444444444,\"#bd3786\"],[0.5555555555555556,\"#d8576b\"],[0.6666666666666666,\"#ed7953\"],[0.7777777777777778,\"#fb9f3a\"],[0.8888888888888888,\"#fdca26\"],[1.0,\"#f0f921\"]]}],\"choropleth\":[{\"type\":\"choropleth\",\"colorbar\":{\"outlinewidth\":0,\"ticks\":\"\"}}],\"histogram2d\":[{\"type\":\"histogram2d\",\"colorbar\":{\"outlinewidth\":0,\"ticks\":\"\"},\"colorscale\":[[0.0,\"#0d0887\"],[0.1111111111111111,\"#46039f\"],[0.2222222222222222,\"#7201a8\"],[0.3333333333333333,\"#9c179e\"],[0.4444444444444444,\"#bd3786\"],[0.5555555555555556,\"#d8576b\"],[0.6666666666666666,\"#ed7953\"],[0.7777777777777778,\"#fb9f3a\"],[0.8888888888888888,\"#fdca26\"],[1.0,\"#f0f921\"]]}],\"heatmap\":[{\"type\":\"heatmap\",\"colorbar\":{\"outlinewidth\":0,\"ticks\":\"\"},\"colorscale\":[[0.0,\"#0d0887\"],[0.1111111111111111,\"#46039f\"],[0.2222222222222222,\"#7201a8\"],[0.3333333333333333,\"#9c179e\"],[0.4444444444444444,\"#bd3786\"],[0.5555555555555556,\"#d8576b\"],[0.6666666666666666,\"#ed7953\"],[0.7777777777777778,\"#fb9f3a\"],[0.8888888888888888,\"#fdca26\"],[1.0,\"#f0f921\"]]}],\"heatmapgl\":[{\"type\":\"heatmapgl\",\"colorbar\":{\"outlinewidth\":0,\"ticks\":\"\"},\"colorscale\":[[0.0,\"#0d0887\"],[0.1111111111111111,\"#46039f\"],[0.2222222222222222,\"#7201a8\"],[0.3333333333333333,\"#9c179e\"],[0.4444444444444444,\"#bd3786\"],[0.5555555555555556,\"#d8576b\"],[0.6666666666666666,\"#ed7953\"],[0.7777777777777778,\"#fb9f3a\"],[0.8888888888888888,\"#fdca26\"],[1.0,\"#f0f921\"]]}],\"contourcarpet\":[{\"type\":\"contourcarpet\",\"colorbar\":{\"outlinewidth\":0,\"ticks\":\"\"}}],\"contour\":[{\"type\":\"contour\",\"colorbar\":{\"outlinewidth\":0,\"ticks\":\"\"},\"colorscale\":[[0.0,\"#0d0887\"],[0.1111111111111111,\"#46039f\"],[0.2222222222222222,\"#7201a8\"],[0.3333333333333333,\"#9c179e\"],[0.4444444444444444,\"#bd3786\"],[0.5555555555555556,\"#d8576b\"],[0.6666666666666666,\"#ed7953\"],[0.7777777777777778,\"#fb9f3a\"],[0.8888888888888888,\"#fdca26\"],[1.0,\"#f0f921\"]]}],\"surface\":[{\"type\":\"surface\",\"colorbar\":{\"outlinewidth\":0,\"ticks\":\"\"},\"colorscale\":[[0.0,\"#0d0887\"],[0.1111111111111111,\"#46039f\"],[0.2222222222222222,\"#7201a8\"],[0.3333333333333333,\"#9c179e\"],[0.4444444444444444,\"#bd3786\"],[0.5555555555555556,\"#d8576b\"],[0.6666666666666666,\"#ed7953\"],[0.7777777777777778,\"#fb9f3a\"],[0.8888888888888888,\"#fdca26\"],[1.0,\"#f0f921\"]]}],\"mesh3d\":[{\"type\":\"mesh3d\",\"colorbar\":{\"outlinewidth\":0,\"ticks\":\"\"}}],\"scatter\":[{\"fillpattern\":{\"fillmode\":\"overlay\",\"size\":10,\"solidity\":0.2},\"type\":\"scatter\"}],\"parcoords\":[{\"type\":\"parcoords\",\"line\":{\"colorbar\":{\"outlinewidth\":0,\"ticks\":\"\"}}}],\"scatterpolargl\":[{\"type\":\"scatterpolargl\",\"marker\":{\"colorbar\":{\"outlinewidth\":0,\"ticks\":\"\"}}}],\"bar\":[{\"error_x\":{\"color\":\"#2a3f5f\"},\"error_y\":{\"color\":\"#2a3f5f\"},\"marker\":{\"line\":{\"color\":\"#E5ECF6\",\"width\":0.5},\"pattern\":{\"fillmode\":\"overlay\",\"size\":10,\"solidity\":0.2}},\"type\":\"bar\"}],\"scattergeo\":[{\"type\":\"scattergeo\",\"marker\":{\"colorbar\":{\"outlinewidth\":0,\"ticks\":\"\"}}}],\"scatterpolar\":[{\"type\":\"scatterpolar\",\"marker\":{\"colorbar\":{\"outlinewidth\":0,\"ticks\":\"\"}}}],\"histogram\":[{\"marker\":{\"pattern\":{\"fillmode\":\"overlay\",\"size\":10,\"solidity\":0.2}},\"type\":\"histogram\"}],\"scattergl\":[{\"type\":\"scattergl\",\"marker\":{\"colorbar\":{\"outlinewidth\":0,\"ticks\":\"\"}}}],\"scatter3d\":[{\"type\":\"scatter3d\",\"line\":{\"colorbar\":{\"outlinewidth\":0,\"ticks\":\"\"}},\"marker\":{\"colorbar\":{\"outlinewidth\":0,\"ticks\":\"\"}}}],\"scattermapbox\":[{\"type\":\"scattermapbox\",\"marker\":{\"colorbar\":{\"outlinewidth\":0,\"ticks\":\"\"}}}],\"scatterternary\":[{\"type\":\"scatterternary\",\"marker\":{\"colorbar\":{\"outlinewidth\":0,\"ticks\":\"\"}}}],\"scattercarpet\":[{\"type\":\"scattercarpet\",\"marker\":{\"colorbar\":{\"outlinewidth\":0,\"ticks\":\"\"}}}],\"carpet\":[{\"aaxis\":{\"endlinecolor\":\"#2a3f5f\",\"gridcolor\":\"white\",\"linecolor\":\"white\",\"minorgridcolor\":\"white\",\"startlinecolor\":\"#2a3f5f\"},\"baxis\":{\"endlinecolor\":\"#2a3f5f\",\"gridcolor\":\"white\",\"linecolor\":\"white\",\"minorgridcolor\":\"white\",\"startlinecolor\":\"#2a3f5f\"},\"type\":\"carpet\"}],\"table\":[{\"cells\":{\"fill\":{\"color\":\"#EBF0F8\"},\"line\":{\"color\":\"white\"}},\"header\":{\"fill\":{\"color\":\"#C8D4E3\"},\"line\":{\"color\":\"white\"}},\"type\":\"table\"}],\"barpolar\":[{\"marker\":{\"line\":{\"color\":\"#E5ECF6\",\"width\":0.5},\"pattern\":{\"fillmode\":\"overlay\",\"size\":10,\"solidity\":0.2}},\"type\":\"barpolar\"}],\"pie\":[{\"automargin\":true,\"type\":\"pie\"}]},\"layout\":{\"autotypenumbers\":\"strict\",\"colorway\":[\"#636efa\",\"#EF553B\",\"#00cc96\",\"#ab63fa\",\"#FFA15A\",\"#19d3f3\",\"#FF6692\",\"#B6E880\",\"#FF97FF\",\"#FECB52\"],\"font\":{\"color\":\"#2a3f5f\"},\"hovermode\":\"closest\",\"hoverlabel\":{\"align\":\"left\"},\"paper_bgcolor\":\"white\",\"plot_bgcolor\":\"#E5ECF6\",\"polar\":{\"bgcolor\":\"#E5ECF6\",\"angularaxis\":{\"gridcolor\":\"white\",\"linecolor\":\"white\",\"ticks\":\"\"},\"radialaxis\":{\"gridcolor\":\"white\",\"linecolor\":\"white\",\"ticks\":\"\"}},\"ternary\":{\"bgcolor\":\"#E5ECF6\",\"aaxis\":{\"gridcolor\":\"white\",\"linecolor\":\"white\",\"ticks\":\"\"},\"baxis\":{\"gridcolor\":\"white\",\"linecolor\":\"white\",\"ticks\":\"\"},\"caxis\":{\"gridcolor\":\"white\",\"linecolor\":\"white\",\"ticks\":\"\"}},\"coloraxis\":{\"colorbar\":{\"outlinewidth\":0,\"ticks\":\"\"}},\"colorscale\":{\"sequential\":[[0.0,\"#0d0887\"],[0.1111111111111111,\"#46039f\"],[0.2222222222222222,\"#7201a8\"],[0.3333333333333333,\"#9c179e\"],[0.4444444444444444,\"#bd3786\"],[0.5555555555555556,\"#d8576b\"],[0.6666666666666666,\"#ed7953\"],[0.7777777777777778,\"#fb9f3a\"],[0.8888888888888888,\"#fdca26\"],[1.0,\"#f0f921\"]],\"sequentialminus\":[[0.0,\"#0d0887\"],[0.1111111111111111,\"#46039f\"],[0.2222222222222222,\"#7201a8\"],[0.3333333333333333,\"#9c179e\"],[0.4444444444444444,\"#bd3786\"],[0.5555555555555556,\"#d8576b\"],[0.6666666666666666,\"#ed7953\"],[0.7777777777777778,\"#fb9f3a\"],[0.8888888888888888,\"#fdca26\"],[1.0,\"#f0f921\"]],\"diverging\":[[0,\"#8e0152\"],[0.1,\"#c51b7d\"],[0.2,\"#de77ae\"],[0.3,\"#f1b6da\"],[0.4,\"#fde0ef\"],[0.5,\"#f7f7f7\"],[0.6,\"#e6f5d0\"],[0.7,\"#b8e186\"],[0.8,\"#7fbc41\"],[0.9,\"#4d9221\"],[1,\"#276419\"]]},\"xaxis\":{\"gridcolor\":\"white\",\"linecolor\":\"white\",\"ticks\":\"\",\"title\":{\"standoff\":15},\"zerolinecolor\":\"white\",\"automargin\":true,\"zerolinewidth\":2},\"yaxis\":{\"gridcolor\":\"white\",\"linecolor\":\"white\",\"ticks\":\"\",\"title\":{\"standoff\":15},\"zerolinecolor\":\"white\",\"automargin\":true,\"zerolinewidth\":2},\"scene\":{\"xaxis\":{\"backgroundcolor\":\"#E5ECF6\",\"gridcolor\":\"white\",\"linecolor\":\"white\",\"showbackground\":true,\"ticks\":\"\",\"zerolinecolor\":\"white\",\"gridwidth\":2},\"yaxis\":{\"backgroundcolor\":\"#E5ECF6\",\"gridcolor\":\"white\",\"linecolor\":\"white\",\"showbackground\":true,\"ticks\":\"\",\"zerolinecolor\":\"white\",\"gridwidth\":2},\"zaxis\":{\"backgroundcolor\":\"#E5ECF6\",\"gridcolor\":\"white\",\"linecolor\":\"white\",\"showbackground\":true,\"ticks\":\"\",\"zerolinecolor\":\"white\",\"gridwidth\":2}},\"shapedefaults\":{\"line\":{\"color\":\"#2a3f5f\"}},\"annotationdefaults\":{\"arrowcolor\":\"#2a3f5f\",\"arrowhead\":0,\"arrowwidth\":1},\"geo\":{\"bgcolor\":\"white\",\"landcolor\":\"#E5ECF6\",\"subunitcolor\":\"white\",\"showland\":true,\"showlakes\":true,\"lakecolor\":\"white\"},\"title\":{\"x\":0.05},\"mapbox\":{\"style\":\"light\"}}},\"xaxis\":{\"anchor\":\"y\",\"domain\":[0.0,1.0],\"title\":{\"text\":\"Municipality\"},\"categoryorder\":\"array\",\"categoryarray\":[\"Municipality_40\",\"Municipality_14\",\"Municipality_23\",\"Municipality_38\",\"Municipality_26\",\"Municipality_9\",\"Municipality_4\",\"Municipality_11\",\"Municipality_20\",\"Municipality_6\",\"Municipality_27\",\"Municipality_22\",\"Municipality_12\",\"Municipality_7\",\"Municipality_47\",\"Municipality_42\",\"Municipality_29\",\"Municipality_13\",\"Municipality_33\",\"Municipality_1\",\"Municipality_37\",\"Municipality_41\",\"Municipality_50\",\"Municipality_43\",\"Municipality_2\",\"Municipality_3\",\"Municipality_31\",\"Municipality_10\",\"Municipality_48\",\"Municipality_28\",\"Municipality_25\",\"Municipality_44\",\"Municipality_17\",\"Municipality_16\",\"Municipality_46\",\"Municipality_34\",\"Municipality_21\",\"Municipality_15\",\"Municipality_32\",\"Municipality_30\",\"Municipality_18\",\"Municipality_49\",\"Municipality_24\",\"Municipality_39\",\"Municipality_19\",\"Municipality_8\",\"Municipality_45\",\"Municipality_5\",\"Municipality_35\",\"Municipality_36\"],\"tickangle\":-75},\"yaxis\":{\"anchor\":\"x\",\"domain\":[0.0,1.0],\"title\":{\"text\":\"Traffic Pollution Index\"}},\"legend\":{\"title\":{\"text\":\"Municipality\"},\"tracegroupgap\":0},\"margin\":{\"t\":60},\"boxmode\":\"overlay\",\"font\":{\"size\":14},\"title\":{\"text\":\"Traffic Pollution Levels by Municipality\"},\"width\":1200,\"height\":600},                        {\"responsive\": true}                    ).then(function(){\n",
       "                            \n",
       "var gd = document.getElementById('9a6b9993-0bfa-40fd-9eed-f8f898b5efae');\n",
       "var x = new MutationObserver(function (mutations, observer) {{\n",
       "        var display = window.getComputedStyle(gd).display;\n",
       "        if (!display || display === 'none') {{\n",
       "            console.log([gd, 'removed!']);\n",
       "            Plotly.purge(gd);\n",
       "            observer.disconnect();\n",
       "        }}\n",
       "}});\n",
       "\n",
       "// Listen for the removal of the full notebook cells\n",
       "var notebookContainer = gd.closest('#notebook-container');\n",
       "if (notebookContainer) {{\n",
       "    x.observe(notebookContainer, {childList: true});\n",
       "}}\n",
       "\n",
       "// Listen for the clearing of the current output cell\n",
       "var outputEl = gd.closest('.output');\n",
       "if (outputEl) {{\n",
       "    x.observe(outputEl, {childList: true});\n",
       "}}\n",
       "\n",
       "                        })                };                });            </script>        </div>"
      ]
     },
     "metadata": {},
     "output_type": "display_data"
    }
   ],
   "source": [
    "\n",
    "mu_sorted = mu.groupby(\"Municipality\")[\"Traffic_Pollution\"].median().sort_values().index\n",
    "\n",
    "\n",
    "fig = px.box(mu, x=\"Municipality\", y=\"Traffic_Pollution\", color=\"Municipality\")\n",
    "\n",
    "fig.update_layout(\n",
    "    title=\"Traffic Pollution Levels by Municipality\",\n",
    "    xaxis_title=\"Municipality\",\n",
    "    yaxis_title=\"Traffic Pollution Index\",\n",
    "    width=1200, height=600,  \n",
    "    xaxis_tickangle=-75,  \n",
    "    font=dict(size=14), \n",
    "    xaxis={'categoryorder':'array', 'categoryarray':mu_sorted}  )\n",
    "\n",
    "fig.update_traces(marker=dict(opacity=0.8)) \n",
    "fig.show()\n"
   ]
  },
  {
   "cell_type": "code",
   "execution_count": 33,
   "metadata": {},
   "outputs": [
    {
     "data": {
      "application/vnd.plotly.v1+json": {
       "config": {
        "plotlyServerURL": "https://plot.ly"
       },
       "data": [
        {
         "alignmentgroup": "True",
         "hovertemplate": "Municipality=%{x}<br>Traffic_Pollution=%{y}<extra></extra>",
         "legendgroup": "",
         "marker": {
          "color": "#636efa",
          "opacity": 0.8
         },
         "name": "",
         "notched": false,
         "offsetgroup": "",
         "orientation": "v",
         "showlegend": false,
         "type": "box",
         "x": [
          "Municipality_18",
          "Municipality_18",
          "Municipality_18",
          "Municipality_18",
          "Municipality_18",
          "Municipality_18",
          "Municipality_18",
          "Municipality_18",
          "Municipality_18",
          "Municipality_18",
          "Municipality_19",
          "Municipality_19",
          "Municipality_19",
          "Municipality_19",
          "Municipality_19",
          "Municipality_19",
          "Municipality_19",
          "Municipality_19",
          "Municipality_19",
          "Municipality_19",
          "Municipality_24",
          "Municipality_24",
          "Municipality_24",
          "Municipality_24",
          "Municipality_24",
          "Municipality_24",
          "Municipality_24",
          "Municipality_24",
          "Municipality_24",
          "Municipality_24",
          "Municipality_35",
          "Municipality_35",
          "Municipality_35",
          "Municipality_35",
          "Municipality_35",
          "Municipality_35",
          "Municipality_35",
          "Municipality_35",
          "Municipality_35",
          "Municipality_35",
          "Municipality_36",
          "Municipality_36",
          "Municipality_36",
          "Municipality_36",
          "Municipality_36",
          "Municipality_36",
          "Municipality_36",
          "Municipality_36",
          "Municipality_36",
          "Municipality_36",
          "Municipality_39",
          "Municipality_39",
          "Municipality_39",
          "Municipality_39",
          "Municipality_39",
          "Municipality_39",
          "Municipality_39",
          "Municipality_39",
          "Municipality_39",
          "Municipality_39",
          "Municipality_45",
          "Municipality_45",
          "Municipality_45",
          "Municipality_45",
          "Municipality_45",
          "Municipality_45",
          "Municipality_45",
          "Municipality_45",
          "Municipality_45",
          "Municipality_45",
          "Municipality_49",
          "Municipality_49",
          "Municipality_49",
          "Municipality_49",
          "Municipality_49",
          "Municipality_49",
          "Municipality_49",
          "Municipality_49",
          "Municipality_49",
          "Municipality_49",
          "Municipality_5",
          "Municipality_5",
          "Municipality_5",
          "Municipality_5",
          "Municipality_5",
          "Municipality_5",
          "Municipality_5",
          "Municipality_5",
          "Municipality_5",
          "Municipality_5",
          "Municipality_8",
          "Municipality_8",
          "Municipality_8",
          "Municipality_8",
          "Municipality_8",
          "Municipality_8",
          "Municipality_8",
          "Municipality_8",
          "Municipality_8",
          "Municipality_8"
         ],
         "x0": " ",
         "xaxis": "x",
         "y": [
          58.4448796164117,
          58.88162410422383,
          59.47957562409469,
          59.81383610253857,
          60.26229432837464,
          60.833679558141725,
          61.1998177125994,
          61.57243897054818,
          62.36652196066873,
          63.34370711350776,
          67.15114412781637,
          67.19053782256714,
          67.26067407720817,
          67.32360732179994,
          null,
          66.99718727875673,
          67.13956064579422,
          67.21196104308797,
          67.28921384045972,
          67.19880428784028,
          60.75947061249799,
          60.96796824324045,
          61.69054308927609,
          61.86837627429198,
          62.67239822003045,
          63.23800992742866,
          63.58957315642541,
          64.66771694550881,
          64.91185669524732,
          65.45133741263896,
          68.26366001068489,
          68.66810767983617,
          69.21723619688515,
          70.01045824893016,
          70.33281609067484,
          70.4303399999334,
          71.07318763027995,
          71.70765627169318,
          72.51474546216234,
          72.69825112113506,
          69.33200817706941,
          69.94832055652131,
          70.42478150879779,
          70.80421217486685,
          71.27577485437669,
          71.91018889562928,
          72.31744615119194,
          73.12160774370105,
          73.22553277309605,
          73.90178861306963,
          64.41352239733925,
          64.29463891866872,
          64.56388511886966,
          64.32609659773267,
          64.32921274250799,
          64.34742677569145,
          64.36072228583764,
          64.38287550038106,
          64.49590608486477,
          64.2917509784531,
          67.69144684682777,
          67.79533010166652,
          67.7239036170168,
          67.74215572666478,
          67.6437947086131,
          67.78257224429989,
          67.83786032894002,
          67.75852389050067,
          67.73463115497027,
          67.75440126049952,
          60.11342768646513,
          61.014855514585314,
          61.28932430215734,
          61.59732466547248,
          61.66183420975043,
          62.538489122774834,
          63.21386873844805,
          63.42079017157817,
          63.82393694674504,
          64.5744869981895,
          67.99991770825076,
          68.45442951838746,
          68.62715537823843,
          69.0396225301274,
          69.41789991217671,
          70.42500400562373,
          71.0317949086242,
          71.35662729608609,
          72.13375997412058,
          72.58117132731495,
          67.57525790658877,
          67.56697243281639,
          67.46881435749204,
          67.45998636107306,
          67.4699158911211,
          67.50743708706366,
          67.709963585307,
          67.53283634228262,
          67.49174713860589,
          67.60791449537035
         ],
         "y0": " ",
         "yaxis": "y"
        }
       ],
       "layout": {
        "boxmode": "group",
        "font": {
         "size": 12
        },
        "height": 400,
        "legend": {
         "tracegroupgap": 0
        },
        "showlegend": false,
        "template": {
         "data": {
          "bar": [
           {
            "error_x": {
             "color": "#2a3f5f"
            },
            "error_y": {
             "color": "#2a3f5f"
            },
            "marker": {
             "line": {
              "color": "#E5ECF6",
              "width": 0.5
             },
             "pattern": {
              "fillmode": "overlay",
              "size": 10,
              "solidity": 0.2
             }
            },
            "type": "bar"
           }
          ],
          "barpolar": [
           {
            "marker": {
             "line": {
              "color": "#E5ECF6",
              "width": 0.5
             },
             "pattern": {
              "fillmode": "overlay",
              "size": 10,
              "solidity": 0.2
             }
            },
            "type": "barpolar"
           }
          ],
          "carpet": [
           {
            "aaxis": {
             "endlinecolor": "#2a3f5f",
             "gridcolor": "white",
             "linecolor": "white",
             "minorgridcolor": "white",
             "startlinecolor": "#2a3f5f"
            },
            "baxis": {
             "endlinecolor": "#2a3f5f",
             "gridcolor": "white",
             "linecolor": "white",
             "minorgridcolor": "white",
             "startlinecolor": "#2a3f5f"
            },
            "type": "carpet"
           }
          ],
          "choropleth": [
           {
            "colorbar": {
             "outlinewidth": 0,
             "ticks": ""
            },
            "type": "choropleth"
           }
          ],
          "contour": [
           {
            "colorbar": {
             "outlinewidth": 0,
             "ticks": ""
            },
            "colorscale": [
             [
              0,
              "#0d0887"
             ],
             [
              0.1111111111111111,
              "#46039f"
             ],
             [
              0.2222222222222222,
              "#7201a8"
             ],
             [
              0.3333333333333333,
              "#9c179e"
             ],
             [
              0.4444444444444444,
              "#bd3786"
             ],
             [
              0.5555555555555556,
              "#d8576b"
             ],
             [
              0.6666666666666666,
              "#ed7953"
             ],
             [
              0.7777777777777778,
              "#fb9f3a"
             ],
             [
              0.8888888888888888,
              "#fdca26"
             ],
             [
              1,
              "#f0f921"
             ]
            ],
            "type": "contour"
           }
          ],
          "contourcarpet": [
           {
            "colorbar": {
             "outlinewidth": 0,
             "ticks": ""
            },
            "type": "contourcarpet"
           }
          ],
          "heatmap": [
           {
            "colorbar": {
             "outlinewidth": 0,
             "ticks": ""
            },
            "colorscale": [
             [
              0,
              "#0d0887"
             ],
             [
              0.1111111111111111,
              "#46039f"
             ],
             [
              0.2222222222222222,
              "#7201a8"
             ],
             [
              0.3333333333333333,
              "#9c179e"
             ],
             [
              0.4444444444444444,
              "#bd3786"
             ],
             [
              0.5555555555555556,
              "#d8576b"
             ],
             [
              0.6666666666666666,
              "#ed7953"
             ],
             [
              0.7777777777777778,
              "#fb9f3a"
             ],
             [
              0.8888888888888888,
              "#fdca26"
             ],
             [
              1,
              "#f0f921"
             ]
            ],
            "type": "heatmap"
           }
          ],
          "heatmapgl": [
           {
            "colorbar": {
             "outlinewidth": 0,
             "ticks": ""
            },
            "colorscale": [
             [
              0,
              "#0d0887"
             ],
             [
              0.1111111111111111,
              "#46039f"
             ],
             [
              0.2222222222222222,
              "#7201a8"
             ],
             [
              0.3333333333333333,
              "#9c179e"
             ],
             [
              0.4444444444444444,
              "#bd3786"
             ],
             [
              0.5555555555555556,
              "#d8576b"
             ],
             [
              0.6666666666666666,
              "#ed7953"
             ],
             [
              0.7777777777777778,
              "#fb9f3a"
             ],
             [
              0.8888888888888888,
              "#fdca26"
             ],
             [
              1,
              "#f0f921"
             ]
            ],
            "type": "heatmapgl"
           }
          ],
          "histogram": [
           {
            "marker": {
             "pattern": {
              "fillmode": "overlay",
              "size": 10,
              "solidity": 0.2
             }
            },
            "type": "histogram"
           }
          ],
          "histogram2d": [
           {
            "colorbar": {
             "outlinewidth": 0,
             "ticks": ""
            },
            "colorscale": [
             [
              0,
              "#0d0887"
             ],
             [
              0.1111111111111111,
              "#46039f"
             ],
             [
              0.2222222222222222,
              "#7201a8"
             ],
             [
              0.3333333333333333,
              "#9c179e"
             ],
             [
              0.4444444444444444,
              "#bd3786"
             ],
             [
              0.5555555555555556,
              "#d8576b"
             ],
             [
              0.6666666666666666,
              "#ed7953"
             ],
             [
              0.7777777777777778,
              "#fb9f3a"
             ],
             [
              0.8888888888888888,
              "#fdca26"
             ],
             [
              1,
              "#f0f921"
             ]
            ],
            "type": "histogram2d"
           }
          ],
          "histogram2dcontour": [
           {
            "colorbar": {
             "outlinewidth": 0,
             "ticks": ""
            },
            "colorscale": [
             [
              0,
              "#0d0887"
             ],
             [
              0.1111111111111111,
              "#46039f"
             ],
             [
              0.2222222222222222,
              "#7201a8"
             ],
             [
              0.3333333333333333,
              "#9c179e"
             ],
             [
              0.4444444444444444,
              "#bd3786"
             ],
             [
              0.5555555555555556,
              "#d8576b"
             ],
             [
              0.6666666666666666,
              "#ed7953"
             ],
             [
              0.7777777777777778,
              "#fb9f3a"
             ],
             [
              0.8888888888888888,
              "#fdca26"
             ],
             [
              1,
              "#f0f921"
             ]
            ],
            "type": "histogram2dcontour"
           }
          ],
          "mesh3d": [
           {
            "colorbar": {
             "outlinewidth": 0,
             "ticks": ""
            },
            "type": "mesh3d"
           }
          ],
          "parcoords": [
           {
            "line": {
             "colorbar": {
              "outlinewidth": 0,
              "ticks": ""
             }
            },
            "type": "parcoords"
           }
          ],
          "pie": [
           {
            "automargin": true,
            "type": "pie"
           }
          ],
          "scatter": [
           {
            "fillpattern": {
             "fillmode": "overlay",
             "size": 10,
             "solidity": 0.2
            },
            "type": "scatter"
           }
          ],
          "scatter3d": [
           {
            "line": {
             "colorbar": {
              "outlinewidth": 0,
              "ticks": ""
             }
            },
            "marker": {
             "colorbar": {
              "outlinewidth": 0,
              "ticks": ""
             }
            },
            "type": "scatter3d"
           }
          ],
          "scattercarpet": [
           {
            "marker": {
             "colorbar": {
              "outlinewidth": 0,
              "ticks": ""
             }
            },
            "type": "scattercarpet"
           }
          ],
          "scattergeo": [
           {
            "marker": {
             "colorbar": {
              "outlinewidth": 0,
              "ticks": ""
             }
            },
            "type": "scattergeo"
           }
          ],
          "scattergl": [
           {
            "marker": {
             "colorbar": {
              "outlinewidth": 0,
              "ticks": ""
             }
            },
            "type": "scattergl"
           }
          ],
          "scattermapbox": [
           {
            "marker": {
             "colorbar": {
              "outlinewidth": 0,
              "ticks": ""
             }
            },
            "type": "scattermapbox"
           }
          ],
          "scatterpolar": [
           {
            "marker": {
             "colorbar": {
              "outlinewidth": 0,
              "ticks": ""
             }
            },
            "type": "scatterpolar"
           }
          ],
          "scatterpolargl": [
           {
            "marker": {
             "colorbar": {
              "outlinewidth": 0,
              "ticks": ""
             }
            },
            "type": "scatterpolargl"
           }
          ],
          "scatterternary": [
           {
            "marker": {
             "colorbar": {
              "outlinewidth": 0,
              "ticks": ""
             }
            },
            "type": "scatterternary"
           }
          ],
          "surface": [
           {
            "colorbar": {
             "outlinewidth": 0,
             "ticks": ""
            },
            "colorscale": [
             [
              0,
              "#0d0887"
             ],
             [
              0.1111111111111111,
              "#46039f"
             ],
             [
              0.2222222222222222,
              "#7201a8"
             ],
             [
              0.3333333333333333,
              "#9c179e"
             ],
             [
              0.4444444444444444,
              "#bd3786"
             ],
             [
              0.5555555555555556,
              "#d8576b"
             ],
             [
              0.6666666666666666,
              "#ed7953"
             ],
             [
              0.7777777777777778,
              "#fb9f3a"
             ],
             [
              0.8888888888888888,
              "#fdca26"
             ],
             [
              1,
              "#f0f921"
             ]
            ],
            "type": "surface"
           }
          ],
          "table": [
           {
            "cells": {
             "fill": {
              "color": "#EBF0F8"
             },
             "line": {
              "color": "white"
             }
            },
            "header": {
             "fill": {
              "color": "#C8D4E3"
             },
             "line": {
              "color": "white"
             }
            },
            "type": "table"
           }
          ]
         },
         "layout": {
          "annotationdefaults": {
           "arrowcolor": "#2a3f5f",
           "arrowhead": 0,
           "arrowwidth": 1
          },
          "autotypenumbers": "strict",
          "coloraxis": {
           "colorbar": {
            "outlinewidth": 0,
            "ticks": ""
           }
          },
          "colorscale": {
           "diverging": [
            [
             0,
             "#8e0152"
            ],
            [
             0.1,
             "#c51b7d"
            ],
            [
             0.2,
             "#de77ae"
            ],
            [
             0.3,
             "#f1b6da"
            ],
            [
             0.4,
             "#fde0ef"
            ],
            [
             0.5,
             "#f7f7f7"
            ],
            [
             0.6,
             "#e6f5d0"
            ],
            [
             0.7,
             "#b8e186"
            ],
            [
             0.8,
             "#7fbc41"
            ],
            [
             0.9,
             "#4d9221"
            ],
            [
             1,
             "#276419"
            ]
           ],
           "sequential": [
            [
             0,
             "#0d0887"
            ],
            [
             0.1111111111111111,
             "#46039f"
            ],
            [
             0.2222222222222222,
             "#7201a8"
            ],
            [
             0.3333333333333333,
             "#9c179e"
            ],
            [
             0.4444444444444444,
             "#bd3786"
            ],
            [
             0.5555555555555556,
             "#d8576b"
            ],
            [
             0.6666666666666666,
             "#ed7953"
            ],
            [
             0.7777777777777778,
             "#fb9f3a"
            ],
            [
             0.8888888888888888,
             "#fdca26"
            ],
            [
             1,
             "#f0f921"
            ]
           ],
           "sequentialminus": [
            [
             0,
             "#0d0887"
            ],
            [
             0.1111111111111111,
             "#46039f"
            ],
            [
             0.2222222222222222,
             "#7201a8"
            ],
            [
             0.3333333333333333,
             "#9c179e"
            ],
            [
             0.4444444444444444,
             "#bd3786"
            ],
            [
             0.5555555555555556,
             "#d8576b"
            ],
            [
             0.6666666666666666,
             "#ed7953"
            ],
            [
             0.7777777777777778,
             "#fb9f3a"
            ],
            [
             0.8888888888888888,
             "#fdca26"
            ],
            [
             1,
             "#f0f921"
            ]
           ]
          },
          "colorway": [
           "#636efa",
           "#EF553B",
           "#00cc96",
           "#ab63fa",
           "#FFA15A",
           "#19d3f3",
           "#FF6692",
           "#B6E880",
           "#FF97FF",
           "#FECB52"
          ],
          "font": {
           "color": "#2a3f5f"
          },
          "geo": {
           "bgcolor": "white",
           "lakecolor": "white",
           "landcolor": "#E5ECF6",
           "showlakes": true,
           "showland": true,
           "subunitcolor": "white"
          },
          "hoverlabel": {
           "align": "left"
          },
          "hovermode": "closest",
          "mapbox": {
           "style": "light"
          },
          "paper_bgcolor": "white",
          "plot_bgcolor": "#E5ECF6",
          "polar": {
           "angularaxis": {
            "gridcolor": "white",
            "linecolor": "white",
            "ticks": ""
           },
           "bgcolor": "#E5ECF6",
           "radialaxis": {
            "gridcolor": "white",
            "linecolor": "white",
            "ticks": ""
           }
          },
          "scene": {
           "xaxis": {
            "backgroundcolor": "#E5ECF6",
            "gridcolor": "white",
            "gridwidth": 2,
            "linecolor": "white",
            "showbackground": true,
            "ticks": "",
            "zerolinecolor": "white"
           },
           "yaxis": {
            "backgroundcolor": "#E5ECF6",
            "gridcolor": "white",
            "gridwidth": 2,
            "linecolor": "white",
            "showbackground": true,
            "ticks": "",
            "zerolinecolor": "white"
           },
           "zaxis": {
            "backgroundcolor": "#E5ECF6",
            "gridcolor": "white",
            "gridwidth": 2,
            "linecolor": "white",
            "showbackground": true,
            "ticks": "",
            "zerolinecolor": "white"
           }
          },
          "shapedefaults": {
           "line": {
            "color": "#2a3f5f"
           }
          },
          "ternary": {
           "aaxis": {
            "gridcolor": "white",
            "linecolor": "white",
            "ticks": ""
           },
           "baxis": {
            "gridcolor": "white",
            "linecolor": "white",
            "ticks": ""
           },
           "bgcolor": "#E5ECF6",
           "caxis": {
            "gridcolor": "white",
            "linecolor": "white",
            "ticks": ""
           }
          },
          "title": {
           "x": 0.05
          },
          "xaxis": {
           "automargin": true,
           "gridcolor": "white",
           "linecolor": "white",
           "ticks": "",
           "title": {
            "standoff": 15
           },
           "zerolinecolor": "white",
           "zerolinewidth": 2
          },
          "yaxis": {
           "automargin": true,
           "gridcolor": "white",
           "linecolor": "white",
           "ticks": "",
           "title": {
            "standoff": 15
           },
           "zerolinecolor": "white",
           "zerolinewidth": 2
          }
         }
        },
        "title": {
         "text": "Top 10 Municipalities with Highest Traffic Pollution over the Years"
        },
        "width": 600,
        "xaxis": {
         "anchor": "y",
         "domain": [
          0,
          1
         ],
         "tickangle": -45,
         "title": {
          "text": "Municipality"
         }
        },
        "yaxis": {
         "anchor": "x",
         "domain": [
          0,
          1
         ],
         "title": {
          "text": "Traffic Pollution Index"
         }
        }
       }
      },
      "text/html": [
       "<div>                            <div id=\"bece988a-8b8a-4ea5-98fd-c8ceb739be2d\" class=\"plotly-graph-div\" style=\"height:400px; width:600px;\"></div>            <script type=\"text/javascript\">                require([\"plotly\"], function(Plotly) {                    window.PLOTLYENV=window.PLOTLYENV || {};                                    if (document.getElementById(\"bece988a-8b8a-4ea5-98fd-c8ceb739be2d\")) {                    Plotly.newPlot(                        \"bece988a-8b8a-4ea5-98fd-c8ceb739be2d\",                        [{\"alignmentgroup\":\"True\",\"hovertemplate\":\"Municipality=%{x}\\u003cbr\\u003eTraffic_Pollution=%{y}\\u003cextra\\u003e\\u003c\\u002fextra\\u003e\",\"legendgroup\":\"\",\"marker\":{\"color\":\"#636efa\",\"opacity\":0.8},\"name\":\"\",\"notched\":false,\"offsetgroup\":\"\",\"orientation\":\"v\",\"showlegend\":false,\"x\":[\"Municipality_18\",\"Municipality_18\",\"Municipality_18\",\"Municipality_18\",\"Municipality_18\",\"Municipality_18\",\"Municipality_18\",\"Municipality_18\",\"Municipality_18\",\"Municipality_18\",\"Municipality_19\",\"Municipality_19\",\"Municipality_19\",\"Municipality_19\",\"Municipality_19\",\"Municipality_19\",\"Municipality_19\",\"Municipality_19\",\"Municipality_19\",\"Municipality_19\",\"Municipality_24\",\"Municipality_24\",\"Municipality_24\",\"Municipality_24\",\"Municipality_24\",\"Municipality_24\",\"Municipality_24\",\"Municipality_24\",\"Municipality_24\",\"Municipality_24\",\"Municipality_35\",\"Municipality_35\",\"Municipality_35\",\"Municipality_35\",\"Municipality_35\",\"Municipality_35\",\"Municipality_35\",\"Municipality_35\",\"Municipality_35\",\"Municipality_35\",\"Municipality_36\",\"Municipality_36\",\"Municipality_36\",\"Municipality_36\",\"Municipality_36\",\"Municipality_36\",\"Municipality_36\",\"Municipality_36\",\"Municipality_36\",\"Municipality_36\",\"Municipality_39\",\"Municipality_39\",\"Municipality_39\",\"Municipality_39\",\"Municipality_39\",\"Municipality_39\",\"Municipality_39\",\"Municipality_39\",\"Municipality_39\",\"Municipality_39\",\"Municipality_45\",\"Municipality_45\",\"Municipality_45\",\"Municipality_45\",\"Municipality_45\",\"Municipality_45\",\"Municipality_45\",\"Municipality_45\",\"Municipality_45\",\"Municipality_45\",\"Municipality_49\",\"Municipality_49\",\"Municipality_49\",\"Municipality_49\",\"Municipality_49\",\"Municipality_49\",\"Municipality_49\",\"Municipality_49\",\"Municipality_49\",\"Municipality_49\",\"Municipality_5\",\"Municipality_5\",\"Municipality_5\",\"Municipality_5\",\"Municipality_5\",\"Municipality_5\",\"Municipality_5\",\"Municipality_5\",\"Municipality_5\",\"Municipality_5\",\"Municipality_8\",\"Municipality_8\",\"Municipality_8\",\"Municipality_8\",\"Municipality_8\",\"Municipality_8\",\"Municipality_8\",\"Municipality_8\",\"Municipality_8\",\"Municipality_8\"],\"x0\":\" \",\"xaxis\":\"x\",\"y\":[58.4448796164117,58.88162410422383,59.47957562409469,59.81383610253857,60.26229432837464,60.833679558141725,61.1998177125994,61.57243897054818,62.36652196066873,63.34370711350776,67.15114412781637,67.19053782256714,67.26067407720817,67.32360732179994,null,66.99718727875673,67.13956064579422,67.21196104308797,67.28921384045972,67.19880428784028,60.75947061249799,60.96796824324045,61.69054308927609,61.86837627429198,62.67239822003045,63.23800992742866,63.58957315642541,64.66771694550881,64.91185669524732,65.45133741263896,68.26366001068489,68.66810767983617,69.21723619688515,70.01045824893016,70.33281609067484,70.4303399999334,71.07318763027995,71.70765627169318,72.51474546216234,72.69825112113506,69.33200817706941,69.94832055652131,70.42478150879779,70.80421217486685,71.27577485437669,71.91018889562928,72.31744615119194,73.12160774370105,73.22553277309605,73.90178861306963,64.41352239733925,64.29463891866872,64.56388511886966,64.32609659773267,64.32921274250799,64.34742677569145,64.36072228583764,64.38287550038106,64.49590608486477,64.2917509784531,67.69144684682777,67.79533010166652,67.7239036170168,67.74215572666478,67.6437947086131,67.78257224429989,67.83786032894002,67.75852389050067,67.73463115497027,67.75440126049952,60.11342768646513,61.014855514585314,61.28932430215734,61.59732466547248,61.66183420975043,62.538489122774834,63.21386873844805,63.42079017157817,63.82393694674504,64.5744869981895,67.99991770825076,68.45442951838746,68.62715537823843,69.0396225301274,69.41789991217671,70.42500400562373,71.0317949086242,71.35662729608609,72.13375997412058,72.58117132731495,67.57525790658877,67.56697243281639,67.46881435749204,67.45998636107306,67.4699158911211,67.50743708706366,67.709963585307,67.53283634228262,67.49174713860589,67.60791449537035],\"y0\":\" \",\"yaxis\":\"y\",\"type\":\"box\"}],                        {\"template\":{\"data\":{\"histogram2dcontour\":[{\"type\":\"histogram2dcontour\",\"colorbar\":{\"outlinewidth\":0,\"ticks\":\"\"},\"colorscale\":[[0.0,\"#0d0887\"],[0.1111111111111111,\"#46039f\"],[0.2222222222222222,\"#7201a8\"],[0.3333333333333333,\"#9c179e\"],[0.4444444444444444,\"#bd3786\"],[0.5555555555555556,\"#d8576b\"],[0.6666666666666666,\"#ed7953\"],[0.7777777777777778,\"#fb9f3a\"],[0.8888888888888888,\"#fdca26\"],[1.0,\"#f0f921\"]]}],\"choropleth\":[{\"type\":\"choropleth\",\"colorbar\":{\"outlinewidth\":0,\"ticks\":\"\"}}],\"histogram2d\":[{\"type\":\"histogram2d\",\"colorbar\":{\"outlinewidth\":0,\"ticks\":\"\"},\"colorscale\":[[0.0,\"#0d0887\"],[0.1111111111111111,\"#46039f\"],[0.2222222222222222,\"#7201a8\"],[0.3333333333333333,\"#9c179e\"],[0.4444444444444444,\"#bd3786\"],[0.5555555555555556,\"#d8576b\"],[0.6666666666666666,\"#ed7953\"],[0.7777777777777778,\"#fb9f3a\"],[0.8888888888888888,\"#fdca26\"],[1.0,\"#f0f921\"]]}],\"heatmap\":[{\"type\":\"heatmap\",\"colorbar\":{\"outlinewidth\":0,\"ticks\":\"\"},\"colorscale\":[[0.0,\"#0d0887\"],[0.1111111111111111,\"#46039f\"],[0.2222222222222222,\"#7201a8\"],[0.3333333333333333,\"#9c179e\"],[0.4444444444444444,\"#bd3786\"],[0.5555555555555556,\"#d8576b\"],[0.6666666666666666,\"#ed7953\"],[0.7777777777777778,\"#fb9f3a\"],[0.8888888888888888,\"#fdca26\"],[1.0,\"#f0f921\"]]}],\"heatmapgl\":[{\"type\":\"heatmapgl\",\"colorbar\":{\"outlinewidth\":0,\"ticks\":\"\"},\"colorscale\":[[0.0,\"#0d0887\"],[0.1111111111111111,\"#46039f\"],[0.2222222222222222,\"#7201a8\"],[0.3333333333333333,\"#9c179e\"],[0.4444444444444444,\"#bd3786\"],[0.5555555555555556,\"#d8576b\"],[0.6666666666666666,\"#ed7953\"],[0.7777777777777778,\"#fb9f3a\"],[0.8888888888888888,\"#fdca26\"],[1.0,\"#f0f921\"]]}],\"contourcarpet\":[{\"type\":\"contourcarpet\",\"colorbar\":{\"outlinewidth\":0,\"ticks\":\"\"}}],\"contour\":[{\"type\":\"contour\",\"colorbar\":{\"outlinewidth\":0,\"ticks\":\"\"},\"colorscale\":[[0.0,\"#0d0887\"],[0.1111111111111111,\"#46039f\"],[0.2222222222222222,\"#7201a8\"],[0.3333333333333333,\"#9c179e\"],[0.4444444444444444,\"#bd3786\"],[0.5555555555555556,\"#d8576b\"],[0.6666666666666666,\"#ed7953\"],[0.7777777777777778,\"#fb9f3a\"],[0.8888888888888888,\"#fdca26\"],[1.0,\"#f0f921\"]]}],\"surface\":[{\"type\":\"surface\",\"colorbar\":{\"outlinewidth\":0,\"ticks\":\"\"},\"colorscale\":[[0.0,\"#0d0887\"],[0.1111111111111111,\"#46039f\"],[0.2222222222222222,\"#7201a8\"],[0.3333333333333333,\"#9c179e\"],[0.4444444444444444,\"#bd3786\"],[0.5555555555555556,\"#d8576b\"],[0.6666666666666666,\"#ed7953\"],[0.7777777777777778,\"#fb9f3a\"],[0.8888888888888888,\"#fdca26\"],[1.0,\"#f0f921\"]]}],\"mesh3d\":[{\"type\":\"mesh3d\",\"colorbar\":{\"outlinewidth\":0,\"ticks\":\"\"}}],\"scatter\":[{\"fillpattern\":{\"fillmode\":\"overlay\",\"size\":10,\"solidity\":0.2},\"type\":\"scatter\"}],\"parcoords\":[{\"type\":\"parcoords\",\"line\":{\"colorbar\":{\"outlinewidth\":0,\"ticks\":\"\"}}}],\"scatterpolargl\":[{\"type\":\"scatterpolargl\",\"marker\":{\"colorbar\":{\"outlinewidth\":0,\"ticks\":\"\"}}}],\"bar\":[{\"error_x\":{\"color\":\"#2a3f5f\"},\"error_y\":{\"color\":\"#2a3f5f\"},\"marker\":{\"line\":{\"color\":\"#E5ECF6\",\"width\":0.5},\"pattern\":{\"fillmode\":\"overlay\",\"size\":10,\"solidity\":0.2}},\"type\":\"bar\"}],\"scattergeo\":[{\"type\":\"scattergeo\",\"marker\":{\"colorbar\":{\"outlinewidth\":0,\"ticks\":\"\"}}}],\"scatterpolar\":[{\"type\":\"scatterpolar\",\"marker\":{\"colorbar\":{\"outlinewidth\":0,\"ticks\":\"\"}}}],\"histogram\":[{\"marker\":{\"pattern\":{\"fillmode\":\"overlay\",\"size\":10,\"solidity\":0.2}},\"type\":\"histogram\"}],\"scattergl\":[{\"type\":\"scattergl\",\"marker\":{\"colorbar\":{\"outlinewidth\":0,\"ticks\":\"\"}}}],\"scatter3d\":[{\"type\":\"scatter3d\",\"line\":{\"colorbar\":{\"outlinewidth\":0,\"ticks\":\"\"}},\"marker\":{\"colorbar\":{\"outlinewidth\":0,\"ticks\":\"\"}}}],\"scattermapbox\":[{\"type\":\"scattermapbox\",\"marker\":{\"colorbar\":{\"outlinewidth\":0,\"ticks\":\"\"}}}],\"scatterternary\":[{\"type\":\"scatterternary\",\"marker\":{\"colorbar\":{\"outlinewidth\":0,\"ticks\":\"\"}}}],\"scattercarpet\":[{\"type\":\"scattercarpet\",\"marker\":{\"colorbar\":{\"outlinewidth\":0,\"ticks\":\"\"}}}],\"carpet\":[{\"aaxis\":{\"endlinecolor\":\"#2a3f5f\",\"gridcolor\":\"white\",\"linecolor\":\"white\",\"minorgridcolor\":\"white\",\"startlinecolor\":\"#2a3f5f\"},\"baxis\":{\"endlinecolor\":\"#2a3f5f\",\"gridcolor\":\"white\",\"linecolor\":\"white\",\"minorgridcolor\":\"white\",\"startlinecolor\":\"#2a3f5f\"},\"type\":\"carpet\"}],\"table\":[{\"cells\":{\"fill\":{\"color\":\"#EBF0F8\"},\"line\":{\"color\":\"white\"}},\"header\":{\"fill\":{\"color\":\"#C8D4E3\"},\"line\":{\"color\":\"white\"}},\"type\":\"table\"}],\"barpolar\":[{\"marker\":{\"line\":{\"color\":\"#E5ECF6\",\"width\":0.5},\"pattern\":{\"fillmode\":\"overlay\",\"size\":10,\"solidity\":0.2}},\"type\":\"barpolar\"}],\"pie\":[{\"automargin\":true,\"type\":\"pie\"}]},\"layout\":{\"autotypenumbers\":\"strict\",\"colorway\":[\"#636efa\",\"#EF553B\",\"#00cc96\",\"#ab63fa\",\"#FFA15A\",\"#19d3f3\",\"#FF6692\",\"#B6E880\",\"#FF97FF\",\"#FECB52\"],\"font\":{\"color\":\"#2a3f5f\"},\"hovermode\":\"closest\",\"hoverlabel\":{\"align\":\"left\"},\"paper_bgcolor\":\"white\",\"plot_bgcolor\":\"#E5ECF6\",\"polar\":{\"bgcolor\":\"#E5ECF6\",\"angularaxis\":{\"gridcolor\":\"white\",\"linecolor\":\"white\",\"ticks\":\"\"},\"radialaxis\":{\"gridcolor\":\"white\",\"linecolor\":\"white\",\"ticks\":\"\"}},\"ternary\":{\"bgcolor\":\"#E5ECF6\",\"aaxis\":{\"gridcolor\":\"white\",\"linecolor\":\"white\",\"ticks\":\"\"},\"baxis\":{\"gridcolor\":\"white\",\"linecolor\":\"white\",\"ticks\":\"\"},\"caxis\":{\"gridcolor\":\"white\",\"linecolor\":\"white\",\"ticks\":\"\"}},\"coloraxis\":{\"colorbar\":{\"outlinewidth\":0,\"ticks\":\"\"}},\"colorscale\":{\"sequential\":[[0.0,\"#0d0887\"],[0.1111111111111111,\"#46039f\"],[0.2222222222222222,\"#7201a8\"],[0.3333333333333333,\"#9c179e\"],[0.4444444444444444,\"#bd3786\"],[0.5555555555555556,\"#d8576b\"],[0.6666666666666666,\"#ed7953\"],[0.7777777777777778,\"#fb9f3a\"],[0.8888888888888888,\"#fdca26\"],[1.0,\"#f0f921\"]],\"sequentialminus\":[[0.0,\"#0d0887\"],[0.1111111111111111,\"#46039f\"],[0.2222222222222222,\"#7201a8\"],[0.3333333333333333,\"#9c179e\"],[0.4444444444444444,\"#bd3786\"],[0.5555555555555556,\"#d8576b\"],[0.6666666666666666,\"#ed7953\"],[0.7777777777777778,\"#fb9f3a\"],[0.8888888888888888,\"#fdca26\"],[1.0,\"#f0f921\"]],\"diverging\":[[0,\"#8e0152\"],[0.1,\"#c51b7d\"],[0.2,\"#de77ae\"],[0.3,\"#f1b6da\"],[0.4,\"#fde0ef\"],[0.5,\"#f7f7f7\"],[0.6,\"#e6f5d0\"],[0.7,\"#b8e186\"],[0.8,\"#7fbc41\"],[0.9,\"#4d9221\"],[1,\"#276419\"]]},\"xaxis\":{\"gridcolor\":\"white\",\"linecolor\":\"white\",\"ticks\":\"\",\"title\":{\"standoff\":15},\"zerolinecolor\":\"white\",\"automargin\":true,\"zerolinewidth\":2},\"yaxis\":{\"gridcolor\":\"white\",\"linecolor\":\"white\",\"ticks\":\"\",\"title\":{\"standoff\":15},\"zerolinecolor\":\"white\",\"automargin\":true,\"zerolinewidth\":2},\"scene\":{\"xaxis\":{\"backgroundcolor\":\"#E5ECF6\",\"gridcolor\":\"white\",\"linecolor\":\"white\",\"showbackground\":true,\"ticks\":\"\",\"zerolinecolor\":\"white\",\"gridwidth\":2},\"yaxis\":{\"backgroundcolor\":\"#E5ECF6\",\"gridcolor\":\"white\",\"linecolor\":\"white\",\"showbackground\":true,\"ticks\":\"\",\"zerolinecolor\":\"white\",\"gridwidth\":2},\"zaxis\":{\"backgroundcolor\":\"#E5ECF6\",\"gridcolor\":\"white\",\"linecolor\":\"white\",\"showbackground\":true,\"ticks\":\"\",\"zerolinecolor\":\"white\",\"gridwidth\":2}},\"shapedefaults\":{\"line\":{\"color\":\"#2a3f5f\"}},\"annotationdefaults\":{\"arrowcolor\":\"#2a3f5f\",\"arrowhead\":0,\"arrowwidth\":1},\"geo\":{\"bgcolor\":\"white\",\"landcolor\":\"#E5ECF6\",\"subunitcolor\":\"white\",\"showland\":true,\"showlakes\":true,\"lakecolor\":\"white\"},\"title\":{\"x\":0.05},\"mapbox\":{\"style\":\"light\"}}},\"xaxis\":{\"anchor\":\"y\",\"domain\":[0.0,1.0],\"title\":{\"text\":\"Municipality\"},\"tickangle\":-45},\"yaxis\":{\"anchor\":\"x\",\"domain\":[0.0,1.0],\"title\":{\"text\":\"Traffic Pollution Index\"}},\"legend\":{\"tracegroupgap\":0},\"title\":{\"text\":\"Top 10 Municipalities with Highest Traffic Pollution over the Years\"},\"boxmode\":\"group\",\"font\":{\"size\":12},\"width\":600,\"height\":400,\"showlegend\":false},                        {\"responsive\": true}                    ).then(function(){\n",
       "                            \n",
       "var gd = document.getElementById('bece988a-8b8a-4ea5-98fd-c8ceb739be2d');\n",
       "var x = new MutationObserver(function (mutations, observer) {{\n",
       "        var display = window.getComputedStyle(gd).display;\n",
       "        if (!display || display === 'none') {{\n",
       "            console.log([gd, 'removed!']);\n",
       "            Plotly.purge(gd);\n",
       "            observer.disconnect();\n",
       "        }}\n",
       "}});\n",
       "\n",
       "// Listen for the removal of the full notebook cells\n",
       "var notebookContainer = gd.closest('#notebook-container');\n",
       "if (notebookContainer) {{\n",
       "    x.observe(notebookContainer, {childList: true});\n",
       "}}\n",
       "\n",
       "// Listen for the clearing of the current output cell\n",
       "var outputEl = gd.closest('.output');\n",
       "if (outputEl) {{\n",
       "    x.observe(outputEl, {childList: true});\n",
       "}}\n",
       "\n",
       "                        })                };                });            </script>        </div>"
      ]
     },
     "metadata": {},
     "output_type": "display_data"
    },
    {
     "data": {
      "application/vnd.plotly.v1+json": {
       "config": {
        "plotlyServerURL": "https://plot.ly"
       },
       "data": [
        {
         "alignmentgroup": "True",
         "hovertemplate": "Municipality=%{x}<br>Traffic_Pollution=%{y}<extra></extra>",
         "legendgroup": "",
         "marker": {
          "color": "#636efa",
          "opacity": 0.8
         },
         "name": "",
         "notched": false,
         "offsetgroup": "",
         "orientation": "v",
         "showlegend": false,
         "type": "box",
         "x": [
          "Municipality_11",
          "Municipality_11",
          "Municipality_11",
          "Municipality_11",
          "Municipality_11",
          "Municipality_11",
          "Municipality_11",
          "Municipality_11",
          "Municipality_11",
          "Municipality_11",
          "Municipality_14",
          "Municipality_14",
          "Municipality_14",
          "Municipality_14",
          "Municipality_14",
          "Municipality_14",
          "Municipality_14",
          "Municipality_14",
          "Municipality_14",
          "Municipality_14",
          "Municipality_20",
          "Municipality_20",
          "Municipality_20",
          "Municipality_20",
          "Municipality_20",
          "Municipality_20",
          "Municipality_20",
          "Municipality_20",
          "Municipality_20",
          "Municipality_20",
          "Municipality_23",
          "Municipality_23",
          "Municipality_23",
          "Municipality_23",
          "Municipality_23",
          "Municipality_23",
          "Municipality_23",
          "Municipality_23",
          "Municipality_23",
          "Municipality_23",
          "Municipality_26",
          "Municipality_26",
          "Municipality_26",
          "Municipality_26",
          "Municipality_26",
          "Municipality_26",
          "Municipality_26",
          "Municipality_26",
          "Municipality_26",
          "Municipality_26",
          "Municipality_38",
          "Municipality_38",
          "Municipality_38",
          "Municipality_38",
          "Municipality_38",
          "Municipality_38",
          "Municipality_38",
          "Municipality_38",
          "Municipality_38",
          "Municipality_38",
          "Municipality_4",
          "Municipality_4",
          "Municipality_4",
          "Municipality_4",
          "Municipality_4",
          "Municipality_4",
          "Municipality_4",
          "Municipality_4",
          "Municipality_4",
          "Municipality_4",
          "Municipality_40",
          "Municipality_40",
          "Municipality_40",
          "Municipality_40",
          "Municipality_40",
          "Municipality_40",
          "Municipality_40",
          "Municipality_40",
          "Municipality_40",
          "Municipality_40",
          "Municipality_6",
          "Municipality_6",
          "Municipality_6",
          "Municipality_6",
          "Municipality_6",
          "Municipality_6",
          "Municipality_6",
          "Municipality_6",
          "Municipality_6",
          "Municipality_6",
          "Municipality_9",
          "Municipality_9",
          "Municipality_9",
          "Municipality_9",
          "Municipality_9",
          "Municipality_9",
          "Municipality_9",
          "Municipality_9",
          "Municipality_9",
          "Municipality_9"
         ],
         "x0": " ",
         "xaxis": "x",
         "y": [
          38.09035335089333,
          38.480723832851176,
          39.11161721704166,
          39.863294972277785,
          40.64782780126907,
          41.19291013793072,
          41.47421603694234,
          42.51516949421613,
          42.25607216811304,
          42.76215164396719,
          27.884918139819582,
          28.23831787107505,
          28.91588940809919,
          29.241616549757907,
          29.42084014852273,
          30.511264650918548,
          31.23088156445733,
          31.18782110595035,
          31.567520961254733,
          32.18228017381832,
          43.20360238567026,
          44.1620531335534,
          44.75112900072612,
          44.66644034933823,
          45.34797034676743,
          45.83009369446263,
          46.46021549797653,
          47.28666670442464,
          47.2757027978711,
          48.00884234085368,
          32.72593148534675,
          32.88120329028339,
          32.84397440239548,
          32.727244330268945,
          32.73258462865895,
          null,
          32.84513510792899,
          32.896964420538524,
          32.70945149208632,
          32.76540540428425,
          38.50088530014951,
          38.46477551757721,
          38.5303153737353,
          38.54724200544805,
          38.51576314171674,
          38.55675564361198,
          38.39263484990392,
          38.52739568671058,
          38.44843348731409,
          38.57335494100726,
          35.78544153515708,
          36.18118542607088,
          37.05071557638521,
          37.32534446823238,
          37.58610961138021,
          38.36478278698847,
          39.08379071296345,
          39.36408368298157,
          39.98067794956111,
          40.19895291677472,
          36.91203361414902,
          36.64280576492156,
          36.896344480096815,
          37.626601689479976,
          38.62172906447841,
          38.94133200142804,
          39.43737820786347,
          40.225502828501725,
          40.239882725656926,
          41.08992927116444,
          25.399010312173974,
          25.445940365181865,
          25.494462992370128,
          25.56473476325662,
          25.50486759432434,
          25.386896608615995,
          25.318294986132702,
          25.563368120588915,
          25.45769033469037,
          25.54297098506208,
          44.44678173635359,
          44.56210832518384,
          45.05610149186638,
          45.80228130217616,
          46.28917368586212,
          46.49839693014664,
          47.6450872185041,
          47.72296987939319,
          48.04153910981682,
          48.64517571977251,
          36.116531589243216,
          36.70516742480292,
          37.37053585986334,
          37.76266419362809,
          38.66942423158289,
          38.526621221667,
          39.67261033394564,
          39.76464781709532,
          40.142385652768894,
          40.84852707938534
         ],
         "y0": " ",
         "yaxis": "y"
        }
       ],
       "layout": {
        "boxmode": "group",
        "font": {
         "size": 12
        },
        "height": 400,
        "legend": {
         "tracegroupgap": 0
        },
        "showlegend": false,
        "template": {
         "data": {
          "bar": [
           {
            "error_x": {
             "color": "#2a3f5f"
            },
            "error_y": {
             "color": "#2a3f5f"
            },
            "marker": {
             "line": {
              "color": "#E5ECF6",
              "width": 0.5
             },
             "pattern": {
              "fillmode": "overlay",
              "size": 10,
              "solidity": 0.2
             }
            },
            "type": "bar"
           }
          ],
          "barpolar": [
           {
            "marker": {
             "line": {
              "color": "#E5ECF6",
              "width": 0.5
             },
             "pattern": {
              "fillmode": "overlay",
              "size": 10,
              "solidity": 0.2
             }
            },
            "type": "barpolar"
           }
          ],
          "carpet": [
           {
            "aaxis": {
             "endlinecolor": "#2a3f5f",
             "gridcolor": "white",
             "linecolor": "white",
             "minorgridcolor": "white",
             "startlinecolor": "#2a3f5f"
            },
            "baxis": {
             "endlinecolor": "#2a3f5f",
             "gridcolor": "white",
             "linecolor": "white",
             "minorgridcolor": "white",
             "startlinecolor": "#2a3f5f"
            },
            "type": "carpet"
           }
          ],
          "choropleth": [
           {
            "colorbar": {
             "outlinewidth": 0,
             "ticks": ""
            },
            "type": "choropleth"
           }
          ],
          "contour": [
           {
            "colorbar": {
             "outlinewidth": 0,
             "ticks": ""
            },
            "colorscale": [
             [
              0,
              "#0d0887"
             ],
             [
              0.1111111111111111,
              "#46039f"
             ],
             [
              0.2222222222222222,
              "#7201a8"
             ],
             [
              0.3333333333333333,
              "#9c179e"
             ],
             [
              0.4444444444444444,
              "#bd3786"
             ],
             [
              0.5555555555555556,
              "#d8576b"
             ],
             [
              0.6666666666666666,
              "#ed7953"
             ],
             [
              0.7777777777777778,
              "#fb9f3a"
             ],
             [
              0.8888888888888888,
              "#fdca26"
             ],
             [
              1,
              "#f0f921"
             ]
            ],
            "type": "contour"
           }
          ],
          "contourcarpet": [
           {
            "colorbar": {
             "outlinewidth": 0,
             "ticks": ""
            },
            "type": "contourcarpet"
           }
          ],
          "heatmap": [
           {
            "colorbar": {
             "outlinewidth": 0,
             "ticks": ""
            },
            "colorscale": [
             [
              0,
              "#0d0887"
             ],
             [
              0.1111111111111111,
              "#46039f"
             ],
             [
              0.2222222222222222,
              "#7201a8"
             ],
             [
              0.3333333333333333,
              "#9c179e"
             ],
             [
              0.4444444444444444,
              "#bd3786"
             ],
             [
              0.5555555555555556,
              "#d8576b"
             ],
             [
              0.6666666666666666,
              "#ed7953"
             ],
             [
              0.7777777777777778,
              "#fb9f3a"
             ],
             [
              0.8888888888888888,
              "#fdca26"
             ],
             [
              1,
              "#f0f921"
             ]
            ],
            "type": "heatmap"
           }
          ],
          "heatmapgl": [
           {
            "colorbar": {
             "outlinewidth": 0,
             "ticks": ""
            },
            "colorscale": [
             [
              0,
              "#0d0887"
             ],
             [
              0.1111111111111111,
              "#46039f"
             ],
             [
              0.2222222222222222,
              "#7201a8"
             ],
             [
              0.3333333333333333,
              "#9c179e"
             ],
             [
              0.4444444444444444,
              "#bd3786"
             ],
             [
              0.5555555555555556,
              "#d8576b"
             ],
             [
              0.6666666666666666,
              "#ed7953"
             ],
             [
              0.7777777777777778,
              "#fb9f3a"
             ],
             [
              0.8888888888888888,
              "#fdca26"
             ],
             [
              1,
              "#f0f921"
             ]
            ],
            "type": "heatmapgl"
           }
          ],
          "histogram": [
           {
            "marker": {
             "pattern": {
              "fillmode": "overlay",
              "size": 10,
              "solidity": 0.2
             }
            },
            "type": "histogram"
           }
          ],
          "histogram2d": [
           {
            "colorbar": {
             "outlinewidth": 0,
             "ticks": ""
            },
            "colorscale": [
             [
              0,
              "#0d0887"
             ],
             [
              0.1111111111111111,
              "#46039f"
             ],
             [
              0.2222222222222222,
              "#7201a8"
             ],
             [
              0.3333333333333333,
              "#9c179e"
             ],
             [
              0.4444444444444444,
              "#bd3786"
             ],
             [
              0.5555555555555556,
              "#d8576b"
             ],
             [
              0.6666666666666666,
              "#ed7953"
             ],
             [
              0.7777777777777778,
              "#fb9f3a"
             ],
             [
              0.8888888888888888,
              "#fdca26"
             ],
             [
              1,
              "#f0f921"
             ]
            ],
            "type": "histogram2d"
           }
          ],
          "histogram2dcontour": [
           {
            "colorbar": {
             "outlinewidth": 0,
             "ticks": ""
            },
            "colorscale": [
             [
              0,
              "#0d0887"
             ],
             [
              0.1111111111111111,
              "#46039f"
             ],
             [
              0.2222222222222222,
              "#7201a8"
             ],
             [
              0.3333333333333333,
              "#9c179e"
             ],
             [
              0.4444444444444444,
              "#bd3786"
             ],
             [
              0.5555555555555556,
              "#d8576b"
             ],
             [
              0.6666666666666666,
              "#ed7953"
             ],
             [
              0.7777777777777778,
              "#fb9f3a"
             ],
             [
              0.8888888888888888,
              "#fdca26"
             ],
             [
              1,
              "#f0f921"
             ]
            ],
            "type": "histogram2dcontour"
           }
          ],
          "mesh3d": [
           {
            "colorbar": {
             "outlinewidth": 0,
             "ticks": ""
            },
            "type": "mesh3d"
           }
          ],
          "parcoords": [
           {
            "line": {
             "colorbar": {
              "outlinewidth": 0,
              "ticks": ""
             }
            },
            "type": "parcoords"
           }
          ],
          "pie": [
           {
            "automargin": true,
            "type": "pie"
           }
          ],
          "scatter": [
           {
            "fillpattern": {
             "fillmode": "overlay",
             "size": 10,
             "solidity": 0.2
            },
            "type": "scatter"
           }
          ],
          "scatter3d": [
           {
            "line": {
             "colorbar": {
              "outlinewidth": 0,
              "ticks": ""
             }
            },
            "marker": {
             "colorbar": {
              "outlinewidth": 0,
              "ticks": ""
             }
            },
            "type": "scatter3d"
           }
          ],
          "scattercarpet": [
           {
            "marker": {
             "colorbar": {
              "outlinewidth": 0,
              "ticks": ""
             }
            },
            "type": "scattercarpet"
           }
          ],
          "scattergeo": [
           {
            "marker": {
             "colorbar": {
              "outlinewidth": 0,
              "ticks": ""
             }
            },
            "type": "scattergeo"
           }
          ],
          "scattergl": [
           {
            "marker": {
             "colorbar": {
              "outlinewidth": 0,
              "ticks": ""
             }
            },
            "type": "scattergl"
           }
          ],
          "scattermapbox": [
           {
            "marker": {
             "colorbar": {
              "outlinewidth": 0,
              "ticks": ""
             }
            },
            "type": "scattermapbox"
           }
          ],
          "scatterpolar": [
           {
            "marker": {
             "colorbar": {
              "outlinewidth": 0,
              "ticks": ""
             }
            },
            "type": "scatterpolar"
           }
          ],
          "scatterpolargl": [
           {
            "marker": {
             "colorbar": {
              "outlinewidth": 0,
              "ticks": ""
             }
            },
            "type": "scatterpolargl"
           }
          ],
          "scatterternary": [
           {
            "marker": {
             "colorbar": {
              "outlinewidth": 0,
              "ticks": ""
             }
            },
            "type": "scatterternary"
           }
          ],
          "surface": [
           {
            "colorbar": {
             "outlinewidth": 0,
             "ticks": ""
            },
            "colorscale": [
             [
              0,
              "#0d0887"
             ],
             [
              0.1111111111111111,
              "#46039f"
             ],
             [
              0.2222222222222222,
              "#7201a8"
             ],
             [
              0.3333333333333333,
              "#9c179e"
             ],
             [
              0.4444444444444444,
              "#bd3786"
             ],
             [
              0.5555555555555556,
              "#d8576b"
             ],
             [
              0.6666666666666666,
              "#ed7953"
             ],
             [
              0.7777777777777778,
              "#fb9f3a"
             ],
             [
              0.8888888888888888,
              "#fdca26"
             ],
             [
              1,
              "#f0f921"
             ]
            ],
            "type": "surface"
           }
          ],
          "table": [
           {
            "cells": {
             "fill": {
              "color": "#EBF0F8"
             },
             "line": {
              "color": "white"
             }
            },
            "header": {
             "fill": {
              "color": "#C8D4E3"
             },
             "line": {
              "color": "white"
             }
            },
            "type": "table"
           }
          ]
         },
         "layout": {
          "annotationdefaults": {
           "arrowcolor": "#2a3f5f",
           "arrowhead": 0,
           "arrowwidth": 1
          },
          "autotypenumbers": "strict",
          "coloraxis": {
           "colorbar": {
            "outlinewidth": 0,
            "ticks": ""
           }
          },
          "colorscale": {
           "diverging": [
            [
             0,
             "#8e0152"
            ],
            [
             0.1,
             "#c51b7d"
            ],
            [
             0.2,
             "#de77ae"
            ],
            [
             0.3,
             "#f1b6da"
            ],
            [
             0.4,
             "#fde0ef"
            ],
            [
             0.5,
             "#f7f7f7"
            ],
            [
             0.6,
             "#e6f5d0"
            ],
            [
             0.7,
             "#b8e186"
            ],
            [
             0.8,
             "#7fbc41"
            ],
            [
             0.9,
             "#4d9221"
            ],
            [
             1,
             "#276419"
            ]
           ],
           "sequential": [
            [
             0,
             "#0d0887"
            ],
            [
             0.1111111111111111,
             "#46039f"
            ],
            [
             0.2222222222222222,
             "#7201a8"
            ],
            [
             0.3333333333333333,
             "#9c179e"
            ],
            [
             0.4444444444444444,
             "#bd3786"
            ],
            [
             0.5555555555555556,
             "#d8576b"
            ],
            [
             0.6666666666666666,
             "#ed7953"
            ],
            [
             0.7777777777777778,
             "#fb9f3a"
            ],
            [
             0.8888888888888888,
             "#fdca26"
            ],
            [
             1,
             "#f0f921"
            ]
           ],
           "sequentialminus": [
            [
             0,
             "#0d0887"
            ],
            [
             0.1111111111111111,
             "#46039f"
            ],
            [
             0.2222222222222222,
             "#7201a8"
            ],
            [
             0.3333333333333333,
             "#9c179e"
            ],
            [
             0.4444444444444444,
             "#bd3786"
            ],
            [
             0.5555555555555556,
             "#d8576b"
            ],
            [
             0.6666666666666666,
             "#ed7953"
            ],
            [
             0.7777777777777778,
             "#fb9f3a"
            ],
            [
             0.8888888888888888,
             "#fdca26"
            ],
            [
             1,
             "#f0f921"
            ]
           ]
          },
          "colorway": [
           "#636efa",
           "#EF553B",
           "#00cc96",
           "#ab63fa",
           "#FFA15A",
           "#19d3f3",
           "#FF6692",
           "#B6E880",
           "#FF97FF",
           "#FECB52"
          ],
          "font": {
           "color": "#2a3f5f"
          },
          "geo": {
           "bgcolor": "white",
           "lakecolor": "white",
           "landcolor": "#E5ECF6",
           "showlakes": true,
           "showland": true,
           "subunitcolor": "white"
          },
          "hoverlabel": {
           "align": "left"
          },
          "hovermode": "closest",
          "mapbox": {
           "style": "light"
          },
          "paper_bgcolor": "white",
          "plot_bgcolor": "#E5ECF6",
          "polar": {
           "angularaxis": {
            "gridcolor": "white",
            "linecolor": "white",
            "ticks": ""
           },
           "bgcolor": "#E5ECF6",
           "radialaxis": {
            "gridcolor": "white",
            "linecolor": "white",
            "ticks": ""
           }
          },
          "scene": {
           "xaxis": {
            "backgroundcolor": "#E5ECF6",
            "gridcolor": "white",
            "gridwidth": 2,
            "linecolor": "white",
            "showbackground": true,
            "ticks": "",
            "zerolinecolor": "white"
           },
           "yaxis": {
            "backgroundcolor": "#E5ECF6",
            "gridcolor": "white",
            "gridwidth": 2,
            "linecolor": "white",
            "showbackground": true,
            "ticks": "",
            "zerolinecolor": "white"
           },
           "zaxis": {
            "backgroundcolor": "#E5ECF6",
            "gridcolor": "white",
            "gridwidth": 2,
            "linecolor": "white",
            "showbackground": true,
            "ticks": "",
            "zerolinecolor": "white"
           }
          },
          "shapedefaults": {
           "line": {
            "color": "#2a3f5f"
           }
          },
          "ternary": {
           "aaxis": {
            "gridcolor": "white",
            "linecolor": "white",
            "ticks": ""
           },
           "baxis": {
            "gridcolor": "white",
            "linecolor": "white",
            "ticks": ""
           },
           "bgcolor": "#E5ECF6",
           "caxis": {
            "gridcolor": "white",
            "linecolor": "white",
            "ticks": ""
           }
          },
          "title": {
           "x": 0.05
          },
          "xaxis": {
           "automargin": true,
           "gridcolor": "white",
           "linecolor": "white",
           "ticks": "",
           "title": {
            "standoff": 15
           },
           "zerolinecolor": "white",
           "zerolinewidth": 2
          },
          "yaxis": {
           "automargin": true,
           "gridcolor": "white",
           "linecolor": "white",
           "ticks": "",
           "title": {
            "standoff": 15
           },
           "zerolinecolor": "white",
           "zerolinewidth": 2
          }
         }
        },
        "title": {
         "text": "Top 10 Municipalities with Lowest Traffic Pollution over the Years"
        },
        "width": 600,
        "xaxis": {
         "anchor": "y",
         "domain": [
          0,
          1
         ],
         "tickangle": -45,
         "title": {
          "text": "Municipality"
         }
        },
        "yaxis": {
         "anchor": "x",
         "domain": [
          0,
          1
         ],
         "title": {
          "text": "Traffic Pollution Index"
         }
        }
       }
      },
      "text/html": [
       "<div>                            <div id=\"7a3e213d-f944-49c9-bf68-0242af0f0955\" class=\"plotly-graph-div\" style=\"height:400px; width:600px;\"></div>            <script type=\"text/javascript\">                require([\"plotly\"], function(Plotly) {                    window.PLOTLYENV=window.PLOTLYENV || {};                                    if (document.getElementById(\"7a3e213d-f944-49c9-bf68-0242af0f0955\")) {                    Plotly.newPlot(                        \"7a3e213d-f944-49c9-bf68-0242af0f0955\",                        [{\"alignmentgroup\":\"True\",\"hovertemplate\":\"Municipality=%{x}\\u003cbr\\u003eTraffic_Pollution=%{y}\\u003cextra\\u003e\\u003c\\u002fextra\\u003e\",\"legendgroup\":\"\",\"marker\":{\"color\":\"#636efa\",\"opacity\":0.8},\"name\":\"\",\"notched\":false,\"offsetgroup\":\"\",\"orientation\":\"v\",\"showlegend\":false,\"x\":[\"Municipality_11\",\"Municipality_11\",\"Municipality_11\",\"Municipality_11\",\"Municipality_11\",\"Municipality_11\",\"Municipality_11\",\"Municipality_11\",\"Municipality_11\",\"Municipality_11\",\"Municipality_14\",\"Municipality_14\",\"Municipality_14\",\"Municipality_14\",\"Municipality_14\",\"Municipality_14\",\"Municipality_14\",\"Municipality_14\",\"Municipality_14\",\"Municipality_14\",\"Municipality_20\",\"Municipality_20\",\"Municipality_20\",\"Municipality_20\",\"Municipality_20\",\"Municipality_20\",\"Municipality_20\",\"Municipality_20\",\"Municipality_20\",\"Municipality_20\",\"Municipality_23\",\"Municipality_23\",\"Municipality_23\",\"Municipality_23\",\"Municipality_23\",\"Municipality_23\",\"Municipality_23\",\"Municipality_23\",\"Municipality_23\",\"Municipality_23\",\"Municipality_26\",\"Municipality_26\",\"Municipality_26\",\"Municipality_26\",\"Municipality_26\",\"Municipality_26\",\"Municipality_26\",\"Municipality_26\",\"Municipality_26\",\"Municipality_26\",\"Municipality_38\",\"Municipality_38\",\"Municipality_38\",\"Municipality_38\",\"Municipality_38\",\"Municipality_38\",\"Municipality_38\",\"Municipality_38\",\"Municipality_38\",\"Municipality_38\",\"Municipality_4\",\"Municipality_4\",\"Municipality_4\",\"Municipality_4\",\"Municipality_4\",\"Municipality_4\",\"Municipality_4\",\"Municipality_4\",\"Municipality_4\",\"Municipality_4\",\"Municipality_40\",\"Municipality_40\",\"Municipality_40\",\"Municipality_40\",\"Municipality_40\",\"Municipality_40\",\"Municipality_40\",\"Municipality_40\",\"Municipality_40\",\"Municipality_40\",\"Municipality_6\",\"Municipality_6\",\"Municipality_6\",\"Municipality_6\",\"Municipality_6\",\"Municipality_6\",\"Municipality_6\",\"Municipality_6\",\"Municipality_6\",\"Municipality_6\",\"Municipality_9\",\"Municipality_9\",\"Municipality_9\",\"Municipality_9\",\"Municipality_9\",\"Municipality_9\",\"Municipality_9\",\"Municipality_9\",\"Municipality_9\",\"Municipality_9\"],\"x0\":\" \",\"xaxis\":\"x\",\"y\":[38.09035335089333,38.480723832851176,39.11161721704166,39.863294972277785,40.64782780126907,41.19291013793072,41.47421603694234,42.51516949421613,42.25607216811304,42.76215164396719,27.884918139819582,28.23831787107505,28.91588940809919,29.241616549757907,29.42084014852273,30.511264650918548,31.23088156445733,31.18782110595035,31.567520961254733,32.18228017381832,43.20360238567026,44.1620531335534,44.75112900072612,44.66644034933823,45.34797034676743,45.83009369446263,46.46021549797653,47.28666670442464,47.2757027978711,48.00884234085368,32.72593148534675,32.88120329028339,32.84397440239548,32.727244330268945,32.73258462865895,null,32.84513510792899,32.896964420538524,32.70945149208632,32.76540540428425,38.50088530014951,38.46477551757721,38.5303153737353,38.54724200544805,38.51576314171674,38.55675564361198,38.39263484990392,38.52739568671058,38.44843348731409,38.57335494100726,35.78544153515708,36.18118542607088,37.05071557638521,37.32534446823238,37.58610961138021,38.36478278698847,39.08379071296345,39.36408368298157,39.98067794956111,40.19895291677472,36.91203361414902,36.64280576492156,36.896344480096815,37.626601689479976,38.62172906447841,38.94133200142804,39.43737820786347,40.225502828501725,40.239882725656926,41.08992927116444,25.399010312173974,25.445940365181865,25.494462992370128,25.56473476325662,25.50486759432434,25.386896608615995,25.318294986132702,25.563368120588915,25.45769033469037,25.54297098506208,44.44678173635359,44.56210832518384,45.05610149186638,45.80228130217616,46.28917368586212,46.49839693014664,47.6450872185041,47.72296987939319,48.04153910981682,48.64517571977251,36.116531589243216,36.70516742480292,37.37053585986334,37.76266419362809,38.66942423158289,38.526621221667,39.67261033394564,39.76464781709532,40.142385652768894,40.84852707938534],\"y0\":\" \",\"yaxis\":\"y\",\"type\":\"box\"}],                        {\"template\":{\"data\":{\"histogram2dcontour\":[{\"type\":\"histogram2dcontour\",\"colorbar\":{\"outlinewidth\":0,\"ticks\":\"\"},\"colorscale\":[[0.0,\"#0d0887\"],[0.1111111111111111,\"#46039f\"],[0.2222222222222222,\"#7201a8\"],[0.3333333333333333,\"#9c179e\"],[0.4444444444444444,\"#bd3786\"],[0.5555555555555556,\"#d8576b\"],[0.6666666666666666,\"#ed7953\"],[0.7777777777777778,\"#fb9f3a\"],[0.8888888888888888,\"#fdca26\"],[1.0,\"#f0f921\"]]}],\"choropleth\":[{\"type\":\"choropleth\",\"colorbar\":{\"outlinewidth\":0,\"ticks\":\"\"}}],\"histogram2d\":[{\"type\":\"histogram2d\",\"colorbar\":{\"outlinewidth\":0,\"ticks\":\"\"},\"colorscale\":[[0.0,\"#0d0887\"],[0.1111111111111111,\"#46039f\"],[0.2222222222222222,\"#7201a8\"],[0.3333333333333333,\"#9c179e\"],[0.4444444444444444,\"#bd3786\"],[0.5555555555555556,\"#d8576b\"],[0.6666666666666666,\"#ed7953\"],[0.7777777777777778,\"#fb9f3a\"],[0.8888888888888888,\"#fdca26\"],[1.0,\"#f0f921\"]]}],\"heatmap\":[{\"type\":\"heatmap\",\"colorbar\":{\"outlinewidth\":0,\"ticks\":\"\"},\"colorscale\":[[0.0,\"#0d0887\"],[0.1111111111111111,\"#46039f\"],[0.2222222222222222,\"#7201a8\"],[0.3333333333333333,\"#9c179e\"],[0.4444444444444444,\"#bd3786\"],[0.5555555555555556,\"#d8576b\"],[0.6666666666666666,\"#ed7953\"],[0.7777777777777778,\"#fb9f3a\"],[0.8888888888888888,\"#fdca26\"],[1.0,\"#f0f921\"]]}],\"heatmapgl\":[{\"type\":\"heatmapgl\",\"colorbar\":{\"outlinewidth\":0,\"ticks\":\"\"},\"colorscale\":[[0.0,\"#0d0887\"],[0.1111111111111111,\"#46039f\"],[0.2222222222222222,\"#7201a8\"],[0.3333333333333333,\"#9c179e\"],[0.4444444444444444,\"#bd3786\"],[0.5555555555555556,\"#d8576b\"],[0.6666666666666666,\"#ed7953\"],[0.7777777777777778,\"#fb9f3a\"],[0.8888888888888888,\"#fdca26\"],[1.0,\"#f0f921\"]]}],\"contourcarpet\":[{\"type\":\"contourcarpet\",\"colorbar\":{\"outlinewidth\":0,\"ticks\":\"\"}}],\"contour\":[{\"type\":\"contour\",\"colorbar\":{\"outlinewidth\":0,\"ticks\":\"\"},\"colorscale\":[[0.0,\"#0d0887\"],[0.1111111111111111,\"#46039f\"],[0.2222222222222222,\"#7201a8\"],[0.3333333333333333,\"#9c179e\"],[0.4444444444444444,\"#bd3786\"],[0.5555555555555556,\"#d8576b\"],[0.6666666666666666,\"#ed7953\"],[0.7777777777777778,\"#fb9f3a\"],[0.8888888888888888,\"#fdca26\"],[1.0,\"#f0f921\"]]}],\"surface\":[{\"type\":\"surface\",\"colorbar\":{\"outlinewidth\":0,\"ticks\":\"\"},\"colorscale\":[[0.0,\"#0d0887\"],[0.1111111111111111,\"#46039f\"],[0.2222222222222222,\"#7201a8\"],[0.3333333333333333,\"#9c179e\"],[0.4444444444444444,\"#bd3786\"],[0.5555555555555556,\"#d8576b\"],[0.6666666666666666,\"#ed7953\"],[0.7777777777777778,\"#fb9f3a\"],[0.8888888888888888,\"#fdca26\"],[1.0,\"#f0f921\"]]}],\"mesh3d\":[{\"type\":\"mesh3d\",\"colorbar\":{\"outlinewidth\":0,\"ticks\":\"\"}}],\"scatter\":[{\"fillpattern\":{\"fillmode\":\"overlay\",\"size\":10,\"solidity\":0.2},\"type\":\"scatter\"}],\"parcoords\":[{\"type\":\"parcoords\",\"line\":{\"colorbar\":{\"outlinewidth\":0,\"ticks\":\"\"}}}],\"scatterpolargl\":[{\"type\":\"scatterpolargl\",\"marker\":{\"colorbar\":{\"outlinewidth\":0,\"ticks\":\"\"}}}],\"bar\":[{\"error_x\":{\"color\":\"#2a3f5f\"},\"error_y\":{\"color\":\"#2a3f5f\"},\"marker\":{\"line\":{\"color\":\"#E5ECF6\",\"width\":0.5},\"pattern\":{\"fillmode\":\"overlay\",\"size\":10,\"solidity\":0.2}},\"type\":\"bar\"}],\"scattergeo\":[{\"type\":\"scattergeo\",\"marker\":{\"colorbar\":{\"outlinewidth\":0,\"ticks\":\"\"}}}],\"scatterpolar\":[{\"type\":\"scatterpolar\",\"marker\":{\"colorbar\":{\"outlinewidth\":0,\"ticks\":\"\"}}}],\"histogram\":[{\"marker\":{\"pattern\":{\"fillmode\":\"overlay\",\"size\":10,\"solidity\":0.2}},\"type\":\"histogram\"}],\"scattergl\":[{\"type\":\"scattergl\",\"marker\":{\"colorbar\":{\"outlinewidth\":0,\"ticks\":\"\"}}}],\"scatter3d\":[{\"type\":\"scatter3d\",\"line\":{\"colorbar\":{\"outlinewidth\":0,\"ticks\":\"\"}},\"marker\":{\"colorbar\":{\"outlinewidth\":0,\"ticks\":\"\"}}}],\"scattermapbox\":[{\"type\":\"scattermapbox\",\"marker\":{\"colorbar\":{\"outlinewidth\":0,\"ticks\":\"\"}}}],\"scatterternary\":[{\"type\":\"scatterternary\",\"marker\":{\"colorbar\":{\"outlinewidth\":0,\"ticks\":\"\"}}}],\"scattercarpet\":[{\"type\":\"scattercarpet\",\"marker\":{\"colorbar\":{\"outlinewidth\":0,\"ticks\":\"\"}}}],\"carpet\":[{\"aaxis\":{\"endlinecolor\":\"#2a3f5f\",\"gridcolor\":\"white\",\"linecolor\":\"white\",\"minorgridcolor\":\"white\",\"startlinecolor\":\"#2a3f5f\"},\"baxis\":{\"endlinecolor\":\"#2a3f5f\",\"gridcolor\":\"white\",\"linecolor\":\"white\",\"minorgridcolor\":\"white\",\"startlinecolor\":\"#2a3f5f\"},\"type\":\"carpet\"}],\"table\":[{\"cells\":{\"fill\":{\"color\":\"#EBF0F8\"},\"line\":{\"color\":\"white\"}},\"header\":{\"fill\":{\"color\":\"#C8D4E3\"},\"line\":{\"color\":\"white\"}},\"type\":\"table\"}],\"barpolar\":[{\"marker\":{\"line\":{\"color\":\"#E5ECF6\",\"width\":0.5},\"pattern\":{\"fillmode\":\"overlay\",\"size\":10,\"solidity\":0.2}},\"type\":\"barpolar\"}],\"pie\":[{\"automargin\":true,\"type\":\"pie\"}]},\"layout\":{\"autotypenumbers\":\"strict\",\"colorway\":[\"#636efa\",\"#EF553B\",\"#00cc96\",\"#ab63fa\",\"#FFA15A\",\"#19d3f3\",\"#FF6692\",\"#B6E880\",\"#FF97FF\",\"#FECB52\"],\"font\":{\"color\":\"#2a3f5f\"},\"hovermode\":\"closest\",\"hoverlabel\":{\"align\":\"left\"},\"paper_bgcolor\":\"white\",\"plot_bgcolor\":\"#E5ECF6\",\"polar\":{\"bgcolor\":\"#E5ECF6\",\"angularaxis\":{\"gridcolor\":\"white\",\"linecolor\":\"white\",\"ticks\":\"\"},\"radialaxis\":{\"gridcolor\":\"white\",\"linecolor\":\"white\",\"ticks\":\"\"}},\"ternary\":{\"bgcolor\":\"#E5ECF6\",\"aaxis\":{\"gridcolor\":\"white\",\"linecolor\":\"white\",\"ticks\":\"\"},\"baxis\":{\"gridcolor\":\"white\",\"linecolor\":\"white\",\"ticks\":\"\"},\"caxis\":{\"gridcolor\":\"white\",\"linecolor\":\"white\",\"ticks\":\"\"}},\"coloraxis\":{\"colorbar\":{\"outlinewidth\":0,\"ticks\":\"\"}},\"colorscale\":{\"sequential\":[[0.0,\"#0d0887\"],[0.1111111111111111,\"#46039f\"],[0.2222222222222222,\"#7201a8\"],[0.3333333333333333,\"#9c179e\"],[0.4444444444444444,\"#bd3786\"],[0.5555555555555556,\"#d8576b\"],[0.6666666666666666,\"#ed7953\"],[0.7777777777777778,\"#fb9f3a\"],[0.8888888888888888,\"#fdca26\"],[1.0,\"#f0f921\"]],\"sequentialminus\":[[0.0,\"#0d0887\"],[0.1111111111111111,\"#46039f\"],[0.2222222222222222,\"#7201a8\"],[0.3333333333333333,\"#9c179e\"],[0.4444444444444444,\"#bd3786\"],[0.5555555555555556,\"#d8576b\"],[0.6666666666666666,\"#ed7953\"],[0.7777777777777778,\"#fb9f3a\"],[0.8888888888888888,\"#fdca26\"],[1.0,\"#f0f921\"]],\"diverging\":[[0,\"#8e0152\"],[0.1,\"#c51b7d\"],[0.2,\"#de77ae\"],[0.3,\"#f1b6da\"],[0.4,\"#fde0ef\"],[0.5,\"#f7f7f7\"],[0.6,\"#e6f5d0\"],[0.7,\"#b8e186\"],[0.8,\"#7fbc41\"],[0.9,\"#4d9221\"],[1,\"#276419\"]]},\"xaxis\":{\"gridcolor\":\"white\",\"linecolor\":\"white\",\"ticks\":\"\",\"title\":{\"standoff\":15},\"zerolinecolor\":\"white\",\"automargin\":true,\"zerolinewidth\":2},\"yaxis\":{\"gridcolor\":\"white\",\"linecolor\":\"white\",\"ticks\":\"\",\"title\":{\"standoff\":15},\"zerolinecolor\":\"white\",\"automargin\":true,\"zerolinewidth\":2},\"scene\":{\"xaxis\":{\"backgroundcolor\":\"#E5ECF6\",\"gridcolor\":\"white\",\"linecolor\":\"white\",\"showbackground\":true,\"ticks\":\"\",\"zerolinecolor\":\"white\",\"gridwidth\":2},\"yaxis\":{\"backgroundcolor\":\"#E5ECF6\",\"gridcolor\":\"white\",\"linecolor\":\"white\",\"showbackground\":true,\"ticks\":\"\",\"zerolinecolor\":\"white\",\"gridwidth\":2},\"zaxis\":{\"backgroundcolor\":\"#E5ECF6\",\"gridcolor\":\"white\",\"linecolor\":\"white\",\"showbackground\":true,\"ticks\":\"\",\"zerolinecolor\":\"white\",\"gridwidth\":2}},\"shapedefaults\":{\"line\":{\"color\":\"#2a3f5f\"}},\"annotationdefaults\":{\"arrowcolor\":\"#2a3f5f\",\"arrowhead\":0,\"arrowwidth\":1},\"geo\":{\"bgcolor\":\"white\",\"landcolor\":\"#E5ECF6\",\"subunitcolor\":\"white\",\"showland\":true,\"showlakes\":true,\"lakecolor\":\"white\"},\"title\":{\"x\":0.05},\"mapbox\":{\"style\":\"light\"}}},\"xaxis\":{\"anchor\":\"y\",\"domain\":[0.0,1.0],\"title\":{\"text\":\"Municipality\"},\"tickangle\":-45},\"yaxis\":{\"anchor\":\"x\",\"domain\":[0.0,1.0],\"title\":{\"text\":\"Traffic Pollution Index\"}},\"legend\":{\"tracegroupgap\":0},\"title\":{\"text\":\"Top 10 Municipalities with Lowest Traffic Pollution over the Years\"},\"boxmode\":\"group\",\"font\":{\"size\":12},\"width\":600,\"height\":400,\"showlegend\":false},                        {\"responsive\": true}                    ).then(function(){\n",
       "                            \n",
       "var gd = document.getElementById('7a3e213d-f944-49c9-bf68-0242af0f0955');\n",
       "var x = new MutationObserver(function (mutations, observer) {{\n",
       "        var display = window.getComputedStyle(gd).display;\n",
       "        if (!display || display === 'none') {{\n",
       "            console.log([gd, 'removed!']);\n",
       "            Plotly.purge(gd);\n",
       "            observer.disconnect();\n",
       "        }}\n",
       "}});\n",
       "\n",
       "// Listen for the removal of the full notebook cells\n",
       "var notebookContainer = gd.closest('#notebook-container');\n",
       "if (notebookContainer) {{\n",
       "    x.observe(notebookContainer, {childList: true});\n",
       "}}\n",
       "\n",
       "// Listen for the clearing of the current output cell\n",
       "var outputEl = gd.closest('.output');\n",
       "if (outputEl) {{\n",
       "    x.observe(outputEl, {childList: true});\n",
       "}}\n",
       "\n",
       "                        })                };                });            </script>        </div>"
      ]
     },
     "metadata": {},
     "output_type": "display_data"
    }
   ],
   "source": [
    "pollution_medians = mu.groupby(\"Municipality\")[\"Traffic_Pollution\"].median()\n",
    "\n",
    "top_10_max = pollution_medians.nlargest(10).index\n",
    "top_10_min = pollution_medians.nsmallest(10).index\n",
    "\n",
    "mu_top_max = mu[mu[\"Municipality\"].isin(top_10_max)]\n",
    "mu_top_min = mu[mu[\"Municipality\"].isin(top_10_min)]\n",
    "\n",
    "\n",
    "fig_max = px.box(mu_top_max, x=\"Municipality\", y=\"Traffic_Pollution\",\n",
    "                #color=\"Municipality\",\n",
    "                title=\"Top 10 Municipalities with Highest Traffic Pollution over the Years\",\n",
    "                #color_discrete_sequence=px.colors.qualitative.Set1\n",
    "                )\n",
    "\n",
    "fig_min = px.box(mu_top_min, x=\"Municipality\", y=\"Traffic_Pollution\",\n",
    "                #color=\"Municipality\",\n",
    "                title=\"Top 10 Municipalities with Lowest Traffic Pollution over the Years\",\n",
    "                #color_discrete_sequence=px.colors.qualitative.Set2\n",
    "                )\n",
    "\n",
    "for fig in [fig_max, fig_min]:\n",
    "    fig.update_layout(\n",
    "        xaxis_title=\"Municipality\",\n",
    "        yaxis_title=\"Traffic Pollution Index\",\n",
    "        width=600, height=400,  \n",
    "        xaxis_tickangle=-45, \n",
    "        font=dict(size=12),  \n",
    "        showlegend=False  \n",
    "    )\n",
    "    fig.update_traces(marker=dict(opacity=0.8))  \n",
    "\n",
    "fig_max.show()\n",
    "fig_min.show()\n"
   ]
  },
  {
   "cell_type": "code",
   "execution_count": null,
   "metadata": {},
   "outputs": [
    {
     "data": {
      "application/vnd.plotly.v1+json": {
       "config": {
        "plotlyServerURL": "https://plot.ly"
       },
       "data": [
        {
         "alignmentgroup": "True",
         "hovertemplate": "Municipality=%{x}<br>Traffic_Pollution=%{y}<extra></extra>",
         "legendgroup": "Municipality_36",
         "marker": {
          "color": "#440154",
          "opacity": 0.8
         },
         "name": "Municipality_36",
         "notched": false,
         "offsetgroup": "Municipality_36",
         "orientation": "v",
         "showlegend": true,
         "type": "box",
         "x": [
          "Municipality_36",
          "Municipality_36",
          "Municipality_36",
          "Municipality_36",
          "Municipality_36",
          "Municipality_36",
          "Municipality_36",
          "Municipality_36",
          "Municipality_36",
          "Municipality_36"
         ],
         "x0": " ",
         "xaxis": "x",
         "y": [
          69.33200817706941,
          69.94832055652131,
          70.42478150879779,
          70.80421217486685,
          71.27577485437669,
          71.91018889562928,
          72.31744615119194,
          73.12160774370105,
          73.22553277309605,
          73.90178861306963
         ],
         "y0": " ",
         "yaxis": "y"
        },
        {
         "alignmentgroup": "True",
         "hovertemplate": "Municipality=%{x}<br>Traffic_Pollution=%{y}<extra></extra>",
         "legendgroup": "Municipality_35",
         "marker": {
          "color": "#482878",
          "opacity": 0.8
         },
         "name": "Municipality_35",
         "notched": false,
         "offsetgroup": "Municipality_35",
         "orientation": "v",
         "showlegend": true,
         "type": "box",
         "x": [
          "Municipality_35",
          "Municipality_35",
          "Municipality_35",
          "Municipality_35",
          "Municipality_35",
          "Municipality_35",
          "Municipality_35",
          "Municipality_35",
          "Municipality_35",
          "Municipality_35"
         ],
         "x0": " ",
         "xaxis": "x",
         "y": [
          68.26366001068489,
          68.66810767983617,
          69.21723619688515,
          70.01045824893016,
          70.33281609067484,
          70.4303399999334,
          71.07318763027995,
          71.70765627169318,
          72.51474546216234,
          72.69825112113506
         ],
         "y0": " ",
         "yaxis": "y"
        },
        {
         "alignmentgroup": "True",
         "hovertemplate": "Municipality=%{x}<br>Traffic_Pollution=%{y}<extra></extra>",
         "legendgroup": "Municipality_5",
         "marker": {
          "color": "#3e4989",
          "opacity": 0.8
         },
         "name": "Municipality_5",
         "notched": false,
         "offsetgroup": "Municipality_5",
         "orientation": "v",
         "showlegend": true,
         "type": "box",
         "x": [
          "Municipality_5",
          "Municipality_5",
          "Municipality_5",
          "Municipality_5",
          "Municipality_5",
          "Municipality_5",
          "Municipality_5",
          "Municipality_5",
          "Municipality_5",
          "Municipality_5"
         ],
         "x0": " ",
         "xaxis": "x",
         "y": [
          67.99991770825076,
          68.45442951838746,
          68.62715537823843,
          69.0396225301274,
          69.41789991217671,
          70.42500400562373,
          71.0317949086242,
          71.35662729608609,
          72.13375997412058,
          72.58117132731495
         ],
         "y0": " ",
         "yaxis": "y"
        },
        {
         "alignmentgroup": "True",
         "hovertemplate": "Municipality=%{x}<br>Traffic_Pollution=%{y}<extra></extra>",
         "legendgroup": "Municipality_45",
         "marker": {
          "color": "#31688e",
          "opacity": 0.8
         },
         "name": "Municipality_45",
         "notched": false,
         "offsetgroup": "Municipality_45",
         "orientation": "v",
         "showlegend": true,
         "type": "box",
         "x": [
          "Municipality_45",
          "Municipality_45",
          "Municipality_45",
          "Municipality_45",
          "Municipality_45",
          "Municipality_45",
          "Municipality_45",
          "Municipality_45",
          "Municipality_45",
          "Municipality_45"
         ],
         "x0": " ",
         "xaxis": "x",
         "y": [
          67.69144684682777,
          67.79533010166652,
          67.7239036170168,
          67.74215572666478,
          67.6437947086131,
          67.78257224429989,
          67.83786032894002,
          67.75852389050067,
          67.73463115497027,
          67.75440126049952
         ],
         "y0": " ",
         "yaxis": "y"
        },
        {
         "alignmentgroup": "True",
         "hovertemplate": "Municipality=%{x}<br>Traffic_Pollution=%{y}<extra></extra>",
         "legendgroup": "Municipality_8",
         "marker": {
          "color": "#26828e",
          "opacity": 0.8
         },
         "name": "Municipality_8",
         "notched": false,
         "offsetgroup": "Municipality_8",
         "orientation": "v",
         "showlegend": true,
         "type": "box",
         "x": [
          "Municipality_8",
          "Municipality_8",
          "Municipality_8",
          "Municipality_8",
          "Municipality_8",
          "Municipality_8",
          "Municipality_8",
          "Municipality_8",
          "Municipality_8",
          "Municipality_8"
         ],
         "x0": " ",
         "xaxis": "x",
         "y": [
          67.57525790658877,
          67.56697243281639,
          67.46881435749204,
          67.45998636107306,
          67.4699158911211,
          67.50743708706366,
          67.709963585307,
          67.53283634228262,
          67.49174713860589,
          67.60791449537035
         ],
         "y0": " ",
         "yaxis": "y"
        },
        {
         "alignmentgroup": "True",
         "hovertemplate": "Municipality=%{x}<br>Traffic_Pollution=%{y}<extra></extra>",
         "legendgroup": "Municipality_19",
         "marker": {
          "color": "#1f9e89",
          "opacity": 0.8
         },
         "name": "Municipality_19",
         "notched": false,
         "offsetgroup": "Municipality_19",
         "orientation": "v",
         "showlegend": true,
         "type": "box",
         "x": [
          "Municipality_19",
          "Municipality_19",
          "Municipality_19",
          "Municipality_19",
          "Municipality_19",
          "Municipality_19",
          "Municipality_19",
          "Municipality_19",
          "Municipality_19",
          "Municipality_19"
         ],
         "x0": " ",
         "xaxis": "x",
         "y": [
          67.15114412781637,
          67.19053782256714,
          67.26067407720817,
          67.32360732179994,
          null,
          66.99718727875673,
          67.13956064579422,
          67.21196104308797,
          67.28921384045972,
          67.19880428784028
         ],
         "y0": " ",
         "yaxis": "y"
        },
        {
         "alignmentgroup": "True",
         "hovertemplate": "Municipality=%{x}<br>Traffic_Pollution=%{y}<extra></extra>",
         "legendgroup": "Municipality_39",
         "marker": {
          "color": "#35b779",
          "opacity": 0.8
         },
         "name": "Municipality_39",
         "notched": false,
         "offsetgroup": "Municipality_39",
         "orientation": "v",
         "showlegend": true,
         "type": "box",
         "x": [
          "Municipality_39",
          "Municipality_39",
          "Municipality_39",
          "Municipality_39",
          "Municipality_39",
          "Municipality_39",
          "Municipality_39",
          "Municipality_39",
          "Municipality_39",
          "Municipality_39"
         ],
         "x0": " ",
         "xaxis": "x",
         "y": [
          64.41352239733925,
          64.29463891866872,
          64.56388511886966,
          64.32609659773267,
          64.32921274250799,
          64.34742677569145,
          64.36072228583764,
          64.38287550038106,
          64.49590608486477,
          64.2917509784531
         ],
         "y0": " ",
         "yaxis": "y"
        },
        {
         "alignmentgroup": "True",
         "hovertemplate": "Municipality=%{x}<br>Traffic_Pollution=%{y}<extra></extra>",
         "legendgroup": "Municipality_24",
         "marker": {
          "color": "#6ece58",
          "opacity": 0.8
         },
         "name": "Municipality_24",
         "notched": false,
         "offsetgroup": "Municipality_24",
         "orientation": "v",
         "showlegend": true,
         "type": "box",
         "x": [
          "Municipality_24",
          "Municipality_24",
          "Municipality_24",
          "Municipality_24",
          "Municipality_24",
          "Municipality_24",
          "Municipality_24",
          "Municipality_24",
          "Municipality_24",
          "Municipality_24"
         ],
         "x0": " ",
         "xaxis": "x",
         "y": [
          60.75947061249799,
          60.96796824324045,
          61.69054308927609,
          61.86837627429198,
          62.67239822003045,
          63.23800992742866,
          63.58957315642541,
          64.66771694550881,
          64.91185669524732,
          65.45133741263896
         ],
         "y0": " ",
         "yaxis": "y"
        },
        {
         "alignmentgroup": "True",
         "hovertemplate": "Municipality=%{x}<br>Traffic_Pollution=%{y}<extra></extra>",
         "legendgroup": "Municipality_49",
         "marker": {
          "color": "#b5de2b",
          "opacity": 0.8
         },
         "name": "Municipality_49",
         "notched": false,
         "offsetgroup": "Municipality_49",
         "orientation": "v",
         "showlegend": true,
         "type": "box",
         "x": [
          "Municipality_49",
          "Municipality_49",
          "Municipality_49",
          "Municipality_49",
          "Municipality_49",
          "Municipality_49",
          "Municipality_49",
          "Municipality_49",
          "Municipality_49",
          "Municipality_49"
         ],
         "x0": " ",
         "xaxis": "x",
         "y": [
          60.11342768646513,
          61.014855514585314,
          61.28932430215734,
          61.59732466547248,
          61.66183420975043,
          62.538489122774834,
          63.21386873844805,
          63.42079017157817,
          63.82393694674504,
          64.5744869981895
         ],
         "y0": " ",
         "yaxis": "y"
        },
        {
         "alignmentgroup": "True",
         "hovertemplate": "Municipality=%{x}<br>Traffic_Pollution=%{y}<extra></extra>",
         "legendgroup": "Municipality_18",
         "marker": {
          "color": "#fde725",
          "opacity": 0.8
         },
         "name": "Municipality_18",
         "notched": false,
         "offsetgroup": "Municipality_18",
         "orientation": "v",
         "showlegend": true,
         "type": "box",
         "x": [
          "Municipality_18",
          "Municipality_18",
          "Municipality_18",
          "Municipality_18",
          "Municipality_18",
          "Municipality_18",
          "Municipality_18",
          "Municipality_18",
          "Municipality_18",
          "Municipality_18"
         ],
         "x0": " ",
         "xaxis": "x",
         "y": [
          58.4448796164117,
          58.88162410422383,
          59.47957562409469,
          59.81383610253857,
          60.26229432837464,
          60.833679558141725,
          61.1998177125994,
          61.57243897054818,
          62.36652196066873,
          63.34370711350776
         ],
         "y0": " ",
         "yaxis": "y"
        }
       ],
       "layout": {
        "boxmode": "overlay",
        "font": {
         "size": 12
        },
        "height": 400,
        "legend": {
         "title": {
          "text": "Municipality"
         },
         "tracegroupgap": 0
        },
        "showlegend": false,
        "template": {
         "data": {
          "bar": [
           {
            "error_x": {
             "color": "#2a3f5f"
            },
            "error_y": {
             "color": "#2a3f5f"
            },
            "marker": {
             "line": {
              "color": "#E5ECF6",
              "width": 0.5
             },
             "pattern": {
              "fillmode": "overlay",
              "size": 10,
              "solidity": 0.2
             }
            },
            "type": "bar"
           }
          ],
          "barpolar": [
           {
            "marker": {
             "line": {
              "color": "#E5ECF6",
              "width": 0.5
             },
             "pattern": {
              "fillmode": "overlay",
              "size": 10,
              "solidity": 0.2
             }
            },
            "type": "barpolar"
           }
          ],
          "carpet": [
           {
            "aaxis": {
             "endlinecolor": "#2a3f5f",
             "gridcolor": "white",
             "linecolor": "white",
             "minorgridcolor": "white",
             "startlinecolor": "#2a3f5f"
            },
            "baxis": {
             "endlinecolor": "#2a3f5f",
             "gridcolor": "white",
             "linecolor": "white",
             "minorgridcolor": "white",
             "startlinecolor": "#2a3f5f"
            },
            "type": "carpet"
           }
          ],
          "choropleth": [
           {
            "colorbar": {
             "outlinewidth": 0,
             "ticks": ""
            },
            "type": "choropleth"
           }
          ],
          "contour": [
           {
            "colorbar": {
             "outlinewidth": 0,
             "ticks": ""
            },
            "colorscale": [
             [
              0,
              "#0d0887"
             ],
             [
              0.1111111111111111,
              "#46039f"
             ],
             [
              0.2222222222222222,
              "#7201a8"
             ],
             [
              0.3333333333333333,
              "#9c179e"
             ],
             [
              0.4444444444444444,
              "#bd3786"
             ],
             [
              0.5555555555555556,
              "#d8576b"
             ],
             [
              0.6666666666666666,
              "#ed7953"
             ],
             [
              0.7777777777777778,
              "#fb9f3a"
             ],
             [
              0.8888888888888888,
              "#fdca26"
             ],
             [
              1,
              "#f0f921"
             ]
            ],
            "type": "contour"
           }
          ],
          "contourcarpet": [
           {
            "colorbar": {
             "outlinewidth": 0,
             "ticks": ""
            },
            "type": "contourcarpet"
           }
          ],
          "heatmap": [
           {
            "colorbar": {
             "outlinewidth": 0,
             "ticks": ""
            },
            "colorscale": [
             [
              0,
              "#0d0887"
             ],
             [
              0.1111111111111111,
              "#46039f"
             ],
             [
              0.2222222222222222,
              "#7201a8"
             ],
             [
              0.3333333333333333,
              "#9c179e"
             ],
             [
              0.4444444444444444,
              "#bd3786"
             ],
             [
              0.5555555555555556,
              "#d8576b"
             ],
             [
              0.6666666666666666,
              "#ed7953"
             ],
             [
              0.7777777777777778,
              "#fb9f3a"
             ],
             [
              0.8888888888888888,
              "#fdca26"
             ],
             [
              1,
              "#f0f921"
             ]
            ],
            "type": "heatmap"
           }
          ],
          "heatmapgl": [
           {
            "colorbar": {
             "outlinewidth": 0,
             "ticks": ""
            },
            "colorscale": [
             [
              0,
              "#0d0887"
             ],
             [
              0.1111111111111111,
              "#46039f"
             ],
             [
              0.2222222222222222,
              "#7201a8"
             ],
             [
              0.3333333333333333,
              "#9c179e"
             ],
             [
              0.4444444444444444,
              "#bd3786"
             ],
             [
              0.5555555555555556,
              "#d8576b"
             ],
             [
              0.6666666666666666,
              "#ed7953"
             ],
             [
              0.7777777777777778,
              "#fb9f3a"
             ],
             [
              0.8888888888888888,
              "#fdca26"
             ],
             [
              1,
              "#f0f921"
             ]
            ],
            "type": "heatmapgl"
           }
          ],
          "histogram": [
           {
            "marker": {
             "pattern": {
              "fillmode": "overlay",
              "size": 10,
              "solidity": 0.2
             }
            },
            "type": "histogram"
           }
          ],
          "histogram2d": [
           {
            "colorbar": {
             "outlinewidth": 0,
             "ticks": ""
            },
            "colorscale": [
             [
              0,
              "#0d0887"
             ],
             [
              0.1111111111111111,
              "#46039f"
             ],
             [
              0.2222222222222222,
              "#7201a8"
             ],
             [
              0.3333333333333333,
              "#9c179e"
             ],
             [
              0.4444444444444444,
              "#bd3786"
             ],
             [
              0.5555555555555556,
              "#d8576b"
             ],
             [
              0.6666666666666666,
              "#ed7953"
             ],
             [
              0.7777777777777778,
              "#fb9f3a"
             ],
             [
              0.8888888888888888,
              "#fdca26"
             ],
             [
              1,
              "#f0f921"
             ]
            ],
            "type": "histogram2d"
           }
          ],
          "histogram2dcontour": [
           {
            "colorbar": {
             "outlinewidth": 0,
             "ticks": ""
            },
            "colorscale": [
             [
              0,
              "#0d0887"
             ],
             [
              0.1111111111111111,
              "#46039f"
             ],
             [
              0.2222222222222222,
              "#7201a8"
             ],
             [
              0.3333333333333333,
              "#9c179e"
             ],
             [
              0.4444444444444444,
              "#bd3786"
             ],
             [
              0.5555555555555556,
              "#d8576b"
             ],
             [
              0.6666666666666666,
              "#ed7953"
             ],
             [
              0.7777777777777778,
              "#fb9f3a"
             ],
             [
              0.8888888888888888,
              "#fdca26"
             ],
             [
              1,
              "#f0f921"
             ]
            ],
            "type": "histogram2dcontour"
           }
          ],
          "mesh3d": [
           {
            "colorbar": {
             "outlinewidth": 0,
             "ticks": ""
            },
            "type": "mesh3d"
           }
          ],
          "parcoords": [
           {
            "line": {
             "colorbar": {
              "outlinewidth": 0,
              "ticks": ""
             }
            },
            "type": "parcoords"
           }
          ],
          "pie": [
           {
            "automargin": true,
            "type": "pie"
           }
          ],
          "scatter": [
           {
            "fillpattern": {
             "fillmode": "overlay",
             "size": 10,
             "solidity": 0.2
            },
            "type": "scatter"
           }
          ],
          "scatter3d": [
           {
            "line": {
             "colorbar": {
              "outlinewidth": 0,
              "ticks": ""
             }
            },
            "marker": {
             "colorbar": {
              "outlinewidth": 0,
              "ticks": ""
             }
            },
            "type": "scatter3d"
           }
          ],
          "scattercarpet": [
           {
            "marker": {
             "colorbar": {
              "outlinewidth": 0,
              "ticks": ""
             }
            },
            "type": "scattercarpet"
           }
          ],
          "scattergeo": [
           {
            "marker": {
             "colorbar": {
              "outlinewidth": 0,
              "ticks": ""
             }
            },
            "type": "scattergeo"
           }
          ],
          "scattergl": [
           {
            "marker": {
             "colorbar": {
              "outlinewidth": 0,
              "ticks": ""
             }
            },
            "type": "scattergl"
           }
          ],
          "scattermapbox": [
           {
            "marker": {
             "colorbar": {
              "outlinewidth": 0,
              "ticks": ""
             }
            },
            "type": "scattermapbox"
           }
          ],
          "scatterpolar": [
           {
            "marker": {
             "colorbar": {
              "outlinewidth": 0,
              "ticks": ""
             }
            },
            "type": "scatterpolar"
           }
          ],
          "scatterpolargl": [
           {
            "marker": {
             "colorbar": {
              "outlinewidth": 0,
              "ticks": ""
             }
            },
            "type": "scatterpolargl"
           }
          ],
          "scatterternary": [
           {
            "marker": {
             "colorbar": {
              "outlinewidth": 0,
              "ticks": ""
             }
            },
            "type": "scatterternary"
           }
          ],
          "surface": [
           {
            "colorbar": {
             "outlinewidth": 0,
             "ticks": ""
            },
            "colorscale": [
             [
              0,
              "#0d0887"
             ],
             [
              0.1111111111111111,
              "#46039f"
             ],
             [
              0.2222222222222222,
              "#7201a8"
             ],
             [
              0.3333333333333333,
              "#9c179e"
             ],
             [
              0.4444444444444444,
              "#bd3786"
             ],
             [
              0.5555555555555556,
              "#d8576b"
             ],
             [
              0.6666666666666666,
              "#ed7953"
             ],
             [
              0.7777777777777778,
              "#fb9f3a"
             ],
             [
              0.8888888888888888,
              "#fdca26"
             ],
             [
              1,
              "#f0f921"
             ]
            ],
            "type": "surface"
           }
          ],
          "table": [
           {
            "cells": {
             "fill": {
              "color": "#EBF0F8"
             },
             "line": {
              "color": "white"
             }
            },
            "header": {
             "fill": {
              "color": "#C8D4E3"
             },
             "line": {
              "color": "white"
             }
            },
            "type": "table"
           }
          ]
         },
         "layout": {
          "annotationdefaults": {
           "arrowcolor": "#2a3f5f",
           "arrowhead": 0,
           "arrowwidth": 1
          },
          "autotypenumbers": "strict",
          "coloraxis": {
           "colorbar": {
            "outlinewidth": 0,
            "ticks": ""
           }
          },
          "colorscale": {
           "diverging": [
            [
             0,
             "#8e0152"
            ],
            [
             0.1,
             "#c51b7d"
            ],
            [
             0.2,
             "#de77ae"
            ],
            [
             0.3,
             "#f1b6da"
            ],
            [
             0.4,
             "#fde0ef"
            ],
            [
             0.5,
             "#f7f7f7"
            ],
            [
             0.6,
             "#e6f5d0"
            ],
            [
             0.7,
             "#b8e186"
            ],
            [
             0.8,
             "#7fbc41"
            ],
            [
             0.9,
             "#4d9221"
            ],
            [
             1,
             "#276419"
            ]
           ],
           "sequential": [
            [
             0,
             "#0d0887"
            ],
            [
             0.1111111111111111,
             "#46039f"
            ],
            [
             0.2222222222222222,
             "#7201a8"
            ],
            [
             0.3333333333333333,
             "#9c179e"
            ],
            [
             0.4444444444444444,
             "#bd3786"
            ],
            [
             0.5555555555555556,
             "#d8576b"
            ],
            [
             0.6666666666666666,
             "#ed7953"
            ],
            [
             0.7777777777777778,
             "#fb9f3a"
            ],
            [
             0.8888888888888888,
             "#fdca26"
            ],
            [
             1,
             "#f0f921"
            ]
           ],
           "sequentialminus": [
            [
             0,
             "#0d0887"
            ],
            [
             0.1111111111111111,
             "#46039f"
            ],
            [
             0.2222222222222222,
             "#7201a8"
            ],
            [
             0.3333333333333333,
             "#9c179e"
            ],
            [
             0.4444444444444444,
             "#bd3786"
            ],
            [
             0.5555555555555556,
             "#d8576b"
            ],
            [
             0.6666666666666666,
             "#ed7953"
            ],
            [
             0.7777777777777778,
             "#fb9f3a"
            ],
            [
             0.8888888888888888,
             "#fdca26"
            ],
            [
             1,
             "#f0f921"
            ]
           ]
          },
          "colorway": [
           "#636efa",
           "#EF553B",
           "#00cc96",
           "#ab63fa",
           "#FFA15A",
           "#19d3f3",
           "#FF6692",
           "#B6E880",
           "#FF97FF",
           "#FECB52"
          ],
          "font": {
           "color": "#2a3f5f"
          },
          "geo": {
           "bgcolor": "white",
           "lakecolor": "white",
           "landcolor": "#E5ECF6",
           "showlakes": true,
           "showland": true,
           "subunitcolor": "white"
          },
          "hoverlabel": {
           "align": "left"
          },
          "hovermode": "closest",
          "mapbox": {
           "style": "light"
          },
          "paper_bgcolor": "white",
          "plot_bgcolor": "#E5ECF6",
          "polar": {
           "angularaxis": {
            "gridcolor": "white",
            "linecolor": "white",
            "ticks": ""
           },
           "bgcolor": "#E5ECF6",
           "radialaxis": {
            "gridcolor": "white",
            "linecolor": "white",
            "ticks": ""
           }
          },
          "scene": {
           "xaxis": {
            "backgroundcolor": "#E5ECF6",
            "gridcolor": "white",
            "gridwidth": 2,
            "linecolor": "white",
            "showbackground": true,
            "ticks": "",
            "zerolinecolor": "white"
           },
           "yaxis": {
            "backgroundcolor": "#E5ECF6",
            "gridcolor": "white",
            "gridwidth": 2,
            "linecolor": "white",
            "showbackground": true,
            "ticks": "",
            "zerolinecolor": "white"
           },
           "zaxis": {
            "backgroundcolor": "#E5ECF6",
            "gridcolor": "white",
            "gridwidth": 2,
            "linecolor": "white",
            "showbackground": true,
            "ticks": "",
            "zerolinecolor": "white"
           }
          },
          "shapedefaults": {
           "line": {
            "color": "#2a3f5f"
           }
          },
          "ternary": {
           "aaxis": {
            "gridcolor": "white",
            "linecolor": "white",
            "ticks": ""
           },
           "baxis": {
            "gridcolor": "white",
            "linecolor": "white",
            "ticks": ""
           },
           "bgcolor": "#E5ECF6",
           "caxis": {
            "gridcolor": "white",
            "linecolor": "white",
            "ticks": ""
           }
          },
          "title": {
           "x": 0.05
          },
          "xaxis": {
           "automargin": true,
           "gridcolor": "white",
           "linecolor": "white",
           "ticks": "",
           "title": {
            "standoff": 15
           },
           "zerolinecolor": "white",
           "zerolinewidth": 2
          },
          "yaxis": {
           "automargin": true,
           "gridcolor": "white",
           "linecolor": "white",
           "ticks": "",
           "title": {
            "standoff": 15
           },
           "zerolinecolor": "white",
           "zerolinewidth": 2
          }
         }
        },
        "title": {
         "text": "Top 10 Municipalities with Highest Traffic Pollution"
        },
        "width": 600,
        "xaxis": {
         "anchor": "y",
         "categoryarray": [
          "Municipality_36",
          "Municipality_35",
          "Municipality_5",
          "Municipality_45",
          "Municipality_8",
          "Municipality_19",
          "Municipality_39",
          "Municipality_24",
          "Municipality_49",
          "Municipality_18"
         ],
         "categoryorder": "array",
         "domain": [
          0,
          1
         ],
         "tickangle": -45,
         "title": {
          "text": "Municipality"
         }
        },
        "yaxis": {
         "anchor": "x",
         "domain": [
          0,
          1
         ],
         "title": {
          "text": "Traffic Pollution Index"
         }
        }
       }
      },
      "text/html": [
       "<div>                            <div id=\"65f1e960-018b-4eb7-8960-44fe81e20e27\" class=\"plotly-graph-div\" style=\"height:400px; width:600px;\"></div>            <script type=\"text/javascript\">                require([\"plotly\"], function(Plotly) {                    window.PLOTLYENV=window.PLOTLYENV || {};                                    if (document.getElementById(\"65f1e960-018b-4eb7-8960-44fe81e20e27\")) {                    Plotly.newPlot(                        \"65f1e960-018b-4eb7-8960-44fe81e20e27\",                        [{\"alignmentgroup\":\"True\",\"hovertemplate\":\"Municipality=%{x}\\u003cbr\\u003eTraffic_Pollution=%{y}\\u003cextra\\u003e\\u003c\\u002fextra\\u003e\",\"legendgroup\":\"Municipality_36\",\"marker\":{\"color\":\"#440154\",\"opacity\":0.8},\"name\":\"Municipality_36\",\"notched\":false,\"offsetgroup\":\"Municipality_36\",\"orientation\":\"v\",\"showlegend\":true,\"x\":[\"Municipality_36\",\"Municipality_36\",\"Municipality_36\",\"Municipality_36\",\"Municipality_36\",\"Municipality_36\",\"Municipality_36\",\"Municipality_36\",\"Municipality_36\",\"Municipality_36\"],\"x0\":\" \",\"xaxis\":\"x\",\"y\":[69.33200817706941,69.94832055652131,70.42478150879779,70.80421217486685,71.27577485437669,71.91018889562928,72.31744615119194,73.12160774370105,73.22553277309605,73.90178861306963],\"y0\":\" \",\"yaxis\":\"y\",\"type\":\"box\"},{\"alignmentgroup\":\"True\",\"hovertemplate\":\"Municipality=%{x}\\u003cbr\\u003eTraffic_Pollution=%{y}\\u003cextra\\u003e\\u003c\\u002fextra\\u003e\",\"legendgroup\":\"Municipality_35\",\"marker\":{\"color\":\"#482878\",\"opacity\":0.8},\"name\":\"Municipality_35\",\"notched\":false,\"offsetgroup\":\"Municipality_35\",\"orientation\":\"v\",\"showlegend\":true,\"x\":[\"Municipality_35\",\"Municipality_35\",\"Municipality_35\",\"Municipality_35\",\"Municipality_35\",\"Municipality_35\",\"Municipality_35\",\"Municipality_35\",\"Municipality_35\",\"Municipality_35\"],\"x0\":\" \",\"xaxis\":\"x\",\"y\":[68.26366001068489,68.66810767983617,69.21723619688515,70.01045824893016,70.33281609067484,70.4303399999334,71.07318763027995,71.70765627169318,72.51474546216234,72.69825112113506],\"y0\":\" \",\"yaxis\":\"y\",\"type\":\"box\"},{\"alignmentgroup\":\"True\",\"hovertemplate\":\"Municipality=%{x}\\u003cbr\\u003eTraffic_Pollution=%{y}\\u003cextra\\u003e\\u003c\\u002fextra\\u003e\",\"legendgroup\":\"Municipality_5\",\"marker\":{\"color\":\"#3e4989\",\"opacity\":0.8},\"name\":\"Municipality_5\",\"notched\":false,\"offsetgroup\":\"Municipality_5\",\"orientation\":\"v\",\"showlegend\":true,\"x\":[\"Municipality_5\",\"Municipality_5\",\"Municipality_5\",\"Municipality_5\",\"Municipality_5\",\"Municipality_5\",\"Municipality_5\",\"Municipality_5\",\"Municipality_5\",\"Municipality_5\"],\"x0\":\" \",\"xaxis\":\"x\",\"y\":[67.99991770825076,68.45442951838746,68.62715537823843,69.0396225301274,69.41789991217671,70.42500400562373,71.0317949086242,71.35662729608609,72.13375997412058,72.58117132731495],\"y0\":\" \",\"yaxis\":\"y\",\"type\":\"box\"},{\"alignmentgroup\":\"True\",\"hovertemplate\":\"Municipality=%{x}\\u003cbr\\u003eTraffic_Pollution=%{y}\\u003cextra\\u003e\\u003c\\u002fextra\\u003e\",\"legendgroup\":\"Municipality_45\",\"marker\":{\"color\":\"#31688e\",\"opacity\":0.8},\"name\":\"Municipality_45\",\"notched\":false,\"offsetgroup\":\"Municipality_45\",\"orientation\":\"v\",\"showlegend\":true,\"x\":[\"Municipality_45\",\"Municipality_45\",\"Municipality_45\",\"Municipality_45\",\"Municipality_45\",\"Municipality_45\",\"Municipality_45\",\"Municipality_45\",\"Municipality_45\",\"Municipality_45\"],\"x0\":\" \",\"xaxis\":\"x\",\"y\":[67.69144684682777,67.79533010166652,67.7239036170168,67.74215572666478,67.6437947086131,67.78257224429989,67.83786032894002,67.75852389050067,67.73463115497027,67.75440126049952],\"y0\":\" \",\"yaxis\":\"y\",\"type\":\"box\"},{\"alignmentgroup\":\"True\",\"hovertemplate\":\"Municipality=%{x}\\u003cbr\\u003eTraffic_Pollution=%{y}\\u003cextra\\u003e\\u003c\\u002fextra\\u003e\",\"legendgroup\":\"Municipality_8\",\"marker\":{\"color\":\"#26828e\",\"opacity\":0.8},\"name\":\"Municipality_8\",\"notched\":false,\"offsetgroup\":\"Municipality_8\",\"orientation\":\"v\",\"showlegend\":true,\"x\":[\"Municipality_8\",\"Municipality_8\",\"Municipality_8\",\"Municipality_8\",\"Municipality_8\",\"Municipality_8\",\"Municipality_8\",\"Municipality_8\",\"Municipality_8\",\"Municipality_8\"],\"x0\":\" \",\"xaxis\":\"x\",\"y\":[67.57525790658877,67.56697243281639,67.46881435749204,67.45998636107306,67.4699158911211,67.50743708706366,67.709963585307,67.53283634228262,67.49174713860589,67.60791449537035],\"y0\":\" \",\"yaxis\":\"y\",\"type\":\"box\"},{\"alignmentgroup\":\"True\",\"hovertemplate\":\"Municipality=%{x}\\u003cbr\\u003eTraffic_Pollution=%{y}\\u003cextra\\u003e\\u003c\\u002fextra\\u003e\",\"legendgroup\":\"Municipality_19\",\"marker\":{\"color\":\"#1f9e89\",\"opacity\":0.8},\"name\":\"Municipality_19\",\"notched\":false,\"offsetgroup\":\"Municipality_19\",\"orientation\":\"v\",\"showlegend\":true,\"x\":[\"Municipality_19\",\"Municipality_19\",\"Municipality_19\",\"Municipality_19\",\"Municipality_19\",\"Municipality_19\",\"Municipality_19\",\"Municipality_19\",\"Municipality_19\",\"Municipality_19\"],\"x0\":\" \",\"xaxis\":\"x\",\"y\":[67.15114412781637,67.19053782256714,67.26067407720817,67.32360732179994,null,66.99718727875673,67.13956064579422,67.21196104308797,67.28921384045972,67.19880428784028],\"y0\":\" \",\"yaxis\":\"y\",\"type\":\"box\"},{\"alignmentgroup\":\"True\",\"hovertemplate\":\"Municipality=%{x}\\u003cbr\\u003eTraffic_Pollution=%{y}\\u003cextra\\u003e\\u003c\\u002fextra\\u003e\",\"legendgroup\":\"Municipality_39\",\"marker\":{\"color\":\"#35b779\",\"opacity\":0.8},\"name\":\"Municipality_39\",\"notched\":false,\"offsetgroup\":\"Municipality_39\",\"orientation\":\"v\",\"showlegend\":true,\"x\":[\"Municipality_39\",\"Municipality_39\",\"Municipality_39\",\"Municipality_39\",\"Municipality_39\",\"Municipality_39\",\"Municipality_39\",\"Municipality_39\",\"Municipality_39\",\"Municipality_39\"],\"x0\":\" \",\"xaxis\":\"x\",\"y\":[64.41352239733925,64.29463891866872,64.56388511886966,64.32609659773267,64.32921274250799,64.34742677569145,64.36072228583764,64.38287550038106,64.49590608486477,64.2917509784531],\"y0\":\" \",\"yaxis\":\"y\",\"type\":\"box\"},{\"alignmentgroup\":\"True\",\"hovertemplate\":\"Municipality=%{x}\\u003cbr\\u003eTraffic_Pollution=%{y}\\u003cextra\\u003e\\u003c\\u002fextra\\u003e\",\"legendgroup\":\"Municipality_24\",\"marker\":{\"color\":\"#6ece58\",\"opacity\":0.8},\"name\":\"Municipality_24\",\"notched\":false,\"offsetgroup\":\"Municipality_24\",\"orientation\":\"v\",\"showlegend\":true,\"x\":[\"Municipality_24\",\"Municipality_24\",\"Municipality_24\",\"Municipality_24\",\"Municipality_24\",\"Municipality_24\",\"Municipality_24\",\"Municipality_24\",\"Municipality_24\",\"Municipality_24\"],\"x0\":\" \",\"xaxis\":\"x\",\"y\":[60.75947061249799,60.96796824324045,61.69054308927609,61.86837627429198,62.67239822003045,63.23800992742866,63.58957315642541,64.66771694550881,64.91185669524732,65.45133741263896],\"y0\":\" \",\"yaxis\":\"y\",\"type\":\"box\"},{\"alignmentgroup\":\"True\",\"hovertemplate\":\"Municipality=%{x}\\u003cbr\\u003eTraffic_Pollution=%{y}\\u003cextra\\u003e\\u003c\\u002fextra\\u003e\",\"legendgroup\":\"Municipality_49\",\"marker\":{\"color\":\"#b5de2b\",\"opacity\":0.8},\"name\":\"Municipality_49\",\"notched\":false,\"offsetgroup\":\"Municipality_49\",\"orientation\":\"v\",\"showlegend\":true,\"x\":[\"Municipality_49\",\"Municipality_49\",\"Municipality_49\",\"Municipality_49\",\"Municipality_49\",\"Municipality_49\",\"Municipality_49\",\"Municipality_49\",\"Municipality_49\",\"Municipality_49\"],\"x0\":\" \",\"xaxis\":\"x\",\"y\":[60.11342768646513,61.014855514585314,61.28932430215734,61.59732466547248,61.66183420975043,62.538489122774834,63.21386873844805,63.42079017157817,63.82393694674504,64.5744869981895],\"y0\":\" \",\"yaxis\":\"y\",\"type\":\"box\"},{\"alignmentgroup\":\"True\",\"hovertemplate\":\"Municipality=%{x}\\u003cbr\\u003eTraffic_Pollution=%{y}\\u003cextra\\u003e\\u003c\\u002fextra\\u003e\",\"legendgroup\":\"Municipality_18\",\"marker\":{\"color\":\"#fde725\",\"opacity\":0.8},\"name\":\"Municipality_18\",\"notched\":false,\"offsetgroup\":\"Municipality_18\",\"orientation\":\"v\",\"showlegend\":true,\"x\":[\"Municipality_18\",\"Municipality_18\",\"Municipality_18\",\"Municipality_18\",\"Municipality_18\",\"Municipality_18\",\"Municipality_18\",\"Municipality_18\",\"Municipality_18\",\"Municipality_18\"],\"x0\":\" \",\"xaxis\":\"x\",\"y\":[58.4448796164117,58.88162410422383,59.47957562409469,59.81383610253857,60.26229432837464,60.833679558141725,61.1998177125994,61.57243897054818,62.36652196066873,63.34370711350776],\"y0\":\" \",\"yaxis\":\"y\",\"type\":\"box\"}],                        {\"template\":{\"data\":{\"histogram2dcontour\":[{\"type\":\"histogram2dcontour\",\"colorbar\":{\"outlinewidth\":0,\"ticks\":\"\"},\"colorscale\":[[0.0,\"#0d0887\"],[0.1111111111111111,\"#46039f\"],[0.2222222222222222,\"#7201a8\"],[0.3333333333333333,\"#9c179e\"],[0.4444444444444444,\"#bd3786\"],[0.5555555555555556,\"#d8576b\"],[0.6666666666666666,\"#ed7953\"],[0.7777777777777778,\"#fb9f3a\"],[0.8888888888888888,\"#fdca26\"],[1.0,\"#f0f921\"]]}],\"choropleth\":[{\"type\":\"choropleth\",\"colorbar\":{\"outlinewidth\":0,\"ticks\":\"\"}}],\"histogram2d\":[{\"type\":\"histogram2d\",\"colorbar\":{\"outlinewidth\":0,\"ticks\":\"\"},\"colorscale\":[[0.0,\"#0d0887\"],[0.1111111111111111,\"#46039f\"],[0.2222222222222222,\"#7201a8\"],[0.3333333333333333,\"#9c179e\"],[0.4444444444444444,\"#bd3786\"],[0.5555555555555556,\"#d8576b\"],[0.6666666666666666,\"#ed7953\"],[0.7777777777777778,\"#fb9f3a\"],[0.8888888888888888,\"#fdca26\"],[1.0,\"#f0f921\"]]}],\"heatmap\":[{\"type\":\"heatmap\",\"colorbar\":{\"outlinewidth\":0,\"ticks\":\"\"},\"colorscale\":[[0.0,\"#0d0887\"],[0.1111111111111111,\"#46039f\"],[0.2222222222222222,\"#7201a8\"],[0.3333333333333333,\"#9c179e\"],[0.4444444444444444,\"#bd3786\"],[0.5555555555555556,\"#d8576b\"],[0.6666666666666666,\"#ed7953\"],[0.7777777777777778,\"#fb9f3a\"],[0.8888888888888888,\"#fdca26\"],[1.0,\"#f0f921\"]]}],\"heatmapgl\":[{\"type\":\"heatmapgl\",\"colorbar\":{\"outlinewidth\":0,\"ticks\":\"\"},\"colorscale\":[[0.0,\"#0d0887\"],[0.1111111111111111,\"#46039f\"],[0.2222222222222222,\"#7201a8\"],[0.3333333333333333,\"#9c179e\"],[0.4444444444444444,\"#bd3786\"],[0.5555555555555556,\"#d8576b\"],[0.6666666666666666,\"#ed7953\"],[0.7777777777777778,\"#fb9f3a\"],[0.8888888888888888,\"#fdca26\"],[1.0,\"#f0f921\"]]}],\"contourcarpet\":[{\"type\":\"contourcarpet\",\"colorbar\":{\"outlinewidth\":0,\"ticks\":\"\"}}],\"contour\":[{\"type\":\"contour\",\"colorbar\":{\"outlinewidth\":0,\"ticks\":\"\"},\"colorscale\":[[0.0,\"#0d0887\"],[0.1111111111111111,\"#46039f\"],[0.2222222222222222,\"#7201a8\"],[0.3333333333333333,\"#9c179e\"],[0.4444444444444444,\"#bd3786\"],[0.5555555555555556,\"#d8576b\"],[0.6666666666666666,\"#ed7953\"],[0.7777777777777778,\"#fb9f3a\"],[0.8888888888888888,\"#fdca26\"],[1.0,\"#f0f921\"]]}],\"surface\":[{\"type\":\"surface\",\"colorbar\":{\"outlinewidth\":0,\"ticks\":\"\"},\"colorscale\":[[0.0,\"#0d0887\"],[0.1111111111111111,\"#46039f\"],[0.2222222222222222,\"#7201a8\"],[0.3333333333333333,\"#9c179e\"],[0.4444444444444444,\"#bd3786\"],[0.5555555555555556,\"#d8576b\"],[0.6666666666666666,\"#ed7953\"],[0.7777777777777778,\"#fb9f3a\"],[0.8888888888888888,\"#fdca26\"],[1.0,\"#f0f921\"]]}],\"mesh3d\":[{\"type\":\"mesh3d\",\"colorbar\":{\"outlinewidth\":0,\"ticks\":\"\"}}],\"scatter\":[{\"fillpattern\":{\"fillmode\":\"overlay\",\"size\":10,\"solidity\":0.2},\"type\":\"scatter\"}],\"parcoords\":[{\"type\":\"parcoords\",\"line\":{\"colorbar\":{\"outlinewidth\":0,\"ticks\":\"\"}}}],\"scatterpolargl\":[{\"type\":\"scatterpolargl\",\"marker\":{\"colorbar\":{\"outlinewidth\":0,\"ticks\":\"\"}}}],\"bar\":[{\"error_x\":{\"color\":\"#2a3f5f\"},\"error_y\":{\"color\":\"#2a3f5f\"},\"marker\":{\"line\":{\"color\":\"#E5ECF6\",\"width\":0.5},\"pattern\":{\"fillmode\":\"overlay\",\"size\":10,\"solidity\":0.2}},\"type\":\"bar\"}],\"scattergeo\":[{\"type\":\"scattergeo\",\"marker\":{\"colorbar\":{\"outlinewidth\":0,\"ticks\":\"\"}}}],\"scatterpolar\":[{\"type\":\"scatterpolar\",\"marker\":{\"colorbar\":{\"outlinewidth\":0,\"ticks\":\"\"}}}],\"histogram\":[{\"marker\":{\"pattern\":{\"fillmode\":\"overlay\",\"size\":10,\"solidity\":0.2}},\"type\":\"histogram\"}],\"scattergl\":[{\"type\":\"scattergl\",\"marker\":{\"colorbar\":{\"outlinewidth\":0,\"ticks\":\"\"}}}],\"scatter3d\":[{\"type\":\"scatter3d\",\"line\":{\"colorbar\":{\"outlinewidth\":0,\"ticks\":\"\"}},\"marker\":{\"colorbar\":{\"outlinewidth\":0,\"ticks\":\"\"}}}],\"scattermapbox\":[{\"type\":\"scattermapbox\",\"marker\":{\"colorbar\":{\"outlinewidth\":0,\"ticks\":\"\"}}}],\"scatterternary\":[{\"type\":\"scatterternary\",\"marker\":{\"colorbar\":{\"outlinewidth\":0,\"ticks\":\"\"}}}],\"scattercarpet\":[{\"type\":\"scattercarpet\",\"marker\":{\"colorbar\":{\"outlinewidth\":0,\"ticks\":\"\"}}}],\"carpet\":[{\"aaxis\":{\"endlinecolor\":\"#2a3f5f\",\"gridcolor\":\"white\",\"linecolor\":\"white\",\"minorgridcolor\":\"white\",\"startlinecolor\":\"#2a3f5f\"},\"baxis\":{\"endlinecolor\":\"#2a3f5f\",\"gridcolor\":\"white\",\"linecolor\":\"white\",\"minorgridcolor\":\"white\",\"startlinecolor\":\"#2a3f5f\"},\"type\":\"carpet\"}],\"table\":[{\"cells\":{\"fill\":{\"color\":\"#EBF0F8\"},\"line\":{\"color\":\"white\"}},\"header\":{\"fill\":{\"color\":\"#C8D4E3\"},\"line\":{\"color\":\"white\"}},\"type\":\"table\"}],\"barpolar\":[{\"marker\":{\"line\":{\"color\":\"#E5ECF6\",\"width\":0.5},\"pattern\":{\"fillmode\":\"overlay\",\"size\":10,\"solidity\":0.2}},\"type\":\"barpolar\"}],\"pie\":[{\"automargin\":true,\"type\":\"pie\"}]},\"layout\":{\"autotypenumbers\":\"strict\",\"colorway\":[\"#636efa\",\"#EF553B\",\"#00cc96\",\"#ab63fa\",\"#FFA15A\",\"#19d3f3\",\"#FF6692\",\"#B6E880\",\"#FF97FF\",\"#FECB52\"],\"font\":{\"color\":\"#2a3f5f\"},\"hovermode\":\"closest\",\"hoverlabel\":{\"align\":\"left\"},\"paper_bgcolor\":\"white\",\"plot_bgcolor\":\"#E5ECF6\",\"polar\":{\"bgcolor\":\"#E5ECF6\",\"angularaxis\":{\"gridcolor\":\"white\",\"linecolor\":\"white\",\"ticks\":\"\"},\"radialaxis\":{\"gridcolor\":\"white\",\"linecolor\":\"white\",\"ticks\":\"\"}},\"ternary\":{\"bgcolor\":\"#E5ECF6\",\"aaxis\":{\"gridcolor\":\"white\",\"linecolor\":\"white\",\"ticks\":\"\"},\"baxis\":{\"gridcolor\":\"white\",\"linecolor\":\"white\",\"ticks\":\"\"},\"caxis\":{\"gridcolor\":\"white\",\"linecolor\":\"white\",\"ticks\":\"\"}},\"coloraxis\":{\"colorbar\":{\"outlinewidth\":0,\"ticks\":\"\"}},\"colorscale\":{\"sequential\":[[0.0,\"#0d0887\"],[0.1111111111111111,\"#46039f\"],[0.2222222222222222,\"#7201a8\"],[0.3333333333333333,\"#9c179e\"],[0.4444444444444444,\"#bd3786\"],[0.5555555555555556,\"#d8576b\"],[0.6666666666666666,\"#ed7953\"],[0.7777777777777778,\"#fb9f3a\"],[0.8888888888888888,\"#fdca26\"],[1.0,\"#f0f921\"]],\"sequentialminus\":[[0.0,\"#0d0887\"],[0.1111111111111111,\"#46039f\"],[0.2222222222222222,\"#7201a8\"],[0.3333333333333333,\"#9c179e\"],[0.4444444444444444,\"#bd3786\"],[0.5555555555555556,\"#d8576b\"],[0.6666666666666666,\"#ed7953\"],[0.7777777777777778,\"#fb9f3a\"],[0.8888888888888888,\"#fdca26\"],[1.0,\"#f0f921\"]],\"diverging\":[[0,\"#8e0152\"],[0.1,\"#c51b7d\"],[0.2,\"#de77ae\"],[0.3,\"#f1b6da\"],[0.4,\"#fde0ef\"],[0.5,\"#f7f7f7\"],[0.6,\"#e6f5d0\"],[0.7,\"#b8e186\"],[0.8,\"#7fbc41\"],[0.9,\"#4d9221\"],[1,\"#276419\"]]},\"xaxis\":{\"gridcolor\":\"white\",\"linecolor\":\"white\",\"ticks\":\"\",\"title\":{\"standoff\":15},\"zerolinecolor\":\"white\",\"automargin\":true,\"zerolinewidth\":2},\"yaxis\":{\"gridcolor\":\"white\",\"linecolor\":\"white\",\"ticks\":\"\",\"title\":{\"standoff\":15},\"zerolinecolor\":\"white\",\"automargin\":true,\"zerolinewidth\":2},\"scene\":{\"xaxis\":{\"backgroundcolor\":\"#E5ECF6\",\"gridcolor\":\"white\",\"linecolor\":\"white\",\"showbackground\":true,\"ticks\":\"\",\"zerolinecolor\":\"white\",\"gridwidth\":2},\"yaxis\":{\"backgroundcolor\":\"#E5ECF6\",\"gridcolor\":\"white\",\"linecolor\":\"white\",\"showbackground\":true,\"ticks\":\"\",\"zerolinecolor\":\"white\",\"gridwidth\":2},\"zaxis\":{\"backgroundcolor\":\"#E5ECF6\",\"gridcolor\":\"white\",\"linecolor\":\"white\",\"showbackground\":true,\"ticks\":\"\",\"zerolinecolor\":\"white\",\"gridwidth\":2}},\"shapedefaults\":{\"line\":{\"color\":\"#2a3f5f\"}},\"annotationdefaults\":{\"arrowcolor\":\"#2a3f5f\",\"arrowhead\":0,\"arrowwidth\":1},\"geo\":{\"bgcolor\":\"white\",\"landcolor\":\"#E5ECF6\",\"subunitcolor\":\"white\",\"showland\":true,\"showlakes\":true,\"lakecolor\":\"white\"},\"title\":{\"x\":0.05},\"mapbox\":{\"style\":\"light\"}}},\"xaxis\":{\"anchor\":\"y\",\"domain\":[0.0,1.0],\"title\":{\"text\":\"Municipality\"},\"categoryorder\":\"array\",\"categoryarray\":[\"Municipality_36\",\"Municipality_35\",\"Municipality_5\",\"Municipality_45\",\"Municipality_8\",\"Municipality_19\",\"Municipality_39\",\"Municipality_24\",\"Municipality_49\",\"Municipality_18\"],\"tickangle\":-45},\"yaxis\":{\"anchor\":\"x\",\"domain\":[0.0,1.0],\"title\":{\"text\":\"Traffic Pollution Index\"}},\"legend\":{\"title\":{\"text\":\"Municipality\"},\"tracegroupgap\":0},\"title\":{\"text\":\"Top 10 Municipalities with Highest Traffic Pollution\"},\"boxmode\":\"overlay\",\"font\":{\"size\":12},\"width\":600,\"height\":400,\"showlegend\":false},                        {\"responsive\": true}                    ).then(function(){\n",
       "                            \n",
       "var gd = document.getElementById('65f1e960-018b-4eb7-8960-44fe81e20e27');\n",
       "var x = new MutationObserver(function (mutations, observer) {{\n",
       "        var display = window.getComputedStyle(gd).display;\n",
       "        if (!display || display === 'none') {{\n",
       "            console.log([gd, 'removed!']);\n",
       "            Plotly.purge(gd);\n",
       "            observer.disconnect();\n",
       "        }}\n",
       "}});\n",
       "\n",
       "// Listen for the removal of the full notebook cells\n",
       "var notebookContainer = gd.closest('#notebook-container');\n",
       "if (notebookContainer) {{\n",
       "    x.observe(notebookContainer, {childList: true});\n",
       "}}\n",
       "\n",
       "// Listen for the clearing of the current output cell\n",
       "var outputEl = gd.closest('.output');\n",
       "if (outputEl) {{\n",
       "    x.observe(outputEl, {childList: true});\n",
       "}}\n",
       "\n",
       "                        })                };                });            </script>        </div>"
      ]
     },
     "metadata": {},
     "output_type": "display_data"
    },
    {
     "data": {
      "application/vnd.plotly.v1+json": {
       "config": {
        "plotlyServerURL": "https://plot.ly"
       },
       "data": [
        {
         "alignmentgroup": "True",
         "hovertemplate": "Municipality=%{x}<br>Traffic_Pollution=%{y}<extra></extra>",
         "legendgroup": "Municipality_40",
         "marker": {
          "color": "#440154",
          "opacity": 0.8
         },
         "name": "Municipality_40",
         "notched": false,
         "offsetgroup": "Municipality_40",
         "orientation": "v",
         "showlegend": true,
         "type": "box",
         "x": [
          "Municipality_40",
          "Municipality_40",
          "Municipality_40",
          "Municipality_40",
          "Municipality_40",
          "Municipality_40",
          "Municipality_40",
          "Municipality_40",
          "Municipality_40",
          "Municipality_40"
         ],
         "x0": " ",
         "xaxis": "x",
         "y": [
          25.399010312173974,
          25.445940365181865,
          25.494462992370128,
          25.56473476325662,
          25.50486759432434,
          25.386896608615995,
          25.318294986132702,
          25.563368120588915,
          25.45769033469037,
          25.54297098506208
         ],
         "y0": " ",
         "yaxis": "y"
        },
        {
         "alignmentgroup": "True",
         "hovertemplate": "Municipality=%{x}<br>Traffic_Pollution=%{y}<extra></extra>",
         "legendgroup": "Municipality_14",
         "marker": {
          "color": "#482878",
          "opacity": 0.8
         },
         "name": "Municipality_14",
         "notched": false,
         "offsetgroup": "Municipality_14",
         "orientation": "v",
         "showlegend": true,
         "type": "box",
         "x": [
          "Municipality_14",
          "Municipality_14",
          "Municipality_14",
          "Municipality_14",
          "Municipality_14",
          "Municipality_14",
          "Municipality_14",
          "Municipality_14",
          "Municipality_14",
          "Municipality_14"
         ],
         "x0": " ",
         "xaxis": "x",
         "y": [
          27.884918139819582,
          28.23831787107505,
          28.91588940809919,
          29.241616549757907,
          29.42084014852273,
          30.511264650918548,
          31.23088156445733,
          31.18782110595035,
          31.567520961254733,
          32.18228017381832
         ],
         "y0": " ",
         "yaxis": "y"
        },
        {
         "alignmentgroup": "True",
         "hovertemplate": "Municipality=%{x}<br>Traffic_Pollution=%{y}<extra></extra>",
         "legendgroup": "Municipality_23",
         "marker": {
          "color": "#3e4989",
          "opacity": 0.8
         },
         "name": "Municipality_23",
         "notched": false,
         "offsetgroup": "Municipality_23",
         "orientation": "v",
         "showlegend": true,
         "type": "box",
         "x": [
          "Municipality_23",
          "Municipality_23",
          "Municipality_23",
          "Municipality_23",
          "Municipality_23",
          "Municipality_23",
          "Municipality_23",
          "Municipality_23",
          "Municipality_23",
          "Municipality_23"
         ],
         "x0": " ",
         "xaxis": "x",
         "y": [
          32.72593148534675,
          32.88120329028339,
          32.84397440239548,
          32.727244330268945,
          32.73258462865895,
          null,
          32.84513510792899,
          32.896964420538524,
          32.70945149208632,
          32.76540540428425
         ],
         "y0": " ",
         "yaxis": "y"
        },
        {
         "alignmentgroup": "True",
         "hovertemplate": "Municipality=%{x}<br>Traffic_Pollution=%{y}<extra></extra>",
         "legendgroup": "Municipality_38",
         "marker": {
          "color": "#31688e",
          "opacity": 0.8
         },
         "name": "Municipality_38",
         "notched": false,
         "offsetgroup": "Municipality_38",
         "orientation": "v",
         "showlegend": true,
         "type": "box",
         "x": [
          "Municipality_38",
          "Municipality_38",
          "Municipality_38",
          "Municipality_38",
          "Municipality_38",
          "Municipality_38",
          "Municipality_38",
          "Municipality_38",
          "Municipality_38",
          "Municipality_38"
         ],
         "x0": " ",
         "xaxis": "x",
         "y": [
          35.78544153515708,
          36.18118542607088,
          37.05071557638521,
          37.32534446823238,
          37.58610961138021,
          38.36478278698847,
          39.08379071296345,
          39.36408368298157,
          39.98067794956111,
          40.19895291677472
         ],
         "y0": " ",
         "yaxis": "y"
        },
        {
         "alignmentgroup": "True",
         "hovertemplate": "Municipality=%{x}<br>Traffic_Pollution=%{y}<extra></extra>",
         "legendgroup": "Municipality_26",
         "marker": {
          "color": "#26828e",
          "opacity": 0.8
         },
         "name": "Municipality_26",
         "notched": false,
         "offsetgroup": "Municipality_26",
         "orientation": "v",
         "showlegend": true,
         "type": "box",
         "x": [
          "Municipality_26",
          "Municipality_26",
          "Municipality_26",
          "Municipality_26",
          "Municipality_26",
          "Municipality_26",
          "Municipality_26",
          "Municipality_26",
          "Municipality_26",
          "Municipality_26"
         ],
         "x0": " ",
         "xaxis": "x",
         "y": [
          38.50088530014951,
          38.46477551757721,
          38.5303153737353,
          38.54724200544805,
          38.51576314171674,
          38.55675564361198,
          38.39263484990392,
          38.52739568671058,
          38.44843348731409,
          38.57335494100726
         ],
         "y0": " ",
         "yaxis": "y"
        },
        {
         "alignmentgroup": "True",
         "hovertemplate": "Municipality=%{x}<br>Traffic_Pollution=%{y}<extra></extra>",
         "legendgroup": "Municipality_9",
         "marker": {
          "color": "#1f9e89",
          "opacity": 0.8
         },
         "name": "Municipality_9",
         "notched": false,
         "offsetgroup": "Municipality_9",
         "orientation": "v",
         "showlegend": true,
         "type": "box",
         "x": [
          "Municipality_9",
          "Municipality_9",
          "Municipality_9",
          "Municipality_9",
          "Municipality_9",
          "Municipality_9",
          "Municipality_9",
          "Municipality_9",
          "Municipality_9",
          "Municipality_9"
         ],
         "x0": " ",
         "xaxis": "x",
         "y": [
          36.116531589243216,
          36.70516742480292,
          37.37053585986334,
          37.76266419362809,
          38.66942423158289,
          38.526621221667,
          39.67261033394564,
          39.76464781709532,
          40.142385652768894,
          40.84852707938534
         ],
         "y0": " ",
         "yaxis": "y"
        },
        {
         "alignmentgroup": "True",
         "hovertemplate": "Municipality=%{x}<br>Traffic_Pollution=%{y}<extra></extra>",
         "legendgroup": "Municipality_4",
         "marker": {
          "color": "#35b779",
          "opacity": 0.8
         },
         "name": "Municipality_4",
         "notched": false,
         "offsetgroup": "Municipality_4",
         "orientation": "v",
         "showlegend": true,
         "type": "box",
         "x": [
          "Municipality_4",
          "Municipality_4",
          "Municipality_4",
          "Municipality_4",
          "Municipality_4",
          "Municipality_4",
          "Municipality_4",
          "Municipality_4",
          "Municipality_4",
          "Municipality_4"
         ],
         "x0": " ",
         "xaxis": "x",
         "y": [
          36.91203361414902,
          36.64280576492156,
          36.896344480096815,
          37.626601689479976,
          38.62172906447841,
          38.94133200142804,
          39.43737820786347,
          40.225502828501725,
          40.239882725656926,
          41.08992927116444
         ],
         "y0": " ",
         "yaxis": "y"
        },
        {
         "alignmentgroup": "True",
         "hovertemplate": "Municipality=%{x}<br>Traffic_Pollution=%{y}<extra></extra>",
         "legendgroup": "Municipality_11",
         "marker": {
          "color": "#6ece58",
          "opacity": 0.8
         },
         "name": "Municipality_11",
         "notched": false,
         "offsetgroup": "Municipality_11",
         "orientation": "v",
         "showlegend": true,
         "type": "box",
         "x": [
          "Municipality_11",
          "Municipality_11",
          "Municipality_11",
          "Municipality_11",
          "Municipality_11",
          "Municipality_11",
          "Municipality_11",
          "Municipality_11",
          "Municipality_11",
          "Municipality_11"
         ],
         "x0": " ",
         "xaxis": "x",
         "y": [
          38.09035335089333,
          38.480723832851176,
          39.11161721704166,
          39.863294972277785,
          40.64782780126907,
          41.19291013793072,
          41.47421603694234,
          42.51516949421613,
          42.25607216811304,
          42.76215164396719
         ],
         "y0": " ",
         "yaxis": "y"
        },
        {
         "alignmentgroup": "True",
         "hovertemplate": "Municipality=%{x}<br>Traffic_Pollution=%{y}<extra></extra>",
         "legendgroup": "Municipality_20",
         "marker": {
          "color": "#b5de2b",
          "opacity": 0.8
         },
         "name": "Municipality_20",
         "notched": false,
         "offsetgroup": "Municipality_20",
         "orientation": "v",
         "showlegend": true,
         "type": "box",
         "x": [
          "Municipality_20",
          "Municipality_20",
          "Municipality_20",
          "Municipality_20",
          "Municipality_20",
          "Municipality_20",
          "Municipality_20",
          "Municipality_20",
          "Municipality_20",
          "Municipality_20"
         ],
         "x0": " ",
         "xaxis": "x",
         "y": [
          43.20360238567026,
          44.1620531335534,
          44.75112900072612,
          44.66644034933823,
          45.34797034676743,
          45.83009369446263,
          46.46021549797653,
          47.28666670442464,
          47.2757027978711,
          48.00884234085368
         ],
         "y0": " ",
         "yaxis": "y"
        },
        {
         "alignmentgroup": "True",
         "hovertemplate": "Municipality=%{x}<br>Traffic_Pollution=%{y}<extra></extra>",
         "legendgroup": "Municipality_6",
         "marker": {
          "color": "#fde725",
          "opacity": 0.8
         },
         "name": "Municipality_6",
         "notched": false,
         "offsetgroup": "Municipality_6",
         "orientation": "v",
         "showlegend": true,
         "type": "box",
         "x": [
          "Municipality_6",
          "Municipality_6",
          "Municipality_6",
          "Municipality_6",
          "Municipality_6",
          "Municipality_6",
          "Municipality_6",
          "Municipality_6",
          "Municipality_6",
          "Municipality_6"
         ],
         "x0": " ",
         "xaxis": "x",
         "y": [
          44.44678173635359,
          44.56210832518384,
          45.05610149186638,
          45.80228130217616,
          46.28917368586212,
          46.49839693014664,
          47.6450872185041,
          47.72296987939319,
          48.04153910981682,
          48.64517571977251
         ],
         "y0": " ",
         "yaxis": "y"
        }
       ],
       "layout": {
        "boxmode": "overlay",
        "font": {
         "size": 12
        },
        "height": 400,
        "legend": {
         "title": {
          "text": "Municipality"
         },
         "tracegroupgap": 0
        },
        "showlegend": false,
        "template": {
         "data": {
          "bar": [
           {
            "error_x": {
             "color": "#2a3f5f"
            },
            "error_y": {
             "color": "#2a3f5f"
            },
            "marker": {
             "line": {
              "color": "#E5ECF6",
              "width": 0.5
             },
             "pattern": {
              "fillmode": "overlay",
              "size": 10,
              "solidity": 0.2
             }
            },
            "type": "bar"
           }
          ],
          "barpolar": [
           {
            "marker": {
             "line": {
              "color": "#E5ECF6",
              "width": 0.5
             },
             "pattern": {
              "fillmode": "overlay",
              "size": 10,
              "solidity": 0.2
             }
            },
            "type": "barpolar"
           }
          ],
          "carpet": [
           {
            "aaxis": {
             "endlinecolor": "#2a3f5f",
             "gridcolor": "white",
             "linecolor": "white",
             "minorgridcolor": "white",
             "startlinecolor": "#2a3f5f"
            },
            "baxis": {
             "endlinecolor": "#2a3f5f",
             "gridcolor": "white",
             "linecolor": "white",
             "minorgridcolor": "white",
             "startlinecolor": "#2a3f5f"
            },
            "type": "carpet"
           }
          ],
          "choropleth": [
           {
            "colorbar": {
             "outlinewidth": 0,
             "ticks": ""
            },
            "type": "choropleth"
           }
          ],
          "contour": [
           {
            "colorbar": {
             "outlinewidth": 0,
             "ticks": ""
            },
            "colorscale": [
             [
              0,
              "#0d0887"
             ],
             [
              0.1111111111111111,
              "#46039f"
             ],
             [
              0.2222222222222222,
              "#7201a8"
             ],
             [
              0.3333333333333333,
              "#9c179e"
             ],
             [
              0.4444444444444444,
              "#bd3786"
             ],
             [
              0.5555555555555556,
              "#d8576b"
             ],
             [
              0.6666666666666666,
              "#ed7953"
             ],
             [
              0.7777777777777778,
              "#fb9f3a"
             ],
             [
              0.8888888888888888,
              "#fdca26"
             ],
             [
              1,
              "#f0f921"
             ]
            ],
            "type": "contour"
           }
          ],
          "contourcarpet": [
           {
            "colorbar": {
             "outlinewidth": 0,
             "ticks": ""
            },
            "type": "contourcarpet"
           }
          ],
          "heatmap": [
           {
            "colorbar": {
             "outlinewidth": 0,
             "ticks": ""
            },
            "colorscale": [
             [
              0,
              "#0d0887"
             ],
             [
              0.1111111111111111,
              "#46039f"
             ],
             [
              0.2222222222222222,
              "#7201a8"
             ],
             [
              0.3333333333333333,
              "#9c179e"
             ],
             [
              0.4444444444444444,
              "#bd3786"
             ],
             [
              0.5555555555555556,
              "#d8576b"
             ],
             [
              0.6666666666666666,
              "#ed7953"
             ],
             [
              0.7777777777777778,
              "#fb9f3a"
             ],
             [
              0.8888888888888888,
              "#fdca26"
             ],
             [
              1,
              "#f0f921"
             ]
            ],
            "type": "heatmap"
           }
          ],
          "heatmapgl": [
           {
            "colorbar": {
             "outlinewidth": 0,
             "ticks": ""
            },
            "colorscale": [
             [
              0,
              "#0d0887"
             ],
             [
              0.1111111111111111,
              "#46039f"
             ],
             [
              0.2222222222222222,
              "#7201a8"
             ],
             [
              0.3333333333333333,
              "#9c179e"
             ],
             [
              0.4444444444444444,
              "#bd3786"
             ],
             [
              0.5555555555555556,
              "#d8576b"
             ],
             [
              0.6666666666666666,
              "#ed7953"
             ],
             [
              0.7777777777777778,
              "#fb9f3a"
             ],
             [
              0.8888888888888888,
              "#fdca26"
             ],
             [
              1,
              "#f0f921"
             ]
            ],
            "type": "heatmapgl"
           }
          ],
          "histogram": [
           {
            "marker": {
             "pattern": {
              "fillmode": "overlay",
              "size": 10,
              "solidity": 0.2
             }
            },
            "type": "histogram"
           }
          ],
          "histogram2d": [
           {
            "colorbar": {
             "outlinewidth": 0,
             "ticks": ""
            },
            "colorscale": [
             [
              0,
              "#0d0887"
             ],
             [
              0.1111111111111111,
              "#46039f"
             ],
             [
              0.2222222222222222,
              "#7201a8"
             ],
             [
              0.3333333333333333,
              "#9c179e"
             ],
             [
              0.4444444444444444,
              "#bd3786"
             ],
             [
              0.5555555555555556,
              "#d8576b"
             ],
             [
              0.6666666666666666,
              "#ed7953"
             ],
             [
              0.7777777777777778,
              "#fb9f3a"
             ],
             [
              0.8888888888888888,
              "#fdca26"
             ],
             [
              1,
              "#f0f921"
             ]
            ],
            "type": "histogram2d"
           }
          ],
          "histogram2dcontour": [
           {
            "colorbar": {
             "outlinewidth": 0,
             "ticks": ""
            },
            "colorscale": [
             [
              0,
              "#0d0887"
             ],
             [
              0.1111111111111111,
              "#46039f"
             ],
             [
              0.2222222222222222,
              "#7201a8"
             ],
             [
              0.3333333333333333,
              "#9c179e"
             ],
             [
              0.4444444444444444,
              "#bd3786"
             ],
             [
              0.5555555555555556,
              "#d8576b"
             ],
             [
              0.6666666666666666,
              "#ed7953"
             ],
             [
              0.7777777777777778,
              "#fb9f3a"
             ],
             [
              0.8888888888888888,
              "#fdca26"
             ],
             [
              1,
              "#f0f921"
             ]
            ],
            "type": "histogram2dcontour"
           }
          ],
          "mesh3d": [
           {
            "colorbar": {
             "outlinewidth": 0,
             "ticks": ""
            },
            "type": "mesh3d"
           }
          ],
          "parcoords": [
           {
            "line": {
             "colorbar": {
              "outlinewidth": 0,
              "ticks": ""
             }
            },
            "type": "parcoords"
           }
          ],
          "pie": [
           {
            "automargin": true,
            "type": "pie"
           }
          ],
          "scatter": [
           {
            "fillpattern": {
             "fillmode": "overlay",
             "size": 10,
             "solidity": 0.2
            },
            "type": "scatter"
           }
          ],
          "scatter3d": [
           {
            "line": {
             "colorbar": {
              "outlinewidth": 0,
              "ticks": ""
             }
            },
            "marker": {
             "colorbar": {
              "outlinewidth": 0,
              "ticks": ""
             }
            },
            "type": "scatter3d"
           }
          ],
          "scattercarpet": [
           {
            "marker": {
             "colorbar": {
              "outlinewidth": 0,
              "ticks": ""
             }
            },
            "type": "scattercarpet"
           }
          ],
          "scattergeo": [
           {
            "marker": {
             "colorbar": {
              "outlinewidth": 0,
              "ticks": ""
             }
            },
            "type": "scattergeo"
           }
          ],
          "scattergl": [
           {
            "marker": {
             "colorbar": {
              "outlinewidth": 0,
              "ticks": ""
             }
            },
            "type": "scattergl"
           }
          ],
          "scattermapbox": [
           {
            "marker": {
             "colorbar": {
              "outlinewidth": 0,
              "ticks": ""
             }
            },
            "type": "scattermapbox"
           }
          ],
          "scatterpolar": [
           {
            "marker": {
             "colorbar": {
              "outlinewidth": 0,
              "ticks": ""
             }
            },
            "type": "scatterpolar"
           }
          ],
          "scatterpolargl": [
           {
            "marker": {
             "colorbar": {
              "outlinewidth": 0,
              "ticks": ""
             }
            },
            "type": "scatterpolargl"
           }
          ],
          "scatterternary": [
           {
            "marker": {
             "colorbar": {
              "outlinewidth": 0,
              "ticks": ""
             }
            },
            "type": "scatterternary"
           }
          ],
          "surface": [
           {
            "colorbar": {
             "outlinewidth": 0,
             "ticks": ""
            },
            "colorscale": [
             [
              0,
              "#0d0887"
             ],
             [
              0.1111111111111111,
              "#46039f"
             ],
             [
              0.2222222222222222,
              "#7201a8"
             ],
             [
              0.3333333333333333,
              "#9c179e"
             ],
             [
              0.4444444444444444,
              "#bd3786"
             ],
             [
              0.5555555555555556,
              "#d8576b"
             ],
             [
              0.6666666666666666,
              "#ed7953"
             ],
             [
              0.7777777777777778,
              "#fb9f3a"
             ],
             [
              0.8888888888888888,
              "#fdca26"
             ],
             [
              1,
              "#f0f921"
             ]
            ],
            "type": "surface"
           }
          ],
          "table": [
           {
            "cells": {
             "fill": {
              "color": "#EBF0F8"
             },
             "line": {
              "color": "white"
             }
            },
            "header": {
             "fill": {
              "color": "#C8D4E3"
             },
             "line": {
              "color": "white"
             }
            },
            "type": "table"
           }
          ]
         },
         "layout": {
          "annotationdefaults": {
           "arrowcolor": "#2a3f5f",
           "arrowhead": 0,
           "arrowwidth": 1
          },
          "autotypenumbers": "strict",
          "coloraxis": {
           "colorbar": {
            "outlinewidth": 0,
            "ticks": ""
           }
          },
          "colorscale": {
           "diverging": [
            [
             0,
             "#8e0152"
            ],
            [
             0.1,
             "#c51b7d"
            ],
            [
             0.2,
             "#de77ae"
            ],
            [
             0.3,
             "#f1b6da"
            ],
            [
             0.4,
             "#fde0ef"
            ],
            [
             0.5,
             "#f7f7f7"
            ],
            [
             0.6,
             "#e6f5d0"
            ],
            [
             0.7,
             "#b8e186"
            ],
            [
             0.8,
             "#7fbc41"
            ],
            [
             0.9,
             "#4d9221"
            ],
            [
             1,
             "#276419"
            ]
           ],
           "sequential": [
            [
             0,
             "#0d0887"
            ],
            [
             0.1111111111111111,
             "#46039f"
            ],
            [
             0.2222222222222222,
             "#7201a8"
            ],
            [
             0.3333333333333333,
             "#9c179e"
            ],
            [
             0.4444444444444444,
             "#bd3786"
            ],
            [
             0.5555555555555556,
             "#d8576b"
            ],
            [
             0.6666666666666666,
             "#ed7953"
            ],
            [
             0.7777777777777778,
             "#fb9f3a"
            ],
            [
             0.8888888888888888,
             "#fdca26"
            ],
            [
             1,
             "#f0f921"
            ]
           ],
           "sequentialminus": [
            [
             0,
             "#0d0887"
            ],
            [
             0.1111111111111111,
             "#46039f"
            ],
            [
             0.2222222222222222,
             "#7201a8"
            ],
            [
             0.3333333333333333,
             "#9c179e"
            ],
            [
             0.4444444444444444,
             "#bd3786"
            ],
            [
             0.5555555555555556,
             "#d8576b"
            ],
            [
             0.6666666666666666,
             "#ed7953"
            ],
            [
             0.7777777777777778,
             "#fb9f3a"
            ],
            [
             0.8888888888888888,
             "#fdca26"
            ],
            [
             1,
             "#f0f921"
            ]
           ]
          },
          "colorway": [
           "#636efa",
           "#EF553B",
           "#00cc96",
           "#ab63fa",
           "#FFA15A",
           "#19d3f3",
           "#FF6692",
           "#B6E880",
           "#FF97FF",
           "#FECB52"
          ],
          "font": {
           "color": "#2a3f5f"
          },
          "geo": {
           "bgcolor": "white",
           "lakecolor": "white",
           "landcolor": "#E5ECF6",
           "showlakes": true,
           "showland": true,
           "subunitcolor": "white"
          },
          "hoverlabel": {
           "align": "left"
          },
          "hovermode": "closest",
          "mapbox": {
           "style": "light"
          },
          "paper_bgcolor": "white",
          "plot_bgcolor": "#E5ECF6",
          "polar": {
           "angularaxis": {
            "gridcolor": "white",
            "linecolor": "white",
            "ticks": ""
           },
           "bgcolor": "#E5ECF6",
           "radialaxis": {
            "gridcolor": "white",
            "linecolor": "white",
            "ticks": ""
           }
          },
          "scene": {
           "xaxis": {
            "backgroundcolor": "#E5ECF6",
            "gridcolor": "white",
            "gridwidth": 2,
            "linecolor": "white",
            "showbackground": true,
            "ticks": "",
            "zerolinecolor": "white"
           },
           "yaxis": {
            "backgroundcolor": "#E5ECF6",
            "gridcolor": "white",
            "gridwidth": 2,
            "linecolor": "white",
            "showbackground": true,
            "ticks": "",
            "zerolinecolor": "white"
           },
           "zaxis": {
            "backgroundcolor": "#E5ECF6",
            "gridcolor": "white",
            "gridwidth": 2,
            "linecolor": "white",
            "showbackground": true,
            "ticks": "",
            "zerolinecolor": "white"
           }
          },
          "shapedefaults": {
           "line": {
            "color": "#2a3f5f"
           }
          },
          "ternary": {
           "aaxis": {
            "gridcolor": "white",
            "linecolor": "white",
            "ticks": ""
           },
           "baxis": {
            "gridcolor": "white",
            "linecolor": "white",
            "ticks": ""
           },
           "bgcolor": "#E5ECF6",
           "caxis": {
            "gridcolor": "white",
            "linecolor": "white",
            "ticks": ""
           }
          },
          "title": {
           "x": 0.05
          },
          "xaxis": {
           "automargin": true,
           "gridcolor": "white",
           "linecolor": "white",
           "ticks": "",
           "title": {
            "standoff": 15
           },
           "zerolinecolor": "white",
           "zerolinewidth": 2
          },
          "yaxis": {
           "automargin": true,
           "gridcolor": "white",
           "linecolor": "white",
           "ticks": "",
           "title": {
            "standoff": 15
           },
           "zerolinecolor": "white",
           "zerolinewidth": 2
          }
         }
        },
        "title": {
         "text": "Top 10 Municipalities with Lowest Traffic Pollution"
        },
        "width": 600,
        "xaxis": {
         "anchor": "y",
         "categoryarray": [
          "Municipality_40",
          "Municipality_14",
          "Municipality_23",
          "Municipality_38",
          "Municipality_26",
          "Municipality_9",
          "Municipality_4",
          "Municipality_11",
          "Municipality_20",
          "Municipality_6"
         ],
         "categoryorder": "array",
         "domain": [
          0,
          1
         ],
         "tickangle": -45,
         "title": {
          "text": "Municipality"
         }
        },
        "yaxis": {
         "anchor": "x",
         "domain": [
          0,
          1
         ],
         "title": {
          "text": "Traffic Pollution Index"
         }
        }
       }
      },
      "text/html": [
       "<div>                            <div id=\"333d2015-3b00-4736-b5d8-62de069f44ff\" class=\"plotly-graph-div\" style=\"height:400px; width:600px;\"></div>            <script type=\"text/javascript\">                require([\"plotly\"], function(Plotly) {                    window.PLOTLYENV=window.PLOTLYENV || {};                                    if (document.getElementById(\"333d2015-3b00-4736-b5d8-62de069f44ff\")) {                    Plotly.newPlot(                        \"333d2015-3b00-4736-b5d8-62de069f44ff\",                        [{\"alignmentgroup\":\"True\",\"hovertemplate\":\"Municipality=%{x}\\u003cbr\\u003eTraffic_Pollution=%{y}\\u003cextra\\u003e\\u003c\\u002fextra\\u003e\",\"legendgroup\":\"Municipality_40\",\"marker\":{\"color\":\"#440154\",\"opacity\":0.8},\"name\":\"Municipality_40\",\"notched\":false,\"offsetgroup\":\"Municipality_40\",\"orientation\":\"v\",\"showlegend\":true,\"x\":[\"Municipality_40\",\"Municipality_40\",\"Municipality_40\",\"Municipality_40\",\"Municipality_40\",\"Municipality_40\",\"Municipality_40\",\"Municipality_40\",\"Municipality_40\",\"Municipality_40\"],\"x0\":\" \",\"xaxis\":\"x\",\"y\":[25.399010312173974,25.445940365181865,25.494462992370128,25.56473476325662,25.50486759432434,25.386896608615995,25.318294986132702,25.563368120588915,25.45769033469037,25.54297098506208],\"y0\":\" \",\"yaxis\":\"y\",\"type\":\"box\"},{\"alignmentgroup\":\"True\",\"hovertemplate\":\"Municipality=%{x}\\u003cbr\\u003eTraffic_Pollution=%{y}\\u003cextra\\u003e\\u003c\\u002fextra\\u003e\",\"legendgroup\":\"Municipality_14\",\"marker\":{\"color\":\"#482878\",\"opacity\":0.8},\"name\":\"Municipality_14\",\"notched\":false,\"offsetgroup\":\"Municipality_14\",\"orientation\":\"v\",\"showlegend\":true,\"x\":[\"Municipality_14\",\"Municipality_14\",\"Municipality_14\",\"Municipality_14\",\"Municipality_14\",\"Municipality_14\",\"Municipality_14\",\"Municipality_14\",\"Municipality_14\",\"Municipality_14\"],\"x0\":\" \",\"xaxis\":\"x\",\"y\":[27.884918139819582,28.23831787107505,28.91588940809919,29.241616549757907,29.42084014852273,30.511264650918548,31.23088156445733,31.18782110595035,31.567520961254733,32.18228017381832],\"y0\":\" \",\"yaxis\":\"y\",\"type\":\"box\"},{\"alignmentgroup\":\"True\",\"hovertemplate\":\"Municipality=%{x}\\u003cbr\\u003eTraffic_Pollution=%{y}\\u003cextra\\u003e\\u003c\\u002fextra\\u003e\",\"legendgroup\":\"Municipality_23\",\"marker\":{\"color\":\"#3e4989\",\"opacity\":0.8},\"name\":\"Municipality_23\",\"notched\":false,\"offsetgroup\":\"Municipality_23\",\"orientation\":\"v\",\"showlegend\":true,\"x\":[\"Municipality_23\",\"Municipality_23\",\"Municipality_23\",\"Municipality_23\",\"Municipality_23\",\"Municipality_23\",\"Municipality_23\",\"Municipality_23\",\"Municipality_23\",\"Municipality_23\"],\"x0\":\" \",\"xaxis\":\"x\",\"y\":[32.72593148534675,32.88120329028339,32.84397440239548,32.727244330268945,32.73258462865895,null,32.84513510792899,32.896964420538524,32.70945149208632,32.76540540428425],\"y0\":\" \",\"yaxis\":\"y\",\"type\":\"box\"},{\"alignmentgroup\":\"True\",\"hovertemplate\":\"Municipality=%{x}\\u003cbr\\u003eTraffic_Pollution=%{y}\\u003cextra\\u003e\\u003c\\u002fextra\\u003e\",\"legendgroup\":\"Municipality_38\",\"marker\":{\"color\":\"#31688e\",\"opacity\":0.8},\"name\":\"Municipality_38\",\"notched\":false,\"offsetgroup\":\"Municipality_38\",\"orientation\":\"v\",\"showlegend\":true,\"x\":[\"Municipality_38\",\"Municipality_38\",\"Municipality_38\",\"Municipality_38\",\"Municipality_38\",\"Municipality_38\",\"Municipality_38\",\"Municipality_38\",\"Municipality_38\",\"Municipality_38\"],\"x0\":\" \",\"xaxis\":\"x\",\"y\":[35.78544153515708,36.18118542607088,37.05071557638521,37.32534446823238,37.58610961138021,38.36478278698847,39.08379071296345,39.36408368298157,39.98067794956111,40.19895291677472],\"y0\":\" \",\"yaxis\":\"y\",\"type\":\"box\"},{\"alignmentgroup\":\"True\",\"hovertemplate\":\"Municipality=%{x}\\u003cbr\\u003eTraffic_Pollution=%{y}\\u003cextra\\u003e\\u003c\\u002fextra\\u003e\",\"legendgroup\":\"Municipality_26\",\"marker\":{\"color\":\"#26828e\",\"opacity\":0.8},\"name\":\"Municipality_26\",\"notched\":false,\"offsetgroup\":\"Municipality_26\",\"orientation\":\"v\",\"showlegend\":true,\"x\":[\"Municipality_26\",\"Municipality_26\",\"Municipality_26\",\"Municipality_26\",\"Municipality_26\",\"Municipality_26\",\"Municipality_26\",\"Municipality_26\",\"Municipality_26\",\"Municipality_26\"],\"x0\":\" \",\"xaxis\":\"x\",\"y\":[38.50088530014951,38.46477551757721,38.5303153737353,38.54724200544805,38.51576314171674,38.55675564361198,38.39263484990392,38.52739568671058,38.44843348731409,38.57335494100726],\"y0\":\" \",\"yaxis\":\"y\",\"type\":\"box\"},{\"alignmentgroup\":\"True\",\"hovertemplate\":\"Municipality=%{x}\\u003cbr\\u003eTraffic_Pollution=%{y}\\u003cextra\\u003e\\u003c\\u002fextra\\u003e\",\"legendgroup\":\"Municipality_9\",\"marker\":{\"color\":\"#1f9e89\",\"opacity\":0.8},\"name\":\"Municipality_9\",\"notched\":false,\"offsetgroup\":\"Municipality_9\",\"orientation\":\"v\",\"showlegend\":true,\"x\":[\"Municipality_9\",\"Municipality_9\",\"Municipality_9\",\"Municipality_9\",\"Municipality_9\",\"Municipality_9\",\"Municipality_9\",\"Municipality_9\",\"Municipality_9\",\"Municipality_9\"],\"x0\":\" \",\"xaxis\":\"x\",\"y\":[36.116531589243216,36.70516742480292,37.37053585986334,37.76266419362809,38.66942423158289,38.526621221667,39.67261033394564,39.76464781709532,40.142385652768894,40.84852707938534],\"y0\":\" \",\"yaxis\":\"y\",\"type\":\"box\"},{\"alignmentgroup\":\"True\",\"hovertemplate\":\"Municipality=%{x}\\u003cbr\\u003eTraffic_Pollution=%{y}\\u003cextra\\u003e\\u003c\\u002fextra\\u003e\",\"legendgroup\":\"Municipality_4\",\"marker\":{\"color\":\"#35b779\",\"opacity\":0.8},\"name\":\"Municipality_4\",\"notched\":false,\"offsetgroup\":\"Municipality_4\",\"orientation\":\"v\",\"showlegend\":true,\"x\":[\"Municipality_4\",\"Municipality_4\",\"Municipality_4\",\"Municipality_4\",\"Municipality_4\",\"Municipality_4\",\"Municipality_4\",\"Municipality_4\",\"Municipality_4\",\"Municipality_4\"],\"x0\":\" \",\"xaxis\":\"x\",\"y\":[36.91203361414902,36.64280576492156,36.896344480096815,37.626601689479976,38.62172906447841,38.94133200142804,39.43737820786347,40.225502828501725,40.239882725656926,41.08992927116444],\"y0\":\" \",\"yaxis\":\"y\",\"type\":\"box\"},{\"alignmentgroup\":\"True\",\"hovertemplate\":\"Municipality=%{x}\\u003cbr\\u003eTraffic_Pollution=%{y}\\u003cextra\\u003e\\u003c\\u002fextra\\u003e\",\"legendgroup\":\"Municipality_11\",\"marker\":{\"color\":\"#6ece58\",\"opacity\":0.8},\"name\":\"Municipality_11\",\"notched\":false,\"offsetgroup\":\"Municipality_11\",\"orientation\":\"v\",\"showlegend\":true,\"x\":[\"Municipality_11\",\"Municipality_11\",\"Municipality_11\",\"Municipality_11\",\"Municipality_11\",\"Municipality_11\",\"Municipality_11\",\"Municipality_11\",\"Municipality_11\",\"Municipality_11\"],\"x0\":\" \",\"xaxis\":\"x\",\"y\":[38.09035335089333,38.480723832851176,39.11161721704166,39.863294972277785,40.64782780126907,41.19291013793072,41.47421603694234,42.51516949421613,42.25607216811304,42.76215164396719],\"y0\":\" \",\"yaxis\":\"y\",\"type\":\"box\"},{\"alignmentgroup\":\"True\",\"hovertemplate\":\"Municipality=%{x}\\u003cbr\\u003eTraffic_Pollution=%{y}\\u003cextra\\u003e\\u003c\\u002fextra\\u003e\",\"legendgroup\":\"Municipality_20\",\"marker\":{\"color\":\"#b5de2b\",\"opacity\":0.8},\"name\":\"Municipality_20\",\"notched\":false,\"offsetgroup\":\"Municipality_20\",\"orientation\":\"v\",\"showlegend\":true,\"x\":[\"Municipality_20\",\"Municipality_20\",\"Municipality_20\",\"Municipality_20\",\"Municipality_20\",\"Municipality_20\",\"Municipality_20\",\"Municipality_20\",\"Municipality_20\",\"Municipality_20\"],\"x0\":\" \",\"xaxis\":\"x\",\"y\":[43.20360238567026,44.1620531335534,44.75112900072612,44.66644034933823,45.34797034676743,45.83009369446263,46.46021549797653,47.28666670442464,47.2757027978711,48.00884234085368],\"y0\":\" \",\"yaxis\":\"y\",\"type\":\"box\"},{\"alignmentgroup\":\"True\",\"hovertemplate\":\"Municipality=%{x}\\u003cbr\\u003eTraffic_Pollution=%{y}\\u003cextra\\u003e\\u003c\\u002fextra\\u003e\",\"legendgroup\":\"Municipality_6\",\"marker\":{\"color\":\"#fde725\",\"opacity\":0.8},\"name\":\"Municipality_6\",\"notched\":false,\"offsetgroup\":\"Municipality_6\",\"orientation\":\"v\",\"showlegend\":true,\"x\":[\"Municipality_6\",\"Municipality_6\",\"Municipality_6\",\"Municipality_6\",\"Municipality_6\",\"Municipality_6\",\"Municipality_6\",\"Municipality_6\",\"Municipality_6\",\"Municipality_6\"],\"x0\":\" \",\"xaxis\":\"x\",\"y\":[44.44678173635359,44.56210832518384,45.05610149186638,45.80228130217616,46.28917368586212,46.49839693014664,47.6450872185041,47.72296987939319,48.04153910981682,48.64517571977251],\"y0\":\" \",\"yaxis\":\"y\",\"type\":\"box\"}],                        {\"template\":{\"data\":{\"histogram2dcontour\":[{\"type\":\"histogram2dcontour\",\"colorbar\":{\"outlinewidth\":0,\"ticks\":\"\"},\"colorscale\":[[0.0,\"#0d0887\"],[0.1111111111111111,\"#46039f\"],[0.2222222222222222,\"#7201a8\"],[0.3333333333333333,\"#9c179e\"],[0.4444444444444444,\"#bd3786\"],[0.5555555555555556,\"#d8576b\"],[0.6666666666666666,\"#ed7953\"],[0.7777777777777778,\"#fb9f3a\"],[0.8888888888888888,\"#fdca26\"],[1.0,\"#f0f921\"]]}],\"choropleth\":[{\"type\":\"choropleth\",\"colorbar\":{\"outlinewidth\":0,\"ticks\":\"\"}}],\"histogram2d\":[{\"type\":\"histogram2d\",\"colorbar\":{\"outlinewidth\":0,\"ticks\":\"\"},\"colorscale\":[[0.0,\"#0d0887\"],[0.1111111111111111,\"#46039f\"],[0.2222222222222222,\"#7201a8\"],[0.3333333333333333,\"#9c179e\"],[0.4444444444444444,\"#bd3786\"],[0.5555555555555556,\"#d8576b\"],[0.6666666666666666,\"#ed7953\"],[0.7777777777777778,\"#fb9f3a\"],[0.8888888888888888,\"#fdca26\"],[1.0,\"#f0f921\"]]}],\"heatmap\":[{\"type\":\"heatmap\",\"colorbar\":{\"outlinewidth\":0,\"ticks\":\"\"},\"colorscale\":[[0.0,\"#0d0887\"],[0.1111111111111111,\"#46039f\"],[0.2222222222222222,\"#7201a8\"],[0.3333333333333333,\"#9c179e\"],[0.4444444444444444,\"#bd3786\"],[0.5555555555555556,\"#d8576b\"],[0.6666666666666666,\"#ed7953\"],[0.7777777777777778,\"#fb9f3a\"],[0.8888888888888888,\"#fdca26\"],[1.0,\"#f0f921\"]]}],\"heatmapgl\":[{\"type\":\"heatmapgl\",\"colorbar\":{\"outlinewidth\":0,\"ticks\":\"\"},\"colorscale\":[[0.0,\"#0d0887\"],[0.1111111111111111,\"#46039f\"],[0.2222222222222222,\"#7201a8\"],[0.3333333333333333,\"#9c179e\"],[0.4444444444444444,\"#bd3786\"],[0.5555555555555556,\"#d8576b\"],[0.6666666666666666,\"#ed7953\"],[0.7777777777777778,\"#fb9f3a\"],[0.8888888888888888,\"#fdca26\"],[1.0,\"#f0f921\"]]}],\"contourcarpet\":[{\"type\":\"contourcarpet\",\"colorbar\":{\"outlinewidth\":0,\"ticks\":\"\"}}],\"contour\":[{\"type\":\"contour\",\"colorbar\":{\"outlinewidth\":0,\"ticks\":\"\"},\"colorscale\":[[0.0,\"#0d0887\"],[0.1111111111111111,\"#46039f\"],[0.2222222222222222,\"#7201a8\"],[0.3333333333333333,\"#9c179e\"],[0.4444444444444444,\"#bd3786\"],[0.5555555555555556,\"#d8576b\"],[0.6666666666666666,\"#ed7953\"],[0.7777777777777778,\"#fb9f3a\"],[0.8888888888888888,\"#fdca26\"],[1.0,\"#f0f921\"]]}],\"surface\":[{\"type\":\"surface\",\"colorbar\":{\"outlinewidth\":0,\"ticks\":\"\"},\"colorscale\":[[0.0,\"#0d0887\"],[0.1111111111111111,\"#46039f\"],[0.2222222222222222,\"#7201a8\"],[0.3333333333333333,\"#9c179e\"],[0.4444444444444444,\"#bd3786\"],[0.5555555555555556,\"#d8576b\"],[0.6666666666666666,\"#ed7953\"],[0.7777777777777778,\"#fb9f3a\"],[0.8888888888888888,\"#fdca26\"],[1.0,\"#f0f921\"]]}],\"mesh3d\":[{\"type\":\"mesh3d\",\"colorbar\":{\"outlinewidth\":0,\"ticks\":\"\"}}],\"scatter\":[{\"fillpattern\":{\"fillmode\":\"overlay\",\"size\":10,\"solidity\":0.2},\"type\":\"scatter\"}],\"parcoords\":[{\"type\":\"parcoords\",\"line\":{\"colorbar\":{\"outlinewidth\":0,\"ticks\":\"\"}}}],\"scatterpolargl\":[{\"type\":\"scatterpolargl\",\"marker\":{\"colorbar\":{\"outlinewidth\":0,\"ticks\":\"\"}}}],\"bar\":[{\"error_x\":{\"color\":\"#2a3f5f\"},\"error_y\":{\"color\":\"#2a3f5f\"},\"marker\":{\"line\":{\"color\":\"#E5ECF6\",\"width\":0.5},\"pattern\":{\"fillmode\":\"overlay\",\"size\":10,\"solidity\":0.2}},\"type\":\"bar\"}],\"scattergeo\":[{\"type\":\"scattergeo\",\"marker\":{\"colorbar\":{\"outlinewidth\":0,\"ticks\":\"\"}}}],\"scatterpolar\":[{\"type\":\"scatterpolar\",\"marker\":{\"colorbar\":{\"outlinewidth\":0,\"ticks\":\"\"}}}],\"histogram\":[{\"marker\":{\"pattern\":{\"fillmode\":\"overlay\",\"size\":10,\"solidity\":0.2}},\"type\":\"histogram\"}],\"scattergl\":[{\"type\":\"scattergl\",\"marker\":{\"colorbar\":{\"outlinewidth\":0,\"ticks\":\"\"}}}],\"scatter3d\":[{\"type\":\"scatter3d\",\"line\":{\"colorbar\":{\"outlinewidth\":0,\"ticks\":\"\"}},\"marker\":{\"colorbar\":{\"outlinewidth\":0,\"ticks\":\"\"}}}],\"scattermapbox\":[{\"type\":\"scattermapbox\",\"marker\":{\"colorbar\":{\"outlinewidth\":0,\"ticks\":\"\"}}}],\"scatterternary\":[{\"type\":\"scatterternary\",\"marker\":{\"colorbar\":{\"outlinewidth\":0,\"ticks\":\"\"}}}],\"scattercarpet\":[{\"type\":\"scattercarpet\",\"marker\":{\"colorbar\":{\"outlinewidth\":0,\"ticks\":\"\"}}}],\"carpet\":[{\"aaxis\":{\"endlinecolor\":\"#2a3f5f\",\"gridcolor\":\"white\",\"linecolor\":\"white\",\"minorgridcolor\":\"white\",\"startlinecolor\":\"#2a3f5f\"},\"baxis\":{\"endlinecolor\":\"#2a3f5f\",\"gridcolor\":\"white\",\"linecolor\":\"white\",\"minorgridcolor\":\"white\",\"startlinecolor\":\"#2a3f5f\"},\"type\":\"carpet\"}],\"table\":[{\"cells\":{\"fill\":{\"color\":\"#EBF0F8\"},\"line\":{\"color\":\"white\"}},\"header\":{\"fill\":{\"color\":\"#C8D4E3\"},\"line\":{\"color\":\"white\"}},\"type\":\"table\"}],\"barpolar\":[{\"marker\":{\"line\":{\"color\":\"#E5ECF6\",\"width\":0.5},\"pattern\":{\"fillmode\":\"overlay\",\"size\":10,\"solidity\":0.2}},\"type\":\"barpolar\"}],\"pie\":[{\"automargin\":true,\"type\":\"pie\"}]},\"layout\":{\"autotypenumbers\":\"strict\",\"colorway\":[\"#636efa\",\"#EF553B\",\"#00cc96\",\"#ab63fa\",\"#FFA15A\",\"#19d3f3\",\"#FF6692\",\"#B6E880\",\"#FF97FF\",\"#FECB52\"],\"font\":{\"color\":\"#2a3f5f\"},\"hovermode\":\"closest\",\"hoverlabel\":{\"align\":\"left\"},\"paper_bgcolor\":\"white\",\"plot_bgcolor\":\"#E5ECF6\",\"polar\":{\"bgcolor\":\"#E5ECF6\",\"angularaxis\":{\"gridcolor\":\"white\",\"linecolor\":\"white\",\"ticks\":\"\"},\"radialaxis\":{\"gridcolor\":\"white\",\"linecolor\":\"white\",\"ticks\":\"\"}},\"ternary\":{\"bgcolor\":\"#E5ECF6\",\"aaxis\":{\"gridcolor\":\"white\",\"linecolor\":\"white\",\"ticks\":\"\"},\"baxis\":{\"gridcolor\":\"white\",\"linecolor\":\"white\",\"ticks\":\"\"},\"caxis\":{\"gridcolor\":\"white\",\"linecolor\":\"white\",\"ticks\":\"\"}},\"coloraxis\":{\"colorbar\":{\"outlinewidth\":0,\"ticks\":\"\"}},\"colorscale\":{\"sequential\":[[0.0,\"#0d0887\"],[0.1111111111111111,\"#46039f\"],[0.2222222222222222,\"#7201a8\"],[0.3333333333333333,\"#9c179e\"],[0.4444444444444444,\"#bd3786\"],[0.5555555555555556,\"#d8576b\"],[0.6666666666666666,\"#ed7953\"],[0.7777777777777778,\"#fb9f3a\"],[0.8888888888888888,\"#fdca26\"],[1.0,\"#f0f921\"]],\"sequentialminus\":[[0.0,\"#0d0887\"],[0.1111111111111111,\"#46039f\"],[0.2222222222222222,\"#7201a8\"],[0.3333333333333333,\"#9c179e\"],[0.4444444444444444,\"#bd3786\"],[0.5555555555555556,\"#d8576b\"],[0.6666666666666666,\"#ed7953\"],[0.7777777777777778,\"#fb9f3a\"],[0.8888888888888888,\"#fdca26\"],[1.0,\"#f0f921\"]],\"diverging\":[[0,\"#8e0152\"],[0.1,\"#c51b7d\"],[0.2,\"#de77ae\"],[0.3,\"#f1b6da\"],[0.4,\"#fde0ef\"],[0.5,\"#f7f7f7\"],[0.6,\"#e6f5d0\"],[0.7,\"#b8e186\"],[0.8,\"#7fbc41\"],[0.9,\"#4d9221\"],[1,\"#276419\"]]},\"xaxis\":{\"gridcolor\":\"white\",\"linecolor\":\"white\",\"ticks\":\"\",\"title\":{\"standoff\":15},\"zerolinecolor\":\"white\",\"automargin\":true,\"zerolinewidth\":2},\"yaxis\":{\"gridcolor\":\"white\",\"linecolor\":\"white\",\"ticks\":\"\",\"title\":{\"standoff\":15},\"zerolinecolor\":\"white\",\"automargin\":true,\"zerolinewidth\":2},\"scene\":{\"xaxis\":{\"backgroundcolor\":\"#E5ECF6\",\"gridcolor\":\"white\",\"linecolor\":\"white\",\"showbackground\":true,\"ticks\":\"\",\"zerolinecolor\":\"white\",\"gridwidth\":2},\"yaxis\":{\"backgroundcolor\":\"#E5ECF6\",\"gridcolor\":\"white\",\"linecolor\":\"white\",\"showbackground\":true,\"ticks\":\"\",\"zerolinecolor\":\"white\",\"gridwidth\":2},\"zaxis\":{\"backgroundcolor\":\"#E5ECF6\",\"gridcolor\":\"white\",\"linecolor\":\"white\",\"showbackground\":true,\"ticks\":\"\",\"zerolinecolor\":\"white\",\"gridwidth\":2}},\"shapedefaults\":{\"line\":{\"color\":\"#2a3f5f\"}},\"annotationdefaults\":{\"arrowcolor\":\"#2a3f5f\",\"arrowhead\":0,\"arrowwidth\":1},\"geo\":{\"bgcolor\":\"white\",\"landcolor\":\"#E5ECF6\",\"subunitcolor\":\"white\",\"showland\":true,\"showlakes\":true,\"lakecolor\":\"white\"},\"title\":{\"x\":0.05},\"mapbox\":{\"style\":\"light\"}}},\"xaxis\":{\"anchor\":\"y\",\"domain\":[0.0,1.0],\"title\":{\"text\":\"Municipality\"},\"categoryorder\":\"array\",\"categoryarray\":[\"Municipality_40\",\"Municipality_14\",\"Municipality_23\",\"Municipality_38\",\"Municipality_26\",\"Municipality_9\",\"Municipality_4\",\"Municipality_11\",\"Municipality_20\",\"Municipality_6\"],\"tickangle\":-45},\"yaxis\":{\"anchor\":\"x\",\"domain\":[0.0,1.0],\"title\":{\"text\":\"Traffic Pollution Index\"}},\"legend\":{\"title\":{\"text\":\"Municipality\"},\"tracegroupgap\":0},\"title\":{\"text\":\"Top 10 Municipalities with Lowest Traffic Pollution\"},\"boxmode\":\"overlay\",\"font\":{\"size\":12},\"width\":600,\"height\":400,\"showlegend\":false},                        {\"responsive\": true}                    ).then(function(){\n",
       "                            \n",
       "var gd = document.getElementById('333d2015-3b00-4736-b5d8-62de069f44ff');\n",
       "var x = new MutationObserver(function (mutations, observer) {{\n",
       "        var display = window.getComputedStyle(gd).display;\n",
       "        if (!display || display === 'none') {{\n",
       "            console.log([gd, 'removed!']);\n",
       "            Plotly.purge(gd);\n",
       "            observer.disconnect();\n",
       "        }}\n",
       "}});\n",
       "\n",
       "// Listen for the removal of the full notebook cells\n",
       "var notebookContainer = gd.closest('#notebook-container');\n",
       "if (notebookContainer) {{\n",
       "    x.observe(notebookContainer, {childList: true});\n",
       "}}\n",
       "\n",
       "// Listen for the clearing of the current output cell\n",
       "var outputEl = gd.closest('.output');\n",
       "if (outputEl) {{\n",
       "    x.observe(outputEl, {childList: true});\n",
       "}}\n",
       "\n",
       "                        })                };                });            </script>        </div>"
      ]
     },
     "metadata": {},
     "output_type": "display_data"
    }
   ],
   "source": [
    "\n",
    "pollution_medians = mu.groupby(\"Municipality\")[\"Traffic_Pollution\"].median()\n",
    "\n",
    "top_10_max = pollution_medians.nlargest(10)\n",
    "top_10_min = pollution_medians.nsmallest(10)\n",
    "\n",
    "mu_top_max = mu[mu[\"Municipality\"].isin(top_10_max.index)]\n",
    "mu_top_min = mu[mu[\"Municipality\"].isin(top_10_min.index)]\n",
    "\n",
    "viridis_colors = px.colors.sequential.Viridis\n",
    "\n",
    "max_colors = {mun: viridis_colors[i] for i, mun in enumerate(top_10_max.index)}\n",
    "min_colors = {mun: viridis_colors[i] for i, mun in enumerate(top_10_min.index)}\n",
    "\n",
    "\n",
    "fig_max = px.box(mu_top_max, x=\"Municipality\", y=\"Traffic_Pollution\", color=\"Municipality\",\n",
    "                 title=\"Top 10 Municipalities with Highest Traffic Pollution\",\n",
    "                 category_orders={\"Municipality\": top_10_max.index})\n",
    "\n",
    "fig_min = px.box(mu_top_min, x=\"Municipality\", y=\"Traffic_Pollution\", color=\"Municipality\",\n",
    "                 title=\"Top 10 Municipalities with Lowest Traffic Pollution\",\n",
    "                 category_orders={\"Municipality\": top_10_min.index})\n",
    "\n",
    "# Apply manually assigned Viridis colors\n",
    "fig_max.for_each_trace(lambda t: t.update(marker=dict(color=max_colors[t.name])))\n",
    "fig_min.for_each_trace(lambda t: t.update(marker=dict(color=min_colors[t.name])))\n",
    "\n",
    "for fig in [fig_max, fig_min]:\n",
    "    fig.update_layout(\n",
    "        xaxis_title=\"Municipality\",\n",
    "        yaxis_title=\"Traffic Pollution Index\",\n",
    "        width=600, height=400,\n",
    "        xaxis_tickangle=-45,\n",
    "        font=dict(size=12),\n",
    "        showlegend=False  \n",
    "    )\n",
    "    fig.update_traces(marker=dict(opacity=0.8))  \n",
    "\n",
    "fig_max.show()\n",
    "fig_min.show()\n"
   ]
  }
 ],
 "metadata": {
  "kernelspec": {
   "display_name": "Python 3",
   "language": "python",
   "name": "python3"
  },
  "language_info": {
   "codemirror_mode": {
    "name": "ipython",
    "version": 3
   },
   "file_extension": ".py",
   "mimetype": "text/x-python",
   "name": "python",
   "nbconvert_exporter": "python",
   "pygments_lexer": "ipython3",
   "version": "3.12.1"
  }
 },
 "nbformat": 4,
 "nbformat_minor": 2
}
