{
 "cells": [
  {
   "cell_type": "markdown",
   "metadata": {},
   "source": [
    "# welcome \n"
   ]
  },
  {
   "cell_type": "markdown",
   "metadata": {},
   "source": [
    "### Data description \n",
    "### Main dataset: \n",
    "### This dataset informs the medical situation of individuals segregation the observations by municipality, serializing them and providing income data of each one of them. Also, it provides an specific score about overall health & the case of an specific condition."
   ]
  },
  {
   "cell_type": "markdown",
   "metadata": {},
   "source": [
    "reading the data set and taking how many null exist \n"
   ]
  },
  {
   "cell_type": "code",
   "execution_count": 1,
   "metadata": {},
   "outputs": [],
   "source": [
    "import pandas as pd \n",
    "import matplotlib.pyplot as plt\n",
    "import seaborn as sns\n",
    "\n",
    "url3 = r\"Main_Dataset.csv\"\n",
    "md = pd.read_csv(url3)\n",
    "url2 = r\"Sociodemographics Data.csv\"\n",
    "sd = pd.read_csv(url2)\n",
    "url1 = r\"Municipality Pollution Data.csv\"\n",
    "mu = pd.read_csv(url1)"
   ]
  },
  {
   "cell_type": "code",
   "execution_count": null,
   "metadata": {},
   "outputs": [],
   "source": [
    "filterd_values_md = md[md.isnull().any(axis=1)]\n",
    "filterd_values_sd = sd[sd.isnull().any(axis=1)]\n",
    "filterd_values_mu = mu[mu.isnull().any(axis=1)]"
   ]
  },
  {
   "cell_type": "markdown",
   "metadata": {},
   "source": [
    "Getting ride of the nule values in order to perform god plots\n",
    "- merged is a intermidate table \n",
    "- symmetric diff is the table without nule observations so we can develop better ploting \n",
    "- md is the base data set\n"
   ]
  },
  {
   "cell_type": "code",
   "execution_count": null,
   "metadata": {},
   "outputs": [],
   "source": [
    "\n",
    "# Perform FULL OUTER JOIN with indicator\n",
    "merged = md.merge(filterd_values_md, on=\"ID\", how=\"outer\", indicator=True)\n",
    "\n",
    "# Exclude intersection (i.e., rows present in both df1 and df2)\n",
    "symmetric_diff = merged[merged[\"_merge\"] != \"both\"].drop(columns=[\"_merge\"])\n",
    "symmetric_diff = symmetric_diff.drop(symmetric_diff.columns[12:23], axis=1)\n",
    "\n",
    "\n",
    "category_counts = symmetric_diff['Medical_Condition_x'].value_counts()\n",
    "category_counts = category_counts.loc[category_counts.index != \"Healthy\"]\n"
   ]
  },
  {
   "cell_type": "markdown",
   "metadata": {},
   "source": [
    "Creation of the plot\n"
   ]
  },
  {
   "cell_type": "code",
   "execution_count": null,
   "metadata": {},
   "outputs": [],
   "source": [
    "# Create bar plot\n",
    "plt.figure(figsize=(6, 4))\n",
    "sns.barplot(x=category_counts.index, y=category_counts.values, palette=\"viridis\")\n",
    "\n",
    "# Labels and title\n",
    "plt.xlabel(\"Category\")\n",
    "plt.ylabel(\"Frequency\")\n",
    "plt.title(\"Frequency of Medical Conditions \")\n",
    "plt.show()"
   ]
  },
  {
   "cell_type": "code",
   "execution_count": null,
   "metadata": {},
   "outputs": [],
   "source": [
    "md_filtered = md[md[\"Medical_Condition\"] != \"Healthy\"]\n",
    "sns.displot(x=md_filtered[\"Blood_Pressure\"], hue=md_filtered[\"Medical_Condition\"], col=md_filtered[\"Medical_Condition\"], col_wrap=3)\n",
    "plt.show()"
   ]
  },
  {
   "cell_type": "markdown",
   "metadata": {},
   "source": [
    "\n",
    "Estas combinaciones podrían ser particularmente útiles para identificar patrones de riesgo y correlaciones interesantes:  \n",
    "\n",
    "---\n",
    "\n",
    "### 1. **IMC > 30, Dieta poco saludable, No realiza actividad física**  \n",
    "- 💡 Podría revelar una conexión clara con **diabetes tipo 2**, **síndrome metabólico** y **enfermedades articulares**.  \n",
    "- **Idea:** Analizar si el sedentarismo y la dieta son los principales factores desencadenantes o si el IMC alto es el factor dominante.  \n",
    "\n",
    "---\n",
    "\n",
    "### 2. **Consumo excesivo de alcohol, Fumador, IMC > 25**  \n",
    "- 💡 La combinación de tabaquismo y alcohol podría aumentar el riesgo de **enfermedades hepáticas** y **cáncer**.  \n",
    "- **Idea:** Examinar si el consumo excesivo de alcohol o el tabaquismo tiene un impacto mayor en el desarrollo de cáncer.  \n",
    "\n",
    "---\n",
    "\n",
    "### 3. **Presión arterial alta, Fumador, Edad > 50**  \n",
    "- 💡 Este grupo podría tener un riesgo elevado de **accidentes cerebrovasculares** y **enfermedades renales crónicas**.  \n",
    "- **Idea:** Evaluar si la hipertensión o el tabaquismo tiene mayor influencia en la aparición de enfermedades renales.  \n",
    "\n",
    "---\n",
    "\n",
    "### 4. **Edad > 60, Consumo excesivo de alcohol, Enfermedades previas (como diabetes)**  \n",
    "- 💡 El deterioro de la salud asociado con la edad y enfermedades preexistentes podría aumentar el riesgo de **insuficiencia hepática** y **demencia**.  \n",
    "- **Idea:** Investigar si las enfermedades previas o el alcohol tienen un efecto mayor en el deterioro de la salud cognitiva.  \n",
    "\n",
    "---\n",
    "\n",
    "### 5. **IMC > 30, Fumador, Presión arterial alta, No realiza actividad física**  \n",
    "- 💡 Esta combinación podría relacionarse con **síndrome metabólico** y **enfermedades pulmonares** (como EPOC).  \n",
    "- **Idea:** Evaluar cuál de los factores (IMC, tabaquismo o presión arterial) contribuye más a la aparición de enfermedades pulmonares.  \n",
    "\n",
    "---\n",
    "\n",
    "### 6. **Sexo femenino, Edad > 50, Dieta poco saludable, IMC > 30**  \n",
    "- 💡 Las mujeres postmenopáusicas con sobrepeso y una dieta poco saludable podrían tener un mayor riesgo de **osteoporosis** y **cáncer de mama**.  \n",
    "- **Idea:** Examinar si la dieta o el IMC tiene un impacto más fuerte en la incidencia de cáncer o problemas óseos.  \n",
    "\n",
    "---\n",
    "\n",
    "### 7. **Presión arterial alta, Consumo de alcohol, Enfermedad previa (renal)**  \n",
    "- 💡 Las personas con hipertensión y enfermedad renal previa que consumen alcohol podrían experimentar un deterioro rápido de la función renal.  \n",
    "- **Idea:** Analizar si el alcohol o la hipertensión es el principal factor de deterioro renal.  \n",
    "\n",
    "---\n",
    "\n",
    "### 8. **Bajo puntaje de salud, Dieta poco saludable, No realiza actividad física**  \n",
    "- 💡 Un bajo puntaje de salud podría reflejar un comportamiento de riesgo que desencadena **síndrome metabólico**, **diabetes** y **depresión**.  \n",
    "- **Idea:** Evaluar si el puntaje de salud bajo refleja principalmente dieta y ejercicio o si hay otros factores psicosociales involucrados.  \n",
    "\n",
    "---"
   ]
  }
 ],
 "metadata": {
  "kernelspec": {
   "display_name": "Python 3",
   "language": "python",
   "name": "python3"
  },
  "language_info": {
   "codemirror_mode": {
    "name": "ipython",
    "version": 3
   },
   "file_extension": ".py",
   "mimetype": "text/x-python",
   "name": "python",
   "nbconvert_exporter": "python",
   "pygments_lexer": "ipython3",
   "version": "3.12.1"
  }
 },
 "nbformat": 4,
 "nbformat_minor": 2
}
