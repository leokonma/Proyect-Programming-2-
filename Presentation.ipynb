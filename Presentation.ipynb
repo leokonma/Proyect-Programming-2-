{
 "cells": [
  {
   "cell_type": "markdown",
   "metadata": {},
   "source": [
    "# welcome \n"
   ]
  },
  {
   "cell_type": "code",
   "execution_count": null,
   "metadata": {},
   "outputs": [],
   "source": [
    "import pandas as pd \n",
    "\n",
    "url1 = r\"Municipality Pollution Data.csv\"\n",
    "url2 = r\"Sociodemographics Data.csv\"\n",
    "url3 = r\"Main_Dataset.csv\"\n",
    "\n",
    "mu = pd.read_csv(url1)\n",
    "sd = pd.read_csv(url2)\n",
    "md = pd.read_csv(url3)\n",
    "\n"
   ]
  }
 ],
 "metadata": {
  "kernelspec": {
   "display_name": "Python 3",
   "language": "python",
   "name": "python3"
  },
  "language_info": {
   "codemirror_mode": {
    "name": "ipython",
    "version": 3
   },
   "file_extension": ".py",
   "mimetype": "text/x-python",
   "name": "python",
   "nbconvert_exporter": "python",
   "pygments_lexer": "ipython3",
   "version": "3.12.1"
  }
 },
 "nbformat": 4,
 "nbformat_minor": 2
}
