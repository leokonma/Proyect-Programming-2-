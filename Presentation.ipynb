{
 "cells": [
  {
   "cell_type": "markdown",
   "metadata": {},
   "source": [
    "# welcome \n"
   ]
  },
  {
   "cell_type": "markdown",
   "metadata": {},
   "source": [
    "### Data description \n",
    "### Main dataset: \n",
    "### This dataset informs the medical situation of individuals segregation the observations by municipality, serializing them and providing income data of each one of them. Also, it provides an specific score about overall health & the case of an specific condition."
   ]
  },
  {
   "cell_type": "markdown",
   "metadata": {},
   "source": [
    "reading the data set and taking how many null exist \n"
   ]
  },
  {
   "cell_type": "code",
   "execution_count": null,
   "metadata": {},
   "outputs": [],
   "source": [
    "import pandas as pd \n",
    "import matplotlib.pyplot as plt\n",
    "import seaborn as sns\n",
    "\n",
    "url3 = r\"Main_Dataset.csv\"\n",
    "md = pd.read_csv(url3)\n",
    "url2 = r\"Sociodemographics Data.csv\"\n",
    "sd = pd.read_csv(url2)\n",
    "url1 = r\"Municipality Pollution Data.csv\"\n",
    "mu = pd.read_csv(url1)"
   ]
  },
  {
   "cell_type": "code",
   "execution_count": null,
   "metadata": {},
   "outputs": [],
   "source": [
    "filterd_values_md = md[md.isnull().any(axis=1)]\n",
    "filterd_values_sd = sd[sd.isnull().any(axis=1)]\n",
    "filterd_values_mu = mu[mu.isnull().any(axis=1)]"
   ]
  },
  {
   "cell_type": "markdown",
   "metadata": {},
   "source": [
    "Getting ride of the nule values in order to perform god plots\n",
    "- merged is a intermidate table \n",
    "- symmetric diff is the table without nule observations so we can develop better ploting \n",
    "- md is the base data set\n"
   ]
  },
  {
   "cell_type": "code",
   "execution_count": null,
   "metadata": {},
   "outputs": [],
   "source": [
    "\n",
    "# Perform FULL OUTER JOIN with indicator\n",
    "merged = md.merge(filterd_values_md, on=\"ID\", how=\"outer\", indicator=True)\n",
    "\n",
    "# Exclude intersection (i.e., rows present in both df1 and df2)\n",
    "symmetric_diff = merged[merged[\"_merge\"] != \"both\"].drop(columns=[\"_merge\"])\n",
    "symmetric_diff = symmetric_diff.drop(symmetric_diff.columns[12:23], axis=1)\n",
    "\n",
    "\n",
    "category_counts = symmetric_diff['Medical_Condition_x'].value_counts()\n",
    "category_counts = category_counts.loc[category_counts.index != \"Healthy\"]\n"
   ]
  },
  {
   "cell_type": "markdown",
   "metadata": {},
   "source": [
    "Creation of the plot\n"
   ]
  },
  {
   "cell_type": "code",
   "execution_count": null,
   "metadata": {},
   "outputs": [],
   "source": [
    "# Create bar plot\n",
    "plt.figure(figsize=(6, 4))\n",
    "sns.barplot(x=category_counts.index, y=category_counts.values, palette=\"viridis\")\n",
    "\n",
    "# Labels and title\n",
    "plt.xlabel(\"Category\")\n",
    "plt.ylabel(\"Frequency\")\n",
    "plt.title(\"Frequency of Medical Conditions \")\n",
    "plt.show()"
   ]
  },
  {
   "cell_type": "code",
   "execution_count": null,
   "metadata": {},
   "outputs": [],
   "source": [
    "md_filtered = md[md[\"Medical_Condition\"] != \"Healthy\"]\n",
    "sns.displot(x=md_filtered[\"Blood_Pressure\"], hue=md_filtered[\"Medical_Condition\"], col=md_filtered[\"Medical_Condition\"], col_wrap=3)\n",
    "plt.show()"
   ]
  },
  {
   "cell_type": "markdown",
   "metadata": {},
   "source": [
    "ANALYSIS IDEAS \n",
    "\n",
    "Aquí tienes algunas combinaciones de variables que podrían ser de interés para analizar agentes de riesgo para enfermedades como los accidentes cardiovasculares:\n",
    "\n",
    "### 1. **IMC > 25, Edad > 40, Fumador**\n",
    "   - Las personas con un IMC mayor a 25 (sobrepeso) y mayores de 40 años, especialmente si son fumadores, tienen un riesgo más alto de enfermedades cardiovasculares.\n",
    "\n",
    "### 2. **Presión arterial alta, Fumador, Consumo de alcohol**\n",
    "   - El consumo de alcohol, combinado con fumar y tener presión arterial alta, puede aumentar significativamente el riesgo de problemas cardiovasculares.\n",
    "\n",
    "### 3. **IMC > 30, No realiza actividad física, Dieta poco saludable**\n",
    "   - El sobrepeso (IMC > 30) combinado con la falta de actividad física y una dieta no saludable es una combinación clásica de factores de riesgo para enfermedades crónicas, incluida la enfermedad cardiovascular.\n",
    "\n",
    "### 4. **Edad > 60, IMC > 25, Fumador, No realiza actividad física**\n",
    "   - Las personas mayores de 60 años con sobrepeso, que fuman y no realizan actividad física, pueden ser particularmente vulnerables a enfermedades cardiovasculares y otros problemas de salud graves.\n",
    "\n",
    "### 5. **Enfermedades previas (cardiovasculares, diabetes, etc.), IMC > 25, Edad > 45**\n",
    "   - Las personas con antecedentes de enfermedades cardiovasculares y/o diabetes, combinados con un IMC alto y mayor de 45 años, podrían estar en una categoría de alto riesgo para complicaciones.\n",
    "\n",
    "### 6. **Bajo puntaje de salud, No realiza actividad física, Dieta no saludable**\n",
    "   - Un bajo puntaje de salud (indicando un estilo de vida poco saludable) combinado con la falta de ejercicio y una dieta poco saludable puede ser un buen indicador de riesgo.\n",
    "\n",
    "### 7. **Fumador, Edad > 50, IMC > 30, Alta presión arterial**\n",
    "   - Este grupo de personas podría ser muy propenso a desarrollar enfermedades cardiovasculares debido a la combinación de estos factores.\n",
    "\n",
    "### 8. **Edad > 50, Consumo excesivo de alcohol, Bajo puntaje de salud**\n",
    "   - El consumo excesivo de alcohol y la edad avanzada, especialmente cuando se combinan con un puntaje de salud bajo, pueden ser factores que aumentan el riesgo de enfermedades como ataques al corazón o accidentes cerebrovasculares.\n",
    "\n",
    "### 9. **Edad > 60, IMC > 30, Presión arterial alta**\n",
    "   - Las personas mayores de 60 años con obesidad y presión arterial alta tienen un riesgo considerablemente alto de enfermedades cardiovasculares.\n",
    "\n",
    "### 10. **Sexo masculino, IMC > 25, No realiza actividad física, Fumador**\n",
    "   - Los hombres que fuman, tienen sobrepeso y no hacen ejercicio también son más propensos a sufrir de enfermedades del corazón.\n",
    "\n",
    "### Análisis:\n",
    "Podrías hacer un conteo de las combinaciones más comunes de estas características en tu dataset para identificar cuántas personas tienen varios de estos factores simultáneamente y evaluar el riesgo asociado. Este tipo de análisis puede ayudarte a detectar patrones y comportamientos de riesgo más prevalentes en tu población."
   ]
  }
 ],
 "metadata": {
  "kernelspec": {
   "display_name": "Python 3",
   "language": "python",
   "name": "python3"
  },
  "language_info": {
   "codemirror_mode": {
    "name": "ipython",
    "version": 3
   },
   "file_extension": ".py",
   "mimetype": "text/x-python",
   "name": "python",
   "nbconvert_exporter": "python",
   "pygments_lexer": "ipython3",
   "version": "3.12.1"
  }
 },
 "nbformat": 4,
 "nbformat_minor": 2
}
