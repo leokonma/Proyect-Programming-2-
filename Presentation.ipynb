{
 "cells": [
  {
   "cell_type": "markdown",
   "metadata": {},
   "source": [
    "# welcome \n"
   ]
  },
  {
   "cell_type": "markdown",
   "metadata": {},
   "source": [
    "### Data description \n",
    "### Main dataset: \n",
    "### This dataset informs the medical situation of individuals segregation the observations by municipality, serializing them and providing income data of each one of them. Also, it provides an specific score about overall health & the case of an specific condition."
   ]
  },
  {
   "cell_type": "code",
   "execution_count": null,
   "metadata": {},
   "outputs": [],
   "source": [
    "import pandas as pd \n",
    "import matplotlib.pyplot as plt\n",
    "import seaborn as sns\n",
    "import plotly.express as px\n",
    "\n",
    "url3 = r\"Main_Dataset.csv\"\n",
    "md = pd.read_csv(url3)\n",
    "url2 = r\"Sociodemographics Data.csv\"\n",
    "sd = pd.read_csv(url2)\n",
    "url1 = r\"Municipality Pollution Data.csv\"\n",
    "mu = pd.read_csv(url1)"
   ]
  },
  {
   "cell_type": "code",
   "execution_count": null,
   "metadata": {},
   "outputs": [],
   "source": [
    "filterd_values_md = md[md.isnull().any(axis=1)]\n",
    "filterd_values_sd = sd[sd.isnull().any(axis=1)]\n",
    "filterd_values_mu = mu[mu.isnull().any(axis=1)]"
   ]
  },
  {
   "cell_type": "code",
   "execution_count": 47,
   "metadata": {},
   "outputs": [
    {
     "data": {
      "application/vnd.plotly.v1+json": {
       "config": {
        "plotlyServerURL": "https://plot.ly"
       },
       "data": [
        {
         "customdata": [
          [
           0,
           0,
           "Medium",
           "Poor"
          ],
          [
           1,
           1,
           "Low",
           "Good"
          ],
          [
           1,
           0,
           "High",
           "Poor"
          ],
          [
           0,
           0,
           "Low",
           "Average"
          ],
          [
           1,
           1,
           "Low",
           "Good"
          ],
          [
           0,
           0,
           "Low",
           "Good"
          ],
          [
           1,
           0,
           "High",
           "Average"
          ],
          [
           1,
           0,
           "Medium",
           "Poor"
          ],
          [
           1,
           0,
           "Medium",
           "Average"
          ],
          [
           0,
           0,
           "Low",
           "Poor"
          ],
          [
           0,
           0,
           "Medium",
           "Poor"
          ],
          [
           1,
           0,
           "Medium",
           "Good"
          ],
          [
           1,
           0,
           "Low",
           "Poor"
          ],
          [
           1,
           1,
           "Medium",
           "Poor"
          ],
          [
           1,
           1,
           "Low",
           "Average"
          ],
          [
           0,
           0,
           "Medium",
           "Average"
          ],
          [
           1,
           0,
           "Low",
           "Poor"
          ],
          [
           0,
           0,
           "Low",
           "Poor"
          ],
          [
           0,
           1,
           "Medium",
           "Poor"
          ],
          [
           1,
           0,
           "Medium",
           "Average"
          ],
          [
           0,
           1,
           "Medium",
           "Good"
          ],
          [
           0,
           0,
           "Low",
           "Poor"
          ],
          [
           1,
           0,
           "Medium",
           "Good"
          ],
          [
           1,
           1,
           "High",
           "Average"
          ],
          [
           1,
           0,
           "Low",
           "Average"
          ],
          [
           0,
           0,
           "Low",
           "Average"
          ],
          [
           0,
           0,
           "High",
           "Average"
          ],
          [
           0,
           0,
           "Medium",
           "Poor"
          ],
          [
           0,
           0,
           "Medium",
           "Poor"
          ],
          [
           0,
           1,
           "High",
           "Good"
          ],
          [
           0,
           0,
           "Low",
           "Average"
          ],
          [
           0,
           0,
           "Low",
           "Average"
          ],
          [
           0,
           0,
           "Low",
           "Poor"
          ],
          [
           0,
           0,
           "Low",
           "Average"
          ],
          [
           0,
           0,
           "High",
           "Average"
          ],
          [
           0,
           0,
           "Medium",
           "Good"
          ],
          [
           1,
           0,
           "Low",
           "Poor"
          ],
          [
           0,
           1,
           "High",
           "Poor"
          ],
          [
           1,
           0,
           "Medium",
           "Average"
          ],
          [
           1,
           1,
           "Low",
           "Poor"
          ],
          [
           0,
           0,
           "Medium",
           "Poor"
          ],
          [
           1,
           0,
           "Medium",
           "Poor"
          ],
          [
           1,
           0,
           "Low",
           "Poor"
          ],
          [
           0,
           1,
           "High",
           "Good"
          ],
          [
           0,
           0,
           "Medium",
           "Average"
          ],
          [
           0,
           0,
           "Low",
           "Average"
          ],
          [
           0,
           0,
           "Low",
           "Poor"
          ],
          [
           0,
           0,
           "Medium",
           "Good"
          ],
          [
           1,
           0,
           "Medium",
           "Poor"
          ],
          [
           1,
           1,
           "Low",
           "Poor"
          ],
          [
           0,
           0,
           "Low",
           "Poor"
          ],
          [
           0,
           0,
           "Medium",
           "Good"
          ],
          [
           0,
           0,
           "Medium",
           "Poor"
          ],
          [
           1,
           1,
           "Medium",
           "Good"
          ],
          [
           0,
           0,
           "Low",
           "Good"
          ],
          [
           0,
           0,
           "Low",
           "Poor"
          ],
          [
           0,
           0,
           "Medium",
           "Good"
          ],
          [
           0,
           0,
           "High",
           "Average"
          ],
          [
           0,
           0,
           "Medium",
           "Average"
          ],
          [
           1,
           0,
           "Medium",
           "Poor"
          ],
          [
           0,
           1,
           "Medium",
           "Poor"
          ],
          [
           0,
           0,
           "Low",
           "Poor"
          ],
          [
           0,
           1,
           "Low",
           "Average"
          ],
          [
           1,
           0,
           "Medium",
           "Average"
          ],
          [
           1,
           1,
           "High",
           "Average"
          ],
          [
           1,
           0,
           "High",
           "Average"
          ],
          [
           0,
           1,
           "Low",
           "Poor"
          ],
          [
           1,
           0,
           "Medium",
           "Poor"
          ],
          [
           0,
           1,
           "Low",
           "Poor"
          ],
          [
           0,
           0,
           "Low",
           "Good"
          ],
          [
           1,
           0,
           "Medium",
           "Poor"
          ],
          [
           1,
           1,
           "Low",
           "Average"
          ],
          [
           0,
           0,
           "High",
           "Good"
          ],
          [
           0,
           1,
           "Low",
           "Poor"
          ],
          [
           1,
           0,
           "Medium",
           "Good"
          ],
          [
           1,
           0,
           "Low",
           "Poor"
          ],
          [
           1,
           0,
           "Low",
           "Good"
          ],
          [
           0,
           0,
           "Medium",
           "Good"
          ],
          [
           0,
           0,
           "Medium",
           "Poor"
          ],
          [
           0,
           0,
           "Low",
           "Poor"
          ],
          [
           0,
           0,
           "Medium",
           "Poor"
          ],
          [
           1,
           0,
           "Medium",
           "Average"
          ],
          [
           0,
           1,
           "Medium",
           "Average"
          ],
          [
           0,
           0,
           "Low",
           "Average"
          ],
          [
           0,
           0,
           "Low",
           "Poor"
          ],
          [
           0,
           0,
           "Medium",
           "Average"
          ],
          [
           0,
           0,
           "Low",
           "Good"
          ],
          [
           0,
           1,
           "Low",
           "Average"
          ],
          [
           0,
           1,
           "Medium",
           "Good"
          ],
          [
           1,
           1,
           "High",
           "Poor"
          ],
          [
           0,
           0,
           "Low",
           "Average"
          ],
          [
           0,
           0,
           "High",
           "Poor"
          ],
          [
           0,
           0,
           "Medium",
           "Good"
          ]
         ],
         "hovertemplate": "Medical_Condition=Healthy<br>Overall_Health_Score=%{x}<br>Blood_Pressure=%{y}<br>BMI=%{z}<br>Alcohol_Consumer=%{customdata[0]}<br>Smoker=%{customdata[1]}<br>Physical_Activity=%{customdata[2]}<br>Diet_Quality=%{customdata[3]}<extra></extra>",
         "legendgroup": "Healthy",
         "marker": {
          "color": "#636efa",
          "opacity": 0.7,
          "symbol": "circle"
         },
         "mode": "markers",
         "name": "Healthy",
         "scene": "scene",
         "showlegend": true,
         "type": "scatter3d",
         "x": [
          91.3,
          95.1,
          84.2,
          73.15,
          85.95,
          100,
          90.9,
          86.35,
          86.95,
          95.35,
          88.55,
          77.9,
          90,
          72.2,
          100,
          84.55,
          83.75,
          100,
          81,
          84.4,
          64.7,
          100,
          90.8,
          98.55,
          87.85,
          96.7,
          94,
          84.1,
          82.55,
          90.9,
          100,
          100,
          71.3,
          100,
          74.15,
          73.5,
          65.75,
          89,
          92.65,
          86.55,
          91.6,
          89.4,
          100,
          97.1,
          100,
          70.65,
          100,
          85.5,
          88,
          76.2,
          94.05,
          100,
          100,
          99.55,
          78.65,
          75.5,
          86.8,
          100,
          100,
          100,
          79.1,
          79.5,
          89.8,
          92.95,
          72.55,
          88.35,
          60.85,
          95.3,
          100,
          69.55,
          67.85,
          93.65,
          79.6,
          57.4,
          78.6,
          100,
          68.8,
          100,
          89.15,
          100,
          100,
          78.3,
          93.75,
          63.8,
          79.55,
          85.95,
          84.75,
          95.05,
          93.35,
          92.4,
          90.65,
          99.2,
          98.5
         ],
         "y": [
          135.7,
          123.6,
          134.1,
          136.7,
          161.3,
          113.9,
          140.6,
          131.4,
          117.9,
          118.3,
          127.3,
          132.2,
          129,
          145.5,
          116.7,
          129.9,
          139.5,
          107.1,
          142.1,
          133.8,
          159.4,
          114,
          123.1,
          125,
          137.7,
          126.6,
          134.8,
          151.1,
          141.6,
          131,
          126.1,
          105.2,
          150.7,
          129.2,
          145.6,
          162.1,
          158.6,
          131.5,
          145.3,
          132.5,
          129.9,
          124.2,
          122.6,
          122.7,
          115.1,
          152.5,
          100,
          141.1,
          149.4,
          136.8,
          128.7,
          106.9,
          110.3,
          129.8,
          153.7,
          163,
          152.3,
          134.5,
          120.1,
          108.6,
          132.9,
          143.6,
          146.8,
          129.1,
          146.9,
          148.1,
          147.4,
          144.1,
          116.3,
          146.5,
          153.8,
          115.3,
          134.3,
          162,
          150.2,
          121.5,
          125.7,
          118.4,
          139.3,
          105.7,
          114.3,
          137.3,
          null,
          149.7,
          null,
          147.3,
          131.2,
          136.5,
          103.2,
          130.1,
          129.5,
          138.2,
          122.5
         ],
         "z": [
          21.3,
          23.6,
          28.5,
          32.6,
          15,
          18.3,
          19.2,
          27.3,
          31.4,
          26,
          25.6,
          33.6,
          26,
          31.1,
          22.5,
          29.6,
          25,
          26.3,
          26.9,
          28,
          30.8,
          19.6,
          27.1,
          21.7,
          22.2,
          23.2,
          20.6,
          19.7,
          null,
          24.6,
          15,
          18.8,
          29.9,
          17.3,
          29.5,
          null,
          29.3,
          27.1,
          19,
          25.6,
          24.3,
          29.2,
          21.9,
          23.3,
          23.8,
          30.2,
          20.8,
          22.5,
          19.6,
          30.8,
          23.6,
          25,
          23,
          18.3,
          22.2,
          21.6,
          17.5,
          15.9,
          21.3,
          15,
          31.3,
          27.4,
          17.4,
          23.8,
          29.4,
          19.2,
          36.7,
          16.9,
          23.2,
          32.6,
          29.5,
          27.8,
          31.3,
          35.4,
          24,
          15,
          41.1,
          21,
          22,
          21.1,
          24.3,
          31.1,
          22.5,
          35.7,
          24.8,
          20.6,
          28.1,
          19.6,
          33.5,
          23.3,
          25.8,
          15.4,
          22.9
         ]
        },
        {
         "customdata": [
          [
           0,
           0,
           "Medium",
           "Good"
          ],
          [
           0,
           0,
           "Low",
           "Good"
          ],
          [
           0,
           1,
           "Medium",
           "Poor"
          ],
          [
           1,
           0,
           "Medium",
           "Good"
          ],
          [
           0,
           1,
           "Low",
           "Good"
          ],
          [
           1,
           0,
           "Medium",
           "Average"
          ],
          [
           1,
           0,
           "Low",
           "Good"
          ],
          [
           1,
           1,
           "Low",
           "Poor"
          ],
          [
           1,
           0,
           "Low",
           "Average"
          ],
          [
           0,
           0,
           "Medium",
           "Poor"
          ],
          [
           0,
           0,
           "Medium",
           "Average"
          ],
          [
           1,
           0,
           "Low",
           "Poor"
          ]
         ],
         "hovertemplate": "Medical_Condition=Hypertension<br>Overall_Health_Score=%{x}<br>Blood_Pressure=%{y}<br>BMI=%{z}<br>Alcohol_Consumer=%{customdata[0]}<br>Smoker=%{customdata[1]}<br>Physical_Activity=%{customdata[2]}<br>Diet_Quality=%{customdata[3]}<extra></extra>",
         "legendgroup": "Hypertension",
         "marker": {
          "color": "#EF553B",
          "opacity": 0.7,
          "symbol": "circle"
         },
         "mode": "markers",
         "name": "Hypertension",
         "scene": "scene",
         "showlegend": true,
         "type": "scatter3d",
         "x": [
          77.95,
          89.3,
          73,
          78.2,
          100,
          null,
          83.5,
          72.75,
          76.85,
          87.55,
          87.65,
          82.85
         ],
         "y": [
          null,
          147.5,
          146.6,
          151,
          127,
          151.8,
          128.2,
          156.6,
          147.9,
          140.3,
          145.9,
          151.1
         ],
         "z": [
          30.6,
          17.3,
          29.2,
          23.8,
          18.5,
          26.9,
          28.8,
          25.3,
          26,
          22.2,
          18.8,
          21.2
         ]
        },
        {
         "customdata": [
          [
           1,
           0,
           "Low",
           "Good"
          ],
          [
           1,
           0,
           "High",
           "Average"
          ],
          [
           0,
           1,
           "High",
           "Average"
          ],
          [
           1,
           0,
           "Medium",
           "Poor"
          ],
          [
           1,
           0,
           "Medium",
           "Average"
          ],
          [
           0,
           1,
           "Low",
           "Poor"
          ],
          [
           0,
           1,
           "Low",
           "Good"
          ],
          [
           1,
           0,
           "Medium",
           "Poor"
          ],
          [
           1,
           0,
           "High",
           "Poor"
          ],
          [
           1,
           1,
           "Medium",
           "Average"
          ],
          [
           1,
           1,
           "High",
           "Poor"
          ],
          [
           1,
           0,
           "High",
           "Average"
          ]
         ],
         "hovertemplate": "Medical_Condition=Cancer<br>Overall_Health_Score=%{x}<br>Blood_Pressure=%{y}<br>BMI=%{z}<br>Alcohol_Consumer=%{customdata[0]}<br>Smoker=%{customdata[1]}<br>Physical_Activity=%{customdata[2]}<br>Diet_Quality=%{customdata[3]}<extra></extra>",
         "legendgroup": "Cancer",
         "marker": {
          "color": "#00cc96",
          "opacity": 0.7,
          "symbol": "circle"
         },
         "mode": "markers",
         "name": "Cancer",
         "scene": "scene",
         "showlegend": true,
         "type": "scatter3d",
         "x": [
          100,
          92.15,
          87.3,
          95,
          96.1,
          90.1,
          100,
          88.6,
          99,
          98.5,
          100,
          95
         ],
         "y": [
          116.6,
          125.2,
          136.9,
          107.6,
          133.9,
          132,
          124.5,
          127.7,
          121.5,
          127.7,
          104.3,
          125.9
         ],
         "z": [
          15,
          25.9,
          24.5,
          30.8,
          21.3,
          24.6,
          15,
          27.5,
          21.5,
          20.5,
          15.3,
          24.1
         ]
        },
        {
         "customdata": [
          [
           0,
           0,
           "Medium",
           "Poor"
          ],
          [
           0,
           0,
           "High",
           "Good"
          ],
          [
           0,
           0,
           "Low",
           "Average"
          ],
          [
           0,
           0,
           "Medium",
           "Poor"
          ],
          [
           0,
           0,
           "Medium",
           "Average"
          ]
         ],
         "hovertemplate": "Medical_Condition=Diabetes<br>Overall_Health_Score=%{x}<br>Blood_Pressure=%{y}<br>BMI=%{z}<br>Alcohol_Consumer=%{customdata[0]}<br>Smoker=%{customdata[1]}<br>Physical_Activity=%{customdata[2]}<br>Diet_Quality=%{customdata[3]}<extra></extra>",
         "legendgroup": "Diabetes",
         "marker": {
          "color": "#ab63fa",
          "opacity": 0.7,
          "symbol": "circle"
         },
         "mode": "markers",
         "name": "Diabetes",
         "scene": "scene",
         "showlegend": true,
         "type": "scatter3d",
         "x": [
          96.85,
          97.65,
          100,
          94.6,
          96.85
         ],
         "y": [
          135.8,
          115.8,
          114.9,
          123.1,
          110.7
         ],
         "z": [
          19.1,
          25.1,
          19.7,
          24.7,
          26.8
         ]
        },
        {
         "customdata": [
          [
           0,
           1,
           "Low",
           "Good"
          ]
         ],
         "hovertemplate": "Medical_Condition=Obesity<br>Overall_Health_Score=%{x}<br>Blood_Pressure=%{y}<br>BMI=%{z}<br>Alcohol_Consumer=%{customdata[0]}<br>Smoker=%{customdata[1]}<br>Physical_Activity=%{customdata[2]}<br>Diet_Quality=%{customdata[3]}<extra></extra>",
         "legendgroup": "Obesity",
         "marker": {
          "color": "#19d3f3",
          "opacity": 0.7,
          "symbol": "circle"
         },
         "mode": "markers",
         "name": "Obesity",
         "scene": "scene",
         "showlegend": true,
         "type": "scatter3d",
         "x": [
          73.6
         ],
         "y": [
          146.4
         ],
         "z": [
          30.6
         ]
        }
       ],
       "layout": {
        "legend": {
         "title": {
          "text": "Medical_Condition"
         },
         "tracegroupgap": 0
        },
        "margin": {
         "t": 60
        },
        "scene": {
         "camera": {
          "eye": {
           "x": 1.5,
           "y": 1.5,
           "z": 0.8
          }
         },
         "domain": {
          "x": [
           0,
           1
          ],
          "y": [
           0,
           1
          ]
         },
         "xaxis": {
          "title": {
           "text": "Health Score"
          }
         },
         "yaxis": {
          "title": {
           "text": "Blood Pressure"
          }
         },
         "zaxis": {
          "title": {
           "text": "BMI"
          }
         }
        },
        "template": {
         "data": {
          "bar": [
           {
            "error_x": {
             "color": "#2a3f5f"
            },
            "error_y": {
             "color": "#2a3f5f"
            },
            "marker": {
             "line": {
              "color": "#E5ECF6",
              "width": 0.5
             },
             "pattern": {
              "fillmode": "overlay",
              "size": 10,
              "solidity": 0.2
             }
            },
            "type": "bar"
           }
          ],
          "barpolar": [
           {
            "marker": {
             "line": {
              "color": "#E5ECF6",
              "width": 0.5
             },
             "pattern": {
              "fillmode": "overlay",
              "size": 10,
              "solidity": 0.2
             }
            },
            "type": "barpolar"
           }
          ],
          "carpet": [
           {
            "aaxis": {
             "endlinecolor": "#2a3f5f",
             "gridcolor": "white",
             "linecolor": "white",
             "minorgridcolor": "white",
             "startlinecolor": "#2a3f5f"
            },
            "baxis": {
             "endlinecolor": "#2a3f5f",
             "gridcolor": "white",
             "linecolor": "white",
             "minorgridcolor": "white",
             "startlinecolor": "#2a3f5f"
            },
            "type": "carpet"
           }
          ],
          "choropleth": [
           {
            "colorbar": {
             "outlinewidth": 0,
             "ticks": ""
            },
            "type": "choropleth"
           }
          ],
          "contour": [
           {
            "colorbar": {
             "outlinewidth": 0,
             "ticks": ""
            },
            "colorscale": [
             [
              0,
              "#0d0887"
             ],
             [
              0.1111111111111111,
              "#46039f"
             ],
             [
              0.2222222222222222,
              "#7201a8"
             ],
             [
              0.3333333333333333,
              "#9c179e"
             ],
             [
              0.4444444444444444,
              "#bd3786"
             ],
             [
              0.5555555555555556,
              "#d8576b"
             ],
             [
              0.6666666666666666,
              "#ed7953"
             ],
             [
              0.7777777777777778,
              "#fb9f3a"
             ],
             [
              0.8888888888888888,
              "#fdca26"
             ],
             [
              1,
              "#f0f921"
             ]
            ],
            "type": "contour"
           }
          ],
          "contourcarpet": [
           {
            "colorbar": {
             "outlinewidth": 0,
             "ticks": ""
            },
            "type": "contourcarpet"
           }
          ],
          "heatmap": [
           {
            "colorbar": {
             "outlinewidth": 0,
             "ticks": ""
            },
            "colorscale": [
             [
              0,
              "#0d0887"
             ],
             [
              0.1111111111111111,
              "#46039f"
             ],
             [
              0.2222222222222222,
              "#7201a8"
             ],
             [
              0.3333333333333333,
              "#9c179e"
             ],
             [
              0.4444444444444444,
              "#bd3786"
             ],
             [
              0.5555555555555556,
              "#d8576b"
             ],
             [
              0.6666666666666666,
              "#ed7953"
             ],
             [
              0.7777777777777778,
              "#fb9f3a"
             ],
             [
              0.8888888888888888,
              "#fdca26"
             ],
             [
              1,
              "#f0f921"
             ]
            ],
            "type": "heatmap"
           }
          ],
          "heatmapgl": [
           {
            "colorbar": {
             "outlinewidth": 0,
             "ticks": ""
            },
            "colorscale": [
             [
              0,
              "#0d0887"
             ],
             [
              0.1111111111111111,
              "#46039f"
             ],
             [
              0.2222222222222222,
              "#7201a8"
             ],
             [
              0.3333333333333333,
              "#9c179e"
             ],
             [
              0.4444444444444444,
              "#bd3786"
             ],
             [
              0.5555555555555556,
              "#d8576b"
             ],
             [
              0.6666666666666666,
              "#ed7953"
             ],
             [
              0.7777777777777778,
              "#fb9f3a"
             ],
             [
              0.8888888888888888,
              "#fdca26"
             ],
             [
              1,
              "#f0f921"
             ]
            ],
            "type": "heatmapgl"
           }
          ],
          "histogram": [
           {
            "marker": {
             "pattern": {
              "fillmode": "overlay",
              "size": 10,
              "solidity": 0.2
             }
            },
            "type": "histogram"
           }
          ],
          "histogram2d": [
           {
            "colorbar": {
             "outlinewidth": 0,
             "ticks": ""
            },
            "colorscale": [
             [
              0,
              "#0d0887"
             ],
             [
              0.1111111111111111,
              "#46039f"
             ],
             [
              0.2222222222222222,
              "#7201a8"
             ],
             [
              0.3333333333333333,
              "#9c179e"
             ],
             [
              0.4444444444444444,
              "#bd3786"
             ],
             [
              0.5555555555555556,
              "#d8576b"
             ],
             [
              0.6666666666666666,
              "#ed7953"
             ],
             [
              0.7777777777777778,
              "#fb9f3a"
             ],
             [
              0.8888888888888888,
              "#fdca26"
             ],
             [
              1,
              "#f0f921"
             ]
            ],
            "type": "histogram2d"
           }
          ],
          "histogram2dcontour": [
           {
            "colorbar": {
             "outlinewidth": 0,
             "ticks": ""
            },
            "colorscale": [
             [
              0,
              "#0d0887"
             ],
             [
              0.1111111111111111,
              "#46039f"
             ],
             [
              0.2222222222222222,
              "#7201a8"
             ],
             [
              0.3333333333333333,
              "#9c179e"
             ],
             [
              0.4444444444444444,
              "#bd3786"
             ],
             [
              0.5555555555555556,
              "#d8576b"
             ],
             [
              0.6666666666666666,
              "#ed7953"
             ],
             [
              0.7777777777777778,
              "#fb9f3a"
             ],
             [
              0.8888888888888888,
              "#fdca26"
             ],
             [
              1,
              "#f0f921"
             ]
            ],
            "type": "histogram2dcontour"
           }
          ],
          "mesh3d": [
           {
            "colorbar": {
             "outlinewidth": 0,
             "ticks": ""
            },
            "type": "mesh3d"
           }
          ],
          "parcoords": [
           {
            "line": {
             "colorbar": {
              "outlinewidth": 0,
              "ticks": ""
             }
            },
            "type": "parcoords"
           }
          ],
          "pie": [
           {
            "automargin": true,
            "type": "pie"
           }
          ],
          "scatter": [
           {
            "fillpattern": {
             "fillmode": "overlay",
             "size": 10,
             "solidity": 0.2
            },
            "type": "scatter"
           }
          ],
          "scatter3d": [
           {
            "line": {
             "colorbar": {
              "outlinewidth": 0,
              "ticks": ""
             }
            },
            "marker": {
             "colorbar": {
              "outlinewidth": 0,
              "ticks": ""
             }
            },
            "type": "scatter3d"
           }
          ],
          "scattercarpet": [
           {
            "marker": {
             "colorbar": {
              "outlinewidth": 0,
              "ticks": ""
             }
            },
            "type": "scattercarpet"
           }
          ],
          "scattergeo": [
           {
            "marker": {
             "colorbar": {
              "outlinewidth": 0,
              "ticks": ""
             }
            },
            "type": "scattergeo"
           }
          ],
          "scattergl": [
           {
            "marker": {
             "colorbar": {
              "outlinewidth": 0,
              "ticks": ""
             }
            },
            "type": "scattergl"
           }
          ],
          "scattermapbox": [
           {
            "marker": {
             "colorbar": {
              "outlinewidth": 0,
              "ticks": ""
             }
            },
            "type": "scattermapbox"
           }
          ],
          "scatterpolar": [
           {
            "marker": {
             "colorbar": {
              "outlinewidth": 0,
              "ticks": ""
             }
            },
            "type": "scatterpolar"
           }
          ],
          "scatterpolargl": [
           {
            "marker": {
             "colorbar": {
              "outlinewidth": 0,
              "ticks": ""
             }
            },
            "type": "scatterpolargl"
           }
          ],
          "scatterternary": [
           {
            "marker": {
             "colorbar": {
              "outlinewidth": 0,
              "ticks": ""
             }
            },
            "type": "scatterternary"
           }
          ],
          "surface": [
           {
            "colorbar": {
             "outlinewidth": 0,
             "ticks": ""
            },
            "colorscale": [
             [
              0,
              "#0d0887"
             ],
             [
              0.1111111111111111,
              "#46039f"
             ],
             [
              0.2222222222222222,
              "#7201a8"
             ],
             [
              0.3333333333333333,
              "#9c179e"
             ],
             [
              0.4444444444444444,
              "#bd3786"
             ],
             [
              0.5555555555555556,
              "#d8576b"
             ],
             [
              0.6666666666666666,
              "#ed7953"
             ],
             [
              0.7777777777777778,
              "#fb9f3a"
             ],
             [
              0.8888888888888888,
              "#fdca26"
             ],
             [
              1,
              "#f0f921"
             ]
            ],
            "type": "surface"
           }
          ],
          "table": [
           {
            "cells": {
             "fill": {
              "color": "#EBF0F8"
             },
             "line": {
              "color": "white"
             }
            },
            "header": {
             "fill": {
              "color": "#C8D4E3"
             },
             "line": {
              "color": "white"
             }
            },
            "type": "table"
           }
          ]
         },
         "layout": {
          "annotationdefaults": {
           "arrowcolor": "#2a3f5f",
           "arrowhead": 0,
           "arrowwidth": 1
          },
          "autotypenumbers": "strict",
          "coloraxis": {
           "colorbar": {
            "outlinewidth": 0,
            "ticks": ""
           }
          },
          "colorscale": {
           "diverging": [
            [
             0,
             "#8e0152"
            ],
            [
             0.1,
             "#c51b7d"
            ],
            [
             0.2,
             "#de77ae"
            ],
            [
             0.3,
             "#f1b6da"
            ],
            [
             0.4,
             "#fde0ef"
            ],
            [
             0.5,
             "#f7f7f7"
            ],
            [
             0.6,
             "#e6f5d0"
            ],
            [
             0.7,
             "#b8e186"
            ],
            [
             0.8,
             "#7fbc41"
            ],
            [
             0.9,
             "#4d9221"
            ],
            [
             1,
             "#276419"
            ]
           ],
           "sequential": [
            [
             0,
             "#0d0887"
            ],
            [
             0.1111111111111111,
             "#46039f"
            ],
            [
             0.2222222222222222,
             "#7201a8"
            ],
            [
             0.3333333333333333,
             "#9c179e"
            ],
            [
             0.4444444444444444,
             "#bd3786"
            ],
            [
             0.5555555555555556,
             "#d8576b"
            ],
            [
             0.6666666666666666,
             "#ed7953"
            ],
            [
             0.7777777777777778,
             "#fb9f3a"
            ],
            [
             0.8888888888888888,
             "#fdca26"
            ],
            [
             1,
             "#f0f921"
            ]
           ],
           "sequentialminus": [
            [
             0,
             "#0d0887"
            ],
            [
             0.1111111111111111,
             "#46039f"
            ],
            [
             0.2222222222222222,
             "#7201a8"
            ],
            [
             0.3333333333333333,
             "#9c179e"
            ],
            [
             0.4444444444444444,
             "#bd3786"
            ],
            [
             0.5555555555555556,
             "#d8576b"
            ],
            [
             0.6666666666666666,
             "#ed7953"
            ],
            [
             0.7777777777777778,
             "#fb9f3a"
            ],
            [
             0.8888888888888888,
             "#fdca26"
            ],
            [
             1,
             "#f0f921"
            ]
           ]
          },
          "colorway": [
           "#636efa",
           "#EF553B",
           "#00cc96",
           "#ab63fa",
           "#FFA15A",
           "#19d3f3",
           "#FF6692",
           "#B6E880",
           "#FF97FF",
           "#FECB52"
          ],
          "font": {
           "color": "#2a3f5f"
          },
          "geo": {
           "bgcolor": "white",
           "lakecolor": "white",
           "landcolor": "#E5ECF6",
           "showlakes": true,
           "showland": true,
           "subunitcolor": "white"
          },
          "hoverlabel": {
           "align": "left"
          },
          "hovermode": "closest",
          "mapbox": {
           "style": "light"
          },
          "paper_bgcolor": "white",
          "plot_bgcolor": "#E5ECF6",
          "polar": {
           "angularaxis": {
            "gridcolor": "white",
            "linecolor": "white",
            "ticks": ""
           },
           "bgcolor": "#E5ECF6",
           "radialaxis": {
            "gridcolor": "white",
            "linecolor": "white",
            "ticks": ""
           }
          },
          "scene": {
           "xaxis": {
            "backgroundcolor": "#E5ECF6",
            "gridcolor": "white",
            "gridwidth": 2,
            "linecolor": "white",
            "showbackground": true,
            "ticks": "",
            "zerolinecolor": "white"
           },
           "yaxis": {
            "backgroundcolor": "#E5ECF6",
            "gridcolor": "white",
            "gridwidth": 2,
            "linecolor": "white",
            "showbackground": true,
            "ticks": "",
            "zerolinecolor": "white"
           },
           "zaxis": {
            "backgroundcolor": "#E5ECF6",
            "gridcolor": "white",
            "gridwidth": 2,
            "linecolor": "white",
            "showbackground": true,
            "ticks": "",
            "zerolinecolor": "white"
           }
          },
          "shapedefaults": {
           "line": {
            "color": "#2a3f5f"
           }
          },
          "ternary": {
           "aaxis": {
            "gridcolor": "white",
            "linecolor": "white",
            "ticks": ""
           },
           "baxis": {
            "gridcolor": "white",
            "linecolor": "white",
            "ticks": ""
           },
           "bgcolor": "#E5ECF6",
           "caxis": {
            "gridcolor": "white",
            "linecolor": "white",
            "ticks": ""
           }
          },
          "title": {
           "x": 0.05
          },
          "xaxis": {
           "automargin": true,
           "gridcolor": "white",
           "linecolor": "white",
           "ticks": "",
           "title": {
            "standoff": 15
           },
           "zerolinecolor": "white",
           "zerolinewidth": 2
          },
          "yaxis": {
           "automargin": true,
           "gridcolor": "white",
           "linecolor": "white",
           "ticks": "",
           "title": {
            "standoff": 15
           },
           "zerolinecolor": "white",
           "zerolinewidth": 2
          }
         }
        },
        "title": {
         "text": "3D Scatter Plot of Blood Pressure, Health Score, and BMI (Sampled Data)"
        }
       }
      },
      "text/html": [
       "<div>                            <div id=\"62816cda-7d01-41ef-98af-49f327b336ed\" class=\"plotly-graph-div\" style=\"height:525px; width:100%;\"></div>            <script type=\"text/javascript\">                require([\"plotly\"], function(Plotly) {                    window.PLOTLYENV=window.PLOTLYENV || {};                                    if (document.getElementById(\"62816cda-7d01-41ef-98af-49f327b336ed\")) {                    Plotly.newPlot(                        \"62816cda-7d01-41ef-98af-49f327b336ed\",                        [{\"customdata\":[[0,0,\"Medium\",\"Poor\"],[1,1,\"Low\",\"Good\"],[1,0,\"High\",\"Poor\"],[0,0,\"Low\",\"Average\"],[1,1,\"Low\",\"Good\"],[0,0,\"Low\",\"Good\"],[1,0,\"High\",\"Average\"],[1,0,\"Medium\",\"Poor\"],[1,0,\"Medium\",\"Average\"],[0,0,\"Low\",\"Poor\"],[0,0,\"Medium\",\"Poor\"],[1,0,\"Medium\",\"Good\"],[1,0,\"Low\",\"Poor\"],[1,1,\"Medium\",\"Poor\"],[1,1,\"Low\",\"Average\"],[0,0,\"Medium\",\"Average\"],[1,0,\"Low\",\"Poor\"],[0,0,\"Low\",\"Poor\"],[0,1,\"Medium\",\"Poor\"],[1,0,\"Medium\",\"Average\"],[0,1,\"Medium\",\"Good\"],[0,0,\"Low\",\"Poor\"],[1,0,\"Medium\",\"Good\"],[1,1,\"High\",\"Average\"],[1,0,\"Low\",\"Average\"],[0,0,\"Low\",\"Average\"],[0,0,\"High\",\"Average\"],[0,0,\"Medium\",\"Poor\"],[0,0,\"Medium\",\"Poor\"],[0,1,\"High\",\"Good\"],[0,0,\"Low\",\"Average\"],[0,0,\"Low\",\"Average\"],[0,0,\"Low\",\"Poor\"],[0,0,\"Low\",\"Average\"],[0,0,\"High\",\"Average\"],[0,0,\"Medium\",\"Good\"],[1,0,\"Low\",\"Poor\"],[0,1,\"High\",\"Poor\"],[1,0,\"Medium\",\"Average\"],[1,1,\"Low\",\"Poor\"],[0,0,\"Medium\",\"Poor\"],[1,0,\"Medium\",\"Poor\"],[1,0,\"Low\",\"Poor\"],[0,1,\"High\",\"Good\"],[0,0,\"Medium\",\"Average\"],[0,0,\"Low\",\"Average\"],[0,0,\"Low\",\"Poor\"],[0,0,\"Medium\",\"Good\"],[1,0,\"Medium\",\"Poor\"],[1,1,\"Low\",\"Poor\"],[0,0,\"Low\",\"Poor\"],[0,0,\"Medium\",\"Good\"],[0,0,\"Medium\",\"Poor\"],[1,1,\"Medium\",\"Good\"],[0,0,\"Low\",\"Good\"],[0,0,\"Low\",\"Poor\"],[0,0,\"Medium\",\"Good\"],[0,0,\"High\",\"Average\"],[0,0,\"Medium\",\"Average\"],[1,0,\"Medium\",\"Poor\"],[0,1,\"Medium\",\"Poor\"],[0,0,\"Low\",\"Poor\"],[0,1,\"Low\",\"Average\"],[1,0,\"Medium\",\"Average\"],[1,1,\"High\",\"Average\"],[1,0,\"High\",\"Average\"],[0,1,\"Low\",\"Poor\"],[1,0,\"Medium\",\"Poor\"],[0,1,\"Low\",\"Poor\"],[0,0,\"Low\",\"Good\"],[1,0,\"Medium\",\"Poor\"],[1,1,\"Low\",\"Average\"],[0,0,\"High\",\"Good\"],[0,1,\"Low\",\"Poor\"],[1,0,\"Medium\",\"Good\"],[1,0,\"Low\",\"Poor\"],[1,0,\"Low\",\"Good\"],[0,0,\"Medium\",\"Good\"],[0,0,\"Medium\",\"Poor\"],[0,0,\"Low\",\"Poor\"],[0,0,\"Medium\",\"Poor\"],[1,0,\"Medium\",\"Average\"],[0,1,\"Medium\",\"Average\"],[0,0,\"Low\",\"Average\"],[0,0,\"Low\",\"Poor\"],[0,0,\"Medium\",\"Average\"],[0,0,\"Low\",\"Good\"],[0,1,\"Low\",\"Average\"],[0,1,\"Medium\",\"Good\"],[1,1,\"High\",\"Poor\"],[0,0,\"Low\",\"Average\"],[0,0,\"High\",\"Poor\"],[0,0,\"Medium\",\"Good\"]],\"hovertemplate\":\"Medical_Condition=Healthy\\u003cbr\\u003eOverall_Health_Score=%{x}\\u003cbr\\u003eBlood_Pressure=%{y}\\u003cbr\\u003eBMI=%{z}\\u003cbr\\u003eAlcohol_Consumer=%{customdata[0]}\\u003cbr\\u003eSmoker=%{customdata[1]}\\u003cbr\\u003ePhysical_Activity=%{customdata[2]}\\u003cbr\\u003eDiet_Quality=%{customdata[3]}\\u003cextra\\u003e\\u003c\\u002fextra\\u003e\",\"legendgroup\":\"Healthy\",\"marker\":{\"color\":\"#636efa\",\"opacity\":0.7,\"symbol\":\"circle\"},\"mode\":\"markers\",\"name\":\"Healthy\",\"scene\":\"scene\",\"showlegend\":true,\"x\":[91.3,95.1,84.2,73.15,85.95,100.0,90.9,86.35,86.95,95.35,88.55,77.9,90.0,72.2,100.0,84.55,83.75,100.0,81.0,84.4,64.7,100.0,90.8,98.55,87.85,96.7,94.0,84.1,82.55,90.9,100.0,100.0,71.3,100.0,74.15,73.5,65.75,89.0,92.65,86.55,91.6,89.4,100.0,97.1,100.0,70.65,100.0,85.5,88.0,76.2,94.05,100.0,100.0,99.55,78.65,75.5,86.8,100.0,100.0,100.0,79.1,79.5,89.8,92.95,72.55,88.35,60.85,95.3,100.0,69.55,67.85,93.65,79.6,57.4,78.6,100.0,68.8,100.0,89.15,100.0,100.0,78.3,93.75,63.8,79.55,85.95,84.75,95.05,93.35,92.4,90.65,99.2,98.5],\"y\":[135.7,123.6,134.1,136.7,161.3,113.9,140.6,131.4,117.9,118.3,127.3,132.2,129.0,145.5,116.7,129.9,139.5,107.1,142.1,133.8,159.4,114.0,123.1,125.0,137.7,126.6,134.8,151.1,141.6,131.0,126.1,105.2,150.7,129.2,145.6,162.1,158.6,131.5,145.3,132.5,129.9,124.2,122.6,122.7,115.1,152.5,100.0,141.1,149.4,136.8,128.7,106.9,110.3,129.8,153.7,163.0,152.3,134.5,120.1,108.6,132.9,143.6,146.8,129.1,146.9,148.1,147.4,144.1,116.3,146.5,153.8,115.3,134.3,162.0,150.2,121.5,125.7,118.4,139.3,105.7,114.3,137.3,null,149.7,null,147.3,131.2,136.5,103.2,130.1,129.5,138.2,122.5],\"z\":[21.3,23.6,28.5,32.6,15.0,18.3,19.2,27.3,31.4,26.0,25.6,33.6,26.0,31.1,22.5,29.6,25.0,26.3,26.9,28.0,30.8,19.6,27.1,21.7,22.2,23.2,20.6,19.7,null,24.6,15.0,18.8,29.9,17.3,29.5,null,29.3,27.1,19.0,25.6,24.3,29.2,21.9,23.3,23.8,30.2,20.8,22.5,19.6,30.8,23.6,25.0,23.0,18.3,22.2,21.6,17.5,15.9,21.3,15.0,31.3,27.4,17.4,23.8,29.4,19.2,36.7,16.9,23.2,32.6,29.5,27.8,31.3,35.4,24.0,15.0,41.1,21.0,22.0,21.1,24.3,31.1,22.5,35.7,24.8,20.6,28.1,19.6,33.5,23.3,25.8,15.4,22.9],\"type\":\"scatter3d\"},{\"customdata\":[[0,0,\"Medium\",\"Good\"],[0,0,\"Low\",\"Good\"],[0,1,\"Medium\",\"Poor\"],[1,0,\"Medium\",\"Good\"],[0,1,\"Low\",\"Good\"],[1,0,\"Medium\",\"Average\"],[1,0,\"Low\",\"Good\"],[1,1,\"Low\",\"Poor\"],[1,0,\"Low\",\"Average\"],[0,0,\"Medium\",\"Poor\"],[0,0,\"Medium\",\"Average\"],[1,0,\"Low\",\"Poor\"]],\"hovertemplate\":\"Medical_Condition=Hypertension\\u003cbr\\u003eOverall_Health_Score=%{x}\\u003cbr\\u003eBlood_Pressure=%{y}\\u003cbr\\u003eBMI=%{z}\\u003cbr\\u003eAlcohol_Consumer=%{customdata[0]}\\u003cbr\\u003eSmoker=%{customdata[1]}\\u003cbr\\u003ePhysical_Activity=%{customdata[2]}\\u003cbr\\u003eDiet_Quality=%{customdata[3]}\\u003cextra\\u003e\\u003c\\u002fextra\\u003e\",\"legendgroup\":\"Hypertension\",\"marker\":{\"color\":\"#EF553B\",\"opacity\":0.7,\"symbol\":\"circle\"},\"mode\":\"markers\",\"name\":\"Hypertension\",\"scene\":\"scene\",\"showlegend\":true,\"x\":[77.95,89.3,73.0,78.2,100.0,null,83.5,72.75,76.85,87.55,87.65,82.85],\"y\":[null,147.5,146.6,151.0,127.0,151.8,128.2,156.6,147.9,140.3,145.9,151.1],\"z\":[30.6,17.3,29.2,23.8,18.5,26.9,28.8,25.3,26.0,22.2,18.8,21.2],\"type\":\"scatter3d\"},{\"customdata\":[[1,0,\"Low\",\"Good\"],[1,0,\"High\",\"Average\"],[0,1,\"High\",\"Average\"],[1,0,\"Medium\",\"Poor\"],[1,0,\"Medium\",\"Average\"],[0,1,\"Low\",\"Poor\"],[0,1,\"Low\",\"Good\"],[1,0,\"Medium\",\"Poor\"],[1,0,\"High\",\"Poor\"],[1,1,\"Medium\",\"Average\"],[1,1,\"High\",\"Poor\"],[1,0,\"High\",\"Average\"]],\"hovertemplate\":\"Medical_Condition=Cancer\\u003cbr\\u003eOverall_Health_Score=%{x}\\u003cbr\\u003eBlood_Pressure=%{y}\\u003cbr\\u003eBMI=%{z}\\u003cbr\\u003eAlcohol_Consumer=%{customdata[0]}\\u003cbr\\u003eSmoker=%{customdata[1]}\\u003cbr\\u003ePhysical_Activity=%{customdata[2]}\\u003cbr\\u003eDiet_Quality=%{customdata[3]}\\u003cextra\\u003e\\u003c\\u002fextra\\u003e\",\"legendgroup\":\"Cancer\",\"marker\":{\"color\":\"#00cc96\",\"opacity\":0.7,\"symbol\":\"circle\"},\"mode\":\"markers\",\"name\":\"Cancer\",\"scene\":\"scene\",\"showlegend\":true,\"x\":[100.0,92.15,87.3,95.0,96.1,90.1,100.0,88.6,99.0,98.5,100.0,95.0],\"y\":[116.6,125.2,136.9,107.6,133.9,132.0,124.5,127.7,121.5,127.7,104.3,125.9],\"z\":[15.0,25.9,24.5,30.8,21.3,24.6,15.0,27.5,21.5,20.5,15.3,24.1],\"type\":\"scatter3d\"},{\"customdata\":[[0,0,\"Medium\",\"Poor\"],[0,0,\"High\",\"Good\"],[0,0,\"Low\",\"Average\"],[0,0,\"Medium\",\"Poor\"],[0,0,\"Medium\",\"Average\"]],\"hovertemplate\":\"Medical_Condition=Diabetes\\u003cbr\\u003eOverall_Health_Score=%{x}\\u003cbr\\u003eBlood_Pressure=%{y}\\u003cbr\\u003eBMI=%{z}\\u003cbr\\u003eAlcohol_Consumer=%{customdata[0]}\\u003cbr\\u003eSmoker=%{customdata[1]}\\u003cbr\\u003ePhysical_Activity=%{customdata[2]}\\u003cbr\\u003eDiet_Quality=%{customdata[3]}\\u003cextra\\u003e\\u003c\\u002fextra\\u003e\",\"legendgroup\":\"Diabetes\",\"marker\":{\"color\":\"#ab63fa\",\"opacity\":0.7,\"symbol\":\"circle\"},\"mode\":\"markers\",\"name\":\"Diabetes\",\"scene\":\"scene\",\"showlegend\":true,\"x\":[96.85,97.65,100.0,94.6,96.85],\"y\":[135.8,115.8,114.9,123.1,110.7],\"z\":[19.1,25.1,19.7,24.7,26.8],\"type\":\"scatter3d\"},{\"customdata\":[[0,1,\"Low\",\"Good\"]],\"hovertemplate\":\"Medical_Condition=Obesity\\u003cbr\\u003eOverall_Health_Score=%{x}\\u003cbr\\u003eBlood_Pressure=%{y}\\u003cbr\\u003eBMI=%{z}\\u003cbr\\u003eAlcohol_Consumer=%{customdata[0]}\\u003cbr\\u003eSmoker=%{customdata[1]}\\u003cbr\\u003ePhysical_Activity=%{customdata[2]}\\u003cbr\\u003eDiet_Quality=%{customdata[3]}\\u003cextra\\u003e\\u003c\\u002fextra\\u003e\",\"legendgroup\":\"Obesity\",\"marker\":{\"color\":\"#19d3f3\",\"opacity\":0.7,\"symbol\":\"circle\"},\"mode\":\"markers\",\"name\":\"Obesity\",\"scene\":\"scene\",\"showlegend\":true,\"x\":[73.6],\"y\":[146.4],\"z\":[30.6],\"type\":\"scatter3d\"}],                        {\"template\":{\"data\":{\"histogram2dcontour\":[{\"type\":\"histogram2dcontour\",\"colorbar\":{\"outlinewidth\":0,\"ticks\":\"\"},\"colorscale\":[[0.0,\"#0d0887\"],[0.1111111111111111,\"#46039f\"],[0.2222222222222222,\"#7201a8\"],[0.3333333333333333,\"#9c179e\"],[0.4444444444444444,\"#bd3786\"],[0.5555555555555556,\"#d8576b\"],[0.6666666666666666,\"#ed7953\"],[0.7777777777777778,\"#fb9f3a\"],[0.8888888888888888,\"#fdca26\"],[1.0,\"#f0f921\"]]}],\"choropleth\":[{\"type\":\"choropleth\",\"colorbar\":{\"outlinewidth\":0,\"ticks\":\"\"}}],\"histogram2d\":[{\"type\":\"histogram2d\",\"colorbar\":{\"outlinewidth\":0,\"ticks\":\"\"},\"colorscale\":[[0.0,\"#0d0887\"],[0.1111111111111111,\"#46039f\"],[0.2222222222222222,\"#7201a8\"],[0.3333333333333333,\"#9c179e\"],[0.4444444444444444,\"#bd3786\"],[0.5555555555555556,\"#d8576b\"],[0.6666666666666666,\"#ed7953\"],[0.7777777777777778,\"#fb9f3a\"],[0.8888888888888888,\"#fdca26\"],[1.0,\"#f0f921\"]]}],\"heatmap\":[{\"type\":\"heatmap\",\"colorbar\":{\"outlinewidth\":0,\"ticks\":\"\"},\"colorscale\":[[0.0,\"#0d0887\"],[0.1111111111111111,\"#46039f\"],[0.2222222222222222,\"#7201a8\"],[0.3333333333333333,\"#9c179e\"],[0.4444444444444444,\"#bd3786\"],[0.5555555555555556,\"#d8576b\"],[0.6666666666666666,\"#ed7953\"],[0.7777777777777778,\"#fb9f3a\"],[0.8888888888888888,\"#fdca26\"],[1.0,\"#f0f921\"]]}],\"heatmapgl\":[{\"type\":\"heatmapgl\",\"colorbar\":{\"outlinewidth\":0,\"ticks\":\"\"},\"colorscale\":[[0.0,\"#0d0887\"],[0.1111111111111111,\"#46039f\"],[0.2222222222222222,\"#7201a8\"],[0.3333333333333333,\"#9c179e\"],[0.4444444444444444,\"#bd3786\"],[0.5555555555555556,\"#d8576b\"],[0.6666666666666666,\"#ed7953\"],[0.7777777777777778,\"#fb9f3a\"],[0.8888888888888888,\"#fdca26\"],[1.0,\"#f0f921\"]]}],\"contourcarpet\":[{\"type\":\"contourcarpet\",\"colorbar\":{\"outlinewidth\":0,\"ticks\":\"\"}}],\"contour\":[{\"type\":\"contour\",\"colorbar\":{\"outlinewidth\":0,\"ticks\":\"\"},\"colorscale\":[[0.0,\"#0d0887\"],[0.1111111111111111,\"#46039f\"],[0.2222222222222222,\"#7201a8\"],[0.3333333333333333,\"#9c179e\"],[0.4444444444444444,\"#bd3786\"],[0.5555555555555556,\"#d8576b\"],[0.6666666666666666,\"#ed7953\"],[0.7777777777777778,\"#fb9f3a\"],[0.8888888888888888,\"#fdca26\"],[1.0,\"#f0f921\"]]}],\"surface\":[{\"type\":\"surface\",\"colorbar\":{\"outlinewidth\":0,\"ticks\":\"\"},\"colorscale\":[[0.0,\"#0d0887\"],[0.1111111111111111,\"#46039f\"],[0.2222222222222222,\"#7201a8\"],[0.3333333333333333,\"#9c179e\"],[0.4444444444444444,\"#bd3786\"],[0.5555555555555556,\"#d8576b\"],[0.6666666666666666,\"#ed7953\"],[0.7777777777777778,\"#fb9f3a\"],[0.8888888888888888,\"#fdca26\"],[1.0,\"#f0f921\"]]}],\"mesh3d\":[{\"type\":\"mesh3d\",\"colorbar\":{\"outlinewidth\":0,\"ticks\":\"\"}}],\"scatter\":[{\"fillpattern\":{\"fillmode\":\"overlay\",\"size\":10,\"solidity\":0.2},\"type\":\"scatter\"}],\"parcoords\":[{\"type\":\"parcoords\",\"line\":{\"colorbar\":{\"outlinewidth\":0,\"ticks\":\"\"}}}],\"scatterpolargl\":[{\"type\":\"scatterpolargl\",\"marker\":{\"colorbar\":{\"outlinewidth\":0,\"ticks\":\"\"}}}],\"bar\":[{\"error_x\":{\"color\":\"#2a3f5f\"},\"error_y\":{\"color\":\"#2a3f5f\"},\"marker\":{\"line\":{\"color\":\"#E5ECF6\",\"width\":0.5},\"pattern\":{\"fillmode\":\"overlay\",\"size\":10,\"solidity\":0.2}},\"type\":\"bar\"}],\"scattergeo\":[{\"type\":\"scattergeo\",\"marker\":{\"colorbar\":{\"outlinewidth\":0,\"ticks\":\"\"}}}],\"scatterpolar\":[{\"type\":\"scatterpolar\",\"marker\":{\"colorbar\":{\"outlinewidth\":0,\"ticks\":\"\"}}}],\"histogram\":[{\"marker\":{\"pattern\":{\"fillmode\":\"overlay\",\"size\":10,\"solidity\":0.2}},\"type\":\"histogram\"}],\"scattergl\":[{\"type\":\"scattergl\",\"marker\":{\"colorbar\":{\"outlinewidth\":0,\"ticks\":\"\"}}}],\"scatter3d\":[{\"type\":\"scatter3d\",\"line\":{\"colorbar\":{\"outlinewidth\":0,\"ticks\":\"\"}},\"marker\":{\"colorbar\":{\"outlinewidth\":0,\"ticks\":\"\"}}}],\"scattermapbox\":[{\"type\":\"scattermapbox\",\"marker\":{\"colorbar\":{\"outlinewidth\":0,\"ticks\":\"\"}}}],\"scatterternary\":[{\"type\":\"scatterternary\",\"marker\":{\"colorbar\":{\"outlinewidth\":0,\"ticks\":\"\"}}}],\"scattercarpet\":[{\"type\":\"scattercarpet\",\"marker\":{\"colorbar\":{\"outlinewidth\":0,\"ticks\":\"\"}}}],\"carpet\":[{\"aaxis\":{\"endlinecolor\":\"#2a3f5f\",\"gridcolor\":\"white\",\"linecolor\":\"white\",\"minorgridcolor\":\"white\",\"startlinecolor\":\"#2a3f5f\"},\"baxis\":{\"endlinecolor\":\"#2a3f5f\",\"gridcolor\":\"white\",\"linecolor\":\"white\",\"minorgridcolor\":\"white\",\"startlinecolor\":\"#2a3f5f\"},\"type\":\"carpet\"}],\"table\":[{\"cells\":{\"fill\":{\"color\":\"#EBF0F8\"},\"line\":{\"color\":\"white\"}},\"header\":{\"fill\":{\"color\":\"#C8D4E3\"},\"line\":{\"color\":\"white\"}},\"type\":\"table\"}],\"barpolar\":[{\"marker\":{\"line\":{\"color\":\"#E5ECF6\",\"width\":0.5},\"pattern\":{\"fillmode\":\"overlay\",\"size\":10,\"solidity\":0.2}},\"type\":\"barpolar\"}],\"pie\":[{\"automargin\":true,\"type\":\"pie\"}]},\"layout\":{\"autotypenumbers\":\"strict\",\"colorway\":[\"#636efa\",\"#EF553B\",\"#00cc96\",\"#ab63fa\",\"#FFA15A\",\"#19d3f3\",\"#FF6692\",\"#B6E880\",\"#FF97FF\",\"#FECB52\"],\"font\":{\"color\":\"#2a3f5f\"},\"hovermode\":\"closest\",\"hoverlabel\":{\"align\":\"left\"},\"paper_bgcolor\":\"white\",\"plot_bgcolor\":\"#E5ECF6\",\"polar\":{\"bgcolor\":\"#E5ECF6\",\"angularaxis\":{\"gridcolor\":\"white\",\"linecolor\":\"white\",\"ticks\":\"\"},\"radialaxis\":{\"gridcolor\":\"white\",\"linecolor\":\"white\",\"ticks\":\"\"}},\"ternary\":{\"bgcolor\":\"#E5ECF6\",\"aaxis\":{\"gridcolor\":\"white\",\"linecolor\":\"white\",\"ticks\":\"\"},\"baxis\":{\"gridcolor\":\"white\",\"linecolor\":\"white\",\"ticks\":\"\"},\"caxis\":{\"gridcolor\":\"white\",\"linecolor\":\"white\",\"ticks\":\"\"}},\"coloraxis\":{\"colorbar\":{\"outlinewidth\":0,\"ticks\":\"\"}},\"colorscale\":{\"sequential\":[[0.0,\"#0d0887\"],[0.1111111111111111,\"#46039f\"],[0.2222222222222222,\"#7201a8\"],[0.3333333333333333,\"#9c179e\"],[0.4444444444444444,\"#bd3786\"],[0.5555555555555556,\"#d8576b\"],[0.6666666666666666,\"#ed7953\"],[0.7777777777777778,\"#fb9f3a\"],[0.8888888888888888,\"#fdca26\"],[1.0,\"#f0f921\"]],\"sequentialminus\":[[0.0,\"#0d0887\"],[0.1111111111111111,\"#46039f\"],[0.2222222222222222,\"#7201a8\"],[0.3333333333333333,\"#9c179e\"],[0.4444444444444444,\"#bd3786\"],[0.5555555555555556,\"#d8576b\"],[0.6666666666666666,\"#ed7953\"],[0.7777777777777778,\"#fb9f3a\"],[0.8888888888888888,\"#fdca26\"],[1.0,\"#f0f921\"]],\"diverging\":[[0,\"#8e0152\"],[0.1,\"#c51b7d\"],[0.2,\"#de77ae\"],[0.3,\"#f1b6da\"],[0.4,\"#fde0ef\"],[0.5,\"#f7f7f7\"],[0.6,\"#e6f5d0\"],[0.7,\"#b8e186\"],[0.8,\"#7fbc41\"],[0.9,\"#4d9221\"],[1,\"#276419\"]]},\"xaxis\":{\"gridcolor\":\"white\",\"linecolor\":\"white\",\"ticks\":\"\",\"title\":{\"standoff\":15},\"zerolinecolor\":\"white\",\"automargin\":true,\"zerolinewidth\":2},\"yaxis\":{\"gridcolor\":\"white\",\"linecolor\":\"white\",\"ticks\":\"\",\"title\":{\"standoff\":15},\"zerolinecolor\":\"white\",\"automargin\":true,\"zerolinewidth\":2},\"scene\":{\"xaxis\":{\"backgroundcolor\":\"#E5ECF6\",\"gridcolor\":\"white\",\"linecolor\":\"white\",\"showbackground\":true,\"ticks\":\"\",\"zerolinecolor\":\"white\",\"gridwidth\":2},\"yaxis\":{\"backgroundcolor\":\"#E5ECF6\",\"gridcolor\":\"white\",\"linecolor\":\"white\",\"showbackground\":true,\"ticks\":\"\",\"zerolinecolor\":\"white\",\"gridwidth\":2},\"zaxis\":{\"backgroundcolor\":\"#E5ECF6\",\"gridcolor\":\"white\",\"linecolor\":\"white\",\"showbackground\":true,\"ticks\":\"\",\"zerolinecolor\":\"white\",\"gridwidth\":2}},\"shapedefaults\":{\"line\":{\"color\":\"#2a3f5f\"}},\"annotationdefaults\":{\"arrowcolor\":\"#2a3f5f\",\"arrowhead\":0,\"arrowwidth\":1},\"geo\":{\"bgcolor\":\"white\",\"landcolor\":\"#E5ECF6\",\"subunitcolor\":\"white\",\"showland\":true,\"showlakes\":true,\"lakecolor\":\"white\"},\"title\":{\"x\":0.05},\"mapbox\":{\"style\":\"light\"}}},\"scene\":{\"domain\":{\"x\":[0.0,1.0],\"y\":[0.0,1.0]},\"xaxis\":{\"title\":{\"text\":\"Health Score\"}},\"yaxis\":{\"title\":{\"text\":\"Blood Pressure\"}},\"zaxis\":{\"title\":{\"text\":\"BMI\"}},\"camera\":{\"eye\":{\"x\":1.5,\"y\":1.5,\"z\":0.8}}},\"legend\":{\"title\":{\"text\":\"Medical_Condition\"},\"tracegroupgap\":0},\"margin\":{\"t\":60},\"title\":{\"text\":\"3D Scatter Plot of Blood Pressure, Health Score, and BMI (Sampled Data)\"}},                        {\"responsive\": true}                    ).then(function(){\n",
       "                            \n",
       "var gd = document.getElementById('62816cda-7d01-41ef-98af-49f327b336ed');\n",
       "var x = new MutationObserver(function (mutations, observer) {{\n",
       "        var display = window.getComputedStyle(gd).display;\n",
       "        if (!display || display === 'none') {{\n",
       "            console.log([gd, 'removed!']);\n",
       "            Plotly.purge(gd);\n",
       "            observer.disconnect();\n",
       "        }}\n",
       "}});\n",
       "\n",
       "// Listen for the removal of the full notebook cells\n",
       "var notebookContainer = gd.closest('#notebook-container');\n",
       "if (notebookContainer) {{\n",
       "    x.observe(notebookContainer, {childList: true});\n",
       "}}\n",
       "\n",
       "// Listen for the clearing of the current output cell\n",
       "var outputEl = gd.closest('.output');\n",
       "if (outputEl) {{\n",
       "    x.observe(outputEl, {childList: true});\n",
       "}}\n",
       "\n",
       "                        })                };                });            </script>        </div>"
      ]
     },
     "metadata": {},
     "output_type": "display_data"
    }
   ],
   "source": [
    "# in case u want to always get the same sample use after the (n = 125) after a coma random_state=42: \n",
    "# This ensures that every time you run the code, you will get the same 500 rows sampled from your dataset (given the same input data).\n",
    "md_r_sample = md.sample(n=125,random_state=42)\n",
    "\n",
    "\n",
    "fig = px.scatter_3d(md_r_sample, \n",
    "                     x='Overall_Health_Score', \n",
    "                     y='Blood_Pressure', \n",
    "                     z='BMI',\n",
    "                     color='Medical_Condition', \n",
    "                     opacity=0.7, \n",
    "                     size_max=10,\n",
    "                     hover_data=['Alcohol_Consumer','Smoker',\"Physical_Activity\",'Diet_Quality'])\n",
    "\n",
    "fig.update_layout(\n",
    "    title=\"3D Scatter Plot of Blood Pressure, Health Score, and BMI (Sampled Data)\",\n",
    "    scene=dict(\n",
    "        yaxis_title=\"Blood Pressure\",\n",
    "        xaxis_title=\"Health Score\",\n",
    "        zaxis_title=\"BMI\"\n",
    "    ),\n",
    "    scene_camera=dict(eye=dict(x=1.5, y=1.5, z=0.8))\n",
    ")\n",
    "\n",
    "fig.show()"
   ]
  },
  {
   "cell_type": "code",
   "execution_count": 48,
   "metadata": {},
   "outputs": [
    {
     "data": {
      "image/png": "[encoded data removed]",
      "text/plain": [
       "<Figure size 1642.75x1000 with 5 Axes>"
      ]
     },
     "metadata": {},
     "output_type": "display_data"
    }
   ],
   "source": [
    "md_filtered = md[md[\"Medical_Condition\"] != \"Healthy\"]\n",
    "sns.displot(x=md_filtered[\"Blood_Pressure\"], hue=md_filtered[\"Medical_Condition\"], col=md_filtered[\"Medical_Condition\"], col_wrap=3)\n",
    "plt.show()"
   ]
  },
  {
   "cell_type": "markdown",
   "metadata": {},
   "source": [
    "\n",
    "\n",
    "### 1. **IMC > 30, Dieta poco saludable, No realiza actividad física**  \n",
    "- Podría revelar una conexión clara con **diabetes tipo 2**, **síndrome metabólico** y **enfermedades articulares**.  \n",
    "- **Idea:** Analizar si el sedentarismo y la dieta son los principales factores desencadenantes o si el IMC alto es el factor dominante.  \n",
    "\n"
   ]
  },
  {
   "cell_type": "code",
   "execution_count": null,
   "metadata": {},
   "outputs": [],
   "source": [
    "BMI_30_Poor_Diet_no_Activity = md[(md[\"BMI\"] > 30) & (md[\"Diet_Quality\"]==\"Poor\") & (md[\"Physical_Activity\"] =='Low')]\n",
    "Diabetes = md[md[\"Medical_Condition\"] == \"Diabetes\"]"
   ]
  },
  {
   "cell_type": "markdown",
   "metadata": {},
   "source": [
    "\n",
    "### 2. **Consumo excesivo de alcohol, Fumador, IMC > 25**  \n",
    "- La combinación de tabaquismo y alcohol podría aumentar el riesgo de **enfermedades hepáticas** y **cáncer**.  \n",
    "- **Idea:** Examinar si el consumo excesivo de alcohol o el tabaquismo tiene un impacto mayor en el desarrollo de cáncer.  "
   ]
  },
  {
   "cell_type": "code",
   "execution_count": null,
   "metadata": {},
   "outputs": [],
   "source": [
    "Alcohol_Smoker_BMI_25 = md[(md[\"BMI\"] > 25) & (md[\"Alcohol_Consumer\"] == 1) & (md[\"Smoker\"] == 1)]\n",
    "Cancer = md[md[\"Medical_Condition\"] == \"Cancer\"]"
   ]
  },
  {
   "cell_type": "markdown",
   "metadata": {},
   "source": [
    "\n",
    "### 3. **Presión arterial alta, Fumador, Edad > 50**  \n",
    "- Este grupo podría tener un riesgo elevado de **accidentes cerebrovasculares** y **enfermedades renales crónicas**.  \n",
    "- **Idea:** Evaluar si la hipertensión o el tabaquismo tiene mayor influencia en la aparición de enfermedades renales.  \n"
   ]
  },
  {
   "cell_type": "code",
   "execution_count": null,
   "metadata": {},
   "outputs": [],
   "source": [
    "md_AND_sd_merged = pd.merge(md, sd, on='ID')\n",
    "Pressure_130_Smoker_Age_50 = md_AND_sd_merged[(md_AND_sd_merged[\"Blood_Pressure\"] >= 130) & (md_AND_sd_merged[\"Age\"]>= 50) & (md_AND_sd_merged[\"Smoker\"]== 1)]"
   ]
  },
  {
   "cell_type": "markdown",
   "metadata": {},
   "source": [
    "### 4. **Edad > 60, Consumo excesivo de alcohol, Enfermedades previas (como diabetes)**  \n",
    "- El deterioro de la salud asociado con la edad y enfermedades preexistentes podría aumentar el riesgo de **insuficiencia hepática** y **demencia**.  \n",
    "- **Idea:** Investigar si las enfermedades previas o el alcohol tienen un efecto mayor en el deterioro de la salud cognitiva.  \n"
   ]
  },
  {
   "cell_type": "code",
   "execution_count": null,
   "metadata": {},
   "outputs": [],
   "source": [
    "md_AND_sd_merged = pd.merge(md, sd, on='ID')\n",
    "Age_60_Alcohol_Ill = md_AND_sd_merged[(md_AND_sd_merged[\"Age\"] >= 60) & (md_AND_sd_merged[\"Alcohol_Consumer\"]==1)&(md_AND_sd_merged[\"Medical_Condition\"]!=\"Healthy\")]"
   ]
  },
  {
   "cell_type": "markdown",
   "metadata": {},
   "source": [
    "\n",
    "### 5. **IMC > 30, Fumador, Presión arterial alta, No realiza actividad física**  \n",
    "- Esta combinación podría relacionarse con **síndrome metabólico** y **enfermedades pulmonares** (como EPOC).  \n",
    "- **Idea:** Evaluar cuál de los factores (IMC, tabaquismo o presión arterial) contribuye más a la aparición de enfermedades pulmonares.  "
   ]
  },
  {
   "cell_type": "code",
   "execution_count": null,
   "metadata": {},
   "outputs": [],
   "source": [
    "BMI_smoker_Pressure_130 = md[(md[\"BMI\"]>= 30) & (md[\"Blood_Pressure\"] >= 130) & (md[\"Physical_Activity\"]== \"Low\")]"
   ]
  },
  {
   "cell_type": "markdown",
   "metadata": {},
   "source": [
    "\n",
    "### 6. **Sexo femenino, Edad > 50, Dieta poco saludable, IMC > 30**  \n",
    "- Las mujeres postmenopáusicas con sobrepeso y una dieta poco saludable podrían tener un mayor riesgo de **osteoporosis** y **cáncer de mama**.  \n",
    "- **Idea:** Examinar si la dieta o el IMC tiene un impacto más fuerte en la incidencia de cáncer o problemas óseos.  \n",
    "\n",
    "\n",
    "\n",
    "### 7. **Presión arterial alta, Consumo de alcohol, Enfermedad previa (renal)**  \n",
    "- Las personas con hipertensión y enfermedad renal previa que consumen alcohol podrían experimentar un deterioro rápido de la función renal.  \n",
    "- **Idea:** Analizar si el alcohol o la hipertensión es el principal factor de deterioro renal.  \n",
    "\n",
    "\n",
    "\n",
    "### 8. **Bajo puntaje de salud, Dieta poco saludable, No realiza actividad física**  \n",
    "- Un bajo puntaje de salud podría reflejar un comportamiento de riesgo que desencadena **síndrome metabólico**, **diabetes** y **depresión**.  \n",
    "- **Idea:** Evaluar si el puntaje de salud bajo refleja principalmente dieta y ejercicio o si hay otros factores psicosociales involucrados.  "
   ]
  }
 ],
 "metadata": {
  "kernelspec": {
   "display_name": "Python 3",
   "language": "python",
   "name": "python3"
  },
  "language_info": {
   "codemirror_mode": {
    "name": "ipython",
    "version": 3
   },
   "file_extension": ".py",
   "mimetype": "text/x-python",
   "name": "python",
   "nbconvert_exporter": "python",
   "pygments_lexer": "ipython3",
   "version": "3.12.1"
  }
 },
 "nbformat": 4,
 "nbformat_minor": 2
}
